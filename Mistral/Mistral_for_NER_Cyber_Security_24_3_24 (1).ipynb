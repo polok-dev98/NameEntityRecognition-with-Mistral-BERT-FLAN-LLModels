{
  "cells": [
    {
      "cell_type": "code",
      "source": [
        "from google.colab import drive\n",
        "drive.mount('/content/drive')"
      ],
      "metadata": {
        "colab": {
          "base_uri": "https://localhost:8080/"
        },
        "id": "6WHHQx7F_IdX",
        "outputId": "b1ac86ba-0806-4a32-ae97-a1bd11f8f8c6"
      },
      "id": "6WHHQx7F_IdX",
      "execution_count": 1,
      "outputs": [
        {
          "output_type": "stream",
          "name": "stdout",
          "text": [
            "Mounted at /content/drive\n"
          ]
        }
      ]
    },
    {
      "cell_type": "code",
      "source": [
        "!pip install \"unsloth[colab] @ git+https://github.com/unslothai/unsloth.git\""
      ],
      "metadata": {
        "colab": {
          "base_uri": "https://localhost:8080/"
        },
        "id": "VR00-l53B8Pi",
        "outputId": "0fc3219d-a96a-4f34-be36-b6fcc344aeca"
      },
      "id": "VR00-l53B8Pi",
      "execution_count": 2,
      "outputs": [
        {
          "output_type": "stream",
          "name": "stdout",
          "text": [
            "Collecting unsloth[colab]@ git+https://github.com/unslothai/unsloth.git\n",
            "  Cloning https://github.com/unslothai/unsloth.git to /tmp/pip-install-yba9re5a/unsloth_35ca774ee7244fcbaef7c12da51cb7c6\n",
            "  Running command git clone --filter=blob:none --quiet https://github.com/unslothai/unsloth.git /tmp/pip-install-yba9re5a/unsloth_35ca774ee7244fcbaef7c12da51cb7c6\n",
            "  Resolved https://github.com/unslothai/unsloth.git to commit a100afa60cf1566e784b41eb462b5d2ed80977f8\n",
            "  Installing build dependencies ... \u001b[?25l\u001b[?25hdone\n",
            "  Getting requirements to build wheel ... \u001b[?25l\u001b[?25hdone\n",
            "  Installing backend dependencies ... \u001b[?25l\u001b[?25hdone\n",
            "  Preparing metadata (pyproject.toml) ... \u001b[?25l\u001b[?25hdone\n",
            "Collecting bitsandbytes (from unsloth[colab]@ git+https://github.com/unslothai/unsloth.git)\n",
            "  Downloading bitsandbytes-0.43.0-py3-none-manylinux_2_24_x86_64.whl (102.2 MB)\n",
            "\u001b[2K     \u001b[90m━━━━━━━━━━━━━━━━━━━━━━━━━━━━━━━━━━━━━━━━\u001b[0m \u001b[32m102.2/102.2 MB\u001b[0m \u001b[31m8.8 MB/s\u001b[0m eta \u001b[36m0:00:00\u001b[0m\n",
            "\u001b[?25hRequirement already satisfied: torch in /usr/local/lib/python3.10/dist-packages (from bitsandbytes->unsloth[colab]@ git+https://github.com/unslothai/unsloth.git) (2.2.1+cu121)\n",
            "Requirement already satisfied: numpy in /usr/local/lib/python3.10/dist-packages (from bitsandbytes->unsloth[colab]@ git+https://github.com/unslothai/unsloth.git) (1.25.2)\n",
            "Collecting xformers@ https://download.pytorch.org/whl/cu121/xformers-0.0.22.post7-cp310-cp310-manylinux2014_x86_64.whl (from unsloth[colab]@ git+https://github.com/unslothai/unsloth.git)\n",
            "  Downloading https://download.pytorch.org/whl/cu121/xformers-0.0.22.post7-cp310-cp310-manylinux2014_x86_64.whl (211.8 MB)\n",
            "\u001b[2K     \u001b[90m━━━━━━━━━━━━━━━━━━━━━━━━━━━━━━━━━━━━━━━━\u001b[0m \u001b[32m211.8/211.8 MB\u001b[0m \u001b[31m5.5 MB/s\u001b[0m eta \u001b[36m0:00:00\u001b[0m\n",
            "\u001b[?25hCollecting tyro (from unsloth[colab]@ git+https://github.com/unslothai/unsloth.git)\n",
            "  Downloading tyro-0.7.3-py3-none-any.whl (79 kB)\n",
            "\u001b[2K     \u001b[90m━━━━━━━━━━━━━━━━━━━━━━━━━━━━━━━━━━━━━━━━\u001b[0m \u001b[32m79.8/79.8 kB\u001b[0m \u001b[31m10.6 MB/s\u001b[0m eta \u001b[36m0:00:00\u001b[0m\n",
            "\u001b[?25hRequirement already satisfied: transformers>=4.38.2 in /usr/local/lib/python3.10/dist-packages (from unsloth[colab]@ git+https://github.com/unslothai/unsloth.git) (4.38.2)\n",
            "Collecting datasets>=2.16.0 (from unsloth[colab]@ git+https://github.com/unslothai/unsloth.git)\n",
            "  Downloading datasets-2.18.0-py3-none-any.whl (510 kB)\n",
            "\u001b[2K     \u001b[90m━━━━━━━━━━━━━━━━━━━━━━━━━━━━━━━━━━━━━━━━\u001b[0m \u001b[32m510.5/510.5 kB\u001b[0m \u001b[31m51.2 MB/s\u001b[0m eta \u001b[36m0:00:00\u001b[0m\n",
            "\u001b[?25hRequirement already satisfied: sentencepiece in /usr/local/lib/python3.10/dist-packages (from unsloth[colab]@ git+https://github.com/unslothai/unsloth.git) (0.1.99)\n",
            "Requirement already satisfied: tqdm in /usr/local/lib/python3.10/dist-packages (from unsloth[colab]@ git+https://github.com/unslothai/unsloth.git) (4.66.2)\n",
            "Requirement already satisfied: psutil in /usr/local/lib/python3.10/dist-packages (from unsloth[colab]@ git+https://github.com/unslothai/unsloth.git) (5.9.5)\n",
            "Requirement already satisfied: wheel>=0.42.0 in /usr/local/lib/python3.10/dist-packages (from unsloth[colab]@ git+https://github.com/unslothai/unsloth.git) (0.43.0)\n",
            "Collecting accelerate>=0.26.1 (from unsloth[colab]@ git+https://github.com/unslothai/unsloth.git)\n",
            "  Downloading accelerate-0.28.0-py3-none-any.whl (290 kB)\n",
            "\u001b[2K     \u001b[90m━━━━━━━━━━━━━━━━━━━━━━━━━━━━━━━━━━━━━━━━\u001b[0m \u001b[32m290.1/290.1 kB\u001b[0m \u001b[31m37.3 MB/s\u001b[0m eta \u001b[36m0:00:00\u001b[0m\n",
            "\u001b[?25hCollecting trl>=0.7.9 (from unsloth[colab]@ git+https://github.com/unslothai/unsloth.git)\n",
            "  Downloading trl-0.8.1-py3-none-any.whl (225 kB)\n",
            "\u001b[2K     \u001b[90m━━━━━━━━━━━━━━━━━━━━━━━━━━━━━━━━━━━━━━━━\u001b[0m \u001b[32m225.0/225.0 kB\u001b[0m \u001b[31m28.7 MB/s\u001b[0m eta \u001b[36m0:00:00\u001b[0m\n",
            "\u001b[?25hCollecting peft>=0.7.1 (from unsloth[colab]@ git+https://github.com/unslothai/unsloth.git)\n",
            "  Downloading peft-0.10.0-py3-none-any.whl (199 kB)\n",
            "\u001b[2K     \u001b[90m━━━━━━━━━━━━━━━━━━━━━━━━━━━━━━━━━━━━━━━━\u001b[0m \u001b[32m199.1/199.1 kB\u001b[0m \u001b[31m26.0 MB/s\u001b[0m eta \u001b[36m0:00:00\u001b[0m\n",
            "\u001b[?25hRequirement already satisfied: packaging>=20.0 in /usr/local/lib/python3.10/dist-packages (from accelerate>=0.26.1->unsloth[colab]@ git+https://github.com/unslothai/unsloth.git) (24.0)\n",
            "Requirement already satisfied: pyyaml in /usr/local/lib/python3.10/dist-packages (from accelerate>=0.26.1->unsloth[colab]@ git+https://github.com/unslothai/unsloth.git) (6.0.1)\n",
            "Requirement already satisfied: huggingface-hub in /usr/local/lib/python3.10/dist-packages (from accelerate>=0.26.1->unsloth[colab]@ git+https://github.com/unslothai/unsloth.git) (0.20.3)\n",
            "Requirement already satisfied: safetensors>=0.3.1 in /usr/local/lib/python3.10/dist-packages (from accelerate>=0.26.1->unsloth[colab]@ git+https://github.com/unslothai/unsloth.git) (0.4.2)\n",
            "Requirement already satisfied: filelock in /usr/local/lib/python3.10/dist-packages (from datasets>=2.16.0->unsloth[colab]@ git+https://github.com/unslothai/unsloth.git) (3.13.1)\n",
            "Requirement already satisfied: pyarrow>=12.0.0 in /usr/local/lib/python3.10/dist-packages (from datasets>=2.16.0->unsloth[colab]@ git+https://github.com/unslothai/unsloth.git) (14.0.2)\n",
            "Requirement already satisfied: pyarrow-hotfix in /usr/local/lib/python3.10/dist-packages (from datasets>=2.16.0->unsloth[colab]@ git+https://github.com/unslothai/unsloth.git) (0.6)\n",
            "Collecting dill<0.3.9,>=0.3.0 (from datasets>=2.16.0->unsloth[colab]@ git+https://github.com/unslothai/unsloth.git)\n",
            "  Downloading dill-0.3.8-py3-none-any.whl (116 kB)\n",
            "\u001b[2K     \u001b[90m━━━━━━━━━━━━━━━━━━━━━━━━━━━━━━━━━━━━━━━━\u001b[0m \u001b[32m116.3/116.3 kB\u001b[0m \u001b[31m17.7 MB/s\u001b[0m eta \u001b[36m0:00:00\u001b[0m\n",
            "\u001b[?25hRequirement already satisfied: pandas in /usr/local/lib/python3.10/dist-packages (from datasets>=2.16.0->unsloth[colab]@ git+https://github.com/unslothai/unsloth.git) (1.5.3)\n",
            "Requirement already satisfied: requests>=2.19.0 in /usr/local/lib/python3.10/dist-packages (from datasets>=2.16.0->unsloth[colab]@ git+https://github.com/unslothai/unsloth.git) (2.31.0)\n",
            "Collecting xxhash (from datasets>=2.16.0->unsloth[colab]@ git+https://github.com/unslothai/unsloth.git)\n",
            "  Downloading xxhash-3.4.1-cp310-cp310-manylinux_2_17_x86_64.manylinux2014_x86_64.whl (194 kB)\n",
            "\u001b[2K     \u001b[90m━━━━━━━━━━━━━━━━━━━━━━━━━━━━━━━━━━━━━━━━\u001b[0m \u001b[32m194.1/194.1 kB\u001b[0m \u001b[31m20.8 MB/s\u001b[0m eta \u001b[36m0:00:00\u001b[0m\n",
            "\u001b[?25hCollecting multiprocess (from datasets>=2.16.0->unsloth[colab]@ git+https://github.com/unslothai/unsloth.git)\n",
            "  Downloading multiprocess-0.70.16-py310-none-any.whl (134 kB)\n",
            "\u001b[2K     \u001b[90m━━━━━━━━━━━━━━━━━━━━━━━━━━━━━━━━━━━━━━━━\u001b[0m \u001b[32m134.8/134.8 kB\u001b[0m \u001b[31m20.4 MB/s\u001b[0m eta \u001b[36m0:00:00\u001b[0m\n",
            "\u001b[?25hRequirement already satisfied: fsspec[http]<=2024.2.0,>=2023.1.0 in /usr/local/lib/python3.10/dist-packages (from datasets>=2.16.0->unsloth[colab]@ git+https://github.com/unslothai/unsloth.git) (2023.6.0)\n",
            "Requirement already satisfied: aiohttp in /usr/local/lib/python3.10/dist-packages (from datasets>=2.16.0->unsloth[colab]@ git+https://github.com/unslothai/unsloth.git) (3.9.3)\n",
            "Requirement already satisfied: typing-extensions>=4.8.0 in /usr/local/lib/python3.10/dist-packages (from torch->bitsandbytes->unsloth[colab]@ git+https://github.com/unslothai/unsloth.git) (4.10.0)\n",
            "Requirement already satisfied: sympy in /usr/local/lib/python3.10/dist-packages (from torch->bitsandbytes->unsloth[colab]@ git+https://github.com/unslothai/unsloth.git) (1.12)\n",
            "Requirement already satisfied: networkx in /usr/local/lib/python3.10/dist-packages (from torch->bitsandbytes->unsloth[colab]@ git+https://github.com/unslothai/unsloth.git) (3.2.1)\n",
            "Requirement already satisfied: jinja2 in /usr/local/lib/python3.10/dist-packages (from torch->bitsandbytes->unsloth[colab]@ git+https://github.com/unslothai/unsloth.git) (3.1.3)\n",
            "Collecting nvidia-cuda-nvrtc-cu12==12.1.105 (from torch->bitsandbytes->unsloth[colab]@ git+https://github.com/unslothai/unsloth.git)\n",
            "  Downloading nvidia_cuda_nvrtc_cu12-12.1.105-py3-none-manylinux1_x86_64.whl (23.7 MB)\n",
            "\u001b[2K     \u001b[90m━━━━━━━━━━━━━━━━━━━━━━━━━━━━━━━━━━━━━━━━\u001b[0m \u001b[32m23.7/23.7 MB\u001b[0m \u001b[31m67.6 MB/s\u001b[0m eta \u001b[36m0:00:00\u001b[0m\n",
            "\u001b[?25hCollecting nvidia-cuda-runtime-cu12==12.1.105 (from torch->bitsandbytes->unsloth[colab]@ git+https://github.com/unslothai/unsloth.git)\n",
            "  Downloading nvidia_cuda_runtime_cu12-12.1.105-py3-none-manylinux1_x86_64.whl (823 kB)\n",
            "\u001b[2K     \u001b[90m━━━━━━━━━━━━━━━━━━━━━━━━━━━━━━━━━━━━━━━━\u001b[0m \u001b[32m823.6/823.6 kB\u001b[0m \u001b[31m71.7 MB/s\u001b[0m eta \u001b[36m0:00:00\u001b[0m\n",
            "\u001b[?25hCollecting nvidia-cuda-cupti-cu12==12.1.105 (from torch->bitsandbytes->unsloth[colab]@ git+https://github.com/unslothai/unsloth.git)\n",
            "  Downloading nvidia_cuda_cupti_cu12-12.1.105-py3-none-manylinux1_x86_64.whl (14.1 MB)\n",
            "\u001b[2K     \u001b[90m━━━━━━━━━━━━━━━━━━━━━━━━━━━━━━━━━━━━━━━━\u001b[0m \u001b[32m14.1/14.1 MB\u001b[0m \u001b[31m89.5 MB/s\u001b[0m eta \u001b[36m0:00:00\u001b[0m\n",
            "\u001b[?25hCollecting nvidia-cudnn-cu12==8.9.2.26 (from torch->bitsandbytes->unsloth[colab]@ git+https://github.com/unslothai/unsloth.git)\n",
            "  Downloading nvidia_cudnn_cu12-8.9.2.26-py3-none-manylinux1_x86_64.whl (731.7 MB)\n",
            "\u001b[2K     \u001b[90m━━━━━━━━━━━━━━━━━━━━━━━━━━━━━━━━━━━━━━━━\u001b[0m \u001b[32m731.7/731.7 MB\u001b[0m \u001b[31m2.3 MB/s\u001b[0m eta \u001b[36m0:00:00\u001b[0m\n",
            "\u001b[?25hCollecting nvidia-cublas-cu12==12.1.3.1 (from torch->bitsandbytes->unsloth[colab]@ git+https://github.com/unslothai/unsloth.git)\n",
            "  Downloading nvidia_cublas_cu12-12.1.3.1-py3-none-manylinux1_x86_64.whl (410.6 MB)\n",
            "\u001b[2K     \u001b[90m━━━━━━━━━━━━━━━━━━━━━━━━━━━━━━━━━━━━━━━━\u001b[0m \u001b[32m410.6/410.6 MB\u001b[0m \u001b[31m3.9 MB/s\u001b[0m eta \u001b[36m0:00:00\u001b[0m\n",
            "\u001b[?25hCollecting nvidia-cufft-cu12==11.0.2.54 (from torch->bitsandbytes->unsloth[colab]@ git+https://github.com/unslothai/unsloth.git)\n",
            "  Downloading nvidia_cufft_cu12-11.0.2.54-py3-none-manylinux1_x86_64.whl (121.6 MB)\n",
            "\u001b[2K     \u001b[90m━━━━━━━━━━━━━━━━━━━━━━━━━━━━━━━━━━━━━━━━\u001b[0m \u001b[32m121.6/121.6 MB\u001b[0m \u001b[31m8.4 MB/s\u001b[0m eta \u001b[36m0:00:00\u001b[0m\n",
            "\u001b[?25hCollecting nvidia-curand-cu12==10.3.2.106 (from torch->bitsandbytes->unsloth[colab]@ git+https://github.com/unslothai/unsloth.git)\n",
            "  Downloading nvidia_curand_cu12-10.3.2.106-py3-none-manylinux1_x86_64.whl (56.5 MB)\n",
            "\u001b[2K     \u001b[90m━━━━━━━━━━━━━━━━━━━━━━━━━━━━━━━━━━━━━━━━\u001b[0m \u001b[32m56.5/56.5 MB\u001b[0m \u001b[31m8.9 MB/s\u001b[0m eta \u001b[36m0:00:00\u001b[0m\n",
            "\u001b[?25hCollecting nvidia-cusolver-cu12==11.4.5.107 (from torch->bitsandbytes->unsloth[colab]@ git+https://github.com/unslothai/unsloth.git)\n",
            "  Downloading nvidia_cusolver_cu12-11.4.5.107-py3-none-manylinux1_x86_64.whl (124.2 MB)\n",
            "\u001b[2K     \u001b[90m━━━━━━━━━━━━━━━━━━━━━━━━━━━━━━━━━━━━━━━━\u001b[0m \u001b[32m124.2/124.2 MB\u001b[0m \u001b[31m8.4 MB/s\u001b[0m eta \u001b[36m0:00:00\u001b[0m\n",
            "\u001b[?25hCollecting nvidia-cusparse-cu12==12.1.0.106 (from torch->bitsandbytes->unsloth[colab]@ git+https://github.com/unslothai/unsloth.git)\n",
            "  Downloading nvidia_cusparse_cu12-12.1.0.106-py3-none-manylinux1_x86_64.whl (196.0 MB)\n",
            "\u001b[2K     \u001b[90m━━━━━━━━━━━━━━━━━━━━━━━━━━━━━━━━━━━━━━━━\u001b[0m \u001b[32m196.0/196.0 MB\u001b[0m \u001b[31m6.3 MB/s\u001b[0m eta \u001b[36m0:00:00\u001b[0m\n",
            "\u001b[?25hCollecting nvidia-nccl-cu12==2.19.3 (from torch->bitsandbytes->unsloth[colab]@ git+https://github.com/unslothai/unsloth.git)\n",
            "  Downloading nvidia_nccl_cu12-2.19.3-py3-none-manylinux1_x86_64.whl (166.0 MB)\n",
            "\u001b[2K     \u001b[90m━━━━━━━━━━━━━━━━━━━━━━━━━━━━━━━━━━━━━━━━\u001b[0m \u001b[32m166.0/166.0 MB\u001b[0m \u001b[31m7.2 MB/s\u001b[0m eta \u001b[36m0:00:00\u001b[0m\n",
            "\u001b[?25hCollecting nvidia-nvtx-cu12==12.1.105 (from torch->bitsandbytes->unsloth[colab]@ git+https://github.com/unslothai/unsloth.git)\n",
            "  Downloading nvidia_nvtx_cu12-12.1.105-py3-none-manylinux1_x86_64.whl (99 kB)\n",
            "\u001b[2K     \u001b[90m━━━━━━━━━━━━━━━━━━━━━━━━━━━━━━━━━━━━━━━━\u001b[0m \u001b[32m99.1/99.1 kB\u001b[0m \u001b[31m15.1 MB/s\u001b[0m eta \u001b[36m0:00:00\u001b[0m\n",
            "\u001b[?25hRequirement already satisfied: triton==2.2.0 in /usr/local/lib/python3.10/dist-packages (from torch->bitsandbytes->unsloth[colab]@ git+https://github.com/unslothai/unsloth.git) (2.2.0)\n",
            "Collecting nvidia-nvjitlink-cu12 (from nvidia-cusolver-cu12==11.4.5.107->torch->bitsandbytes->unsloth[colab]@ git+https://github.com/unslothai/unsloth.git)\n",
            "  Downloading nvidia_nvjitlink_cu12-12.4.99-py3-none-manylinux2014_x86_64.whl (21.1 MB)\n",
            "\u001b[2K     \u001b[90m━━━━━━━━━━━━━━━━━━━━━━━━━━━━━━━━━━━━━━━━\u001b[0m \u001b[32m21.1/21.1 MB\u001b[0m \u001b[31m57.5 MB/s\u001b[0m eta \u001b[36m0:00:00\u001b[0m\n",
            "\u001b[?25hRequirement already satisfied: regex!=2019.12.17 in /usr/local/lib/python3.10/dist-packages (from transformers>=4.38.2->unsloth[colab]@ git+https://github.com/unslothai/unsloth.git) (2023.12.25)\n",
            "Requirement already satisfied: tokenizers<0.19,>=0.14 in /usr/local/lib/python3.10/dist-packages (from transformers>=4.38.2->unsloth[colab]@ git+https://github.com/unslothai/unsloth.git) (0.15.2)\n",
            "Collecting docstring-parser>=0.14.1 (from tyro->unsloth[colab]@ git+https://github.com/unslothai/unsloth.git)\n",
            "  Downloading docstring_parser-0.16-py3-none-any.whl (36 kB)\n",
            "Requirement already satisfied: rich>=11.1.0 in /usr/local/lib/python3.10/dist-packages (from tyro->unsloth[colab]@ git+https://github.com/unslothai/unsloth.git) (13.7.1)\n",
            "Collecting shtab>=1.5.6 (from tyro->unsloth[colab]@ git+https://github.com/unslothai/unsloth.git)\n",
            "  Downloading shtab-1.7.1-py3-none-any.whl (14 kB)\n",
            "Collecting torch (from bitsandbytes->unsloth[colab]@ git+https://github.com/unslothai/unsloth.git)\n",
            "  Downloading torch-2.1.0-cp310-cp310-manylinux1_x86_64.whl (670.2 MB)\n",
            "\u001b[2K     \u001b[90m━━━━━━━━━━━━━━━━━━━━━━━━━━━━━━━━━━━━━━━━\u001b[0m \u001b[32m670.2/670.2 MB\u001b[0m \u001b[31m2.5 MB/s\u001b[0m eta \u001b[36m0:00:00\u001b[0m\n",
            "\u001b[?25hCollecting nvidia-nccl-cu12==2.18.1 (from torch->bitsandbytes->unsloth[colab]@ git+https://github.com/unslothai/unsloth.git)\n",
            "  Downloading nvidia_nccl_cu12-2.18.1-py3-none-manylinux1_x86_64.whl (209.8 MB)\n",
            "\u001b[2K     \u001b[90m━━━━━━━━━━━━━━━━━━━━━━━━━━━━━━━━━━━━━━━━\u001b[0m \u001b[32m209.8/209.8 MB\u001b[0m \u001b[31m6.1 MB/s\u001b[0m eta \u001b[36m0:00:00\u001b[0m\n",
            "\u001b[?25hCollecting triton==2.1.0 (from torch->bitsandbytes->unsloth[colab]@ git+https://github.com/unslothai/unsloth.git)\n",
            "  Downloading triton-2.1.0-0-cp310-cp310-manylinux2014_x86_64.manylinux_2_17_x86_64.whl (89.2 MB)\n",
            "\u001b[2K     \u001b[90m━━━━━━━━━━━━━━━━━━━━━━━━━━━━━━━━━━━━━━━━\u001b[0m \u001b[32m89.2/89.2 MB\u001b[0m \u001b[31m9.4 MB/s\u001b[0m eta \u001b[36m0:00:00\u001b[0m\n",
            "\u001b[?25hRequirement already satisfied: aiosignal>=1.1.2 in /usr/local/lib/python3.10/dist-packages (from aiohttp->datasets>=2.16.0->unsloth[colab]@ git+https://github.com/unslothai/unsloth.git) (1.3.1)\n",
            "Requirement already satisfied: attrs>=17.3.0 in /usr/local/lib/python3.10/dist-packages (from aiohttp->datasets>=2.16.0->unsloth[colab]@ git+https://github.com/unslothai/unsloth.git) (23.2.0)\n",
            "Requirement already satisfied: frozenlist>=1.1.1 in /usr/local/lib/python3.10/dist-packages (from aiohttp->datasets>=2.16.0->unsloth[colab]@ git+https://github.com/unslothai/unsloth.git) (1.4.1)\n",
            "Requirement already satisfied: multidict<7.0,>=4.5 in /usr/local/lib/python3.10/dist-packages (from aiohttp->datasets>=2.16.0->unsloth[colab]@ git+https://github.com/unslothai/unsloth.git) (6.0.5)\n",
            "Requirement already satisfied: yarl<2.0,>=1.0 in /usr/local/lib/python3.10/dist-packages (from aiohttp->datasets>=2.16.0->unsloth[colab]@ git+https://github.com/unslothai/unsloth.git) (1.9.4)\n",
            "Requirement already satisfied: async-timeout<5.0,>=4.0 in /usr/local/lib/python3.10/dist-packages (from aiohttp->datasets>=2.16.0->unsloth[colab]@ git+https://github.com/unslothai/unsloth.git) (4.0.3)\n",
            "Requirement already satisfied: charset-normalizer<4,>=2 in /usr/local/lib/python3.10/dist-packages (from requests>=2.19.0->datasets>=2.16.0->unsloth[colab]@ git+https://github.com/unslothai/unsloth.git) (3.3.2)\n",
            "Requirement already satisfied: idna<4,>=2.5 in /usr/local/lib/python3.10/dist-packages (from requests>=2.19.0->datasets>=2.16.0->unsloth[colab]@ git+https://github.com/unslothai/unsloth.git) (3.6)\n",
            "Requirement already satisfied: urllib3<3,>=1.21.1 in /usr/local/lib/python3.10/dist-packages (from requests>=2.19.0->datasets>=2.16.0->unsloth[colab]@ git+https://github.com/unslothai/unsloth.git) (2.0.7)\n",
            "Requirement already satisfied: certifi>=2017.4.17 in /usr/local/lib/python3.10/dist-packages (from requests>=2.19.0->datasets>=2.16.0->unsloth[colab]@ git+https://github.com/unslothai/unsloth.git) (2024.2.2)\n",
            "Requirement already satisfied: markdown-it-py>=2.2.0 in /usr/local/lib/python3.10/dist-packages (from rich>=11.1.0->tyro->unsloth[colab]@ git+https://github.com/unslothai/unsloth.git) (3.0.0)\n",
            "Requirement already satisfied: pygments<3.0.0,>=2.13.0 in /usr/local/lib/python3.10/dist-packages (from rich>=11.1.0->tyro->unsloth[colab]@ git+https://github.com/unslothai/unsloth.git) (2.16.1)\n",
            "Requirement already satisfied: MarkupSafe>=2.0 in /usr/local/lib/python3.10/dist-packages (from jinja2->torch->bitsandbytes->unsloth[colab]@ git+https://github.com/unslothai/unsloth.git) (2.1.5)\n",
            "Requirement already satisfied: python-dateutil>=2.8.1 in /usr/local/lib/python3.10/dist-packages (from pandas->datasets>=2.16.0->unsloth[colab]@ git+https://github.com/unslothai/unsloth.git) (2.8.2)\n",
            "Requirement already satisfied: pytz>=2020.1 in /usr/local/lib/python3.10/dist-packages (from pandas->datasets>=2.16.0->unsloth[colab]@ git+https://github.com/unslothai/unsloth.git) (2023.4)\n",
            "Requirement already satisfied: mpmath>=0.19 in /usr/local/lib/python3.10/dist-packages (from sympy->torch->bitsandbytes->unsloth[colab]@ git+https://github.com/unslothai/unsloth.git) (1.3.0)\n",
            "Requirement already satisfied: mdurl~=0.1 in /usr/local/lib/python3.10/dist-packages (from markdown-it-py>=2.2.0->rich>=11.1.0->tyro->unsloth[colab]@ git+https://github.com/unslothai/unsloth.git) (0.1.2)\n",
            "Requirement already satisfied: six>=1.5 in /usr/local/lib/python3.10/dist-packages (from python-dateutil>=2.8.1->pandas->datasets>=2.16.0->unsloth[colab]@ git+https://github.com/unslothai/unsloth.git) (1.16.0)\n",
            "Building wheels for collected packages: unsloth\n",
            "  Building wheel for unsloth (pyproject.toml) ... \u001b[?25l\u001b[?25hdone\n",
            "  Created wheel for unsloth: filename=unsloth-2024.3-py3-none-any.whl size=90842 sha256=607ebb7cbfaa05c999510aa96fd7222f5c2c24fd779ef19a99ff98512a828c49\n",
            "  Stored in directory: /tmp/pip-ephem-wheel-cache-bu8edcfy/wheels/ed/d4/e9/76fb290ee3df0a5fc21ce5c2c788e29e9607a2353d8342fd0d\n",
            "Successfully built unsloth\n",
            "Installing collected packages: xxhash, unsloth, triton, shtab, nvidia-nvtx-cu12, nvidia-nvjitlink-cu12, nvidia-nccl-cu12, nvidia-curand-cu12, nvidia-cufft-cu12, nvidia-cuda-runtime-cu12, nvidia-cuda-nvrtc-cu12, nvidia-cuda-cupti-cu12, nvidia-cublas-cu12, docstring-parser, dill, nvidia-cusparse-cu12, nvidia-cudnn-cu12, multiprocess, tyro, nvidia-cusolver-cu12, torch, datasets, xformers, bitsandbytes, accelerate, trl, peft\n",
            "  Attempting uninstall: triton\n",
            "    Found existing installation: triton 2.2.0\n",
            "    Uninstalling triton-2.2.0:\n",
            "      Successfully uninstalled triton-2.2.0\n",
            "  Attempting uninstall: torch\n",
            "    Found existing installation: torch 2.2.1+cu121\n",
            "    Uninstalling torch-2.2.1+cu121:\n",
            "      Successfully uninstalled torch-2.2.1+cu121\n",
            "\u001b[31mERROR: pip's dependency resolver does not currently take into account all the packages that are installed. This behaviour is the source of the following dependency conflicts.\n",
            "torchaudio 2.2.1+cu121 requires torch==2.2.1, but you have torch 2.1.0 which is incompatible.\n",
            "torchtext 0.17.1 requires torch==2.2.1, but you have torch 2.1.0 which is incompatible.\n",
            "torchvision 0.17.1+cu121 requires torch==2.2.1, but you have torch 2.1.0 which is incompatible.\u001b[0m\u001b[31m\n",
            "\u001b[0mSuccessfully installed accelerate-0.28.0 bitsandbytes-0.43.0 datasets-2.18.0 dill-0.3.8 docstring-parser-0.16 multiprocess-0.70.16 nvidia-cublas-cu12-12.1.3.1 nvidia-cuda-cupti-cu12-12.1.105 nvidia-cuda-nvrtc-cu12-12.1.105 nvidia-cuda-runtime-cu12-12.1.105 nvidia-cudnn-cu12-8.9.2.26 nvidia-cufft-cu12-11.0.2.54 nvidia-curand-cu12-10.3.2.106 nvidia-cusolver-cu12-11.4.5.107 nvidia-cusparse-cu12-12.1.0.106 nvidia-nccl-cu12-2.18.1 nvidia-nvjitlink-cu12-12.4.99 nvidia-nvtx-cu12-12.1.105 peft-0.10.0 shtab-1.7.1 torch-2.1.0 triton-2.1.0 trl-0.8.1 tyro-0.7.3 unsloth-2024.3 xformers-0.0.22.post7 xxhash-3.4.1\n"
          ]
        }
      ]
    },
    {
      "cell_type": "code",
      "source": [
        "!pip install \"git+https://github.com/huggingface/transformers.git\""
      ],
      "metadata": {
        "colab": {
          "base_uri": "https://localhost:8080/"
        },
        "id": "1xQ6coXPCFbj",
        "outputId": "266c9c57-6c03-46f9-a8cd-14efca5b3e03"
      },
      "id": "1xQ6coXPCFbj",
      "execution_count": 3,
      "outputs": [
        {
          "output_type": "stream",
          "name": "stdout",
          "text": [
            "Collecting git+https://github.com/huggingface/transformers.git\n",
            "  Cloning https://github.com/huggingface/transformers.git to /tmp/pip-req-build-5kit6mm4\n",
            "  Running command git clone --filter=blob:none --quiet https://github.com/huggingface/transformers.git /tmp/pip-req-build-5kit6mm4\n",
            "  Resolved https://github.com/huggingface/transformers.git to commit 76a33a10923ccc1074917f6b6a1e719e626b7dc9\n",
            "  Installing build dependencies ... \u001b[?25l\u001b[?25hdone\n",
            "  Getting requirements to build wheel ... \u001b[?25l\u001b[?25hdone\n",
            "  Preparing metadata (pyproject.toml) ... \u001b[?25l\u001b[?25hdone\n",
            "Requirement already satisfied: filelock in /usr/local/lib/python3.10/dist-packages (from transformers==4.40.0.dev0) (3.13.1)\n",
            "Requirement already satisfied: huggingface-hub<1.0,>=0.19.3 in /usr/local/lib/python3.10/dist-packages (from transformers==4.40.0.dev0) (0.20.3)\n",
            "Requirement already satisfied: numpy>=1.17 in /usr/local/lib/python3.10/dist-packages (from transformers==4.40.0.dev0) (1.25.2)\n",
            "Requirement already satisfied: packaging>=20.0 in /usr/local/lib/python3.10/dist-packages (from transformers==4.40.0.dev0) (24.0)\n",
            "Requirement already satisfied: pyyaml>=5.1 in /usr/local/lib/python3.10/dist-packages (from transformers==4.40.0.dev0) (6.0.1)\n",
            "Requirement already satisfied: regex!=2019.12.17 in /usr/local/lib/python3.10/dist-packages (from transformers==4.40.0.dev0) (2023.12.25)\n",
            "Requirement already satisfied: requests in /usr/local/lib/python3.10/dist-packages (from transformers==4.40.0.dev0) (2.31.0)\n",
            "Requirement already satisfied: tokenizers<0.19,>=0.14 in /usr/local/lib/python3.10/dist-packages (from transformers==4.40.0.dev0) (0.15.2)\n",
            "Requirement already satisfied: safetensors>=0.4.1 in /usr/local/lib/python3.10/dist-packages (from transformers==4.40.0.dev0) (0.4.2)\n",
            "Requirement already satisfied: tqdm>=4.27 in /usr/local/lib/python3.10/dist-packages (from transformers==4.40.0.dev0) (4.66.2)\n",
            "Requirement already satisfied: fsspec>=2023.5.0 in /usr/local/lib/python3.10/dist-packages (from huggingface-hub<1.0,>=0.19.3->transformers==4.40.0.dev0) (2023.6.0)\n",
            "Requirement already satisfied: typing-extensions>=3.7.4.3 in /usr/local/lib/python3.10/dist-packages (from huggingface-hub<1.0,>=0.19.3->transformers==4.40.0.dev0) (4.10.0)\n",
            "Requirement already satisfied: charset-normalizer<4,>=2 in /usr/local/lib/python3.10/dist-packages (from requests->transformers==4.40.0.dev0) (3.3.2)\n",
            "Requirement already satisfied: idna<4,>=2.5 in /usr/local/lib/python3.10/dist-packages (from requests->transformers==4.40.0.dev0) (3.6)\n",
            "Requirement already satisfied: urllib3<3,>=1.21.1 in /usr/local/lib/python3.10/dist-packages (from requests->transformers==4.40.0.dev0) (2.0.7)\n",
            "Requirement already satisfied: certifi>=2017.4.17 in /usr/local/lib/python3.10/dist-packages (from requests->transformers==4.40.0.dev0) (2024.2.2)\n",
            "Building wheels for collected packages: transformers\n",
            "  Building wheel for transformers (pyproject.toml) ... \u001b[?25l\u001b[?25hdone\n",
            "  Created wheel for transformers: filename=transformers-4.40.0.dev0-py3-none-any.whl size=8802691 sha256=7b819e6a2e4ed4e2cc3329d95775e2514f7d8be612c59406f736e9588b825dbe\n",
            "  Stored in directory: /tmp/pip-ephem-wheel-cache-a5qktgyh/wheels/e7/9c/5b/e1a9c8007c343041e61cc484433d512ea9274272e3fcbe7c16\n",
            "Successfully built transformers\n",
            "Installing collected packages: transformers\n",
            "  Attempting uninstall: transformers\n",
            "    Found existing installation: transformers 4.38.2\n",
            "    Uninstalling transformers-4.38.2:\n",
            "      Successfully uninstalled transformers-4.38.2\n",
            "Successfully installed transformers-4.40.0.dev0\n"
          ]
        }
      ]
    },
    {
      "cell_type": "code",
      "execution_count": 4,
      "id": "591b0316",
      "metadata": {
        "execution": {
          "iopub.execute_input": "2024-02-26T17:47:21.391598Z",
          "iopub.status.busy": "2024-02-26T17:47:21.391259Z",
          "iopub.status.idle": "2024-02-26T17:51:03.752799Z",
          "shell.execute_reply": "2024-02-26T17:51:03.751548Z"
        },
        "papermill": {
          "duration": 222.374755,
          "end_time": "2024-02-26T17:51:03.755288",
          "exception": false,
          "start_time": "2024-02-26T17:47:21.380533",
          "status": "completed"
        },
        "scrolled": true,
        "tags": [],
        "id": "591b0316"
      },
      "outputs": [],
      "source": [
        "!pip install -U datasets -q\n",
        "\n",
        "!pip install trl -q"
      ]
    },
    {
      "cell_type": "code",
      "execution_count": 5,
      "id": "cc6e2b2f",
      "metadata": {
        "execution": {
          "iopub.execute_input": "2024-02-26T17:51:03.776110Z",
          "iopub.status.busy": "2024-02-26T17:51:03.775760Z",
          "iopub.status.idle": "2024-02-26T17:51:24.722009Z",
          "shell.execute_reply": "2024-02-26T17:51:24.721026Z"
        },
        "papermill": {
          "duration": 20.959095,
          "end_time": "2024-02-26T17:51:24.724326",
          "exception": false,
          "start_time": "2024-02-26T17:51:03.765231",
          "status": "completed"
        },
        "tags": [],
        "id": "cc6e2b2f"
      },
      "outputs": [],
      "source": [
        "import warnings\n",
        "warnings.filterwarnings('ignore')\n",
        "import pandas as pd\n",
        "import torch\n",
        "\n",
        "from unsloth import FastLanguageModel\n",
        "from datasets import load_dataset, Dataset, DatasetDict\n",
        "from trl import SFTTrainer\n",
        "from transformers import TrainingArguments"
      ]
    },
    {
      "cell_type": "code",
      "source": [
        "\n",
        "import random\n",
        "import numpy as np\n",
        "import transformers\n",
        "from datasets import Dataset\n",
        "from datasets import DatasetDict\n",
        "\n",
        "from transformers import AutoTokenizer\n",
        "from datasets import ClassLabel, Sequence\n",
        "from datasets import load_dataset, load_metric\n",
        "from sklearn.model_selection import train_test_split\n",
        "\n",
        "from transformers import DataCollatorForTokenClassification\n",
        "from transformers import AutoModelForTokenClassification, TrainingArguments, Trainer"
      ],
      "metadata": {
        "id": "NYPVsSFlHKM3"
      },
      "id": "NYPVsSFlHKM3",
      "execution_count": 6,
      "outputs": []
    },
    {
      "cell_type": "code",
      "execution_count": 7,
      "id": "13c7a688",
      "metadata": {
        "execution": {
          "iopub.execute_input": "2024-02-26T17:51:27.099906Z",
          "iopub.status.busy": "2024-02-26T17:51:27.099275Z",
          "iopub.status.idle": "2024-02-26T17:51:37.318247Z",
          "shell.execute_reply": "2024-02-26T17:51:37.317473Z"
        },
        "papermill": {
          "duration": 10.231929,
          "end_time": "2024-02-26T17:51:37.320366",
          "exception": false,
          "start_time": "2024-02-26T17:51:27.088437",
          "status": "completed"
        },
        "tags": [],
        "id": "13c7a688"
      },
      "outputs": [],
      "source": [
        "dataset = pd.read_csv('/content/drive/MyDrive/NER_CS/NER_Datas.csv')"
      ]
    },
    {
      "cell_type": "code",
      "source": [
        "dataset.head()"
      ],
      "metadata": {
        "id": "Gm4w7bdsGltl",
        "colab": {
          "base_uri": "https://localhost:8080/",
          "height": 206
        },
        "outputId": "511f3ee6-e554-46cb-ad62-d2239b0ef30a"
      },
      "id": "Gm4w7bdsGltl",
      "execution_count": 8,
      "outputs": [
        {
          "output_type": "execute_result",
          "data": {
            "text/plain": [
              "          tokens       tags\n",
              "0            ORF          O\n",
              "1  aspnet_client          O\n",
              "2         casino          O\n",
              "3            4.8  I-version\n",
              "4          3.6.3  B-version"
            ],
            "text/html": [
              "\n",
              "  <div id=\"df-42aa89eb-d077-4058-8030-b6d16abc5a64\" class=\"colab-df-container\">\n",
              "    <div>\n",
              "<style scoped>\n",
              "    .dataframe tbody tr th:only-of-type {\n",
              "        vertical-align: middle;\n",
              "    }\n",
              "\n",
              "    .dataframe tbody tr th {\n",
              "        vertical-align: top;\n",
              "    }\n",
              "\n",
              "    .dataframe thead th {\n",
              "        text-align: right;\n",
              "    }\n",
              "</style>\n",
              "<table border=\"1\" class=\"dataframe\">\n",
              "  <thead>\n",
              "    <tr style=\"text-align: right;\">\n",
              "      <th></th>\n",
              "      <th>tokens</th>\n",
              "      <th>tags</th>\n",
              "    </tr>\n",
              "  </thead>\n",
              "  <tbody>\n",
              "    <tr>\n",
              "      <th>0</th>\n",
              "      <td>ORF</td>\n",
              "      <td>O</td>\n",
              "    </tr>\n",
              "    <tr>\n",
              "      <th>1</th>\n",
              "      <td>aspnet_client</td>\n",
              "      <td>O</td>\n",
              "    </tr>\n",
              "    <tr>\n",
              "      <th>2</th>\n",
              "      <td>casino</td>\n",
              "      <td>O</td>\n",
              "    </tr>\n",
              "    <tr>\n",
              "      <th>3</th>\n",
              "      <td>4.8</td>\n",
              "      <td>I-version</td>\n",
              "    </tr>\n",
              "    <tr>\n",
              "      <th>4</th>\n",
              "      <td>3.6.3</td>\n",
              "      <td>B-version</td>\n",
              "    </tr>\n",
              "  </tbody>\n",
              "</table>\n",
              "</div>\n",
              "    <div class=\"colab-df-buttons\">\n",
              "\n",
              "  <div class=\"colab-df-container\">\n",
              "    <button class=\"colab-df-convert\" onclick=\"convertToInteractive('df-42aa89eb-d077-4058-8030-b6d16abc5a64')\"\n",
              "            title=\"Convert this dataframe to an interactive table.\"\n",
              "            style=\"display:none;\">\n",
              "\n",
              "  <svg xmlns=\"http://www.w3.org/2000/svg\" height=\"24px\" viewBox=\"0 -960 960 960\">\n",
              "    <path d=\"M120-120v-720h720v720H120Zm60-500h600v-160H180v160Zm220 220h160v-160H400v160Zm0 220h160v-160H400v160ZM180-400h160v-160H180v160Zm440 0h160v-160H620v160ZM180-180h160v-160H180v160Zm440 0h160v-160H620v160Z\"/>\n",
              "  </svg>\n",
              "    </button>\n",
              "\n",
              "  <style>\n",
              "    .colab-df-container {\n",
              "      display:flex;\n",
              "      gap: 12px;\n",
              "    }\n",
              "\n",
              "    .colab-df-convert {\n",
              "      background-color: #E8F0FE;\n",
              "      border: none;\n",
              "      border-radius: 50%;\n",
              "      cursor: pointer;\n",
              "      display: none;\n",
              "      fill: #1967D2;\n",
              "      height: 32px;\n",
              "      padding: 0 0 0 0;\n",
              "      width: 32px;\n",
              "    }\n",
              "\n",
              "    .colab-df-convert:hover {\n",
              "      background-color: #E2EBFA;\n",
              "      box-shadow: 0px 1px 2px rgba(60, 64, 67, 0.3), 0px 1px 3px 1px rgba(60, 64, 67, 0.15);\n",
              "      fill: #174EA6;\n",
              "    }\n",
              "\n",
              "    .colab-df-buttons div {\n",
              "      margin-bottom: 4px;\n",
              "    }\n",
              "\n",
              "    [theme=dark] .colab-df-convert {\n",
              "      background-color: #3B4455;\n",
              "      fill: #D2E3FC;\n",
              "    }\n",
              "\n",
              "    [theme=dark] .colab-df-convert:hover {\n",
              "      background-color: #434B5C;\n",
              "      box-shadow: 0px 1px 3px 1px rgba(0, 0, 0, 0.15);\n",
              "      filter: drop-shadow(0px 1px 2px rgba(0, 0, 0, 0.3));\n",
              "      fill: #FFFFFF;\n",
              "    }\n",
              "  </style>\n",
              "\n",
              "    <script>\n",
              "      const buttonEl =\n",
              "        document.querySelector('#df-42aa89eb-d077-4058-8030-b6d16abc5a64 button.colab-df-convert');\n",
              "      buttonEl.style.display =\n",
              "        google.colab.kernel.accessAllowed ? 'block' : 'none';\n",
              "\n",
              "      async function convertToInteractive(key) {\n",
              "        const element = document.querySelector('#df-42aa89eb-d077-4058-8030-b6d16abc5a64');\n",
              "        const dataTable =\n",
              "          await google.colab.kernel.invokeFunction('convertToInteractive',\n",
              "                                                    [key], {});\n",
              "        if (!dataTable) return;\n",
              "\n",
              "        const docLinkHtml = 'Like what you see? Visit the ' +\n",
              "          '<a target=\"_blank\" href=https://colab.research.google.com/notebooks/data_table.ipynb>data table notebook</a>'\n",
              "          + ' to learn more about interactive tables.';\n",
              "        element.innerHTML = '';\n",
              "        dataTable['output_type'] = 'display_data';\n",
              "        await google.colab.output.renderOutput(dataTable, element);\n",
              "        const docLink = document.createElement('div');\n",
              "        docLink.innerHTML = docLinkHtml;\n",
              "        element.appendChild(docLink);\n",
              "      }\n",
              "    </script>\n",
              "  </div>\n",
              "\n",
              "\n",
              "<div id=\"df-6405bc31-e789-4a50-9c78-2a48ff616ac0\">\n",
              "  <button class=\"colab-df-quickchart\" onclick=\"quickchart('df-6405bc31-e789-4a50-9c78-2a48ff616ac0')\"\n",
              "            title=\"Suggest charts\"\n",
              "            style=\"display:none;\">\n",
              "\n",
              "<svg xmlns=\"http://www.w3.org/2000/svg\" height=\"24px\"viewBox=\"0 0 24 24\"\n",
              "     width=\"24px\">\n",
              "    <g>\n",
              "        <path d=\"M19 3H5c-1.1 0-2 .9-2 2v14c0 1.1.9 2 2 2h14c1.1 0 2-.9 2-2V5c0-1.1-.9-2-2-2zM9 17H7v-7h2v7zm4 0h-2V7h2v10zm4 0h-2v-4h2v4z\"/>\n",
              "    </g>\n",
              "</svg>\n",
              "  </button>\n",
              "\n",
              "<style>\n",
              "  .colab-df-quickchart {\n",
              "      --bg-color: #E8F0FE;\n",
              "      --fill-color: #1967D2;\n",
              "      --hover-bg-color: #E2EBFA;\n",
              "      --hover-fill-color: #174EA6;\n",
              "      --disabled-fill-color: #AAA;\n",
              "      --disabled-bg-color: #DDD;\n",
              "  }\n",
              "\n",
              "  [theme=dark] .colab-df-quickchart {\n",
              "      --bg-color: #3B4455;\n",
              "      --fill-color: #D2E3FC;\n",
              "      --hover-bg-color: #434B5C;\n",
              "      --hover-fill-color: #FFFFFF;\n",
              "      --disabled-bg-color: #3B4455;\n",
              "      --disabled-fill-color: #666;\n",
              "  }\n",
              "\n",
              "  .colab-df-quickchart {\n",
              "    background-color: var(--bg-color);\n",
              "    border: none;\n",
              "    border-radius: 50%;\n",
              "    cursor: pointer;\n",
              "    display: none;\n",
              "    fill: var(--fill-color);\n",
              "    height: 32px;\n",
              "    padding: 0;\n",
              "    width: 32px;\n",
              "  }\n",
              "\n",
              "  .colab-df-quickchart:hover {\n",
              "    background-color: var(--hover-bg-color);\n",
              "    box-shadow: 0 1px 2px rgba(60, 64, 67, 0.3), 0 1px 3px 1px rgba(60, 64, 67, 0.15);\n",
              "    fill: var(--button-hover-fill-color);\n",
              "  }\n",
              "\n",
              "  .colab-df-quickchart-complete:disabled,\n",
              "  .colab-df-quickchart-complete:disabled:hover {\n",
              "    background-color: var(--disabled-bg-color);\n",
              "    fill: var(--disabled-fill-color);\n",
              "    box-shadow: none;\n",
              "  }\n",
              "\n",
              "  .colab-df-spinner {\n",
              "    border: 2px solid var(--fill-color);\n",
              "    border-color: transparent;\n",
              "    border-bottom-color: var(--fill-color);\n",
              "    animation:\n",
              "      spin 1s steps(1) infinite;\n",
              "  }\n",
              "\n",
              "  @keyframes spin {\n",
              "    0% {\n",
              "      border-color: transparent;\n",
              "      border-bottom-color: var(--fill-color);\n",
              "      border-left-color: var(--fill-color);\n",
              "    }\n",
              "    20% {\n",
              "      border-color: transparent;\n",
              "      border-left-color: var(--fill-color);\n",
              "      border-top-color: var(--fill-color);\n",
              "    }\n",
              "    30% {\n",
              "      border-color: transparent;\n",
              "      border-left-color: var(--fill-color);\n",
              "      border-top-color: var(--fill-color);\n",
              "      border-right-color: var(--fill-color);\n",
              "    }\n",
              "    40% {\n",
              "      border-color: transparent;\n",
              "      border-right-color: var(--fill-color);\n",
              "      border-top-color: var(--fill-color);\n",
              "    }\n",
              "    60% {\n",
              "      border-color: transparent;\n",
              "      border-right-color: var(--fill-color);\n",
              "    }\n",
              "    80% {\n",
              "      border-color: transparent;\n",
              "      border-right-color: var(--fill-color);\n",
              "      border-bottom-color: var(--fill-color);\n",
              "    }\n",
              "    90% {\n",
              "      border-color: transparent;\n",
              "      border-bottom-color: var(--fill-color);\n",
              "    }\n",
              "  }\n",
              "</style>\n",
              "\n",
              "  <script>\n",
              "    async function quickchart(key) {\n",
              "      const quickchartButtonEl =\n",
              "        document.querySelector('#' + key + ' button');\n",
              "      quickchartButtonEl.disabled = true;  // To prevent multiple clicks.\n",
              "      quickchartButtonEl.classList.add('colab-df-spinner');\n",
              "      try {\n",
              "        const charts = await google.colab.kernel.invokeFunction(\n",
              "            'suggestCharts', [key], {});\n",
              "      } catch (error) {\n",
              "        console.error('Error during call to suggestCharts:', error);\n",
              "      }\n",
              "      quickchartButtonEl.classList.remove('colab-df-spinner');\n",
              "      quickchartButtonEl.classList.add('colab-df-quickchart-complete');\n",
              "    }\n",
              "    (() => {\n",
              "      let quickchartButtonEl =\n",
              "        document.querySelector('#df-6405bc31-e789-4a50-9c78-2a48ff616ac0 button');\n",
              "      quickchartButtonEl.style.display =\n",
              "        google.colab.kernel.accessAllowed ? 'block' : 'none';\n",
              "    })();\n",
              "  </script>\n",
              "</div>\n",
              "\n",
              "    </div>\n",
              "  </div>\n"
            ],
            "application/vnd.google.colaboratory.intrinsic+json": {
              "type": "dataframe",
              "variable_name": "dataset",
              "summary": "{\n  \"name\": \"dataset\",\n  \"rows\": 25827,\n  \"fields\": [\n    {\n      \"column\": \"tokens\",\n      \"properties\": {\n        \"dtype\": \"string\",\n        \"num_unique_values\": 23391,\n        \"samples\": [\n          \"CSCtx42746\",\n          \"drivers/char/amiserial.c\",\n          \"5.10\"\n        ],\n        \"semantic_type\": \"\",\n        \"description\": \"\"\n      }\n    },\n    {\n      \"column\": \"tags\",\n      \"properties\": {\n        \"dtype\": \"category\",\n        \"num_unique_values\": 24,\n        \"samples\": [\n          \"B-method\",\n          \"I-vendor\",\n          \"O\"\n        ],\n        \"semantic_type\": \"\",\n        \"description\": \"\"\n      }\n    }\n  ]\n}"
            }
          },
          "metadata": {},
          "execution_count": 8
        }
      ]
    },
    {
      "cell_type": "code",
      "source": [
        "import pandas as pd\n",
        "from sklearn.preprocessing import LabelEncoder\n",
        "# Initialize LabelEncoder\n",
        "label_encoder = LabelEncoder()\n",
        "\n",
        "# Fit LabelEncoder to your tags column and transform it\n",
        "dataset['label'] = label_encoder.fit_transform(dataset['tags'])\n",
        "\n",
        "# Display the mapping of original tags to labels\n",
        "label_mapping = dict(zip(label_encoder.classes_, label_encoder.transform(label_encoder.classes_)))\n",
        "print(\"Label Mapping:\")\n",
        "print(label_mapping)\n",
        "\n"
      ],
      "metadata": {
        "id": "vmhtQ2UxAG61",
        "colab": {
          "base_uri": "https://localhost:8080/"
        },
        "outputId": "2108c272-91c3-4056-ab6f-188f1d4d235e"
      },
      "id": "vmhtQ2UxAG61",
      "execution_count": 9,
      "outputs": [
        {
          "output_type": "stream",
          "name": "stdout",
          "text": [
            "Label Mapping:\n",
            "{'B-PL': 0, 'B-application': 1, 'B-cve id': 2, 'B-edition': 3, 'B-file': 4, 'B-function': 5, 'B-hardware': 6, 'B-language': 7, 'B-method': 8, 'B-os': 9, 'B-parameter': 10, 'B-relevant_term': 11, 'B-update': 12, 'B-vendor': 13, 'B-version': 14, 'I-application': 15, 'I-edition': 16, 'I-hardware': 17, 'I-os': 18, 'I-relevant_term': 19, 'I-update': 20, 'I-vendor': 21, 'I-version': 22, 'O': 23}\n"
          ]
        }
      ]
    },
    {
      "cell_type": "code",
      "source": [
        "dataset.head()"
      ],
      "metadata": {
        "id": "z4NMawPrAG9J",
        "colab": {
          "base_uri": "https://localhost:8080/",
          "height": 206
        },
        "outputId": "f1fb8606-4970-45a8-fd46-d29e9bcaa024"
      },
      "id": "z4NMawPrAG9J",
      "execution_count": 10,
      "outputs": [
        {
          "output_type": "execute_result",
          "data": {
            "text/plain": [
              "          tokens       tags  label\n",
              "0            ORF          O     23\n",
              "1  aspnet_client          O     23\n",
              "2         casino          O     23\n",
              "3            4.8  I-version     22\n",
              "4          3.6.3  B-version     14"
            ],
            "text/html": [
              "\n",
              "  <div id=\"df-6f52945b-8b51-4ebb-b225-a7bd204f41ce\" class=\"colab-df-container\">\n",
              "    <div>\n",
              "<style scoped>\n",
              "    .dataframe tbody tr th:only-of-type {\n",
              "        vertical-align: middle;\n",
              "    }\n",
              "\n",
              "    .dataframe tbody tr th {\n",
              "        vertical-align: top;\n",
              "    }\n",
              "\n",
              "    .dataframe thead th {\n",
              "        text-align: right;\n",
              "    }\n",
              "</style>\n",
              "<table border=\"1\" class=\"dataframe\">\n",
              "  <thead>\n",
              "    <tr style=\"text-align: right;\">\n",
              "      <th></th>\n",
              "      <th>tokens</th>\n",
              "      <th>tags</th>\n",
              "      <th>label</th>\n",
              "    </tr>\n",
              "  </thead>\n",
              "  <tbody>\n",
              "    <tr>\n",
              "      <th>0</th>\n",
              "      <td>ORF</td>\n",
              "      <td>O</td>\n",
              "      <td>23</td>\n",
              "    </tr>\n",
              "    <tr>\n",
              "      <th>1</th>\n",
              "      <td>aspnet_client</td>\n",
              "      <td>O</td>\n",
              "      <td>23</td>\n",
              "    </tr>\n",
              "    <tr>\n",
              "      <th>2</th>\n",
              "      <td>casino</td>\n",
              "      <td>O</td>\n",
              "      <td>23</td>\n",
              "    </tr>\n",
              "    <tr>\n",
              "      <th>3</th>\n",
              "      <td>4.8</td>\n",
              "      <td>I-version</td>\n",
              "      <td>22</td>\n",
              "    </tr>\n",
              "    <tr>\n",
              "      <th>4</th>\n",
              "      <td>3.6.3</td>\n",
              "      <td>B-version</td>\n",
              "      <td>14</td>\n",
              "    </tr>\n",
              "  </tbody>\n",
              "</table>\n",
              "</div>\n",
              "    <div class=\"colab-df-buttons\">\n",
              "\n",
              "  <div class=\"colab-df-container\">\n",
              "    <button class=\"colab-df-convert\" onclick=\"convertToInteractive('df-6f52945b-8b51-4ebb-b225-a7bd204f41ce')\"\n",
              "            title=\"Convert this dataframe to an interactive table.\"\n",
              "            style=\"display:none;\">\n",
              "\n",
              "  <svg xmlns=\"http://www.w3.org/2000/svg\" height=\"24px\" viewBox=\"0 -960 960 960\">\n",
              "    <path d=\"M120-120v-720h720v720H120Zm60-500h600v-160H180v160Zm220 220h160v-160H400v160Zm0 220h160v-160H400v160ZM180-400h160v-160H180v160Zm440 0h160v-160H620v160ZM180-180h160v-160H180v160Zm440 0h160v-160H620v160Z\"/>\n",
              "  </svg>\n",
              "    </button>\n",
              "\n",
              "  <style>\n",
              "    .colab-df-container {\n",
              "      display:flex;\n",
              "      gap: 12px;\n",
              "    }\n",
              "\n",
              "    .colab-df-convert {\n",
              "      background-color: #E8F0FE;\n",
              "      border: none;\n",
              "      border-radius: 50%;\n",
              "      cursor: pointer;\n",
              "      display: none;\n",
              "      fill: #1967D2;\n",
              "      height: 32px;\n",
              "      padding: 0 0 0 0;\n",
              "      width: 32px;\n",
              "    }\n",
              "\n",
              "    .colab-df-convert:hover {\n",
              "      background-color: #E2EBFA;\n",
              "      box-shadow: 0px 1px 2px rgba(60, 64, 67, 0.3), 0px 1px 3px 1px rgba(60, 64, 67, 0.15);\n",
              "      fill: #174EA6;\n",
              "    }\n",
              "\n",
              "    .colab-df-buttons div {\n",
              "      margin-bottom: 4px;\n",
              "    }\n",
              "\n",
              "    [theme=dark] .colab-df-convert {\n",
              "      background-color: #3B4455;\n",
              "      fill: #D2E3FC;\n",
              "    }\n",
              "\n",
              "    [theme=dark] .colab-df-convert:hover {\n",
              "      background-color: #434B5C;\n",
              "      box-shadow: 0px 1px 3px 1px rgba(0, 0, 0, 0.15);\n",
              "      filter: drop-shadow(0px 1px 2px rgba(0, 0, 0, 0.3));\n",
              "      fill: #FFFFFF;\n",
              "    }\n",
              "  </style>\n",
              "\n",
              "    <script>\n",
              "      const buttonEl =\n",
              "        document.querySelector('#df-6f52945b-8b51-4ebb-b225-a7bd204f41ce button.colab-df-convert');\n",
              "      buttonEl.style.display =\n",
              "        google.colab.kernel.accessAllowed ? 'block' : 'none';\n",
              "\n",
              "      async function convertToInteractive(key) {\n",
              "        const element = document.querySelector('#df-6f52945b-8b51-4ebb-b225-a7bd204f41ce');\n",
              "        const dataTable =\n",
              "          await google.colab.kernel.invokeFunction('convertToInteractive',\n",
              "                                                    [key], {});\n",
              "        if (!dataTable) return;\n",
              "\n",
              "        const docLinkHtml = 'Like what you see? Visit the ' +\n",
              "          '<a target=\"_blank\" href=https://colab.research.google.com/notebooks/data_table.ipynb>data table notebook</a>'\n",
              "          + ' to learn more about interactive tables.';\n",
              "        element.innerHTML = '';\n",
              "        dataTable['output_type'] = 'display_data';\n",
              "        await google.colab.output.renderOutput(dataTable, element);\n",
              "        const docLink = document.createElement('div');\n",
              "        docLink.innerHTML = docLinkHtml;\n",
              "        element.appendChild(docLink);\n",
              "      }\n",
              "    </script>\n",
              "  </div>\n",
              "\n",
              "\n",
              "<div id=\"df-dcdfe3e6-2b5c-459a-9221-27b30f442bf5\">\n",
              "  <button class=\"colab-df-quickchart\" onclick=\"quickchart('df-dcdfe3e6-2b5c-459a-9221-27b30f442bf5')\"\n",
              "            title=\"Suggest charts\"\n",
              "            style=\"display:none;\">\n",
              "\n",
              "<svg xmlns=\"http://www.w3.org/2000/svg\" height=\"24px\"viewBox=\"0 0 24 24\"\n",
              "     width=\"24px\">\n",
              "    <g>\n",
              "        <path d=\"M19 3H5c-1.1 0-2 .9-2 2v14c0 1.1.9 2 2 2h14c1.1 0 2-.9 2-2V5c0-1.1-.9-2-2-2zM9 17H7v-7h2v7zm4 0h-2V7h2v10zm4 0h-2v-4h2v4z\"/>\n",
              "    </g>\n",
              "</svg>\n",
              "  </button>\n",
              "\n",
              "<style>\n",
              "  .colab-df-quickchart {\n",
              "      --bg-color: #E8F0FE;\n",
              "      --fill-color: #1967D2;\n",
              "      --hover-bg-color: #E2EBFA;\n",
              "      --hover-fill-color: #174EA6;\n",
              "      --disabled-fill-color: #AAA;\n",
              "      --disabled-bg-color: #DDD;\n",
              "  }\n",
              "\n",
              "  [theme=dark] .colab-df-quickchart {\n",
              "      --bg-color: #3B4455;\n",
              "      --fill-color: #D2E3FC;\n",
              "      --hover-bg-color: #434B5C;\n",
              "      --hover-fill-color: #FFFFFF;\n",
              "      --disabled-bg-color: #3B4455;\n",
              "      --disabled-fill-color: #666;\n",
              "  }\n",
              "\n",
              "  .colab-df-quickchart {\n",
              "    background-color: var(--bg-color);\n",
              "    border: none;\n",
              "    border-radius: 50%;\n",
              "    cursor: pointer;\n",
              "    display: none;\n",
              "    fill: var(--fill-color);\n",
              "    height: 32px;\n",
              "    padding: 0;\n",
              "    width: 32px;\n",
              "  }\n",
              "\n",
              "  .colab-df-quickchart:hover {\n",
              "    background-color: var(--hover-bg-color);\n",
              "    box-shadow: 0 1px 2px rgba(60, 64, 67, 0.3), 0 1px 3px 1px rgba(60, 64, 67, 0.15);\n",
              "    fill: var(--button-hover-fill-color);\n",
              "  }\n",
              "\n",
              "  .colab-df-quickchart-complete:disabled,\n",
              "  .colab-df-quickchart-complete:disabled:hover {\n",
              "    background-color: var(--disabled-bg-color);\n",
              "    fill: var(--disabled-fill-color);\n",
              "    box-shadow: none;\n",
              "  }\n",
              "\n",
              "  .colab-df-spinner {\n",
              "    border: 2px solid var(--fill-color);\n",
              "    border-color: transparent;\n",
              "    border-bottom-color: var(--fill-color);\n",
              "    animation:\n",
              "      spin 1s steps(1) infinite;\n",
              "  }\n",
              "\n",
              "  @keyframes spin {\n",
              "    0% {\n",
              "      border-color: transparent;\n",
              "      border-bottom-color: var(--fill-color);\n",
              "      border-left-color: var(--fill-color);\n",
              "    }\n",
              "    20% {\n",
              "      border-color: transparent;\n",
              "      border-left-color: var(--fill-color);\n",
              "      border-top-color: var(--fill-color);\n",
              "    }\n",
              "    30% {\n",
              "      border-color: transparent;\n",
              "      border-left-color: var(--fill-color);\n",
              "      border-top-color: var(--fill-color);\n",
              "      border-right-color: var(--fill-color);\n",
              "    }\n",
              "    40% {\n",
              "      border-color: transparent;\n",
              "      border-right-color: var(--fill-color);\n",
              "      border-top-color: var(--fill-color);\n",
              "    }\n",
              "    60% {\n",
              "      border-color: transparent;\n",
              "      border-right-color: var(--fill-color);\n",
              "    }\n",
              "    80% {\n",
              "      border-color: transparent;\n",
              "      border-right-color: var(--fill-color);\n",
              "      border-bottom-color: var(--fill-color);\n",
              "    }\n",
              "    90% {\n",
              "      border-color: transparent;\n",
              "      border-bottom-color: var(--fill-color);\n",
              "    }\n",
              "  }\n",
              "</style>\n",
              "\n",
              "  <script>\n",
              "    async function quickchart(key) {\n",
              "      const quickchartButtonEl =\n",
              "        document.querySelector('#' + key + ' button');\n",
              "      quickchartButtonEl.disabled = true;  // To prevent multiple clicks.\n",
              "      quickchartButtonEl.classList.add('colab-df-spinner');\n",
              "      try {\n",
              "        const charts = await google.colab.kernel.invokeFunction(\n",
              "            'suggestCharts', [key], {});\n",
              "      } catch (error) {\n",
              "        console.error('Error during call to suggestCharts:', error);\n",
              "      }\n",
              "      quickchartButtonEl.classList.remove('colab-df-spinner');\n",
              "      quickchartButtonEl.classList.add('colab-df-quickchart-complete');\n",
              "    }\n",
              "    (() => {\n",
              "      let quickchartButtonEl =\n",
              "        document.querySelector('#df-dcdfe3e6-2b5c-459a-9221-27b30f442bf5 button');\n",
              "      quickchartButtonEl.style.display =\n",
              "        google.colab.kernel.accessAllowed ? 'block' : 'none';\n",
              "    })();\n",
              "  </script>\n",
              "</div>\n",
              "\n",
              "    </div>\n",
              "  </div>\n"
            ],
            "application/vnd.google.colaboratory.intrinsic+json": {
              "type": "dataframe",
              "variable_name": "dataset",
              "summary": "{\n  \"name\": \"dataset\",\n  \"rows\": 25827,\n  \"fields\": [\n    {\n      \"column\": \"tokens\",\n      \"properties\": {\n        \"dtype\": \"string\",\n        \"num_unique_values\": 23391,\n        \"samples\": [\n          \"CSCtx42746\",\n          \"drivers/char/amiserial.c\",\n          \"5.10\"\n        ],\n        \"semantic_type\": \"\",\n        \"description\": \"\"\n      }\n    },\n    {\n      \"column\": \"tags\",\n      \"properties\": {\n        \"dtype\": \"category\",\n        \"num_unique_values\": 24,\n        \"samples\": [\n          \"B-method\",\n          \"I-vendor\",\n          \"O\"\n        ],\n        \"semantic_type\": \"\",\n        \"description\": \"\"\n      }\n    },\n    {\n      \"column\": \"label\",\n      \"properties\": {\n        \"dtype\": \"number\",\n        \"std\": 8,\n        \"min\": 0,\n        \"max\": 23,\n        \"num_unique_values\": 24,\n        \"samples\": [\n          8,\n          21,\n          23\n        ],\n        \"semantic_type\": \"\",\n        \"description\": \"\"\n      }\n    }\n  ]\n}"
            }
          },
          "metadata": {},
          "execution_count": 10
        }
      ]
    },
    {
      "cell_type": "code",
      "source": [
        "dataset.drop(columns=['tags'], inplace=True)\n",
        "dataset.head()"
      ],
      "metadata": {
        "id": "cUO1UFMiAG_R",
        "colab": {
          "base_uri": "https://localhost:8080/",
          "height": 206
        },
        "outputId": "f26e9906-938a-4dcf-c2c5-1607c881207e"
      },
      "id": "cUO1UFMiAG_R",
      "execution_count": 11,
      "outputs": [
        {
          "output_type": "execute_result",
          "data": {
            "text/plain": [
              "          tokens  label\n",
              "0            ORF     23\n",
              "1  aspnet_client     23\n",
              "2         casino     23\n",
              "3            4.8     22\n",
              "4          3.6.3     14"
            ],
            "text/html": [
              "\n",
              "  <div id=\"df-1c054581-b294-4f7e-b650-401452277155\" class=\"colab-df-container\">\n",
              "    <div>\n",
              "<style scoped>\n",
              "    .dataframe tbody tr th:only-of-type {\n",
              "        vertical-align: middle;\n",
              "    }\n",
              "\n",
              "    .dataframe tbody tr th {\n",
              "        vertical-align: top;\n",
              "    }\n",
              "\n",
              "    .dataframe thead th {\n",
              "        text-align: right;\n",
              "    }\n",
              "</style>\n",
              "<table border=\"1\" class=\"dataframe\">\n",
              "  <thead>\n",
              "    <tr style=\"text-align: right;\">\n",
              "      <th></th>\n",
              "      <th>tokens</th>\n",
              "      <th>label</th>\n",
              "    </tr>\n",
              "  </thead>\n",
              "  <tbody>\n",
              "    <tr>\n",
              "      <th>0</th>\n",
              "      <td>ORF</td>\n",
              "      <td>23</td>\n",
              "    </tr>\n",
              "    <tr>\n",
              "      <th>1</th>\n",
              "      <td>aspnet_client</td>\n",
              "      <td>23</td>\n",
              "    </tr>\n",
              "    <tr>\n",
              "      <th>2</th>\n",
              "      <td>casino</td>\n",
              "      <td>23</td>\n",
              "    </tr>\n",
              "    <tr>\n",
              "      <th>3</th>\n",
              "      <td>4.8</td>\n",
              "      <td>22</td>\n",
              "    </tr>\n",
              "    <tr>\n",
              "      <th>4</th>\n",
              "      <td>3.6.3</td>\n",
              "      <td>14</td>\n",
              "    </tr>\n",
              "  </tbody>\n",
              "</table>\n",
              "</div>\n",
              "    <div class=\"colab-df-buttons\">\n",
              "\n",
              "  <div class=\"colab-df-container\">\n",
              "    <button class=\"colab-df-convert\" onclick=\"convertToInteractive('df-1c054581-b294-4f7e-b650-401452277155')\"\n",
              "            title=\"Convert this dataframe to an interactive table.\"\n",
              "            style=\"display:none;\">\n",
              "\n",
              "  <svg xmlns=\"http://www.w3.org/2000/svg\" height=\"24px\" viewBox=\"0 -960 960 960\">\n",
              "    <path d=\"M120-120v-720h720v720H120Zm60-500h600v-160H180v160Zm220 220h160v-160H400v160Zm0 220h160v-160H400v160ZM180-400h160v-160H180v160Zm440 0h160v-160H620v160ZM180-180h160v-160H180v160Zm440 0h160v-160H620v160Z\"/>\n",
              "  </svg>\n",
              "    </button>\n",
              "\n",
              "  <style>\n",
              "    .colab-df-container {\n",
              "      display:flex;\n",
              "      gap: 12px;\n",
              "    }\n",
              "\n",
              "    .colab-df-convert {\n",
              "      background-color: #E8F0FE;\n",
              "      border: none;\n",
              "      border-radius: 50%;\n",
              "      cursor: pointer;\n",
              "      display: none;\n",
              "      fill: #1967D2;\n",
              "      height: 32px;\n",
              "      padding: 0 0 0 0;\n",
              "      width: 32px;\n",
              "    }\n",
              "\n",
              "    .colab-df-convert:hover {\n",
              "      background-color: #E2EBFA;\n",
              "      box-shadow: 0px 1px 2px rgba(60, 64, 67, 0.3), 0px 1px 3px 1px rgba(60, 64, 67, 0.15);\n",
              "      fill: #174EA6;\n",
              "    }\n",
              "\n",
              "    .colab-df-buttons div {\n",
              "      margin-bottom: 4px;\n",
              "    }\n",
              "\n",
              "    [theme=dark] .colab-df-convert {\n",
              "      background-color: #3B4455;\n",
              "      fill: #D2E3FC;\n",
              "    }\n",
              "\n",
              "    [theme=dark] .colab-df-convert:hover {\n",
              "      background-color: #434B5C;\n",
              "      box-shadow: 0px 1px 3px 1px rgba(0, 0, 0, 0.15);\n",
              "      filter: drop-shadow(0px 1px 2px rgba(0, 0, 0, 0.3));\n",
              "      fill: #FFFFFF;\n",
              "    }\n",
              "  </style>\n",
              "\n",
              "    <script>\n",
              "      const buttonEl =\n",
              "        document.querySelector('#df-1c054581-b294-4f7e-b650-401452277155 button.colab-df-convert');\n",
              "      buttonEl.style.display =\n",
              "        google.colab.kernel.accessAllowed ? 'block' : 'none';\n",
              "\n",
              "      async function convertToInteractive(key) {\n",
              "        const element = document.querySelector('#df-1c054581-b294-4f7e-b650-401452277155');\n",
              "        const dataTable =\n",
              "          await google.colab.kernel.invokeFunction('convertToInteractive',\n",
              "                                                    [key], {});\n",
              "        if (!dataTable) return;\n",
              "\n",
              "        const docLinkHtml = 'Like what you see? Visit the ' +\n",
              "          '<a target=\"_blank\" href=https://colab.research.google.com/notebooks/data_table.ipynb>data table notebook</a>'\n",
              "          + ' to learn more about interactive tables.';\n",
              "        element.innerHTML = '';\n",
              "        dataTable['output_type'] = 'display_data';\n",
              "        await google.colab.output.renderOutput(dataTable, element);\n",
              "        const docLink = document.createElement('div');\n",
              "        docLink.innerHTML = docLinkHtml;\n",
              "        element.appendChild(docLink);\n",
              "      }\n",
              "    </script>\n",
              "  </div>\n",
              "\n",
              "\n",
              "<div id=\"df-c7c51dbd-33d3-44f6-85f2-4fa933a924fa\">\n",
              "  <button class=\"colab-df-quickchart\" onclick=\"quickchart('df-c7c51dbd-33d3-44f6-85f2-4fa933a924fa')\"\n",
              "            title=\"Suggest charts\"\n",
              "            style=\"display:none;\">\n",
              "\n",
              "<svg xmlns=\"http://www.w3.org/2000/svg\" height=\"24px\"viewBox=\"0 0 24 24\"\n",
              "     width=\"24px\">\n",
              "    <g>\n",
              "        <path d=\"M19 3H5c-1.1 0-2 .9-2 2v14c0 1.1.9 2 2 2h14c1.1 0 2-.9 2-2V5c0-1.1-.9-2-2-2zM9 17H7v-7h2v7zm4 0h-2V7h2v10zm4 0h-2v-4h2v4z\"/>\n",
              "    </g>\n",
              "</svg>\n",
              "  </button>\n",
              "\n",
              "<style>\n",
              "  .colab-df-quickchart {\n",
              "      --bg-color: #E8F0FE;\n",
              "      --fill-color: #1967D2;\n",
              "      --hover-bg-color: #E2EBFA;\n",
              "      --hover-fill-color: #174EA6;\n",
              "      --disabled-fill-color: #AAA;\n",
              "      --disabled-bg-color: #DDD;\n",
              "  }\n",
              "\n",
              "  [theme=dark] .colab-df-quickchart {\n",
              "      --bg-color: #3B4455;\n",
              "      --fill-color: #D2E3FC;\n",
              "      --hover-bg-color: #434B5C;\n",
              "      --hover-fill-color: #FFFFFF;\n",
              "      --disabled-bg-color: #3B4455;\n",
              "      --disabled-fill-color: #666;\n",
              "  }\n",
              "\n",
              "  .colab-df-quickchart {\n",
              "    background-color: var(--bg-color);\n",
              "    border: none;\n",
              "    border-radius: 50%;\n",
              "    cursor: pointer;\n",
              "    display: none;\n",
              "    fill: var(--fill-color);\n",
              "    height: 32px;\n",
              "    padding: 0;\n",
              "    width: 32px;\n",
              "  }\n",
              "\n",
              "  .colab-df-quickchart:hover {\n",
              "    background-color: var(--hover-bg-color);\n",
              "    box-shadow: 0 1px 2px rgba(60, 64, 67, 0.3), 0 1px 3px 1px rgba(60, 64, 67, 0.15);\n",
              "    fill: var(--button-hover-fill-color);\n",
              "  }\n",
              "\n",
              "  .colab-df-quickchart-complete:disabled,\n",
              "  .colab-df-quickchart-complete:disabled:hover {\n",
              "    background-color: var(--disabled-bg-color);\n",
              "    fill: var(--disabled-fill-color);\n",
              "    box-shadow: none;\n",
              "  }\n",
              "\n",
              "  .colab-df-spinner {\n",
              "    border: 2px solid var(--fill-color);\n",
              "    border-color: transparent;\n",
              "    border-bottom-color: var(--fill-color);\n",
              "    animation:\n",
              "      spin 1s steps(1) infinite;\n",
              "  }\n",
              "\n",
              "  @keyframes spin {\n",
              "    0% {\n",
              "      border-color: transparent;\n",
              "      border-bottom-color: var(--fill-color);\n",
              "      border-left-color: var(--fill-color);\n",
              "    }\n",
              "    20% {\n",
              "      border-color: transparent;\n",
              "      border-left-color: var(--fill-color);\n",
              "      border-top-color: var(--fill-color);\n",
              "    }\n",
              "    30% {\n",
              "      border-color: transparent;\n",
              "      border-left-color: var(--fill-color);\n",
              "      border-top-color: var(--fill-color);\n",
              "      border-right-color: var(--fill-color);\n",
              "    }\n",
              "    40% {\n",
              "      border-color: transparent;\n",
              "      border-right-color: var(--fill-color);\n",
              "      border-top-color: var(--fill-color);\n",
              "    }\n",
              "    60% {\n",
              "      border-color: transparent;\n",
              "      border-right-color: var(--fill-color);\n",
              "    }\n",
              "    80% {\n",
              "      border-color: transparent;\n",
              "      border-right-color: var(--fill-color);\n",
              "      border-bottom-color: var(--fill-color);\n",
              "    }\n",
              "    90% {\n",
              "      border-color: transparent;\n",
              "      border-bottom-color: var(--fill-color);\n",
              "    }\n",
              "  }\n",
              "</style>\n",
              "\n",
              "  <script>\n",
              "    async function quickchart(key) {\n",
              "      const quickchartButtonEl =\n",
              "        document.querySelector('#' + key + ' button');\n",
              "      quickchartButtonEl.disabled = true;  // To prevent multiple clicks.\n",
              "      quickchartButtonEl.classList.add('colab-df-spinner');\n",
              "      try {\n",
              "        const charts = await google.colab.kernel.invokeFunction(\n",
              "            'suggestCharts', [key], {});\n",
              "      } catch (error) {\n",
              "        console.error('Error during call to suggestCharts:', error);\n",
              "      }\n",
              "      quickchartButtonEl.classList.remove('colab-df-spinner');\n",
              "      quickchartButtonEl.classList.add('colab-df-quickchart-complete');\n",
              "    }\n",
              "    (() => {\n",
              "      let quickchartButtonEl =\n",
              "        document.querySelector('#df-c7c51dbd-33d3-44f6-85f2-4fa933a924fa button');\n",
              "      quickchartButtonEl.style.display =\n",
              "        google.colab.kernel.accessAllowed ? 'block' : 'none';\n",
              "    })();\n",
              "  </script>\n",
              "</div>\n",
              "\n",
              "    </div>\n",
              "  </div>\n"
            ],
            "application/vnd.google.colaboratory.intrinsic+json": {
              "type": "dataframe",
              "variable_name": "dataset",
              "summary": "{\n  \"name\": \"dataset\",\n  \"rows\": 25827,\n  \"fields\": [\n    {\n      \"column\": \"tokens\",\n      \"properties\": {\n        \"dtype\": \"string\",\n        \"num_unique_values\": 23391,\n        \"samples\": [\n          \"CSCtx42746\",\n          \"drivers/char/amiserial.c\",\n          \"5.10\"\n        ],\n        \"semantic_type\": \"\",\n        \"description\": \"\"\n      }\n    },\n    {\n      \"column\": \"label\",\n      \"properties\": {\n        \"dtype\": \"number\",\n        \"std\": 8,\n        \"min\": 0,\n        \"max\": 23,\n        \"num_unique_values\": 24,\n        \"samples\": [\n          8,\n          21,\n          23\n        ],\n        \"semantic_type\": \"\",\n        \"description\": \"\"\n      }\n    }\n  ]\n}"
            }
          },
          "metadata": {},
          "execution_count": 11
        }
      ]
    },
    {
      "cell_type": "code",
      "source": [],
      "metadata": {
        "id": "08NlV2YaAHCn"
      },
      "id": "08NlV2YaAHCn",
      "execution_count": 11,
      "outputs": []
    },
    {
      "cell_type": "code",
      "execution_count": 12,
      "id": "5589e85e",
      "metadata": {
        "execution": {
          "iopub.execute_input": "2024-02-26T17:51:37.381259Z",
          "iopub.status.busy": "2024-02-26T17:51:37.380221Z",
          "iopub.status.idle": "2024-02-26T17:51:37.415806Z",
          "shell.execute_reply": "2024-02-26T17:51:37.414454Z"
        },
        "papermill": {
          "duration": 0.048384,
          "end_time": "2024-02-26T17:51:37.417858",
          "exception": false,
          "start_time": "2024-02-26T17:51:37.369474",
          "status": "completed"
        },
        "tags": [],
        "id": "5589e85e"
      },
      "outputs": [],
      "source": [
        " # Split the data into training, validation, and test sets\n",
        "train, X_temp = train_test_split(dataset, test_size=0.3, random_state=42)\n",
        "validation, test = train_test_split(X_temp, test_size=0.10, random_state=42)"
      ]
    },
    {
      "cell_type": "code",
      "source": [
        "train = train.reset_index(drop=True)\n",
        "validation = validation.reset_index(drop=True)\n",
        "test = test.reset_index(drop=True)"
      ],
      "metadata": {
        "id": "O8b1u0H6HKPQ"
      },
      "id": "O8b1u0H6HKPQ",
      "execution_count": 13,
      "outputs": []
    },
    {
      "cell_type": "code",
      "source": [
        " # Create a datasets.Dataset object\n",
        "train = Dataset.from_dict(train)\n",
        "validation = Dataset.from_dict(validation)\n",
        "test = Dataset.from_dict(test)\n",
        "# Print the dataset to check the format\n",
        "print(\"Train Dataset : \",train)\n",
        "print(\"Validation Dataset : \", validation)\n",
        "print(\"Test Dataset : \", test)"
      ],
      "metadata": {
        "id": "AvzCmy6CHKS5",
        "colab": {
          "base_uri": "https://localhost:8080/"
        },
        "outputId": "4b4c2d12-fa8b-49db-8351-35d272dc3870"
      },
      "id": "AvzCmy6CHKS5",
      "execution_count": 14,
      "outputs": [
        {
          "output_type": "stream",
          "name": "stdout",
          "text": [
            "Train Dataset :  Dataset({\n",
            "    features: ['tokens', 'label'],\n",
            "    num_rows: 18078\n",
            "})\n",
            "Validation Dataset :  Dataset({\n",
            "    features: ['tokens', 'label'],\n",
            "    num_rows: 6974\n",
            "})\n",
            "Test Dataset :  Dataset({\n",
            "    features: ['tokens', 'label'],\n",
            "    num_rows: 775\n",
            "})\n"
          ]
        }
      ]
    },
    {
      "cell_type": "code",
      "source": [
        "# Create DatasetDict\n",
        "dataset = DatasetDict({\n",
        "    'validation': validation,\n",
        "    'test': test,\n",
        "    'train': train\n",
        "})\n",
        "print(dataset)"
      ],
      "metadata": {
        "id": "u7zen9gRHVaA",
        "colab": {
          "base_uri": "https://localhost:8080/"
        },
        "outputId": "8bd005ae-1f2c-45df-f948-05b6fc623290"
      },
      "id": "u7zen9gRHVaA",
      "execution_count": 15,
      "outputs": [
        {
          "output_type": "stream",
          "name": "stdout",
          "text": [
            "DatasetDict({\n",
            "    validation: Dataset({\n",
            "        features: ['tokens', 'label'],\n",
            "        num_rows: 6974\n",
            "    })\n",
            "    test: Dataset({\n",
            "        features: ['tokens', 'label'],\n",
            "        num_rows: 775\n",
            "    })\n",
            "    train: Dataset({\n",
            "        features: ['tokens', 'label'],\n",
            "        num_rows: 18078\n",
            "    })\n",
            "})\n"
          ]
        }
      ]
    },
    {
      "cell_type": "code",
      "source": [
        "dataset['test']['tokens'][774]"
      ],
      "metadata": {
        "id": "Zt5t-ZK3cUUI",
        "colab": {
          "base_uri": "https://localhost:8080/",
          "height": 36
        },
        "outputId": "80ddff00-7ca0-45f7-a91d-51087dc9fce7"
      },
      "id": "Zt5t-ZK3cUUI",
      "execution_count": 16,
      "outputs": [
        {
          "output_type": "execute_result",
          "data": {
            "text/plain": [
              "'Synology'"
            ],
            "application/vnd.google.colaboratory.intrinsic+json": {
              "type": "string"
            }
          },
          "metadata": {},
          "execution_count": 16
        }
      ]
    },
    {
      "cell_type": "code",
      "source": [],
      "metadata": {
        "id": "Bp5j-5b4HVcO"
      },
      "id": "Bp5j-5b4HVcO",
      "execution_count": 16,
      "outputs": []
    },
    {
      "cell_type": "code",
      "source": [],
      "metadata": {
        "id": "uAJCFl0zHVfq"
      },
      "id": "uAJCFl0zHVfq",
      "execution_count": 16,
      "outputs": []
    },
    {
      "cell_type": "code",
      "execution_count": 17,
      "id": "176059b7",
      "metadata": {
        "execution": {
          "iopub.execute_input": "2024-02-26T17:51:37.480610Z",
          "iopub.status.busy": "2024-02-26T17:51:37.479799Z",
          "iopub.status.idle": "2024-02-26T17:51:37.484316Z",
          "shell.execute_reply": "2024-02-26T17:51:37.483439Z"
        },
        "papermill": {
          "duration": 0.017332,
          "end_time": "2024-02-26T17:51:37.486315",
          "exception": false,
          "start_time": "2024-02-26T17:51:37.468983",
          "status": "completed"
        },
        "tags": [],
        "id": "176059b7"
      },
      "outputs": [],
      "source": [
        "max_seq_length = 2048\n",
        "dtype = None # None for auto detection. Float16 for Tesla T4, V100, Bfloat16 for Ampere+\n",
        "load_in_4bit = True # True to use 4bit quantization / reduce memory usage (for T4 GPU)"
      ]
    },
    {
      "cell_type": "code",
      "execution_count": 18,
      "id": "e960d8bd",
      "metadata": {
        "execution": {
          "iopub.execute_input": "2024-02-26T17:51:37.506632Z",
          "iopub.status.busy": "2024-02-26T17:51:37.506392Z",
          "iopub.status.idle": "2024-02-26T17:52:00.124730Z",
          "shell.execute_reply": "2024-02-26T17:52:00.123757Z"
        },
        "papermill": {
          "duration": 22.63134,
          "end_time": "2024-02-26T17:52:00.127323",
          "exception": false,
          "start_time": "2024-02-26T17:51:37.495983",
          "status": "completed"
        },
        "tags": [],
        "id": "e960d8bd",
        "colab": {
          "base_uri": "https://localhost:8080/",
          "height": 380,
          "referenced_widgets": [
            "d436b844f7824c86afedf883963fe977",
            "d72694bb1fef4a38a5e8536523f70c34",
            "ac5068baa1e94d71bbccfbf5e13333c2",
            "2f061be95e754025b5bb6b4d3455edb4",
            "c9716230955f43bda2ca13bcec1a1fcd",
            "1861e3a725c741cabcc098ce72e67732",
            "ab4efb7ecda44a77b7845833e61a7b21",
            "8e74bcfc00e547dbb2dacd95d470102f",
            "460ee5498c474f168d1c54366866117c",
            "351c08e103df48f08f2a78bae2ce1d55",
            "308ae21bbd3f49ac8832cc936370c47e",
            "9c960372757b42b68556ef79255b493b",
            "cc2ac21f2901461992f5cb2e9f036179",
            "2ddc6c4e31434d108111b650ff3ed92e",
            "a95ff4d2fd944d3a84fddfb07758753f",
            "5f3d9fea75794c06a1c1f97cce47c46c",
            "1470c60795da4b2b8d5c09505b094849",
            "ac29e724f91b4a3b97889501684708e9",
            "e29dac44a61348b0863fde18796febcd",
            "aa8bca4ff50142079efc72f10aac0ed7",
            "ebbbc6804680447898b6ff61e23da288",
            "eddc039b02304af8b8b356a0d8f44039",
            "09ca9c4b7ee8493abedf88711f2c9e6e",
            "5553cd8696ab47298769f04c88ff8c39",
            "73bef4ccbc934b6e9bb5829e78811d39",
            "e768ad02c8db4cabb86c0a5417d45db3",
            "df4b304b78164efcadb8d483f66f4187",
            "53791e2126554a3580f42e0674d7820c",
            "58d4134efe4c45b2a5176f8e9e2c9569",
            "e199e911d55a4cc598f8ffdac931a1e5",
            "bc5f93d1aecb4e34be00fb3e542ced8b",
            "4f0fa13b3bfb4d15b4feb010a6e985b2",
            "75af984163a94668b130adab361ce29e",
            "58d9c81591c54904a17b74601941f3da",
            "e58b7a0ee9e545e28fc682ab456b38c2",
            "810b2ec40c9c4d8cb8f0b78a68c5e098",
            "4b5d207bafb64b43ab19083b0f78ea63",
            "c30e17e72db54571ba8a32b52a9a0ec0",
            "929d6d40809643cca4aafd34e9994e9d",
            "edeedd4ed32441c38943d0790eed2dff",
            "073e16ffdc4148a8821594818b6bcf48",
            "429daeef5e4f4a5192165c772ae4f005",
            "8c080a6579a54a4d8808a5a993fc53f8",
            "fd3c2881b93a4e4e9eadc57d5d2a1b18",
            "143ae7933a754d43964fa63de6f03dc0",
            "82f5898ddd3d496684e43e719453fa40",
            "1e07cbdd7b75433e9b1dbf0fcda4dd95",
            "e583f5f569d94cbea3507bd616957178",
            "dfeb7f13ebab4dffbfbef9c228fcfaa5",
            "f0505e95881c46b1bf7e45c418524488",
            "5a6cff412a014ed09e1d50661cc834aa",
            "b3236f7ec98b4f268229a30db2a452da",
            "63edcc7a632e430da88c333401f3baf1",
            "625db5c5b74745daa7ab7d92acc7b378",
            "541577203f7a43558231ea58c0e22503",
            "8383cce470734a6f8cabb0fef4a6e74f",
            "aac1f2065e764d47b3f7536c2720175a",
            "46ed31365efa416284216baa5b842a1d",
            "bb7292bb3c2d45e090ae041e68f3e0a4",
            "3d5bef889c7e4dd0913e5f144949205e",
            "e15e0eaf6b114fe6a3274d643415aefe",
            "d345b421d69040f58916493ea581c9b8",
            "496b8bcead704699a2fae49446b467b6",
            "3b258ac6a42f4c04a347389880ce9965",
            "0627c773dace4d88bc2d012d36b86061",
            "b8e52a62638d479e9f43251c1c271e67",
            "69955c8698c6424c8003a6f635e4a42a",
            "29e7ab414201478ca98cd38fa64b3c12",
            "5e0155c3571a4382a4328d79a38cbe67",
            "a1e5d728d2f945e6b64c745e9116776a",
            "2d29d32d32944569908b58f9c3b4115d",
            "294b9e5c2a76471fad2f5d5bd9fb886a",
            "6b90baa12dc847ccbe258d8fc60d0c1d",
            "20e6b832b06f4b2c9a9cdd0dfef0b6cf",
            "175f7eee1389473ab43bd657d1505bf1",
            "5eee2fd2e0834a27bb2451186299a606",
            "f973ad9e4aea43b89a9f6a0946628ad9"
          ]
        },
        "outputId": "2d78b3fe-6dc4-47a6-dcd4-6a987b75b2c4"
      },
      "outputs": [
        {
          "output_type": "stream",
          "name": "stderr",
          "text": [
            "Unsloth: You passed in `mistralai/Mistral-7B-v0.1` and `load_in_4bit = True`.\n",
            "We shall load `unsloth/mistral-7b-bnb-4bit` for 4x faster loading.\n"
          ]
        },
        {
          "output_type": "display_data",
          "data": {
            "text/plain": [
              "config.json:   0%|          | 0.00/1.05k [00:00<?, ?B/s]"
            ],
            "application/vnd.jupyter.widget-view+json": {
              "version_major": 2,
              "version_minor": 0,
              "model_id": "d436b844f7824c86afedf883963fe977"
            }
          },
          "metadata": {}
        },
        {
          "output_type": "stream",
          "name": "stdout",
          "text": [
            "==((====))==  Unsloth: Fast Mistral patching release 2024.3\n",
            "   \\\\   /|    GPU: Tesla T4. Max memory: 14.748 GB. Platform = Linux.\n",
            "O^O/ \\_/ \\    Pytorch: 2.1.0+cu121. CUDA = 7.5. CUDA Toolkit = 12.1.\n",
            "\\        /    Bfloat16 = FALSE. Xformers = 0.0.22.post7. FA = False.\n",
            " \"-____-\"     Free Apache license: http://github.com/unslothai/unsloth\n"
          ]
        },
        {
          "output_type": "stream",
          "name": "stderr",
          "text": [
            "Unused kwargs: ['quant_method']. These kwargs are not used in <class 'transformers.utils.quantization_config.BitsAndBytesConfig'>.\n"
          ]
        },
        {
          "output_type": "display_data",
          "data": {
            "text/plain": [
              "model.safetensors:   0%|          | 0.00/4.13G [00:00<?, ?B/s]"
            ],
            "application/vnd.jupyter.widget-view+json": {
              "version_major": 2,
              "version_minor": 0,
              "model_id": "9c960372757b42b68556ef79255b493b"
            }
          },
          "metadata": {}
        },
        {
          "output_type": "display_data",
          "data": {
            "text/plain": [
              "generation_config.json:   0%|          | 0.00/116 [00:00<?, ?B/s]"
            ],
            "application/vnd.jupyter.widget-view+json": {
              "version_major": 2,
              "version_minor": 0,
              "model_id": "09ca9c4b7ee8493abedf88711f2c9e6e"
            }
          },
          "metadata": {}
        },
        {
          "output_type": "display_data",
          "data": {
            "text/plain": [
              "tokenizer_config.json:   0%|          | 0.00/971 [00:00<?, ?B/s]"
            ],
            "application/vnd.jupyter.widget-view+json": {
              "version_major": 2,
              "version_minor": 0,
              "model_id": "58d9c81591c54904a17b74601941f3da"
            }
          },
          "metadata": {}
        },
        {
          "output_type": "display_data",
          "data": {
            "text/plain": [
              "tokenizer.model:   0%|          | 0.00/493k [00:00<?, ?B/s]"
            ],
            "application/vnd.jupyter.widget-view+json": {
              "version_major": 2,
              "version_minor": 0,
              "model_id": "143ae7933a754d43964fa63de6f03dc0"
            }
          },
          "metadata": {}
        },
        {
          "output_type": "display_data",
          "data": {
            "text/plain": [
              "tokenizer.json:   0%|          | 0.00/1.80M [00:00<?, ?B/s]"
            ],
            "application/vnd.jupyter.widget-view+json": {
              "version_major": 2,
              "version_minor": 0,
              "model_id": "8383cce470734a6f8cabb0fef4a6e74f"
            }
          },
          "metadata": {}
        },
        {
          "output_type": "display_data",
          "data": {
            "text/plain": [
              "special_tokens_map.json:   0%|          | 0.00/438 [00:00<?, ?B/s]"
            ],
            "application/vnd.jupyter.widget-view+json": {
              "version_major": 2,
              "version_minor": 0,
              "model_id": "69955c8698c6424c8003a6f635e4a42a"
            }
          },
          "metadata": {}
        }
      ],
      "source": [
        "model, tokenizer = FastLanguageModel.from_pretrained(\n",
        "    model_name = \"mistralai/Mistral-7B-v0.1\", #\"unsloth/mistral-7b-bnb-4bit\",\n",
        "    max_seq_length = max_seq_length,\n",
        "    dtype = dtype,\n",
        "    load_in_4bit = load_in_4bit,\n",
        ")"
      ]
    },
    {
      "cell_type": "markdown",
      "id": "b034b33c",
      "metadata": {
        "papermill": {
          "duration": 0.011107,
          "end_time": "2024-02-26T17:52:00.150016",
          "exception": false,
          "start_time": "2024-02-26T17:52:00.138909",
          "status": "completed"
        },
        "tags": [],
        "id": "b034b33c"
      },
      "source": [
        "### Add LoRa adapters"
      ]
    },
    {
      "cell_type": "code",
      "execution_count": 19,
      "id": "8c11774e",
      "metadata": {
        "execution": {
          "iopub.execute_input": "2024-02-26T17:52:00.174829Z",
          "iopub.status.busy": "2024-02-26T17:52:00.174159Z",
          "iopub.status.idle": "2024-02-26T17:52:01.029310Z",
          "shell.execute_reply": "2024-02-26T17:52:01.028336Z"
        },
        "papermill": {
          "duration": 0.869957,
          "end_time": "2024-02-26T17:52:01.031538",
          "exception": false,
          "start_time": "2024-02-26T17:52:00.161581",
          "status": "completed"
        },
        "tags": [],
        "id": "8c11774e",
        "colab": {
          "base_uri": "https://localhost:8080/"
        },
        "outputId": "8167e15a-7ac1-4d8c-9a25-06f3d1684f4c"
      },
      "outputs": [
        {
          "output_type": "stream",
          "name": "stderr",
          "text": [
            "Unsloth: Dropout = 0 is supported for fast patching. You are using dropout = 0.05.\n",
            "Unsloth will patch all other layers, except LoRA matrices, causing a performance hit.\n",
            "Unsloth 2024.3 patched 32 layers with 0 QKV layers, 0 O layers and 0 MLP layers.\n"
          ]
        }
      ],
      "source": [
        "model = FastLanguageModel.get_peft_model(\n",
        "    model,\n",
        "    r = 16, # can improve fine-tuning, at attention/feed fwd layers\n",
        "    target_modules = [\n",
        "        \"q_proj\",\n",
        "        \"k_proj\",\n",
        "        \"v_proj\",\n",
        "        \"o_proj\",\n",
        "        \"gate_proj\",\n",
        "        \"up_proj\",\n",
        "        \"down_proj\",\n",
        "    ],\n",
        "    lora_alpha = 16, # more change to pre-train weights but care overfitting\n",
        "    lora_dropout = 0.05, # any, but 0 if perf opti.\n",
        "    bias = \"none\",    # any, but \"none\" is perf  opti.\n",
        "    use_gradient_checkpointing = True,\n",
        "    random_state = 11,\n",
        "    use_rslora = False,  # support rank stabilized LoRA\n",
        "    loftq_config = None, # LoftQ support\n",
        ")"
      ]
    },
    {
      "cell_type": "markdown",
      "id": "8bd211a5",
      "metadata": {
        "papermill": {
          "duration": 0.011536,
          "end_time": "2024-02-26T17:52:01.054876",
          "exception": false,
          "start_time": "2024-02-26T17:52:01.043340",
          "status": "completed"
        },
        "tags": [],
        "id": "8bd211a5"
      },
      "source": [
        "### Data Preparation (Alpaca template)"
      ]
    },
    {
      "cell_type": "code",
      "execution_count": 20,
      "id": "d722539b",
      "metadata": {
        "execution": {
          "iopub.execute_input": "2024-02-26T17:52:01.080078Z",
          "iopub.status.busy": "2024-02-26T17:52:01.079410Z",
          "iopub.status.idle": "2024-02-26T17:52:01.085111Z",
          "shell.execute_reply": "2024-02-26T17:52:01.084283Z"
        },
        "papermill": {
          "duration": 0.020649,
          "end_time": "2024-02-26T17:52:01.087129",
          "exception": false,
          "start_time": "2024-02-26T17:52:01.066480",
          "status": "completed"
        },
        "tags": [],
        "id": "d722539b"
      },
      "outputs": [],
      "source": [
        "prompt = \"\"\"Develop a token classification model to accurately identify and classify named entities label:\n",
        "### Token:\n",
        "{}\n",
        "### label:\n",
        "{}\"\"\""
      ]
    },
    {
      "cell_type": "code",
      "execution_count": 21,
      "id": "49bb3770",
      "metadata": {
        "execution": {
          "iopub.execute_input": "2024-02-26T17:52:01.111692Z",
          "iopub.status.busy": "2024-02-26T17:52:01.111385Z",
          "iopub.status.idle": "2024-02-26T17:52:01.117177Z",
          "shell.execute_reply": "2024-02-26T17:52:01.116094Z"
        },
        "papermill": {
          "duration": 0.020325,
          "end_time": "2024-02-26T17:52:01.119266",
          "exception": false,
          "start_time": "2024-02-26T17:52:01.098941",
          "status": "completed"
        },
        "tags": [],
        "id": "49bb3770"
      },
      "outputs": [],
      "source": [
        "# Add EOS special token, according to previously loaded tokenizer\n",
        "EOS_TOKEN = tokenizer.eos_token\n",
        "def format_prompts(examples):\n",
        "    inputs = examples[\"tokens\"]\n",
        "    outputs = examples[\"label\"]\n",
        "    texts = []\n",
        "    for inp, output in zip(inputs, outputs):\n",
        "        # Add end of string token to prevent infinite generations.\n",
        "        text = prompt.format(inp, output) + EOS_TOKEN\n",
        "        texts.append(text)\n",
        "    return {\"text\":texts,}"
      ]
    },
    {
      "cell_type": "code",
      "execution_count": 22,
      "id": "d0b324dc",
      "metadata": {
        "execution": {
          "iopub.execute_input": "2024-02-26T17:52:01.144788Z",
          "iopub.status.busy": "2024-02-26T17:52:01.144163Z",
          "iopub.status.idle": "2024-02-26T17:52:01.223195Z",
          "shell.execute_reply": "2024-02-26T17:52:01.222183Z"
        },
        "papermill": {
          "duration": 0.095478,
          "end_time": "2024-02-26T17:52:01.226428",
          "exception": false,
          "start_time": "2024-02-26T17:52:01.130950",
          "status": "completed"
        },
        "tags": [],
        "id": "d0b324dc",
        "colab": {
          "base_uri": "https://localhost:8080/",
          "height": 68,
          "referenced_widgets": [
            "9f6a1a428f4b477bbc4970d3b25e7d7b",
            "7a9dcbe294db4b768c5072a8986614a6",
            "f5615e9b146d4716aaca42f67ae271da",
            "ab69a0c3fcbc4089ac1d12a01eb00b90",
            "4adc370f329a4a51abc4fd204fbbcf49",
            "02bb866baece46ec9a7dadc8bc53cb72",
            "bfcbebb11eac44199ce2b0212a383996",
            "228fd7078db647609ef5fe8590c13f2a",
            "80c59d4067234d6591d587e3bde874a9",
            "8e6375752ecb4f548aa4aa8099c600a9",
            "d97cfc1bd22f42449a3090e12b9027b8"
          ]
        },
        "outputId": "678e2d8a-170c-46cd-d306-d3cff27f8634"
      },
      "outputs": [
        {
          "output_type": "display_data",
          "data": {
            "text/plain": [
              "Map:   0%|          | 0/18078 [00:00<?, ? examples/s]"
            ],
            "application/vnd.jupyter.widget-view+json": {
              "version_major": 2,
              "version_minor": 0,
              "model_id": "9f6a1a428f4b477bbc4970d3b25e7d7b"
            }
          },
          "metadata": {}
        },
        {
          "output_type": "execute_result",
          "data": {
            "text/plain": [
              "'Develop a token classification model to accurately identify and classify named entities label:\\n### Token:\\n6.1.4\\n### label:\\n14</s>'"
            ],
            "application/vnd.google.colaboratory.intrinsic+json": {
              "type": "string"
            }
          },
          "metadata": {},
          "execution_count": 22
        }
      ],
      "source": [
        "# Build prompts\n",
        "dataset['train'] = dataset['train'].map(format_prompts, batched = True,)\n",
        "\n",
        "# Print a sample :\n",
        "dataset['train'][3]['text']"
      ]
    },
    {
      "cell_type": "code",
      "source": [
        "dataset['validation'] = dataset['validation'].map(format_prompts, batched = True,)"
      ],
      "metadata": {
        "colab": {
          "base_uri": "https://localhost:8080/",
          "height": 49,
          "referenced_widgets": [
            "86502d665917404c860422415c28a8fe",
            "c5e2ce7e32bf4093b3ead056c4c40fca",
            "5887876d80ea41b695bd6007bfd13e8f",
            "8c70cd7caa414fd6a6ec539172a0ff91",
            "de86228b081f42dfa3742aa162475bfa",
            "b0d756fdbd364eb4aae011f4b30970e8",
            "5597f6eb414a46fda4dd42bb6ec9bff3",
            "44e147c02e0c4a6bb153d25c4e6f282f",
            "8ef6de5b7711443f835545ab611615bd",
            "11671a81bce848b082050ab6cdebd7ec",
            "e911a4326b874d27a6d8fbcf6387066e"
          ]
        },
        "id": "PnQesifwIQf6",
        "outputId": "54676b92-8fd2-4f4a-ade0-7ab07633ff94"
      },
      "id": "PnQesifwIQf6",
      "execution_count": 23,
      "outputs": [
        {
          "output_type": "display_data",
          "data": {
            "text/plain": [
              "Map:   0%|          | 0/6974 [00:00<?, ? examples/s]"
            ],
            "application/vnd.jupyter.widget-view+json": {
              "version_major": 2,
              "version_minor": 0,
              "model_id": "86502d665917404c860422415c28a8fe"
            }
          },
          "metadata": {}
        }
      ]
    },
    {
      "cell_type": "code",
      "source": [
        "label_list = ['B-PL', 'B-application', 'B-cve id', 'B-edition', 'B-file',\n",
        "              'B-function', 'B-hardware', 'B-language', 'B-method', 'B-os',\n",
        "              'B-parameter', 'B-relevant_term', 'B-update', 'B-vendor',\n",
        "              'B-version', 'I-application', 'I-edition', 'I-hardware',\n",
        "              'I-os', 'I-relevant_term', 'I-update', 'I-vendor', 'I-version', 'O']"
      ],
      "metadata": {
        "id": "zIx8xixzwGOv"
      },
      "id": "zIx8xixzwGOv",
      "execution_count": 24,
      "outputs": []
    },
    {
      "cell_type": "markdown",
      "id": "d7343a10",
      "metadata": {
        "papermill": {
          "duration": 0.013035,
          "end_time": "2024-02-26T17:52:01.251955",
          "exception": false,
          "start_time": "2024-02-26T17:52:01.238920",
          "status": "completed"
        },
        "tags": [],
        "id": "d7343a10"
      },
      "source": [
        "### Train the model"
      ]
    },
    {
      "cell_type": "code",
      "execution_count": 28,
      "id": "c4331143",
      "metadata": {
        "execution": {
          "iopub.execute_input": "2024-02-26T17:52:01.302839Z",
          "iopub.status.busy": "2024-02-26T17:52:01.302131Z",
          "iopub.status.idle": "2024-02-26T17:52:01.310226Z",
          "shell.execute_reply": "2024-02-26T17:52:01.309193Z"
        },
        "papermill": {
          "duration": 0.023801,
          "end_time": "2024-02-26T17:52:01.312355",
          "exception": false,
          "start_time": "2024-02-26T17:52:01.288554",
          "status": "completed"
        },
        "tags": [],
        "id": "c4331143"
      },
      "outputs": [],
      "source": [
        "training_args = TrainingArguments(\n",
        "    per_device_train_batch_size = 24,\n",
        "    gradient_accumulation_steps = 24,\n",
        "    warmup_steps = 5,\n",
        "    num_train_epochs = 3,\n",
        "    # max_steps = 110,\n",
        "    learning_rate = 2e-4, # 2e-5\n",
        "    fp16 = not torch.cuda.is_bf16_supported(),\n",
        "    bf16 = torch.cuda.is_bf16_supported(),\n",
        "    optim = \"adamw_8bit\",\n",
        "    weight_decay = 0.01,\n",
        "    lr_scheduler_type = \"linear\",\n",
        "    seed = 11,\n",
        "    output_dir = \"/content/drive/MyDrive/NER_CS/Mistral\",\n",
        "    run_name = \"mistral-7b-base_en_v11\",\n",
        "    logging_strategy = 'steps',\n",
        "    logging_steps = 93,\n",
        "    evaluation_strategy='steps',\n",
        "    save_strategy=\"steps\",\n",
        "    save_steps=93,\n",
        "    save_total_limit = 2,\n",
        "    )"
      ]
    },
    {
      "cell_type": "code",
      "execution_count": 29,
      "id": "741d0dd5",
      "metadata": {
        "execution": {
          "iopub.execute_input": "2024-02-26T17:52:01.338957Z",
          "iopub.status.busy": "2024-02-26T17:52:01.338633Z",
          "iopub.status.idle": "2024-02-26T17:52:04.045919Z",
          "shell.execute_reply": "2024-02-26T17:52:04.044989Z"
        },
        "papermill": {
          "duration": 2.722913,
          "end_time": "2024-02-26T17:52:04.048171",
          "exception": false,
          "start_time": "2024-02-26T17:52:01.325258",
          "status": "completed"
        },
        "tags": [],
        "id": "741d0dd5",
        "colab": {
          "base_uri": "https://localhost:8080/",
          "height": 81,
          "referenced_widgets": [
            "486fc4d523264c0fb336101e48afa08e",
            "de9a9aa07524437cbbc1a9a79c1c65d0",
            "b53f7357987145e8868cdfc26aa157a2",
            "039e38ac93164bf48a1529cfdb5ab14f",
            "6bbe1d0d6bfd4ef3a53fbac1e519a18f",
            "9a30ccce415f4eb29493a3093f6bc57c",
            "ff6352b52ef14873b759a4a1d7d2455a",
            "cb281bf5b9304bb286c6f5e2b7071f79",
            "0227c5f7050941c6808755b6dabee812",
            "ff91d144c6ba4960abb95799c94ef4a9",
            "b4381ba55a1d45429f0176020938fc78",
            "68cd13793be1429faebd1916c110b6ac",
            "4e5190f175b84724896c4b1a2e439dc4",
            "18cd706227bc41cd8e0dcc9c12f39be4",
            "aa53b65f70054673b7581c7c31221922",
            "4ca2e09f2103491c888b9bd8658584d6",
            "b2969d256af346ddbb5d6605e9bcdb22",
            "455e5d7f6b4b4f7d8ef572587e836efd",
            "e2ce615999404981bb8d58b3a8c433b8",
            "3fffa787934e44e1b413909f5561bf11",
            "8a8740363c94488ba4bb0812c883eb25",
            "099848c41c284464b8ba017dc91e2823"
          ]
        },
        "outputId": "8d0de0c2-9ff2-4e15-d4a5-d9168233517f"
      },
      "outputs": [
        {
          "output_type": "display_data",
          "data": {
            "text/plain": [
              "Map (num_proc=2):   0%|          | 0/18078 [00:00<?, ? examples/s]"
            ],
            "application/vnd.jupyter.widget-view+json": {
              "version_major": 2,
              "version_minor": 0,
              "model_id": "486fc4d523264c0fb336101e48afa08e"
            }
          },
          "metadata": {}
        },
        {
          "output_type": "display_data",
          "data": {
            "text/plain": [
              "Map (num_proc=2):   0%|          | 0/6974 [00:00<?, ? examples/s]"
            ],
            "application/vnd.jupyter.widget-view+json": {
              "version_major": 2,
              "version_minor": 0,
              "model_id": "68cd13793be1429faebd1916c110b6ac"
            }
          },
          "metadata": {}
        }
      ],
      "source": [
        "# init trainer\n",
        "trainer = SFTTrainer(\n",
        "    model = model,\n",
        "    tokenizer = tokenizer,\n",
        "    train_dataset = dataset['train'],\n",
        "    eval_dataset = dataset['validation'],\n",
        "    dataset_text_field = \"text\",\n",
        "    max_seq_length = max_seq_length,\n",
        "    dataset_num_proc = 2, # if packing = False, else default to None\n",
        "    packing = False, # more speed if packing short sequences. Maybe later\n",
        "    args = training_args\n",
        ")"
      ]
    },
    {
      "cell_type": "code",
      "execution_count": 30,
      "id": "bce7f9a1",
      "metadata": {
        "execution": {
          "iopub.execute_input": "2024-02-26T17:52:04.075199Z",
          "iopub.status.busy": "2024-02-26T17:52:04.074435Z",
          "iopub.status.idle": "2024-02-26T19:07:32.574390Z",
          "shell.execute_reply": "2024-02-26T19:07:32.573369Z"
        },
        "papermill": {
          "duration": 4528.527285,
          "end_time": "2024-02-26T19:07:32.588361",
          "exception": false,
          "start_time": "2024-02-26T17:52:04.061076",
          "status": "completed"
        },
        "tags": [],
        "id": "bce7f9a1",
        "colab": {
          "base_uri": "https://localhost:8080/",
          "height": 107
        },
        "outputId": "cad67583-2ccc-414f-afb1-810f1d95a18b"
      },
      "outputs": [
        {
          "output_type": "display_data",
          "data": {
            "text/plain": [
              "<IPython.core.display.HTML object>"
            ],
            "text/html": [
              "\n",
              "    <div>\n",
              "      \n",
              "      <progress value='93' max='93' style='width:300px; height:20px; vertical-align: middle;'></progress>\n",
              "      [93/93 2:27:18, Epoch 2/3]\n",
              "    </div>\n",
              "    <table border=\"1\" class=\"dataframe\">\n",
              "  <thead>\n",
              " <tr style=\"text-align: left;\">\n",
              "      <th>Step</th>\n",
              "      <th>Training Loss</th>\n",
              "      <th>Validation Loss</th>\n",
              "    </tr>\n",
              "  </thead>\n",
              "  <tbody>\n",
              "    <tr>\n",
              "      <td>93</td>\n",
              "      <td>0.818100</td>\n",
              "      <td>0.559165</td>\n",
              "    </tr>\n",
              "  </tbody>\n",
              "</table><p>"
            ]
          },
          "metadata": {}
        }
      ],
      "source": [
        "# train\n",
        "trainer = trainer.train()"
      ]
    },
    {
      "cell_type": "markdown",
      "id": "86f5426e",
      "metadata": {
        "papermill": {
          "duration": 0.014262,
          "end_time": "2024-02-26T19:07:32.618298",
          "exception": false,
          "start_time": "2024-02-26T19:07:32.604036",
          "status": "completed"
        },
        "tags": [],
        "id": "86f5426e"
      },
      "source": [
        "### Inference"
      ]
    },
    {
      "cell_type": "markdown",
      "id": "14962a25",
      "metadata": {
        "papermill": {
          "duration": 0.016178,
          "end_time": "2024-02-26T19:07:32.649057",
          "exception": false,
          "start_time": "2024-02-26T19:07:32.632879",
          "status": "completed"
        },
        "tags": [],
        "id": "14962a25"
      },
      "source": [
        "Run the model we just trained. With Unsloth `FastLanguageModel`, test on one sample."
      ]
    },
    {
      "cell_type": "code",
      "execution_count": 31,
      "id": "000a9305",
      "metadata": {
        "execution": {
          "iopub.execute_input": "2024-02-26T19:07:32.686389Z",
          "iopub.status.busy": "2024-02-26T19:07:32.684741Z",
          "iopub.status.idle": "2024-02-26T19:07:32.694177Z",
          "shell.execute_reply": "2024-02-26T19:07:32.693065Z"
        },
        "papermill": {
          "duration": 0.030361,
          "end_time": "2024-02-26T19:07:32.696329",
          "exception": false,
          "start_time": "2024-02-26T19:07:32.665968",
          "status": "completed"
        },
        "tags": [],
        "id": "000a9305",
        "colab": {
          "base_uri": "https://localhost:8080/"
        },
        "outputId": "1c6a308f-19a3-404e-bfcc-90c06c03ea3c"
      },
      "outputs": [
        {
          "output_type": "stream",
          "name": "stdout",
          "text": [
            "{'tokens': 'superfluous', 'label': 23}\n",
            "superfluous\n"
          ]
        }
      ],
      "source": [
        "print(dataset['test'][22])\n",
        "comment = dataset['test'][22]['tokens']\n",
        "print(comment)"
      ]
    },
    {
      "cell_type": "markdown",
      "id": "0ac4738d",
      "metadata": {
        "papermill": {
          "duration": 0.015264,
          "end_time": "2024-02-26T19:08:11.175416",
          "exception": false,
          "start_time": "2024-02-26T19:08:11.160152",
          "status": "completed"
        },
        "tags": [],
        "id": "0ac4738d"
      },
      "source": [
        "#### One sample"
      ]
    },
    {
      "cell_type": "code",
      "execution_count": 32,
      "id": "a614ecac",
      "metadata": {
        "execution": {
          "iopub.execute_input": "2024-02-26T19:08:11.207576Z",
          "iopub.status.busy": "2024-02-26T19:08:11.207244Z",
          "iopub.status.idle": "2024-02-26T19:08:24.103662Z",
          "shell.execute_reply": "2024-02-26T19:08:24.102834Z"
        },
        "papermill": {
          "duration": 12.915101,
          "end_time": "2024-02-26T19:08:24.106031",
          "exception": false,
          "start_time": "2024-02-26T19:08:11.190930",
          "status": "completed"
        },
        "tags": [],
        "id": "a614ecac",
        "colab": {
          "base_uri": "https://localhost:8080/"
        },
        "outputId": "d69d2241-3de3-4331-b8d8-d72aa4190b84"
      },
      "outputs": [
        {
          "output_type": "stream",
          "name": "stdout",
          "text": [
            "==((====))==  Unsloth: Fast Mistral patching release 2024.3\n",
            "   \\\\   /|    GPU: Tesla T4. Max memory: 14.748 GB. Platform = Linux.\n",
            "O^O/ \\_/ \\    Pytorch: 2.1.0+cu121. CUDA = 7.5. CUDA Toolkit = 12.1.\n",
            "\\        /    Bfloat16 = FALSE. Xformers = 0.0.22.post7. FA = False.\n",
            " \"-____-\"     Free Apache license: http://github.com/unslothai/unsloth\n"
          ]
        },
        {
          "output_type": "stream",
          "name": "stderr",
          "text": [
            "Unused kwargs: ['quant_method']. These kwargs are not used in <class 'transformers.utils.quantization_config.BitsAndBytesConfig'>.\n"
          ]
        }
      ],
      "source": [
        "# load LoRa adapters from HuggingFace\n",
        "model, tokenizer = FastLanguageModel.from_pretrained(\n",
        "    model_name = \"/content/drive/MyDrive/NER_CS/Mistral/checkpoint-93\",\n",
        "    max_seq_length = max_seq_length,\n",
        "    dtype = dtype,\n",
        "    load_in_4bit = load_in_4bit,\n",
        ")\n",
        "\n",
        "FastLanguageModel.for_inference(model)"
      ]
    },
    {
      "cell_type": "code",
      "execution_count": 43,
      "id": "b66baced",
      "metadata": {
        "execution": {
          "iopub.execute_input": "2024-02-26T19:08:24.140669Z",
          "iopub.status.busy": "2024-02-26T19:08:24.140302Z",
          "iopub.status.idle": "2024-02-26T19:08:27.024041Z",
          "shell.execute_reply": "2024-02-26T19:08:27.023047Z"
        },
        "papermill": {
          "duration": 2.903472,
          "end_time": "2024-02-26T19:08:27.026029",
          "exception": false,
          "start_time": "2024-02-26T19:08:24.122557",
          "status": "completed"
        },
        "tags": [],
        "id": "b66baced",
        "colab": {
          "base_uri": "https://localhost:8080/",
          "height": 105
        },
        "outputId": "65c94cfb-c414-4271-858a-daea64ad6635"
      },
      "outputs": [
        {
          "output_type": "stream",
          "name": "stderr",
          "text": [
            "Setting `pad_token_id` to `eos_token_id`:2 for open-end generation.\n"
          ]
        },
        {
          "output_type": "stream",
          "name": "stdout",
          "text": [
            "{'tokens': 'TheCartPress', 'label': 1}\n",
            "\n"
          ]
        },
        {
          "output_type": "execute_result",
          "data": {
            "text/plain": [
              "\"['<s> Develop a token classification model to accurately identify and classify named entities label:\\\\n### Token:\\\\nTheCartPress\\\\n### label:\\\\n1</s>']\""
            ],
            "application/vnd.google.colaboratory.intrinsic+json": {
              "type": "string"
            }
          },
          "metadata": {},
          "execution_count": 43
        }
      ],
      "source": [
        "print(f\"{dataset['test'][0]}\\n\")\n",
        "import re\n",
        "inputs = tokenizer(\n",
        "    [\n",
        "        prompt.format(\n",
        "        dataset['test']['tokens'][0], # insert comment\n",
        "        \"\", # output - blank (instead of label) for generation\n",
        "        )\n",
        "    ],\n",
        "    return_tensors = \"pt\").to(\"cuda\")\n",
        "\n",
        "outputs = model.generate(**inputs, max_new_tokens = 64, use_cache = True)\n",
        "decoded_outputs = tokenizer.batch_decode(outputs)\n",
        "# decoded_outputs\n",
        "decoded_outputs = str(decoded_outputs)\n",
        "decoded_outputs\n",
        "# # Using regular expression to find the label value starting with '###'\n",
        "# label_match = re.search(r'### label:\\n(\\d+)', decoded_outputs)\n",
        "\n",
        "# if label_match:\n",
        "#     label_value = label_match.group(1)\n",
        "#     print(\"Label value:\", label_value)\n",
        "# else:\n",
        "#     print(\"Label not found in the text.\")"
      ]
    },
    {
      "cell_type": "code",
      "source": [
        "import re\n",
        "inputs = tokenizer(\n",
        "    [\n",
        "        prompt.format(\n",
        "        dataset['test']['tokens'][700], # insert comment\n",
        "        \"\", # output - blank (instead of label) for generation\n",
        "        )\n",
        "    ],\n",
        "    return_tensors = \"pt\").to(\"cuda\")\n",
        "\n",
        "outputs = model.generate(**inputs, max_new_tokens = 64, use_cache = True)\n",
        "decoded_outputs = tokenizer.batch_decode(outputs)\n",
        "decoded_outputs = str(decoded_outputs)\n",
        "# Using regular expression to find the label value starting with '###'\n",
        "label_match = re.search(r'### label:\\n(\\d+)', decoded_outputs)\n",
        "\n",
        "if label_match:\n",
        "    label_value = label_match.group(1)\n",
        "    print(\"Label value:\", label_value)\n",
        "else:\n",
        "    print(\"Label not found in the text.\")"
      ],
      "metadata": {
        "id": "ozWFECadeXLr",
        "colab": {
          "base_uri": "https://localhost:8080/"
        },
        "outputId": "401cb865-0946-4e1e-9991-f51aaa850863"
      },
      "id": "ozWFECadeXLr",
      "execution_count": 45,
      "outputs": [
        {
          "output_type": "stream",
          "name": "stderr",
          "text": [
            "Setting `pad_token_id` to `eos_token_id`:2 for open-end generation.\n"
          ]
        },
        {
          "output_type": "stream",
          "name": "stdout",
          "text": [
            "Label not found in the text.\n"
          ]
        }
      ]
    },
    {
      "cell_type": "markdown",
      "id": "b362d06b",
      "metadata": {
        "papermill": {
          "duration": 0.016078,
          "end_time": "2024-02-26T19:08:27.108235",
          "exception": false,
          "start_time": "2024-02-26T19:08:27.092157",
          "status": "completed"
        },
        "tags": [],
        "id": "b362d06b"
      },
      "source": [
        "#### Many samples"
      ]
    },
    {
      "cell_type": "code",
      "execution_count": null,
      "id": "6f70725d",
      "metadata": {
        "execution": {
          "iopub.execute_input": "2024-02-26T19:08:27.142052Z",
          "iopub.status.busy": "2024-02-26T19:08:27.141659Z",
          "iopub.status.idle": "2024-02-26T19:15:51.156477Z",
          "shell.execute_reply": "2024-02-26T19:15:51.155572Z"
        },
        "papermill": {
          "duration": 444.074633,
          "end_time": "2024-02-26T19:15:51.199005",
          "exception": false,
          "start_time": "2024-02-26T19:08:27.124372",
          "status": "completed"
        },
        "tags": [],
        "id": "6f70725d"
      },
      "outputs": [],
      "source": [
        "import re\n",
        "\n",
        "def extract_label(text):\n",
        "    label_match = re.search(r\"label:\\\\\\n(\\d+)\", text)\n",
        "    if label_match:\n",
        "        return label_match.group(1)\n",
        "    else:\n",
        "        return \"Label not found.\"\n",
        "\n",
        "for i, sample in enumerate(dataset['test']):\n",
        "    inputs = tokenizer(\n",
        "        [\n",
        "            prompt.format(\n",
        "            sample['tokens'], # insert comment\n",
        "            \"\", # output - blank (instead of label) for generation\n",
        "            )\n",
        "        ],\n",
        "        return_tensors = \"pt\").to(\"cuda\")\n",
        "\n",
        "    outputs = model.generate(**inputs, max_new_tokens = 20, use_cache = True)\n",
        "    decoded_outputs = tokenizer.batch_decode(outputs)\n",
        "\n",
        "    # extract \"comment label\" in response\n",
        "    matches = re.findall(r'Token label:\\n(\\d)', decoded_outputs[0])\n",
        "    predicted_label = int(matches[-1]) if matches else decoded_outputs\n",
        "\n",
        "    print(f\"Token {i}: {sample['tokens']}\\nTrue label: {sample['label']}\\nPredicted label:\\n{predicted_label}\\n\")"
      ]
    },
    {
      "cell_type": "code",
      "source": [
        "import re\n",
        "\n",
        "def extract_label(text):\n",
        "    label_match = re.search(r\"label:\\\\\\n(\\d+)\", text)\n",
        "    if label_match:\n",
        "        return label_match.group(1)\n",
        "    else:\n",
        "        return \"Label not found.\"\n",
        "\n",
        "predicted_labels = []  # Initialize an empty list to store predicted labels\n",
        "\n",
        "for i, sample in enumerate(dataset['test']):\n",
        "    inputs = tokenizer(\n",
        "        [\n",
        "            prompt.format(\n",
        "            sample['tokens'], # insert comment\n",
        "            \"\", # output - blank (instead of label) for generation\n",
        "            )\n",
        "        ],\n",
        "        return_tensors = \"pt\").to(\"cuda\")\n",
        "\n",
        "    outputs = model.generate(**inputs, max_new_tokens = 20, use_cache = True)\n",
        "    decoded_outputs = tokenizer.batch_decode(outputs)\n",
        "\n",
        "    # extract \"comment label\" in response\n",
        "    matches = re.findall(r'Token label:\\n(\\d)', decoded_outputs[0])\n",
        "    predicted_label = int(matches[-1]) if matches else decoded_outputs\n",
        "    predicted_labels.append(predicted_label)  # Append the predicted label to the list\n",
        "\n",
        "    print(f\"Token {i}: {sample['tokens']}\\nTrue label: {sample['label']}\\nPredicted label:\\n{predicted_label}\\n\")\n",
        "\n",
        "# Now you have all the predicted labels in the predicted_labels list\n",
        "print(\"All predicted labels:\", predicted_labels)\n"
      ],
      "metadata": {
        "colab": {
          "base_uri": "https://localhost:8080/"
        },
        "id": "XEXf-aU8n3t3",
        "outputId": "2a0e3d14-df4e-45a7-f79e-f76d5244f00b"
      },
      "id": "XEXf-aU8n3t3",
      "execution_count": null,
      "outputs": [
        {
          "output_type": "stream",
          "name": "stderr",
          "text": [
            "Setting `pad_token_id` to `eos_token_id`:2 for open-end generation.\n",
            "Setting `pad_token_id` to `eos_token_id`:2 for open-end generation.\n"
          ]
        },
        {
          "output_type": "stream",
          "name": "stdout",
          "text": [
            "Token 0: TheCartPress\n",
            "True label: 1\n",
            "Predicted label:\n",
            "['<s> Develop a token classification model to accurately identify and classify named entities label:\\n### Token:\\nTheCartPress\\n### label:\\n1</s>']\n",
            "\n"
          ]
        },
        {
          "output_type": "stream",
          "name": "stderr",
          "text": [
            "Setting `pad_token_id` to `eos_token_id`:2 for open-end generation.\n"
          ]
        },
        {
          "output_type": "stream",
          "name": "stdout",
          "text": [
            "Token 1: vba_extract.c\n",
            "True label: 4\n",
            "Predicted label:\n",
            "['<s> Develop a token classification model to accurately identify and classify named entities label:\\n### Token:\\nvba_extract.c\\n### label:\\n4</s>']\n",
            "\n"
          ]
        },
        {
          "output_type": "stream",
          "name": "stderr",
          "text": [
            "Setting `pad_token_id` to `eos_token_id`:2 for open-end generation.\n"
          ]
        },
        {
          "output_type": "stream",
          "name": "stdout",
          "text": [
            "Token 2: 1.3.7\n",
            "True label: 14\n",
            "Predicted label:\n",
            "['<s> Develop a token classification model to accurately identify and classify named entities label:\\n### Token:\\n1.3.7\\n### label:\\n22</s>']\n",
            "\n"
          ]
        },
        {
          "output_type": "stream",
          "name": "stderr",
          "text": [
            "Setting `pad_token_id` to `eos_token_id`:2 for open-end generation.\n"
          ]
        },
        {
          "output_type": "stream",
          "name": "stdout",
          "text": [
            "Token 3: Health\n",
            "True label: 15\n",
            "Predicted label:\n",
            "['<s> Develop a token classification model to accurately identify and classify named entities label:\\n### Token:\\nHealth\\n### label:\\n15</s>']\n",
            "\n"
          ]
        },
        {
          "output_type": "stream",
          "name": "stderr",
          "text": [
            "Setting `pad_token_id` to `eos_token_id`:2 for open-end generation.\n"
          ]
        },
        {
          "output_type": "stream",
          "name": "stdout",
          "text": [
            "Token 4: MSA\n",
            "True label: 15\n",
            "Predicted label:\n",
            "['<s> Develop a token classification model to accurately identify and classify named entities label:\\n### Token:\\nMSA\\n### label:\\n1</s>']\n",
            "\n"
          ]
        },
        {
          "output_type": "stream",
          "name": "stderr",
          "text": [
            "Setting `pad_token_id` to `eos_token_id`:2 for open-end generation.\n"
          ]
        },
        {
          "output_type": "stream",
          "name": "stdout",
          "text": [
            "Token 5: plugin/comment.inc.php\n",
            "True label: 4\n",
            "Predicted label:\n",
            "['<s> Develop a token classification model to accurately identify and classify named entities label:\\n### Token:\\nplugin/comment.inc.php\\n### label:\\n4</s>']\n",
            "\n"
          ]
        },
        {
          "output_type": "stream",
          "name": "stderr",
          "text": [
            "Setting `pad_token_id` to `eos_token_id`:2 for open-end generation.\n"
          ]
        },
        {
          "output_type": "stream",
          "name": "stdout",
          "text": [
            "Token 6: whereProtocolClause\n",
            "True label: 23\n",
            "Predicted label:\n",
            "['<s> Develop a token classification model to accurately identify and classify named entities label:\\n### Token:\\nwhereProtocolClause\\n### label:\\n23</s>']\n",
            "\n"
          ]
        },
        {
          "output_type": "stream",
          "name": "stderr",
          "text": [
            "Setting `pad_token_id` to `eos_token_id`:2 for open-end generation.\n"
          ]
        },
        {
          "output_type": "stream",
          "name": "stdout",
          "text": [
            "Token 7: net/ipv6/netfilter/ip6_tables.c\n",
            "True label: 4\n",
            "Predicted label:\n",
            "['<s> Develop a token classification model to accurately identify and classify named entities label:\\n### Token:\\nnet/ipv6/netfilter/ip6_tables.c\\n### label:\\n4</s>']\n",
            "\n"
          ]
        },
        {
          "output_type": "stream",
          "name": "stderr",
          "text": [
            "Setting `pad_token_id` to `eos_token_id`:2 for open-end generation.\n"
          ]
        },
        {
          "output_type": "stream",
          "name": "stdout",
          "text": [
            "Token 8: ngx_http_mp4_module.c\n",
            "True label: 23\n",
            "Predicted label:\n",
            "['<s> Develop a token classification model to accurately identify and classify named entities label:\\n### Token:\\nngx_http_mp4_module.c\\n### label:\\n4</s>']\n",
            "\n"
          ]
        },
        {
          "output_type": "stream",
          "name": "stderr",
          "text": [
            "Setting `pad_token_id` to `eos_token_id`:2 for open-end generation.\n"
          ]
        },
        {
          "output_type": "stream",
          "name": "stdout",
          "text": [
            "Token 9: 1.23.1\n",
            "True label: 22\n",
            "Predicted label:\n",
            "['<s> Develop a token classification model to accurately identify and classify named entities label:\\n### Token:\\n1.23.1\\n### label:\\n22</s>']\n",
            "\n"
          ]
        },
        {
          "output_type": "stream",
          "name": "stderr",
          "text": [
            "Setting `pad_token_id` to `eos_token_id`:2 for open-end generation.\n"
          ]
        },
        {
          "output_type": "stream",
          "name": "stdout",
          "text": [
            "Token 10: 5.x-2.x\n",
            "True label: 14\n",
            "Predicted label:\n",
            "['<s> Develop a token classification model to accurately identify and classify named entities label:\\n### Token:\\n5.x-2.x\\n### label:\\n22</s>']\n",
            "\n"
          ]
        },
        {
          "output_type": "stream",
          "name": "stderr",
          "text": [
            "Setting `pad_token_id` to `eos_token_id`:2 for open-end generation.\n"
          ]
        },
        {
          "output_type": "stream",
          "name": "stdout",
          "text": [
            "Token 11: no\n",
            "True label: 15\n",
            "Predicted label:\n",
            "['<s> Develop a token classification model to accurately identify and classify named entities label:\\n### Token:\\nno\\n### label:\\n23</s>']\n",
            "\n"
          ]
        },
        {
          "output_type": "stream",
          "name": "stderr",
          "text": [
            "Setting `pad_token_id` to `eos_token_id`:2 for open-end generation.\n"
          ]
        },
        {
          "output_type": "stream",
          "name": "stdout",
          "text": [
            "Token 12: ELF\n",
            "True label: 23\n",
            "Predicted label:\n",
            "['<s> Develop a token classification model to accurately identify and classify named entities label:\\n### Token:\\nELF\\n### label:\\n23</s>']\n",
            "\n"
          ]
        },
        {
          "output_type": "stream",
          "name": "stderr",
          "text": [
            "Setting `pad_token_id` to `eos_token_id`:2 for open-end generation.\n"
          ]
        },
        {
          "output_type": "stream",
          "name": "stdout",
          "text": [
            "Token 13: 8.2.x\n",
            "True label: 14\n",
            "Predicted label:\n",
            "['<s> Develop a token classification model to accurately identify and classify named entities label:\\n### Token:\\n8.2.x\\n### label:\\n22</s>']\n",
            "\n"
          ]
        },
        {
          "output_type": "stream",
          "name": "stderr",
          "text": [
            "Setting `pad_token_id` to `eos_token_id`:2 for open-end generation.\n"
          ]
        },
        {
          "output_type": "stream",
          "name": "stdout",
          "text": [
            "Token 14: CCITTFaxStream::lookChar\n",
            "True label: 5\n",
            "Predicted label:\n",
            "['<s> Develop a token classification model to accurately identify and classify named entities label:\\n### Token:\\nCCITTFaxStream::lookChar\\n### label:\\n5</s>']\n",
            "\n"
          ]
        },
        {
          "output_type": "stream",
          "name": "stderr",
          "text": [
            "Setting `pad_token_id` to `eos_token_id`:2 for open-end generation.\n"
          ]
        },
        {
          "output_type": "stream",
          "name": "stdout",
          "text": [
            "Token 15: Portal\n",
            "True label: 15\n",
            "Predicted label:\n",
            "['<s> Develop a token classification model to accurately identify and classify named entities label:\\n### Token:\\nPortal\\n### label:\\n15</s>']\n",
            "\n"
          ]
        },
        {
          "output_type": "stream",
          "name": "stderr",
          "text": [
            "Setting `pad_token_id` to `eos_token_id`:2 for open-end generation.\n"
          ]
        },
        {
          "output_type": "stream",
          "name": "stdout",
          "text": [
            "Token 16: CVE-2011-3416\n",
            "True label: 2\n",
            "Predicted label:\n",
            "['<s> Develop a token classification model to accurately identify and classify named entities label:\\n### Token:\\nCVE-2011-3416\\n### label:\\n2</s>']\n",
            "\n"
          ]
        },
        {
          "output_type": "stream",
          "name": "stderr",
          "text": [
            "Setting `pad_token_id` to `eos_token_id`:2 for open-end generation.\n"
          ]
        },
        {
          "output_type": "stream",
          "name": "stdout",
          "text": [
            "Token 17: unreachable\n",
            "True label: 23\n",
            "Predicted label:\n",
            "['<s> Develop a token classification model to accurately identify and classify named entities label:\\n### Token:\\nunreachable\\n### label:\\n23</s>']\n",
            "\n"
          ]
        },
        {
          "output_type": "stream",
          "name": "stderr",
          "text": [
            "Setting `pad_token_id` to `eos_token_id`:2 for open-end generation.\n"
          ]
        },
        {
          "output_type": "stream",
          "name": "stdout",
          "text": [
            "Token 18: /tmp/graph.dot\n",
            "True label: 4\n",
            "Predicted label:\n",
            "['<s> Develop a token classification model to accurately identify and classify named entities label:\\n### Token:\\n/tmp/graph.dot\\n### label:\\n4</s>']\n",
            "\n"
          ]
        },
        {
          "output_type": "stream",
          "name": "stderr",
          "text": [
            "Setting `pad_token_id` to `eos_token_id`:2 for open-end generation.\n"
          ]
        },
        {
          "output_type": "stream",
          "name": "stdout",
          "text": [
            "Token 19: IRCD-Hybrid\n",
            "True label: 1\n",
            "Predicted label:\n",
            "['<s> Develop a token classification model to accurately identify and classify named entities label:\\n### Token:\\nIRCD-Hybrid\\n### label:\\n1</s>']\n",
            "\n"
          ]
        },
        {
          "output_type": "stream",
          "name": "stderr",
          "text": [
            "Setting `pad_token_id` to `eos_token_id`:2 for open-end generation.\n"
          ]
        },
        {
          "output_type": "stream",
          "name": "stdout",
          "text": [
            "Token 20: arac\n",
            "True label: 23\n",
            "Predicted label:\n",
            "['<s> Develop a token classification model to accurately identify and classify named entities label:\\n### Token:\\narac\\n### label:\\n23</s>']\n",
            "\n"
          ]
        },
        {
          "output_type": "stream",
          "name": "stderr",
          "text": [
            "Setting `pad_token_id` to `eos_token_id`:2 for open-end generation.\n"
          ]
        },
        {
          "output_type": "stream",
          "name": "stdout",
          "text": [
            "Token 21: RT-N56U\n",
            "True label: 6\n",
            "Predicted label:\n",
            "['<s> Develop a token classification model to accurately identify and classify named entities label:\\n### Token:\\nRT-N56U\\n### label:\\n1</s>']\n",
            "\n"
          ]
        },
        {
          "output_type": "stream",
          "name": "stderr",
          "text": [
            "Setting `pad_token_id` to `eos_token_id`:2 for open-end generation.\n"
          ]
        },
        {
          "output_type": "stream",
          "name": "stdout",
          "text": [
            "Token 22: superfluous\n",
            "True label: 23\n",
            "Predicted label:\n",
            "['<s> Develop a token classification model to accurately identify and classify named entities label:\\n### Token:\\nsuperfluous\\n### label:\\n23</s>']\n",
            "\n"
          ]
        },
        {
          "output_type": "stream",
          "name": "stderr",
          "text": [
            "Setting `pad_token_id` to `eos_token_id`:2 for open-end generation.\n"
          ]
        },
        {
          "output_type": "stream",
          "name": "stdout",
          "text": [
            "Token 23: 10.3.183.15\n",
            "True label: 14\n",
            "Predicted label:\n",
            "['<s> Develop a token classification model to accurately identify and classify named entities label:\\n### Token:\\n10.3.183.15\\n### label:\\n22</s>']\n",
            "\n"
          ]
        },
        {
          "output_type": "stream",
          "name": "stderr",
          "text": [
            "Setting `pad_token_id` to `eos_token_id`:2 for open-end generation.\n"
          ]
        },
        {
          "output_type": "stream",
          "name": "stdout",
          "text": [
            "Token 24: match_type\n",
            "True label: 23\n",
            "Predicted label:\n",
            "['<s> Develop a token classification model to accurately identify and classify named entities label:\\n### Token:\\nmatch_type\\n### label:\\n23</s>']\n",
            "\n"
          ]
        },
        {
          "output_type": "stream",
          "name": "stderr",
          "text": [
            "Setting `pad_token_id` to `eos_token_id`:2 for open-end generation.\n"
          ]
        },
        {
          "output_type": "stream",
          "name": "stdout",
          "text": [
            "Token 25: 2.6.38-rc2\n",
            "True label: 22\n",
            "Predicted label:\n",
            "['<s> Develop a token classification model to accurately identify and classify named entities label:\\n### Token:\\n2.6.38-rc2\\n### label:\\n22</s>']\n",
            "\n"
          ]
        },
        {
          "output_type": "stream",
          "name": "stderr",
          "text": [
            "Setting `pad_token_id` to `eos_token_id`:2 for open-end generation.\n"
          ]
        },
        {
          "output_type": "stream",
          "name": "stdout",
          "text": [
            "Token 26: p_creds.c\n",
            "True label: 4\n",
            "Predicted label:\n",
            "['<s> Develop a token classification model to accurately identify and classify named entities label:\\n### Token:\\np_creds.c\\n### label:\\n4</s>']\n",
            "\n"
          ]
        },
        {
          "output_type": "stream",
          "name": "stderr",
          "text": [
            "Setting `pad_token_id` to `eos_token_id`:2 for open-end generation.\n"
          ]
        },
        {
          "output_type": "stream",
          "name": "stdout",
          "text": [
            "Token 27: Movable\n",
            "True label: 1\n",
            "Predicted label:\n",
            "['<s> Develop a token classification model to accurately identify and classify named entities label:\\n### Token:\\nMovable\\n### label:\\n1</s>']\n",
            "\n"
          ]
        },
        {
          "output_type": "stream",
          "name": "stderr",
          "text": [
            "Setting `pad_token_id` to `eos_token_id`:2 for open-end generation.\n"
          ]
        },
        {
          "output_type": "stream",
          "name": "stdout",
          "text": [
            "Token 28: 1.37\n",
            "True label: 14\n",
            "Predicted label:\n",
            "['<s> Develop a token classification model to accurately identify and classify named entities label:\\n### Token:\\n1.37\\n### label:\\n14</s>']\n",
            "\n"
          ]
        },
        {
          "output_type": "stream",
          "name": "stderr",
          "text": [
            "Setting `pad_token_id` to `eos_token_id`:2 for open-end generation.\n"
          ]
        },
        {
          "output_type": "stream",
          "name": "stdout",
          "text": [
            "Token 29: usb-creator\n",
            "True label: 1\n",
            "Predicted label:\n",
            "['<s> Develop a token classification model to accurately identify and classify named entities label:\\n### Token:\\nusb-creator\\n### label:\\n1</s>']\n",
            "\n"
          ]
        },
        {
          "output_type": "stream",
          "name": "stderr",
          "text": [
            "Setting `pad_token_id` to `eos_token_id`:2 for open-end generation.\n"
          ]
        },
        {
          "output_type": "stream",
          "name": "stdout",
          "text": [
            "Token 30: content/renderer/media/webrtc_audio_renderer.cc\n",
            "True label: 4\n",
            "Predicted label:\n",
            "['<s> Develop a token classification model to accurately identify and classify named entities label:\\n### Token:\\ncontent/renderer/media/webrtc_audio_renderer.cc\\n### label:\\n4</s>']\n",
            "\n"
          ]
        },
        {
          "output_type": "stream",
          "name": "stderr",
          "text": [
            "Setting `pad_token_id` to `eos_token_id`:2 for open-end generation.\n"
          ]
        },
        {
          "output_type": "stream",
          "name": "stdout",
          "text": [
            "Token 31: Broadcom\n",
            "True label: 13\n",
            "Predicted label:\n",
            "['<s> Develop a token classification model to accurately identify and classify named entities label:\\n### Token:\\nBroadcom\\n### label:\\n13</s>']\n",
            "\n"
          ]
        },
        {
          "output_type": "stream",
          "name": "stderr",
          "text": [
            "Setting `pad_token_id` to `eos_token_id`:2 for open-end generation.\n"
          ]
        },
        {
          "output_type": "stream",
          "name": "stdout",
          "text": [
            "Token 32: Encryption\n",
            "True label: 17\n",
            "Predicted label:\n",
            "['<s> Develop a token classification model to accurately identify and classify named entities label:\\n### Token:\\nEncryption\\n### label:\\n15</s>']\n",
            "\n"
          ]
        },
        {
          "output_type": "stream",
          "name": "stderr",
          "text": [
            "Setting `pad_token_id` to `eos_token_id`:2 for open-end generation.\n"
          ]
        },
        {
          "output_type": "stream",
          "name": "stdout",
          "text": [
            "Token 33: 3.3.0.1\n",
            "True label: 14\n",
            "Predicted label:\n",
            "['<s> Develop a token classification model to accurately identify and classify named entities label:\\n### Token:\\n3.3.0.1\\n### label:\\n22</s>']\n",
            "\n"
          ]
        },
        {
          "output_type": "stream",
          "name": "stderr",
          "text": [
            "Setting `pad_token_id` to `eos_token_id`:2 for open-end generation.\n"
          ]
        },
        {
          "output_type": "stream",
          "name": "stdout",
          "text": [
            "Token 34: help_website\n",
            "True label: 23\n",
            "Predicted label:\n",
            "['<s> Develop a token classification model to accurately identify and classify named entities label:\\n### Token:\\nhelp_website\\n### label:\\n10</s>']\n",
            "\n"
          ]
        },
        {
          "output_type": "stream",
          "name": "stderr",
          "text": [
            "Setting `pad_token_id` to `eos_token_id`:2 for open-end generation.\n"
          ]
        },
        {
          "output_type": "stream",
          "name": "stdout",
          "text": [
            "Token 35: default_create.log\n",
            "True label: 4\n",
            "Predicted label:\n",
            "['<s> Develop a token classification model to accurately identify and classify named entities label:\\n### Token:\\ndefault_create.log\\n### label:\\n23</s>']\n",
            "\n"
          ]
        },
        {
          "output_type": "stream",
          "name": "stderr",
          "text": [
            "Setting `pad_token_id` to `eos_token_id`:2 for open-end generation.\n"
          ]
        },
        {
          "output_type": "stream",
          "name": "stdout",
          "text": [
            "Token 36: 3.0.20\n",
            "True label: 22\n",
            "Predicted label:\n",
            "['<s> Develop a token classification model to accurately identify and classify named entities label:\\n### Token:\\n3.0.20\\n### label:\\n22</s>']\n",
            "\n"
          ]
        },
        {
          "output_type": "stream",
          "name": "stderr",
          "text": [
            "Setting `pad_token_id` to `eos_token_id`:2 for open-end generation.\n"
          ]
        },
        {
          "output_type": "stream",
          "name": "stdout",
          "text": [
            "Token 37: Kernel/IPsec\n",
            "True label: 23\n",
            "Predicted label:\n",
            "['<s> Develop a token classification model to accurately identify and classify named entities label:\\n### Token:\\nKernel/IPsec\\n### label:\\n23</s>']\n",
            "\n"
          ]
        },
        {
          "output_type": "stream",
          "name": "stderr",
          "text": [
            "Setting `pad_token_id` to `eos_token_id`:2 for open-end generation.\n"
          ]
        },
        {
          "output_type": "stream",
          "name": "stdout",
          "text": [
            "Token 38: 1.7.4p5-1.fc14\n",
            "True label: 22\n",
            "Predicted label:\n",
            "['<s> Develop a token classification model to accurately identify and classify named entities label:\\n### Token:\\n1.7.4p5-1.fc14\\n### label:\\n22</s>']\n",
            "\n"
          ]
        },
        {
          "output_type": "stream",
          "name": "stderr",
          "text": [
            "Setting `pad_token_id` to `eos_token_id`:2 for open-end generation.\n"
          ]
        },
        {
          "output_type": "stream",
          "name": "stdout",
          "text": [
            "Token 39: V-CMS's\n",
            "True label: 1\n",
            "Predicted label:\n",
            "[\"<s> Develop a token classification model to accurately identify and classify named entities label:\\n### Token:\\nV-CMS's\\n### label:\\n1</s>\"]\n",
            "\n"
          ]
        },
        {
          "output_type": "stream",
          "name": "stderr",
          "text": [
            "Setting `pad_token_id` to `eos_token_id`:2 for open-end generation.\n"
          ]
        },
        {
          "output_type": "stream",
          "name": "stdout",
          "text": [
            "Token 40: dartwebserver.dll\n",
            "True label: 23\n",
            "Predicted label:\n",
            "['<s> Develop a token classification model to accurately identify and classify named entities label:\\n### Token:\\ndartwebserver.dll\\n### label:\\n23</s>']\n",
            "\n"
          ]
        },
        {
          "output_type": "stream",
          "name": "stderr",
          "text": [
            "Setting `pad_token_id` to `eos_token_id`:2 for open-end generation.\n"
          ]
        },
        {
          "output_type": "stream",
          "name": "stdout",
          "text": [
            "Token 41: iScripts\n",
            "True label: 13\n",
            "Predicted label:\n",
            "['<s> Develop a token classification model to accurately identify and classify named entities label:\\n### Token:\\niScripts\\n### label:\\n13</s>']\n",
            "\n"
          ]
        },
        {
          "output_type": "stream",
          "name": "stderr",
          "text": [
            "Setting `pad_token_id` to `eos_token_id`:2 for open-end generation.\n"
          ]
        },
        {
          "output_type": "stream",
          "name": "stdout",
          "text": [
            "Token 42: calendar/new.php\n",
            "True label: 4\n",
            "Predicted label:\n",
            "['<s> Develop a token classification model to accurately identify and classify named entities label:\\n### Token:\\ncalendar/new.php\\n### label:\\n4</s>']\n",
            "\n"
          ]
        },
        {
          "output_type": "stream",
          "name": "stderr",
          "text": [
            "Setting `pad_token_id` to `eos_token_id`:2 for open-end generation.\n"
          ]
        },
        {
          "output_type": "stream",
          "name": "stdout",
          "text": [
            "Token 43: Visitor\n",
            "True label: 15\n",
            "Predicted label:\n",
            "['<s> Develop a token classification model to accurately identify and classify named entities label:\\n### Token:\\nVisitor\\n### label:\\n15</s>']\n",
            "\n"
          ]
        },
        {
          "output_type": "stream",
          "name": "stderr",
          "text": [
            "Setting `pad_token_id` to `eos_token_id`:2 for open-end generation.\n"
          ]
        },
        {
          "output_type": "stream",
          "name": "stdout",
          "text": [
            "Token 44: 2.1.0-HF2\n",
            "True label: 22\n",
            "Predicted label:\n",
            "['<s> Develop a token classification model to accurately identify and classify named entities label:\\n### Token:\\n2.1.0-HF2\\n### label:\\n22</s>']\n",
            "\n"
          ]
        },
        {
          "output_type": "stream",
          "name": "stderr",
          "text": [
            "Setting `pad_token_id` to `eos_token_id`:2 for open-end generation.\n"
          ]
        },
        {
          "output_type": "stream",
          "name": "stdout",
          "text": [
            "Token 45: vd_geomap\n",
            "True label: 23\n",
            "Predicted label:\n",
            "['<s> Develop a token classification model to accurately identify and classify named entities label:\\n### Token:\\nvd_geomap\\n### label:\\n5</s>']\n",
            "\n"
          ]
        },
        {
          "output_type": "stream",
          "name": "stderr",
          "text": [
            "Setting `pad_token_id` to `eos_token_id`:2 for open-end generation.\n"
          ]
        },
        {
          "output_type": "stream",
          "name": "stdout",
          "text": [
            "Token 46: jclient.dll\n",
            "True label: 4\n",
            "Predicted label:\n",
            "['<s> Develop a token classification model to accurately identify and classify named entities label:\\n### Token:\\njclient.dll\\n### label:\\n23</s>']\n",
            "\n"
          ]
        },
        {
          "output_type": "stream",
          "name": "stderr",
          "text": [
            "Setting `pad_token_id` to `eos_token_id`:2 for open-end generation.\n"
          ]
        },
        {
          "output_type": "stream",
          "name": "stdout",
          "text": [
            "Token 47: generators/plucker/inplug/image.cpp\n",
            "True label: 4\n",
            "Predicted label:\n",
            "['<s> Develop a token classification model to accurately identify and classify named entities label:\\n### Token:\\ngenerators/plucker/inplug/image.cpp\\n### label:\\n4</s>']\n",
            "\n"
          ]
        },
        {
          "output_type": "stream",
          "name": "stderr",
          "text": [
            "Setting `pad_token_id` to `eos_token_id`:2 for open-end generation.\n"
          ]
        },
        {
          "output_type": "stream",
          "name": "stdout",
          "text": [
            "Token 48: 4.04\n",
            "True label: 14\n",
            "Predicted label:\n",
            "['<s> Develop a token classification model to accurately identify and classify named entities label:\\n### Token:\\n4.04\\n### label:\\n14</s>']\n",
            "\n"
          ]
        },
        {
          "output_type": "stream",
          "name": "stderr",
          "text": [
            "Setting `pad_token_id` to `eos_token_id`:2 for open-end generation.\n"
          ]
        },
        {
          "output_type": "stream",
          "name": "stdout",
          "text": [
            "Token 49: finalizing\n",
            "True label: 23\n",
            "Predicted label:\n",
            "['<s> Develop a token classification model to accurately identify and classify named entities label:\\n### Token:\\nfinalizing\\n### label:\\n23</s>']\n",
            "\n"
          ]
        },
        {
          "output_type": "stream",
          "name": "stderr",
          "text": [
            "Setting `pad_token_id` to `eos_token_id`:2 for open-end generation.\n"
          ]
        },
        {
          "output_type": "stream",
          "name": "stdout",
          "text": [
            "Token 50: createScriptDeployment()\n",
            "True label: 8\n",
            "Predicted label:\n",
            "['<s> Develop a token classification model to accurately identify and classify named entities label:\\n### Token:\\ncreateScriptDeployment()\\n### label:\\n5</s>']\n",
            "\n"
          ]
        },
        {
          "output_type": "stream",
          "name": "stderr",
          "text": [
            "Setting `pad_token_id` to `eos_token_id`:2 for open-end generation.\n"
          ]
        },
        {
          "output_type": "stream",
          "name": "stdout",
          "text": [
            "Token 51: master\n",
            "True label: 23\n",
            "Predicted label:\n",
            "['<s> Develop a token classification model to accurately identify and classify named entities label:\\n### Token:\\nmaster\\n### label:\\n23</s>']\n",
            "\n"
          ]
        },
        {
          "output_type": "stream",
          "name": "stderr",
          "text": [
            "Setting `pad_token_id` to `eos_token_id`:2 for open-end generation.\n"
          ]
        },
        {
          "output_type": "stream",
          "name": "stdout",
          "text": [
            "Token 52: AtMail\n",
            "True label: 1\n",
            "Predicted label:\n",
            "['<s> Develop a token classification model to accurately identify and classify named entities label:\\n### Token:\\nAtMail\\n### label:\\n1</s>']\n",
            "\n"
          ]
        },
        {
          "output_type": "stream",
          "name": "stderr",
          "text": [
            "Setting `pad_token_id` to `eos_token_id`:2 for open-end generation.\n"
          ]
        },
        {
          "output_type": "stream",
          "name": "stdout",
          "text": [
            "Token 53: PHP\n",
            "True label: 1\n",
            "Predicted label:\n",
            "['<s> Develop a token classification model to accurately identify and classify named entities label:\\n### Token:\\nPHP\\n### label:\\n1</s>']\n",
            "\n"
          ]
        },
        {
          "output_type": "stream",
          "name": "stderr",
          "text": [
            "Setting `pad_token_id` to `eos_token_id`:2 for open-end generation.\n"
          ]
        },
        {
          "output_type": "stream",
          "name": "stdout",
          "text": [
            "Token 54: Dictionary\n",
            "True label: 23\n",
            "Predicted label:\n",
            "['<s> Develop a token classification model to accurately identify and classify named entities label:\\n### Token:\\nDictionary\\n### label:\\n15</s>']\n",
            "\n"
          ]
        },
        {
          "output_type": "stream",
          "name": "stderr",
          "text": [
            "Setting `pad_token_id` to `eos_token_id`:2 for open-end generation.\n"
          ]
        },
        {
          "output_type": "stream",
          "name": "stdout",
          "text": [
            "Token 55: print_raincheck.php\n",
            "True label: 23\n",
            "Predicted label:\n",
            "['<s> Develop a token classification model to accurately identify and classify named entities label:\\n### Token:\\nprint_raincheck.php\\n### label:\\n23</s>']\n",
            "\n"
          ]
        },
        {
          "output_type": "stream",
          "name": "stderr",
          "text": [
            "Setting `pad_token_id` to `eos_token_id`:2 for open-end generation.\n"
          ]
        },
        {
          "output_type": "stream",
          "name": "stdout",
          "text": [
            "Token 56: kernel/sys.c\n",
            "True label: 4\n",
            "Predicted label:\n",
            "['<s> Develop a token classification model to accurately identify and classify named entities label:\\n### Token:\\nkernel/sys.c\\n### label:\\n4</s>']\n",
            "\n"
          ]
        },
        {
          "output_type": "stream",
          "name": "stderr",
          "text": [
            "Setting `pad_token_id` to `eos_token_id`:2 for open-end generation.\n"
          ]
        },
        {
          "output_type": "stream",
          "name": "stdout",
          "text": [
            "Token 57: addressbook/register/traffic.php\n",
            "True label: 4\n",
            "Predicted label:\n",
            "['<s> Develop a token classification model to accurately identify and classify named entities label:\\n### Token:\\naddressbook/register/traffic.php\\n### label:\\n4</s>']\n",
            "\n"
          ]
        },
        {
          "output_type": "stream",
          "name": "stderr",
          "text": [
            "Setting `pad_token_id` to `eos_token_id`:2 for open-end generation.\n"
          ]
        },
        {
          "output_type": "stream",
          "name": "stdout",
          "text": [
            "Token 58: 0.81.x\n",
            "True label: 14\n",
            "Predicted label:\n",
            "['<s> Develop a token classification model to accurately identify and classify named entities label:\\n### Token:\\n0.81.x\\n### label:\\n14</s>']\n",
            "\n"
          ]
        },
        {
          "output_type": "stream",
          "name": "stderr",
          "text": [
            "Setting `pad_token_id` to `eos_token_id`:2 for open-end generation.\n"
          ]
        },
        {
          "output_type": "stream",
          "name": "stdout",
          "text": [
            "Token 59: Tempo\n",
            "True label: 1\n",
            "Predicted label:\n",
            "['<s> Develop a token classification model to accurately identify and classify named entities label:\\n### Token:\\nTempo\\n### label:\\n1</s>']\n",
            "\n"
          ]
        },
        {
          "output_type": "stream",
          "name": "stderr",
          "text": [
            "Setting `pad_token_id` to `eos_token_id`:2 for open-end generation.\n"
          ]
        },
        {
          "output_type": "stream",
          "name": "stdout",
          "text": [
            "Token 60: Integrated\n",
            "True label: 15\n",
            "Predicted label:\n",
            "['<s> Develop a token classification model to accurately identify and classify named entities label:\\n### Token:\\nIntegrated\\n### label:\\n1</s>']\n",
            "\n"
          ]
        },
        {
          "output_type": "stream",
          "name": "stderr",
          "text": [
            "Setting `pad_token_id` to `eos_token_id`:2 for open-end generation.\n"
          ]
        },
        {
          "output_type": "stream",
          "name": "stdout",
          "text": [
            "Token 61: 8.5.0.3\n",
            "True label: 22\n",
            "Predicted label:\n",
            "['<s> Develop a token classification model to accurately identify and classify named entities label:\\n### Token:\\n8.5.0.3\\n### label:\\n22</s>']\n",
            "\n"
          ]
        },
        {
          "output_type": "stream",
          "name": "stderr",
          "text": [
            "Setting `pad_token_id` to `eos_token_id`:2 for open-end generation.\n"
          ]
        },
        {
          "output_type": "stream",
          "name": "stdout",
          "text": [
            "Token 62: Pinky\n",
            "True label: 1\n",
            "Predicted label:\n",
            "['<s> Develop a token classification model to accurately identify and classify named entities label:\\n### Token:\\nPinky\\n### label:\\n1</s>']\n",
            "\n"
          ]
        },
        {
          "output_type": "stream",
          "name": "stderr",
          "text": [
            "Setting `pad_token_id` to `eos_token_id`:2 for open-end generation.\n"
          ]
        },
        {
          "output_type": "stream",
          "name": "stdout",
          "text": [
            "Token 63: 4.4.0\n",
            "True label: 14\n",
            "Predicted label:\n",
            "['<s> Develop a token classification model to accurately identify and classify named entities label:\\n### Token:\\n4.4.0\\n### label:\\n22</s>']\n",
            "\n"
          ]
        },
        {
          "output_type": "stream",
          "name": "stderr",
          "text": [
            "Setting `pad_token_id` to `eos_token_id`:2 for open-end generation.\n"
          ]
        },
        {
          "output_type": "stream",
          "name": "stdout",
          "text": [
            "Token 64: control/admin_login.php\n",
            "True label: 4\n",
            "Predicted label:\n",
            "['<s> Develop a token classification model to accurately identify and classify named entities label:\\n### Token:\\ncontrol/admin_login.php\\n### label:\\n4</s>']\n",
            "\n"
          ]
        },
        {
          "output_type": "stream",
          "name": "stderr",
          "text": [
            "Setting `pad_token_id` to `eos_token_id`:2 for open-end generation.\n"
          ]
        },
        {
          "output_type": "stream",
          "name": "stdout",
          "text": [
            "Token 65: r234\n",
            "True label: 22\n",
            "Predicted label:\n",
            "['<s> Develop a token classification model to accurately identify and classify named entities label:\\n### Token:\\nr234\\n### label:\\n22</s>']\n",
            "\n"
          ]
        },
        {
          "output_type": "stream",
          "name": "stderr",
          "text": [
            "Setting `pad_token_id` to `eos_token_id`:2 for open-end generation.\n"
          ]
        },
        {
          "output_type": "stream",
          "name": "stdout",
          "text": [
            "Token 66: 5.0-\n",
            "True label: 14\n",
            "Predicted label:\n",
            "['<s> Develop a token classification model to accurately identify and classify named entities label:\\n### Token:\\n5.0-\\n### label:\\n22</s>']\n",
            "\n"
          ]
        },
        {
          "output_type": "stream",
          "name": "stderr",
          "text": [
            "Setting `pad_token_id` to `eos_token_id`:2 for open-end generation.\n"
          ]
        },
        {
          "output_type": "stream",
          "name": "stdout",
          "text": [
            "Token 67: ipc/admin/log.jsp\n",
            "True label: 4\n",
            "Predicted label:\n",
            "['<s> Develop a token classification model to accurately identify and classify named entities label:\\n### Token:\\nipc/admin/log.jsp\\n### label:\\n4</s>']\n",
            "\n"
          ]
        },
        {
          "output_type": "stream",
          "name": "stderr",
          "text": [
            "Setting `pad_token_id` to `eos_token_id`:2 for open-end generation.\n"
          ]
        },
        {
          "output_type": "stream",
          "name": "stdout",
          "text": [
            "Token 68: Gnat-TGP\n",
            "True label: 1\n",
            "Predicted label:\n",
            "['<s> Develop a token classification model to accurately identify and classify named entities label:\\n### Token:\\nGnat-TGP\\n### label:\\n1</s>']\n",
            "\n"
          ]
        },
        {
          "output_type": "stream",
          "name": "stderr",
          "text": [
            "Setting `pad_token_id` to `eos_token_id`:2 for open-end generation.\n"
          ]
        },
        {
          "output_type": "stream",
          "name": "stdout",
          "text": [
            "Token 69: Blog/AboutSomething.txt\n",
            "True label: 4\n",
            "Predicted label:\n",
            "['<s> Develop a token classification model to accurately identify and classify named entities label:\\n### Token:\\nBlog/AboutSomething.txt\\n### label:\\n4</s>']\n",
            "\n"
          ]
        },
        {
          "output_type": "stream",
          "name": "stderr",
          "text": [
            "Setting `pad_token_id` to `eos_token_id`:2 for open-end generation.\n"
          ]
        },
        {
          "output_type": "stream",
          "name": "stdout",
          "text": [
            "Token 70: p_cgi_error\n",
            "True label: 5\n",
            "Predicted label:\n",
            "['<s> Develop a token classification model to accurately identify and classify named entities label:\\n### Token:\\np_cgi_error\\n### label:\\n5</s>']\n",
            "\n"
          ]
        },
        {
          "output_type": "stream",
          "name": "stderr",
          "text": [
            "Setting `pad_token_id` to `eos_token_id`:2 for open-end generation.\n"
          ]
        },
        {
          "output_type": "stream",
          "name": "stdout",
          "text": [
            "Token 71: Invoicing\n",
            "True label: 1\n",
            "Predicted label:\n",
            "['<s> Develop a token classification model to accurately identify and classify named entities label:\\n### Token:\\nInvoicing\\n### label:\\n15</s>']\n",
            "\n"
          ]
        },
        {
          "output_type": "stream",
          "name": "stderr",
          "text": [
            "Setting `pad_token_id` to `eos_token_id`:2 for open-end generation.\n"
          ]
        },
        {
          "output_type": "stream",
          "name": "stdout",
          "text": [
            "Token 72: NtUserCheckAccessForIntegrityLevel\n",
            "True label: 5\n",
            "Predicted label:\n",
            "['<s> Develop a token classification model to accurately identify and classify named entities label:\\n### Token:\\nNtUserCheckAccessForIntegrityLevel\\n### label:\\n5</s>']\n",
            "\n"
          ]
        },
        {
          "output_type": "stream",
          "name": "stderr",
          "text": [
            "Setting `pad_token_id` to `eos_token_id`:2 for open-end generation.\n"
          ]
        },
        {
          "output_type": "stream",
          "name": "stdout",
          "text": [
            "Token 73: deploying\n",
            "True label: 23\n",
            "Predicted label:\n",
            "['<s> Develop a token classification model to accurately identify and classify named entities label:\\n### Token:\\ndeploying\\n### label:\\n23</s>']\n",
            "\n"
          ]
        },
        {
          "output_type": "stream",
          "name": "stderr",
          "text": [
            "Setting `pad_token_id` to `eos_token_id`:2 for open-end generation.\n"
          ]
        },
        {
          "output_type": "stream",
          "name": "stdout",
          "text": [
            "Token 74: threat\n",
            "True label: 23\n",
            "Predicted label:\n",
            "['<s> Develop a token classification model to accurately identify and classify named entities label:\\n### Token:\\nthreat\\n### label:\\n23</s>']\n",
            "\n"
          ]
        },
        {
          "output_type": "stream",
          "name": "stderr",
          "text": [
            "Setting `pad_token_id` to `eos_token_id`:2 for open-end generation.\n"
          ]
        },
        {
          "output_type": "stream",
          "name": "stdout",
          "text": [
            "Token 75: sub_401A90\n",
            "True label: 23\n",
            "Predicted label:\n",
            "['<s> Develop a token classification model to accurately identify and classify named entities label:\\n### Token:\\nsub_401A90\\n### label:\\n23</s>']\n",
            "\n"
          ]
        },
        {
          "output_type": "stream",
          "name": "stderr",
          "text": [
            "Setting `pad_token_id` to `eos_token_id`:2 for open-end generation.\n"
          ]
        },
        {
          "output_type": "stream",
          "name": "stdout",
          "text": [
            "Token 76: Roundcube\n",
            "True label: 1\n",
            "Predicted label:\n",
            "['<s> Develop a token classification model to accurately identify and classify named entities label:\\n### Token:\\nRoundcube\\n### label:\\n1</s>']\n",
            "\n"
          ]
        },
        {
          "output_type": "stream",
          "name": "stderr",
          "text": [
            "Setting `pad_token_id` to `eos_token_id`:2 for open-end generation.\n"
          ]
        },
        {
          "output_type": "stream",
          "name": "stdout",
          "text": [
            "Token 77: cisco/services/PhonecDirectory.php\n",
            "True label: 4\n",
            "Predicted label:\n",
            "['<s> Develop a token classification model to accurately identify and classify named entities label:\\n### Token:\\ncisco/services/PhonecDirectory.php\\n### label:\\n4</s>']\n",
            "\n"
          ]
        },
        {
          "output_type": "stream",
          "name": "stderr",
          "text": [
            "Setting `pad_token_id` to `eos_token_id`:2 for open-end generation.\n"
          ]
        },
        {
          "output_type": "stream",
          "name": "stdout",
          "text": [
            "Token 78: usability\n",
            "True label: 23\n",
            "Predicted label:\n",
            "['<s> Develop a token classification model to accurately identify and classify named entities label:\\n### Token:\\nusability\\n### label:\\n23</s>']\n",
            "\n"
          ]
        },
        {
          "output_type": "stream",
          "name": "stderr",
          "text": [
            "Setting `pad_token_id` to `eos_token_id`:2 for open-end generation.\n"
          ]
        },
        {
          "output_type": "stream",
          "name": "stdout",
          "text": [
            "Token 79: ASUS\n",
            "True label: 13\n",
            "Predicted label:\n",
            "['<s> Develop a token classification model to accurately identify and classify named entities label:\\n### Token:\\nASUS\\n### label:\\n13</s>']\n",
            "\n"
          ]
        },
        {
          "output_type": "stream",
          "name": "stderr",
          "text": [
            "Setting `pad_token_id` to `eos_token_id`:2 for open-end generation.\n"
          ]
        },
        {
          "output_type": "stream",
          "name": "stdout",
          "text": [
            "Token 80: lib/ajax_functions.php\n",
            "True label: 4\n",
            "Predicted label:\n",
            "['<s> Develop a token classification model to accurately identify and classify named entities label:\\n### Token:\\nlib/ajax_functions.php\\n### label:\\n4</s>']\n",
            "\n"
          ]
        },
        {
          "output_type": "stream",
          "name": "stderr",
          "text": [
            "Setting `pad_token_id` to `eos_token_id`:2 for open-end generation.\n"
          ]
        },
        {
          "output_type": "stream",
          "name": "stdout",
          "text": [
            "Token 81: iPrint\n",
            "True label: 1\n",
            "Predicted label:\n",
            "['<s> Develop a token classification model to accurately identify and classify named entities label:\\n### Token:\\niPrint\\n### label:\\n1</s>']\n",
            "\n"
          ]
        },
        {
          "output_type": "stream",
          "name": "stderr",
          "text": [
            "Setting `pad_token_id` to `eos_token_id`:2 for open-end generation.\n"
          ]
        },
        {
          "output_type": "stream",
          "name": "stdout",
          "text": [
            "Token 82: cs\n",
            "True label: 23\n",
            "Predicted label:\n",
            "['<s> Develop a token classification model to accurately identify and classify named entities label:\\n### Token:\\ncs\\n### label:\\n23</s>']\n",
            "\n"
          ]
        },
        {
          "output_type": "stream",
          "name": "stderr",
          "text": [
            "Setting `pad_token_id` to `eos_token_id`:2 for open-end generation.\n"
          ]
        },
        {
          "output_type": "stream",
          "name": "stdout",
          "text": [
            "Token 83: Redirect\n",
            "True label: 23\n",
            "Predicted label:\n",
            "['<s> Develop a token classification model to accurately identify and classify named entities label:\\n### Token:\\nRedirect\\n### label:\\n23</s>']\n",
            "\n"
          ]
        },
        {
          "output_type": "stream",
          "name": "stderr",
          "text": [
            "Setting `pad_token_id` to `eos_token_id`:2 for open-end generation.\n"
          ]
        },
        {
          "output_type": "stream",
          "name": "stdout",
          "text": [
            "Token 84: 0x3\n",
            "True label: 14\n",
            "Predicted label:\n",
            "['<s> Develop a token classification model to accurately identify and classify named entities label:\\n### Token:\\n0x3\\n### label:\\n14</s>']\n",
            "\n"
          ]
        },
        {
          "output_type": "stream",
          "name": "stderr",
          "text": [
            "Setting `pad_token_id` to `eos_token_id`:2 for open-end generation.\n"
          ]
        },
        {
          "output_type": "stream",
          "name": "stdout",
          "text": [
            "Token 85: operations\n",
            "True label: 23\n",
            "Predicted label:\n",
            "['<s> Develop a token classification model to accurately identify and classify named entities label:\\n### Token:\\noperations\\n### label:\\n23</s>']\n",
            "\n"
          ]
        },
        {
          "output_type": "stream",
          "name": "stderr",
          "text": [
            "Setting `pad_token_id` to `eos_token_id`:2 for open-end generation.\n"
          ]
        },
        {
          "output_type": "stream",
          "name": "stdout",
          "text": [
            "Token 86: 2012.1.1\n",
            "True label: 22\n",
            "Predicted label:\n",
            "['<s> Develop a token classification model to accurately identify and classify named entities label:\\n### Token:\\n2012.1.1\\n### label:\\n14</s>']\n",
            "\n"
          ]
        },
        {
          "output_type": "stream",
          "name": "stderr",
          "text": [
            "Setting `pad_token_id` to `eos_token_id`:2 for open-end generation.\n"
          ]
        },
        {
          "output_type": "stream",
          "name": "stdout",
          "text": [
            "Token 87: in-session\n",
            "True label: 23\n",
            "Predicted label:\n",
            "['<s> Develop a token classification model to accurately identify and classify named entities label:\\n### Token:\\nin-session\\n### label:\\n23</s>']\n",
            "\n"
          ]
        },
        {
          "output_type": "stream",
          "name": "stderr",
          "text": [
            "Setting `pad_token_id` to `eos_token_id`:2 for open-end generation.\n"
          ]
        },
        {
          "output_type": "stream",
          "name": "stdout",
          "text": [
            "Token 88: Scripts\n",
            "True label: 1\n",
            "Predicted label:\n",
            "['<s> Develop a token classification model to accurately identify and classify named entities label:\\n### Token:\\nScripts\\n### label:\\n15</s>']\n",
            "\n"
          ]
        },
        {
          "output_type": "stream",
          "name": "stderr",
          "text": [
            "Setting `pad_token_id` to `eos_token_id`:2 for open-end generation.\n"
          ]
        },
        {
          "output_type": "stream",
          "name": "stdout",
          "text": [
            "Token 89: Little\n",
            "True label: 15\n",
            "Predicted label:\n",
            "['<s> Develop a token classification model to accurately identify and classify named entities label:\\n### Token:\\nLittle\\n### label:\\n1</s>']\n",
            "\n"
          ]
        },
        {
          "output_type": "stream",
          "name": "stderr",
          "text": [
            "Setting `pad_token_id` to `eos_token_id`:2 for open-end generation.\n"
          ]
        },
        {
          "output_type": "stream",
          "name": "stdout",
          "text": [
            "Token 90: 0x67575180\n",
            "True label: 14\n",
            "Predicted label:\n",
            "['<s> Develop a token classification model to accurately identify and classify named entities label:\\n### Token:\\n0x67575180\\n### label:\\n23</s>']\n",
            "\n"
          ]
        },
        {
          "output_type": "stream",
          "name": "stderr",
          "text": [
            "Setting `pad_token_id` to `eos_token_id`:2 for open-end generation.\n"
          ]
        },
        {
          "output_type": "stream",
          "name": "stdout",
          "text": [
            "Token 91: Domino\n",
            "True label: 15\n",
            "Predicted label:\n",
            "['<s> Develop a token classification model to accurately identify and classify named entities label:\\n### Token:\\nDomino\\n### label:\\n1</s>']\n",
            "\n"
          ]
        },
        {
          "output_type": "stream",
          "name": "stderr",
          "text": [
            "Setting `pad_token_id` to `eos_token_id`:2 for open-end generation.\n"
          ]
        },
        {
          "output_type": "stream",
          "name": "stdout",
          "text": [
            "Token 92: 2.4.2\n",
            "True label: 14\n",
            "Predicted label:\n",
            "['<s> Develop a token classification model to accurately identify and classify named entities label:\\n### Token:\\n2.4.2\\n### label:\\n22</s>']\n",
            "\n"
          ]
        },
        {
          "output_type": "stream",
          "name": "stderr",
          "text": [
            "Setting `pad_token_id` to `eos_token_id`:2 for open-end generation.\n"
          ]
        },
        {
          "output_type": "stream",
          "name": "stdout",
          "text": [
            "Token 93: 3.2.11\n",
            "True label: 14\n",
            "Predicted label:\n",
            "['<s> Develop a token classification model to accurately identify and classify named entities label:\\n### Token:\\n3.2.11\\n### label:\\n22</s>']\n",
            "\n"
          ]
        },
        {
          "output_type": "stream",
          "name": "stderr",
          "text": [
            "Setting `pad_token_id` to `eos_token_id`:2 for open-end generation.\n"
          ]
        },
        {
          "output_type": "stream",
          "name": "stdout",
          "text": [
            "Token 94: wab32res.dll\n",
            "True label: 4\n",
            "Predicted label:\n",
            "['<s> Develop a token classification model to accurately identify and classify named entities label:\\n### Token:\\nwab32res.dll\\n### label:\\n4</s>']\n",
            "\n"
          ]
        },
        {
          "output_type": "stream",
          "name": "stderr",
          "text": [
            "Setting `pad_token_id` to `eos_token_id`:2 for open-end generation.\n"
          ]
        },
        {
          "output_type": "stream",
          "name": "stdout",
          "text": [
            "Token 95: 5.1.7\n",
            "True label: 22\n",
            "Predicted label:\n",
            "['<s> Develop a token classification model to accurately identify and classify named entities label:\\n### Token:\\n5.1.7\\n### label:\\n22</s>']\n",
            "\n"
          ]
        },
        {
          "output_type": "stream",
          "name": "stderr",
          "text": [
            "Setting `pad_token_id` to `eos_token_id`:2 for open-end generation.\n"
          ]
        },
        {
          "output_type": "stream",
          "name": "stdout",
          "text": [
            "Token 96: edit_entry_handler.php\n",
            "True label: 23\n",
            "Predicted label:\n",
            "['<s> Develop a token classification model to accurately identify and classify named entities label:\\n### Token:\\nedit_entry_handler.php\\n### label:\\n23</s>']\n",
            "\n"
          ]
        },
        {
          "output_type": "stream",
          "name": "stderr",
          "text": [
            "Setting `pad_token_id` to `eos_token_id`:2 for open-end generation.\n"
          ]
        },
        {
          "output_type": "stream",
          "name": "stdout",
          "text": [
            "Token 97: Enterprise\n",
            "True label: 17\n",
            "Predicted label:\n",
            "['<s> Develop a token classification model to accurately identify and classify named entities label:\\n### Token:\\nEnterprise\\n### label:\\n1</s>']\n",
            "\n"
          ]
        },
        {
          "output_type": "stream",
          "name": "stderr",
          "text": [
            "Setting `pad_token_id` to `eos_token_id`:2 for open-end generation.\n"
          ]
        },
        {
          "output_type": "stream",
          "name": "stdout",
          "text": [
            "Token 98: print_fatal_signal\n",
            "True label: 5\n",
            "Predicted label:\n",
            "['<s> Develop a token classification model to accurately identify and classify named entities label:\\n### Token:\\nprint_fatal_signal\\n### label:\\n5</s>']\n",
            "\n"
          ]
        },
        {
          "output_type": "stream",
          "name": "stderr",
          "text": [
            "Setting `pad_token_id` to `eos_token_id`:2 for open-end generation.\n"
          ]
        },
        {
          "output_type": "stream",
          "name": "stdout",
          "text": [
            "Token 99: VersionCheckDLL.dll\n",
            "True label: 4\n",
            "Predicted label:\n",
            "['<s> Develop a token classification model to accurately identify and classify named entities label:\\n### Token:\\nVersionCheckDLL.dll\\n### label:\\n23</s>']\n",
            "\n"
          ]
        },
        {
          "output_type": "stream",
          "name": "stderr",
          "text": [
            "Setting `pad_token_id` to `eos_token_id`:2 for open-end generation.\n"
          ]
        },
        {
          "output_type": "stream",
          "name": "stdout",
          "text": [
            "Token 100: injects\n",
            "True label: 23\n",
            "Predicted label:\n",
            "['<s> Develop a token classification model to accurately identify and classify named entities label:\\n### Token:\\ninjects\\n### label:\\n23</s>']\n",
            "\n"
          ]
        },
        {
          "output_type": "stream",
          "name": "stderr",
          "text": [
            "Setting `pad_token_id` to `eos_token_id`:2 for open-end generation.\n"
          ]
        },
        {
          "output_type": "stream",
          "name": "stdout",
          "text": [
            "Token 101: Pretty\n",
            "True label: 1\n",
            "Predicted label:\n",
            "['<s> Develop a token classification model to accurately identify and classify named entities label:\\n### Token:\\nPretty\\n### label:\\n1</s>']\n",
            "\n"
          ]
        },
        {
          "output_type": "stream",
          "name": "stderr",
          "text": [
            "Setting `pad_token_id` to `eos_token_id`:2 for open-end generation.\n"
          ]
        },
        {
          "output_type": "stream",
          "name": "stdout",
          "text": [
            "Token 102: CVE-2011-0770\n",
            "True label: 2\n",
            "Predicted label:\n",
            "['<s> Develop a token classification model to accurately identify and classify named entities label:\\n### Token:\\nCVE-2011-0770\\n### label:\\n2</s>']\n",
            "\n"
          ]
        },
        {
          "output_type": "stream",
          "name": "stderr",
          "text": [
            "Setting `pad_token_id` to `eos_token_id`:2 for open-end generation.\n"
          ]
        },
        {
          "output_type": "stream",
          "name": "stdout",
          "text": [
            "Token 103: CVE-2013-0426\n",
            "True label: 2\n",
            "Predicted label:\n",
            "['<s> Develop a token classification model to accurately identify and classify named entities label:\\n### Token:\\nCVE-2013-0426\\n### label:\\n2</s>']\n",
            "\n"
          ]
        },
        {
          "output_type": "stream",
          "name": "stderr",
          "text": [
            "Setting `pad_token_id` to `eos_token_id`:2 for open-end generation.\n"
          ]
        },
        {
          "output_type": "stream",
          "name": "stdout",
          "text": [
            "Token 104: libuser\n",
            "True label: 1\n",
            "Predicted label:\n",
            "['<s> Develop a token classification model to accurately identify and classify named entities label:\\n### Token:\\nlibuser\\n### label:\\n23</s>']\n",
            "\n"
          ]
        },
        {
          "output_type": "stream",
          "name": "stderr",
          "text": [
            "Setting `pad_token_id` to `eos_token_id`:2 for open-end generation.\n"
          ]
        },
        {
          "output_type": "stream",
          "name": "stdout",
          "text": [
            "Token 105: HF73\n",
            "True label: 22\n",
            "Predicted label:\n",
            "['<s> Develop a token classification model to accurately identify and classify named entities label:\\n### Token:\\nHF73\\n### label:\\n14</s>']\n",
            "\n"
          ]
        },
        {
          "output_type": "stream",
          "name": "stderr",
          "text": [
            "Setting `pad_token_id` to `eos_token_id`:2 for open-end generation.\n"
          ]
        },
        {
          "output_type": "stream",
          "name": "stdout",
          "text": [
            "Token 106: 0.2.3.21-rc\n",
            "True label: 22\n",
            "Predicted label:\n",
            "['<s> Develop a token classification model to accurately identify and classify named entities label:\\n### Token:\\n0.2.3.21-rc\\n### label:\\n22</s>']\n",
            "\n"
          ]
        },
        {
          "output_type": "stream",
          "name": "stderr",
          "text": [
            "Setting `pad_token_id` to `eos_token_id`:2 for open-end generation.\n"
          ]
        },
        {
          "output_type": "stream",
          "name": "stdout",
          "text": [
            "Token 107: 10.1.2.4\n",
            "True label: 14\n",
            "Predicted label:\n",
            "['<s> Develop a token classification model to accurately identify and classify named entities label:\\n### Token:\\n10.1.2.4\\n### label:\\n22</s>']\n",
            "\n"
          ]
        },
        {
          "output_type": "stream",
          "name": "stderr",
          "text": [
            "Setting `pad_token_id` to `eos_token_id`:2 for open-end generation.\n"
          ]
        },
        {
          "output_type": "stream",
          "name": "stdout",
          "text": [
            "Token 108: includes/inline_image_upload.php\n",
            "True label: 4\n",
            "Predicted label:\n",
            "['<s> Develop a token classification model to accurately identify and classify named entities label:\\n### Token:\\nincludes/inline_image_upload.php\\n### label:\\n4</s>']\n",
            "\n"
          ]
        },
        {
          "output_type": "stream",
          "name": "stderr",
          "text": [
            "Setting `pad_token_id` to `eos_token_id`:2 for open-end generation.\n"
          ]
        },
        {
          "output_type": "stream",
          "name": "stdout",
          "text": [
            "Token 109: check_tcp\n",
            "True label: 23\n",
            "Predicted label:\n",
            "['<s> Develop a token classification model to accurately identify and classify named entities label:\\n### Token:\\ncheck_tcp\\n### label:\\n5</s>']\n",
            "\n"
          ]
        },
        {
          "output_type": "stream",
          "name": "stderr",
          "text": [
            "Setting `pad_token_id` to `eos_token_id`:2 for open-end generation.\n"
          ]
        },
        {
          "output_type": "stream",
          "name": "stdout",
          "text": [
            "Token 110: Application.config.secret_token\n",
            "True label: 23\n",
            "Predicted label:\n",
            "['<s> Develop a token classification model to accurately identify and classify named entities label:\\n### Token:\\nApplication.config.secret_token\\n### label:\\n23</s>']\n",
            "\n"
          ]
        },
        {
          "output_type": "stream",
          "name": "stderr",
          "text": [
            "Setting `pad_token_id` to `eos_token_id`:2 for open-end generation.\n"
          ]
        },
        {
          "output_type": "stream",
          "name": "stdout",
          "text": [
            "Token 111: includes/base_state_common.inc.php\n",
            "True label: 4\n",
            "Predicted label:\n",
            "['<s> Develop a token classification model to accurately identify and classify named entities label:\\n### Token:\\nincludes/base_state_common.inc.php\\n### label:\\n4</s>']\n",
            "\n"
          ]
        },
        {
          "output_type": "stream",
          "name": "stderr",
          "text": [
            "Setting `pad_token_id` to `eos_token_id`:2 for open-end generation.\n"
          ]
        },
        {
          "output_type": "stream",
          "name": "stdout",
          "text": [
            "Token 112: 2.06p4\n",
            "True label: 14\n",
            "Predicted label:\n",
            "['<s> Develop a token classification model to accurately identify and classify named entities label:\\n### Token:\\n2.06p4\\n### label:\\n22</s>']\n",
            "\n"
          ]
        },
        {
          "output_type": "stream",
          "name": "stderr",
          "text": [
            "Setting `pad_token_id` to `eos_token_id`:2 for open-end generation.\n"
          ]
        },
        {
          "output_type": "stream",
          "name": "stdout",
          "text": [
            "Token 113: 5.5.28a\n",
            "True label: 14\n",
            "Predicted label:\n",
            "['<s> Develop a token classification model to accurately identify and classify named entities label:\\n### Token:\\n5.5.28a\\n### label:\\n22</s>']\n",
            "\n"
          ]
        },
        {
          "output_type": "stream",
          "name": "stderr",
          "text": [
            "Setting `pad_token_id` to `eos_token_id`:2 for open-end generation.\n"
          ]
        },
        {
          "output_type": "stream",
          "name": "stdout",
          "text": [
            "Token 114: 3.60\n",
            "True label: 14\n",
            "Predicted label:\n",
            "['<s> Develop a token classification model to accurately identify and classify named entities label:\\n### Token:\\n3.60\\n### label:\\n14</s>']\n",
            "\n"
          ]
        },
        {
          "output_type": "stream",
          "name": "stderr",
          "text": [
            "Setting `pad_token_id` to `eos_token_id`:2 for open-end generation.\n"
          ]
        },
        {
          "output_type": "stream",
          "name": "stdout",
          "text": [
            "Token 115: basicConstraints\n",
            "True label: 10\n",
            "Predicted label:\n",
            "['<s> Develop a token classification model to accurately identify and classify named entities label:\\n### Token:\\nbasicConstraints\\n### label:\\n23</s>']\n",
            "\n"
          ]
        },
        {
          "output_type": "stream",
          "name": "stderr",
          "text": [
            "Setting `pad_token_id` to `eos_token_id`:2 for open-end generation.\n"
          ]
        },
        {
          "output_type": "stream",
          "name": "stdout",
          "text": [
            "Token 116: Explzh\n",
            "True label: 1\n",
            "Predicted label:\n",
            "['<s> Develop a token classification model to accurately identify and classify named entities label:\\n### Token:\\nExplzh\\n### label:\\n1</s>']\n",
            "\n"
          ]
        },
        {
          "output_type": "stream",
          "name": "stderr",
          "text": [
            "Setting `pad_token_id` to `eos_token_id`:2 for open-end generation.\n"
          ]
        },
        {
          "output_type": "stream",
          "name": "stdout",
          "text": [
            "Token 117: Shopping\n",
            "True label: 23\n",
            "Predicted label:\n",
            "['<s> Develop a token classification model to accurately identify and classify named entities label:\\n### Token:\\nShopping\\n### label:\\n15</s>']\n",
            "\n"
          ]
        },
        {
          "output_type": "stream",
          "name": "stderr",
          "text": [
            "Setting `pad_token_id` to `eos_token_id`:2 for open-end generation.\n"
          ]
        },
        {
          "output_type": "stream",
          "name": "stdout",
          "text": [
            "Token 118: 802.1Q\n",
            "True label: 14\n",
            "Predicted label:\n",
            "['<s> Develop a token classification model to accurately identify and classify named entities label:\\n### Token:\\n802.1Q\\n### label:\\n23</s>']\n",
            "\n"
          ]
        },
        {
          "output_type": "stream",
          "name": "stderr",
          "text": [
            "Setting `pad_token_id` to `eos_token_id`:2 for open-end generation.\n"
          ]
        },
        {
          "output_type": "stream",
          "name": "stdout",
          "text": [
            "Token 119: CVE-2010-4087\n",
            "True label: 2\n",
            "Predicted label:\n",
            "['<s> Develop a token classification model to accurately identify and classify named entities label:\\n### Token:\\nCVE-2010-4087\\n### label:\\n2</s>']\n",
            "\n"
          ]
        },
        {
          "output_type": "stream",
          "name": "stderr",
          "text": [
            "Setting `pad_token_id` to `eos_token_id`:2 for open-end generation.\n"
          ]
        },
        {
          "output_type": "stream",
          "name": "stdout",
          "text": [
            "Token 120: inc/admin/content.php\n",
            "True label: 4\n",
            "Predicted label:\n",
            "['<s> Develop a token classification model to accurately identify and classify named entities label:\\n### Token:\\ninc/admin/content.php\\n### label:\\n4</s>']\n",
            "\n"
          ]
        },
        {
          "output_type": "stream",
          "name": "stderr",
          "text": [
            "Setting `pad_token_id` to `eos_token_id`:2 for open-end generation.\n"
          ]
        },
        {
          "output_type": "stream",
          "name": "stdout",
          "text": [
            "Token 121: load_mixer_volumes\n",
            "True label: 5\n",
            "Predicted label:\n",
            "['<s> Develop a token classification model to accurately identify and classify named entities label:\\n### Token:\\nload_mixer_volumes\\n### label:\\n5</s>']\n",
            "\n"
          ]
        },
        {
          "output_type": "stream",
          "name": "stderr",
          "text": [
            "Setting `pad_token_id` to `eos_token_id`:2 for open-end generation.\n"
          ]
        },
        {
          "output_type": "stream",
          "name": "stdout",
          "text": [
            "Token 122: 9.04\n",
            "True label: 14\n",
            "Predicted label:\n",
            "['<s> Develop a token classification model to accurately identify and classify named entities label:\\n### Token:\\n9.04\\n### label:\\n22</s>']\n",
            "\n"
          ]
        },
        {
          "output_type": "stream",
          "name": "stderr",
          "text": [
            "Setting `pad_token_id` to `eos_token_id`:2 for open-end generation.\n"
          ]
        },
        {
          "output_type": "stream",
          "name": "stdout",
          "text": [
            "Token 123: annotations\n",
            "True label: 23\n",
            "Predicted label:\n",
            "['<s> Develop a token classification model to accurately identify and classify named entities label:\\n### Token:\\nannotations\\n### label:\\n23</s>']\n",
            "\n"
          ]
        },
        {
          "output_type": "stream",
          "name": "stderr",
          "text": [
            "Setting `pad_token_id` to `eos_token_id`:2 for open-end generation.\n"
          ]
        },
        {
          "output_type": "stream",
          "name": "stdout",
          "text": [
            "Token 124: Malware\n",
            "True label: 1\n",
            "Predicted label:\n",
            "['<s> Develop a token classification model to accurately identify and classify named entities label:\\n### Token:\\nMalware\\n### label:\\n1</s>']\n",
            "\n"
          ]
        },
        {
          "output_type": "stream",
          "name": "stderr",
          "text": [
            "Setting `pad_token_id` to `eos_token_id`:2 for open-end generation.\n"
          ]
        },
        {
          "output_type": "stream",
          "name": "stdout",
          "text": [
            "Token 125: WCF\n",
            "True label: 23\n",
            "Predicted label:\n",
            "['<s> Develop a token classification model to accurately identify and classify named entities label:\\n### Token:\\nWCF\\n### label:\\n1</s>']\n",
            "\n"
          ]
        },
        {
          "output_type": "stream",
          "name": "stderr",
          "text": [
            "Setting `pad_token_id` to `eos_token_id`:2 for open-end generation.\n"
          ]
        },
        {
          "output_type": "stream",
          "name": "stdout",
          "text": [
            "Token 126: inserted\n",
            "True label: 23\n",
            "Predicted label:\n",
            "['<s> Develop a token classification model to accurately identify and classify named entities label:\\n### Token:\\ninserted\\n### label:\\n23</s>']\n",
            "\n"
          ]
        },
        {
          "output_type": "stream",
          "name": "stderr",
          "text": [
            "Setting `pad_token_id` to `eos_token_id`:2 for open-end generation.\n"
          ]
        },
        {
          "output_type": "stream",
          "name": "stdout",
          "text": [
            "Token 127: 0.9.7.5ubuntu5.x\n",
            "True label: 14\n",
            "Predicted label:\n",
            "['<s> Develop a token classification model to accurately identify and classify named entities label:\\n### Token:\\n0.9.7.5ubuntu5.x\\n### label:\\n22</s>']\n",
            "\n"
          ]
        },
        {
          "output_type": "stream",
          "name": "stderr",
          "text": [
            "Setting `pad_token_id` to `eos_token_id`:2 for open-end generation.\n"
          ]
        },
        {
          "output_type": "stream",
          "name": "stdout",
          "text": [
            "Token 128: application/controllers/json.php\n",
            "True label: 4\n",
            "Predicted label:\n",
            "['<s> Develop a token classification model to accurately identify and classify named entities label:\\n### Token:\\napplication/controllers/json.php\\n### label:\\n4</s>']\n",
            "\n"
          ]
        },
        {
          "output_type": "stream",
          "name": "stderr",
          "text": [
            "Setting `pad_token_id` to `eos_token_id`:2 for open-end generation.\n"
          ]
        },
        {
          "output_type": "stream",
          "name": "stdout",
          "text": [
            "Token 129: 09-50-03\n",
            "True label: 22\n",
            "Predicted label:\n",
            "['<s> Develop a token classification model to accurately identify and classify named entities label:\\n### Token:\\n09-50-03\\n### label:\\n22</s>']\n",
            "\n"
          ]
        },
        {
          "output_type": "stream",
          "name": "stderr",
          "text": [
            "Setting `pad_token_id` to `eos_token_id`:2 for open-end generation.\n"
          ]
        },
        {
          "output_type": "stream",
          "name": "stdout",
          "text": [
            "Token 130: 4.0.8\n",
            "True label: 22\n",
            "Predicted label:\n",
            "['<s> Develop a token classification model to accurately identify and classify named entities label:\\n### Token:\\n4.0.8\\n### label:\\n22</s>']\n",
            "\n"
          ]
        },
        {
          "output_type": "stream",
          "name": "stderr",
          "text": [
            "Setting `pad_token_id` to `eos_token_id`:2 for open-end generation.\n"
          ]
        },
        {
          "output_type": "stream",
          "name": "stdout",
          "text": [
            "Token 131: Emsisoft\n",
            "True label: 13\n",
            "Predicted label:\n",
            "['<s> Develop a token classification model to accurately identify and classify named entities label:\\n### Token:\\nEmsisoft\\n### label:\\n13</s>']\n",
            "\n"
          ]
        },
        {
          "output_type": "stream",
          "name": "stderr",
          "text": [
            "Setting `pad_token_id` to `eos_token_id`:2 for open-end generation.\n"
          ]
        },
        {
          "output_type": "stream",
          "name": "stdout",
          "text": [
            "Token 132: book/detail.php\n",
            "True label: 4\n",
            "Predicted label:\n",
            "['<s> Develop a token classification model to accurately identify and classify named entities label:\\n### Token:\\nbook/detail.php\\n### label:\\n4</s>']\n",
            "\n"
          ]
        },
        {
          "output_type": "stream",
          "name": "stderr",
          "text": [
            "Setting `pad_token_id` to `eos_token_id`:2 for open-end generation.\n"
          ]
        },
        {
          "output_type": "stream",
          "name": "stdout",
          "text": [
            "Token 133: 1.5.0.1\n",
            "True label: 14\n",
            "Predicted label:\n",
            "['<s> Develop a token classification model to accurately identify and classify named entities label:\\n### Token:\\n1.5.0.1\\n### label:\\n22</s>']\n",
            "\n"
          ]
        },
        {
          "output_type": "stream",
          "name": "stderr",
          "text": [
            "Setting `pad_token_id` to `eos_token_id`:2 for open-end generation.\n"
          ]
        },
        {
          "output_type": "stream",
          "name": "stdout",
          "text": [
            "Token 134: rendering/RenderBox.cpp\n",
            "True label: 4\n",
            "Predicted label:\n",
            "['<s> Develop a token classification model to accurately identify and classify named entities label:\\n### Token:\\nrendering/RenderBox.cpp\\n### label:\\n4</s>']\n",
            "\n"
          ]
        },
        {
          "output_type": "stream",
          "name": "stderr",
          "text": [
            "Setting `pad_token_id` to `eos_token_id`:2 for open-end generation.\n"
          ]
        },
        {
          "output_type": "stream",
          "name": "stdout",
          "text": [
            "Token 135: webMI2ADS\n",
            "True label: 1\n",
            "Predicted label:\n",
            "['<s> Develop a token classification model to accurately identify and classify named entities label:\\n### Token:\\nwebMI2ADS\\n### label:\\n1</s>']\n",
            "\n"
          ]
        },
        {
          "output_type": "stream",
          "name": "stderr",
          "text": [
            "Setting `pad_token_id` to `eos_token_id`:2 for open-end generation.\n"
          ]
        },
        {
          "output_type": "stream",
          "name": "stdout",
          "text": [
            "Token 136: email\n",
            "True label: 1\n",
            "Predicted label:\n",
            "['<s> Develop a token classification model to accurately identify and classify named entities label:\\n### Token:\\nemail\\n### label:\\n23</s>']\n",
            "\n"
          ]
        },
        {
          "output_type": "stream",
          "name": "stderr",
          "text": [
            "Setting `pad_token_id` to `eos_token_id`:2 for open-end generation.\n"
          ]
        },
        {
          "output_type": "stream",
          "name": "stdout",
          "text": [
            "Token 137: 2.6.37-rc7\n",
            "True label: 22\n",
            "Predicted label:\n",
            "['<s> Develop a token classification model to accurately identify and classify named entities label:\\n### Token:\\n2.6.37-rc7\\n### label:\\n22</s>']\n",
            "\n"
          ]
        },
        {
          "output_type": "stream",
          "name": "stderr",
          "text": [
            "Setting `pad_token_id` to `eos_token_id`:2 for open-end generation.\n"
          ]
        },
        {
          "output_type": "stream",
          "name": "stdout",
          "text": [
            "Token 138: DOCUMENT_ROOT\n",
            "True label: 10\n",
            "Predicted label:\n",
            "['<s> Develop a token classification model to accurately identify and classify named entities label:\\n### Token:\\nDOCUMENT_ROOT\\n### label:\\n23</s>']\n",
            "\n"
          ]
        },
        {
          "output_type": "stream",
          "name": "stderr",
          "text": [
            "Setting `pad_token_id` to `eos_token_id`:2 for open-end generation.\n"
          ]
        },
        {
          "output_type": "stream",
          "name": "stdout",
          "text": [
            "Token 139: Canteen\n",
            "True label: 23\n",
            "Predicted label:\n",
            "['<s> Develop a token classification model to accurately identify and classify named entities label:\\n### Token:\\nCanteen\\n### label:\\n1</s>']\n",
            "\n"
          ]
        },
        {
          "output_type": "stream",
          "name": "stderr",
          "text": [
            "Setting `pad_token_id` to `eos_token_id`:2 for open-end generation.\n"
          ]
        },
        {
          "output_type": "stream",
          "name": "stdout",
          "text": [
            "Token 140: MSM8960\n",
            "True label: 6\n",
            "Predicted label:\n",
            "['<s> Develop a token classification model to accurately identify and classify named entities label:\\n### Token:\\nMSM8960\\n### label:\\n1</s>']\n",
            "\n"
          ]
        },
        {
          "output_type": "stream",
          "name": "stderr",
          "text": [
            "Setting `pad_token_id` to `eos_token_id`:2 for open-end generation.\n"
          ]
        },
        {
          "output_type": "stream",
          "name": "stdout",
          "text": [
            "Token 141: search_result.asp\n",
            "True label: 23\n",
            "Predicted label:\n",
            "['<s> Develop a token classification model to accurately identify and classify named entities label:\\n### Token:\\nsearch_result.asp\\n### label:\\n23</s>']\n",
            "\n"
          ]
        },
        {
          "output_type": "stream",
          "name": "stderr",
          "text": [
            "Setting `pad_token_id` to `eos_token_id`:2 for open-end generation.\n"
          ]
        },
        {
          "output_type": "stream",
          "name": "stdout",
          "text": [
            "Token 142: forumread\n",
            "True label: 23\n",
            "Predicted label:\n",
            "['<s> Develop a token classification model to accurately identify and classify named entities label:\\n### Token:\\nforumread\\n### label:\\n23</s>']\n",
            "\n"
          ]
        },
        {
          "output_type": "stream",
          "name": "stderr",
          "text": [
            "Setting `pad_token_id` to `eos_token_id`:2 for open-end generation.\n"
          ]
        },
        {
          "output_type": "stream",
          "name": "stdout",
          "text": [
            "Token 143: blog/index.php\n",
            "True label: 4\n",
            "Predicted label:\n",
            "['<s> Develop a token classification model to accurately identify and classify named entities label:\\n### Token:\\nblog/index.php\\n### label:\\n4</s>']\n",
            "\n"
          ]
        },
        {
          "output_type": "stream",
          "name": "stderr",
          "text": [
            "Setting `pad_token_id` to `eos_token_id`:2 for open-end generation.\n"
          ]
        },
        {
          "output_type": "stream",
          "name": "stdout",
          "text": [
            "Token 144: extension_name\n",
            "True label: 10\n",
            "Predicted label:\n",
            "['<s> Develop a token classification model to accurately identify and classify named entities label:\\n### Token:\\nextension_name\\n### label:\\n23</s>']\n",
            "\n"
          ]
        },
        {
          "output_type": "stream",
          "name": "stderr",
          "text": [
            "Setting `pad_token_id` to `eos_token_id`:2 for open-end generation.\n"
          ]
        },
        {
          "output_type": "stream",
          "name": "stdout",
          "text": [
            "Token 145: q[]\n",
            "True label: 23\n",
            "Predicted label:\n",
            "['<s> Develop a token classification model to accurately identify and classify named entities label:\\n### Token:\\nq[]\\n### label:\\n23</s>']\n",
            "\n"
          ]
        },
        {
          "output_type": "stream",
          "name": "stderr",
          "text": [
            "Setting `pad_token_id` to `eos_token_id`:2 for open-end generation.\n"
          ]
        },
        {
          "output_type": "stream",
          "name": "stdout",
          "text": [
            "Token 146: 9.1-RELEASE-p3\n",
            "True label: 22\n",
            "Predicted label:\n",
            "['<s> Develop a token classification model to accurately identify and classify named entities label:\\n### Token:\\n9.1-RELEASE-p3\\n### label:\\n22</s>']\n",
            "\n"
          ]
        },
        {
          "output_type": "stream",
          "name": "stderr",
          "text": [
            "Setting `pad_token_id` to `eos_token_id`:2 for open-end generation.\n"
          ]
        },
        {
          "output_type": "stream",
          "name": "stdout",
          "text": [
            "Token 147: RealFlex\n",
            "True label: 13\n",
            "Predicted label:\n",
            "['<s> Develop a token classification model to accurately identify and classify named entities label:\\n### Token:\\nRealFlex\\n### label:\\n1</s>']\n",
            "\n"
          ]
        },
        {
          "output_type": "stream",
          "name": "stderr",
          "text": [
            "Setting `pad_token_id` to `eos_token_id`:2 for open-end generation.\n"
          ]
        },
        {
          "output_type": "stream",
          "name": "stdout",
          "text": [
            "Token 148: admin/formFilter\n",
            "True label: 23\n",
            "Predicted label:\n",
            "['<s> Develop a token classification model to accurately identify and classify named entities label:\\n### Token:\\nadmin/formFilter\\n### label:\\n23</s>']\n",
            "\n"
          ]
        },
        {
          "output_type": "stream",
          "name": "stderr",
          "text": [
            "Setting `pad_token_id` to `eos_token_id`:2 for open-end generation.\n"
          ]
        },
        {
          "output_type": "stream",
          "name": "stdout",
          "text": [
            "Token 149: TextXtra.x32\n",
            "True label: 4\n",
            "Predicted label:\n",
            "['<s> Develop a token classification model to accurately identify and classify named entities label:\\n### Token:\\nTextXtra.x32\\n### label:\\n23</s>']\n",
            "\n"
          ]
        },
        {
          "output_type": "stream",
          "name": "stderr",
          "text": [
            "Setting `pad_token_id` to `eos_token_id`:2 for open-end generation.\n"
          ]
        },
        {
          "output_type": "stream",
          "name": "stdout",
          "text": [
            "Token 150: 1.24\n",
            "True label: 14\n",
            "Predicted label:\n",
            "['<s> Develop a token classification model to accurately identify and classify named entities label:\\n### Token:\\n1.24\\n### label:\\n14</s>']\n",
            "\n"
          ]
        },
        {
          "output_type": "stream",
          "name": "stderr",
          "text": [
            "Setting `pad_token_id` to `eos_token_id`:2 for open-end generation.\n"
          ]
        },
        {
          "output_type": "stream",
          "name": "stdout",
          "text": [
            "Token 151: 0.99.18\n",
            "True label: 22\n",
            "Predicted label:\n",
            "['<s> Develop a token classification model to accurately identify and classify named entities label:\\n### Token:\\n0.99.18\\n### label:\\n22</s>']\n",
            "\n"
          ]
        },
        {
          "output_type": "stream",
          "name": "stderr",
          "text": [
            "Setting `pad_token_id` to `eos_token_id`:2 for open-end generation.\n"
          ]
        },
        {
          "output_type": "stream",
          "name": "stdout",
          "text": [
            "Token 152: 4.3.0.CP08\n",
            "True label: 22\n",
            "Predicted label:\n",
            "['<s> Develop a token classification model to accurately identify and classify named entities label:\\n### Token:\\n4.3.0.CP08\\n### label:\\n22</s>']\n",
            "\n"
          ]
        },
        {
          "output_type": "stream",
          "name": "stderr",
          "text": [
            "Setting `pad_token_id` to `eos_token_id`:2 for open-end generation.\n"
          ]
        },
        {
          "output_type": "stream",
          "name": "stdout",
          "text": [
            "Token 153: argument-switch\n",
            "True label: 23\n",
            "Predicted label:\n",
            "['<s> Develop a token classification model to accurately identify and classify named entities label:\\n### Token:\\nargument-switch\\n### label:\\n23</s>']\n",
            "\n"
          ]
        },
        {
          "output_type": "stream",
          "name": "stderr",
          "text": [
            "Setting `pad_token_id` to `eos_token_id`:2 for open-end generation.\n"
          ]
        },
        {
          "output_type": "stream",
          "name": "stdout",
          "text": [
            "Token 154: 9.0.2.27051\n",
            "True label: 14\n",
            "Predicted label:\n",
            "['<s> Develop a token classification model to accurately identify and classify named entities label:\\n### Token:\\n9.0.2.27051\\n### label:\\n22</s>']\n",
            "\n"
          ]
        },
        {
          "output_type": "stream",
          "name": "stderr",
          "text": [
            "Setting `pad_token_id` to `eos_token_id`:2 for open-end generation.\n"
          ]
        },
        {
          "output_type": "stream",
          "name": "stdout",
          "text": [
            "Token 155: Powie\n",
            "True label: 13\n",
            "Predicted label:\n",
            "['<s> Develop a token classification model to accurately identify and classify named entities label:\\n### Token:\\nPowie\\n### label:\\n1</s>']\n",
            "\n"
          ]
        },
        {
          "output_type": "stream",
          "name": "stderr",
          "text": [
            "Setting `pad_token_id` to `eos_token_id`:2 for open-end generation.\n"
          ]
        },
        {
          "output_type": "stream",
          "name": "stdout",
          "text": [
            "Token 156: 7.4.00\n",
            "True label: 14\n",
            "Predicted label:\n",
            "['<s> Develop a token classification model to accurately identify and classify named entities label:\\n### Token:\\n7.4.00\\n### label:\\n22</s>']\n",
            "\n"
          ]
        },
        {
          "output_type": "stream",
          "name": "stderr",
          "text": [
            "Setting `pad_token_id` to `eos_token_id`:2 for open-end generation.\n"
          ]
        },
        {
          "output_type": "stream",
          "name": "stdout",
          "text": [
            "Token 157: copy_creds\n",
            "True label: 5\n",
            "Predicted label:\n",
            "['<s> Develop a token classification model to accurately identify and classify named entities label:\\n### Token:\\ncopy_creds\\n### label:\\n5</s>']\n",
            "\n"
          ]
        },
        {
          "output_type": "stream",
          "name": "stderr",
          "text": [
            "Setting `pad_token_id` to `eos_token_id`:2 for open-end generation.\n"
          ]
        },
        {
          "output_type": "stream",
          "name": "stdout",
          "text": [
            "Token 158: dropdown\n",
            "True label: 23\n",
            "Predicted label:\n",
            "['<s> Develop a token classification model to accurately identify and classify named entities label:\\n### Token:\\ndropdown\\n### label:\\n23</s>']\n",
            "\n"
          ]
        },
        {
          "output_type": "stream",
          "name": "stderr",
          "text": [
            "Setting `pad_token_id` to `eos_token_id`:2 for open-end generation.\n"
          ]
        },
        {
          "output_type": "stream",
          "name": "stdout",
          "text": [
            "Token 159: Breakfast\n",
            "True label: 15\n",
            "Predicted label:\n",
            "['<s> Develop a token classification model to accurately identify and classify named entities label:\\n### Token:\\nBreakfast\\n### label:\\n15</s>']\n",
            "\n"
          ]
        },
        {
          "output_type": "stream",
          "name": "stderr",
          "text": [
            "Setting `pad_token_id` to `eos_token_id`:2 for open-end generation.\n"
          ]
        },
        {
          "output_type": "stream",
          "name": "stdout",
          "text": [
            "Token 160: 1.11.1\n",
            "True label: 22\n",
            "Predicted label:\n",
            "['<s> Develop a token classification model to accurately identify and classify named entities label:\\n### Token:\\n1.11.1\\n### label:\\n22</s>']\n",
            "\n"
          ]
        },
        {
          "output_type": "stream",
          "name": "stderr",
          "text": [
            "Setting `pad_token_id` to `eos_token_id`:2 for open-end generation.\n"
          ]
        },
        {
          "output_type": "stream",
          "name": "stdout",
          "text": [
            "Token 161: Skia\n",
            "True label: 23\n",
            "Predicted label:\n",
            "['<s> Develop a token classification model to accurately identify and classify named entities label:\\n### Token:\\nSkia\\n### label:\\n1</s>']\n",
            "\n"
          ]
        },
        {
          "output_type": "stream",
          "name": "stderr",
          "text": [
            "Setting `pad_token_id` to `eos_token_id`:2 for open-end generation.\n"
          ]
        },
        {
          "output_type": "stream",
          "name": "stdout",
          "text": [
            "Token 162: CVE-2009-2408\n",
            "True label: 2\n",
            "Predicted label:\n",
            "['<s> Develop a token classification model to accurately identify and classify named entities label:\\n### Token:\\nCVE-2009-2408\\n### label:\\n2</s>']\n",
            "\n"
          ]
        },
        {
          "output_type": "stream",
          "name": "stderr",
          "text": [
            "Setting `pad_token_id` to `eos_token_id`:2 for open-end generation.\n"
          ]
        },
        {
          "output_type": "stream",
          "name": "stdout",
          "text": [
            "Token 163: admin_user/mod_admuser.php\n",
            "True label: 4\n",
            "Predicted label:\n",
            "['<s> Develop a token classification model to accurately identify and classify named entities label:\\n### Token:\\nadmin_user/mod_admuser.php\\n### label:\\n4</s>']\n",
            "\n"
          ]
        },
        {
          "output_type": "stream",
          "name": "stderr",
          "text": [
            "Setting `pad_token_id` to `eos_token_id`:2 for open-end generation.\n"
          ]
        },
        {
          "output_type": "stream",
          "name": "stdout",
          "text": [
            "Token 164: Oyun\n",
            "True label: 15\n",
            "Predicted label:\n",
            "['<s> Develop a token classification model to accurately identify and classify named entities label:\\n### Token:\\nOyun\\n### label:\\n1</s>']\n",
            "\n"
          ]
        },
        {
          "output_type": "stream",
          "name": "stderr",
          "text": [
            "Setting `pad_token_id` to `eos_token_id`:2 for open-end generation.\n"
          ]
        },
        {
          "output_type": "stream",
          "name": "stdout",
          "text": [
            "Token 165: Authplay.dll\n",
            "True label: 23\n",
            "Predicted label:\n",
            "['<s> Develop a token classification model to accurately identify and classify named entities label:\\n### Token:\\nAuthplay.dll\\n### label:\\n23</s>']\n",
            "\n"
          ]
        },
        {
          "output_type": "stream",
          "name": "stderr",
          "text": [
            "Setting `pad_token_id` to `eos_token_id`:2 for open-end generation.\n"
          ]
        },
        {
          "output_type": "stream",
          "name": "stdout",
          "text": [
            "Token 166: hashing\n",
            "True label: 23\n",
            "Predicted label:\n",
            "['<s> Develop a token classification model to accurately identify and classify named entities label:\\n### Token:\\nhashing\\n### label:\\n23</s>']\n",
            "\n"
          ]
        },
        {
          "output_type": "stream",
          "name": "stderr",
          "text": [
            "Setting `pad_token_id` to `eos_token_id`:2 for open-end generation.\n"
          ]
        },
        {
          "output_type": "stream",
          "name": "stdout",
          "text": [
            "Token 167: October\n",
            "True label: 23\n",
            "Predicted label:\n",
            "['<s> Develop a token classification model to accurately identify and classify named entities label:\\n### Token:\\nOctober\\n### label:\\n1</s>']\n",
            "\n"
          ]
        },
        {
          "output_type": "stream",
          "name": "stderr",
          "text": [
            "Setting `pad_token_id` to `eos_token_id`:2 for open-end generation.\n"
          ]
        },
        {
          "output_type": "stream",
          "name": "stdout",
          "text": [
            "Token 168: Ettercap\n",
            "True label: 1\n",
            "Predicted label:\n",
            "['<s> Develop a token classification model to accurately identify and classify named entities label:\\n### Token:\\nEttercap\\n### label:\\n1</s>']\n",
            "\n"
          ]
        },
        {
          "output_type": "stream",
          "name": "stderr",
          "text": [
            "Setting `pad_token_id` to `eos_token_id`:2 for open-end generation.\n"
          ]
        },
        {
          "output_type": "stream",
          "name": "stdout",
          "text": [
            "Token 169: Lite\n",
            "True label: 15\n",
            "Predicted label:\n",
            "['<s> Develop a token classification model to accurately identify and classify named entities label:\\n### Token:\\nLite\\n### label:\\n1</s>']\n",
            "\n"
          ]
        },
        {
          "output_type": "stream",
          "name": "stderr",
          "text": [
            "Setting `pad_token_id` to `eos_token_id`:2 for open-end generation.\n"
          ]
        },
        {
          "output_type": "stream",
          "name": "stdout",
          "text": [
            "Token 170: libs/Atmail/SendMsg.php\n",
            "True label: 4\n",
            "Predicted label:\n",
            "['<s> Develop a token classification model to accurately identify and classify named entities label:\\n### Token:\\nlibs/Atmail/SendMsg.php\\n### label:\\n4</s>']\n",
            "\n"
          ]
        },
        {
          "output_type": "stream",
          "name": "stderr",
          "text": [
            "Setting `pad_token_id` to `eos_token_id`:2 for open-end generation.\n"
          ]
        },
        {
          "output_type": "stream",
          "name": "stdout",
          "text": [
            "Token 171: carga_foto_al.php\n",
            "True label: 23\n",
            "Predicted label:\n",
            "['<s> Develop a token classification model to accurately identify and classify named entities label:\\n### Token:\\ncarga_foto_al.php\\n### label:\\n23</s>']\n",
            "\n"
          ]
        },
        {
          "output_type": "stream",
          "name": "stderr",
          "text": [
            "Setting `pad_token_id` to `eos_token_id`:2 for open-end generation.\n"
          ]
        },
        {
          "output_type": "stream",
          "name": "stdout",
          "text": [
            "Token 172: CSTR\n",
            "True label: 13\n",
            "Predicted label:\n",
            "['<s> Develop a token classification model to accurately identify and classify named entities label:\\n### Token:\\nCSTR\\n### label:\\n23</s>']\n",
            "\n"
          ]
        },
        {
          "output_type": "stream",
          "name": "stderr",
          "text": [
            "Setting `pad_token_id` to `eos_token_id`:2 for open-end generation.\n"
          ]
        },
        {
          "output_type": "stream",
          "name": "stdout",
          "text": [
            "Token 173: CVE-2013-0626\n",
            "True label: 2\n",
            "Predicted label:\n",
            "['<s> Develop a token classification model to accurately identify and classify named entities label:\\n### Token:\\nCVE-2013-0626\\n### label:\\n2</s>']\n",
            "\n"
          ]
        },
        {
          "output_type": "stream",
          "name": "stderr",
          "text": [
            "Setting `pad_token_id` to `eos_token_id`:2 for open-end generation.\n"
          ]
        },
        {
          "output_type": "stream",
          "name": "stdout",
          "text": [
            "Token 174: tiki-rss_error.php\n",
            "True label: 23\n",
            "Predicted label:\n",
            "['<s> Develop a token classification model to accurately identify and classify named entities label:\\n### Token:\\ntiki-rss_error.php\\n### label:\\n23</s>']\n",
            "\n"
          ]
        },
        {
          "output_type": "stream",
          "name": "stderr",
          "text": [
            "Setting `pad_token_id` to `eos_token_id`:2 for open-end generation.\n"
          ]
        },
        {
          "output_type": "stream",
          "name": "stdout",
          "text": [
            "Token 175: template\n",
            "True label: 23\n",
            "Predicted label:\n",
            "['<s> Develop a token classification model to accurately identify and classify named entities label:\\n### Token:\\ntemplate\\n### label:\\n23</s>']\n",
            "\n"
          ]
        },
        {
          "output_type": "stream",
          "name": "stderr",
          "text": [
            "Setting `pad_token_id` to `eos_token_id`:2 for open-end generation.\n"
          ]
        },
        {
          "output_type": "stream",
          "name": "stdout",
          "text": [
            "Token 176: by\n",
            "True label: 15\n",
            "Predicted label:\n",
            "['<s> Develop a token classification model to accurately identify and classify named entities label:\\n### Token:\\nby\\n### label:\\n23</s>']\n",
            "\n"
          ]
        },
        {
          "output_type": "stream",
          "name": "stderr",
          "text": [
            "Setting `pad_token_id` to `eos_token_id`:2 for open-end generation.\n"
          ]
        },
        {
          "output_type": "stream",
          "name": "stdout",
          "text": [
            "Token 177: RC4\n",
            "True label: 12\n",
            "Predicted label:\n",
            "['<s> Develop a token classification model to accurately identify and classify named entities label:\\n### Token:\\nRC4\\n### label:\\n1</s>']\n",
            "\n"
          ]
        },
        {
          "output_type": "stream",
          "name": "stderr",
          "text": [
            "Setting `pad_token_id` to `eos_token_id`:2 for open-end generation.\n"
          ]
        },
        {
          "output_type": "stream",
          "name": "stdout",
          "text": [
            "Token 178: CVE-2012-4358\n",
            "True label: 2\n",
            "Predicted label:\n",
            "['<s> Develop a token classification model to accurately identify and classify named entities label:\\n### Token:\\nCVE-2012-4358\\n### label:\\n2</s>']\n",
            "\n"
          ]
        },
        {
          "output_type": "stream",
          "name": "stderr",
          "text": [
            "Setting `pad_token_id` to `eos_token_id`:2 for open-end generation.\n"
          ]
        },
        {
          "output_type": "stream",
          "name": "stdout",
          "text": [
            "Token 179: 1.01\n",
            "True label: 22\n",
            "Predicted label:\n",
            "['<s> Develop a token classification model to accurately identify and classify named entities label:\\n### Token:\\n1.01\\n### label:\\n14</s>']\n",
            "\n"
          ]
        },
        {
          "output_type": "stream",
          "name": "stderr",
          "text": [
            "Setting `pad_token_id` to `eos_token_id`:2 for open-end generation.\n"
          ]
        },
        {
          "output_type": "stream",
          "name": "stdout",
          "text": [
            "Token 180: XWiki\n",
            "True label: 1\n",
            "Predicted label:\n",
            "['<s> Develop a token classification model to accurately identify and classify named entities label:\\n### Token:\\nXWiki\\n### label:\\n1</s>']\n",
            "\n"
          ]
        },
        {
          "output_type": "stream",
          "name": "stderr",
          "text": [
            "Setting `pad_token_id` to `eos_token_id`:2 for open-end generation.\n"
          ]
        },
        {
          "output_type": "stream",
          "name": "stdout",
          "text": [
            "Token 181: CVE-2012-1599\n",
            "True label: 2\n",
            "Predicted label:\n",
            "['<s> Develop a token classification model to accurately identify and classify named entities label:\\n### Token:\\nCVE-2012-1599\\n### label:\\n2</s>']\n",
            "\n"
          ]
        },
        {
          "output_type": "stream",
          "name": "stderr",
          "text": [
            "Setting `pad_token_id` to `eos_token_id`:2 for open-end generation.\n"
          ]
        },
        {
          "output_type": "stream",
          "name": "stdout",
          "text": [
            "Token 182: rquota_svc.c\n",
            "True label: 23\n",
            "Predicted label:\n",
            "['<s> Develop a token classification model to accurately identify and classify named entities label:\\n### Token:\\nrquota_svc.c\\n### label:\\n4</s>']\n",
            "\n"
          ]
        },
        {
          "output_type": "stream",
          "name": "stderr",
          "text": [
            "Setting `pad_token_id` to `eos_token_id`:2 for open-end generation.\n"
          ]
        },
        {
          "output_type": "stream",
          "name": "stdout",
          "text": [
            "Token 183: Twidroyd\n",
            "True label: 1\n",
            "Predicted label:\n",
            "['<s> Develop a token classification model to accurately identify and classify named entities label:\\n### Token:\\nTwidroyd\\n### label:\\n1</s>']\n",
            "\n"
          ]
        },
        {
          "output_type": "stream",
          "name": "stderr",
          "text": [
            "Setting `pad_token_id` to `eos_token_id`:2 for open-end generation.\n"
          ]
        },
        {
          "output_type": "stream",
          "name": "stdout",
          "text": [
            "Token 184: manager/news.php\n",
            "True label: 4\n",
            "Predicted label:\n",
            "['<s> Develop a token classification model to accurately identify and classify named entities label:\\n### Token:\\nmanager/news.php\\n### label:\\n4</s>']\n",
            "\n"
          ]
        },
        {
          "output_type": "stream",
          "name": "stderr",
          "text": [
            "Setting `pad_token_id` to `eos_token_id`:2 for open-end generation.\n"
          ]
        },
        {
          "output_type": "stream",
          "name": "stdout",
          "text": [
            "Token 185: MP5\n",
            "True label: 12\n",
            "Predicted label:\n",
            "['<s> Develop a token classification model to accurately identify and classify named entities label:\\n### Token:\\nMP5\\n### label:\\n1</s>']\n",
            "\n"
          ]
        },
        {
          "output_type": "stream",
          "name": "stderr",
          "text": [
            "Setting `pad_token_id` to `eos_token_id`:2 for open-end generation.\n"
          ]
        },
        {
          "output_type": "stream",
          "name": "stdout",
          "text": [
            "Token 186: Guestbook\n",
            "True label: 15\n",
            "Predicted label:\n",
            "['<s> Develop a token classification model to accurately identify and classify named entities label:\\n### Token:\\nGuestbook\\n### label:\\n1</s>']\n",
            "\n"
          ]
        },
        {
          "output_type": "stream",
          "name": "stderr",
          "text": [
            "Setting `pad_token_id` to `eos_token_id`:2 for open-end generation.\n"
          ]
        },
        {
          "output_type": "stream",
          "name": "stdout",
          "text": [
            "Token 187: Reports\n",
            "True label: 15\n",
            "Predicted label:\n",
            "['<s> Develop a token classification model to accurately identify and classify named entities label:\\n### Token:\\nReports\\n### label:\\n15</s>']\n",
            "\n"
          ]
        },
        {
          "output_type": "stream",
          "name": "stderr",
          "text": [
            "Setting `pad_token_id` to `eos_token_id`:2 for open-end generation.\n"
          ]
        },
        {
          "output_type": "stream",
          "name": "stdout",
          "text": [
            "Token 188: DVRobot.dll\n",
            "True label: 4\n",
            "Predicted label:\n",
            "['<s> Develop a token classification model to accurately identify and classify named entities label:\\n### Token:\\nDVRobot.dll\\n### label:\\n23</s>']\n",
            "\n"
          ]
        },
        {
          "output_type": "stream",
          "name": "stderr",
          "text": [
            "Setting `pad_token_id` to `eos_token_id`:2 for open-end generation.\n"
          ]
        },
        {
          "output_type": "stream",
          "name": "stdout",
          "text": [
            "Token 189: BUILD\n",
            "True label: 23\n",
            "Predicted label:\n",
            "['<s> Develop a token classification model to accurately identify and classify named entities label:\\n### Token:\\nBUILD\\n### label:\\n23</s>']\n",
            "\n"
          ]
        },
        {
          "output_type": "stream",
          "name": "stderr",
          "text": [
            "Setting `pad_token_id` to `eos_token_id`:2 for open-end generation.\n"
          ]
        },
        {
          "output_type": "stream",
          "name": "stdout",
          "text": [
            "Token 190: post_content\n",
            "True label: 10\n",
            "Predicted label:\n",
            "['<s> Develop a token classification model to accurately identify and classify named entities label:\\n### Token:\\npost_content\\n### label:\\n23</s>']\n",
            "\n"
          ]
        },
        {
          "output_type": "stream",
          "name": "stderr",
          "text": [
            "Setting `pad_token_id` to `eos_token_id`:2 for open-end generation.\n"
          ]
        },
        {
          "output_type": "stream",
          "name": "stdout",
          "text": [
            "Token 191: areas\n",
            "True label: 23\n",
            "Predicted label:\n",
            "['<s> Develop a token classification model to accurately identify and classify named entities label:\\n### Token:\\nareas\\n### label:\\n23</s>']\n",
            "\n"
          ]
        },
        {
          "output_type": "stream",
          "name": "stderr",
          "text": [
            "Setting `pad_token_id` to `eos_token_id`:2 for open-end generation.\n"
          ]
        },
        {
          "output_type": "stream",
          "name": "stdout",
          "text": [
            "Token 192: 12.x\n",
            "True label: 14\n",
            "Predicted label:\n",
            "['<s> Develop a token classification model to accurately identify and classify named entities label:\\n### Token:\\n12.x\\n### label:\\n14</s>']\n",
            "\n"
          ]
        },
        {
          "output_type": "stream",
          "name": "stderr",
          "text": [
            "Setting `pad_token_id` to `eos_token_id`:2 for open-end generation.\n"
          ]
        },
        {
          "output_type": "stream",
          "name": "stdout",
          "text": [
            "Token 193: 1.17.3\n",
            "True label: 22\n",
            "Predicted label:\n",
            "['<s> Develop a token classification model to accurately identify and classify named entities label:\\n### Token:\\n1.17.3\\n### label:\\n22</s>']\n",
            "\n"
          ]
        },
        {
          "output_type": "stream",
          "name": "stderr",
          "text": [
            "Setting `pad_token_id` to `eos_token_id`:2 for open-end generation.\n"
          ]
        },
        {
          "output_type": "stream",
          "name": "stdout",
          "text": [
            "Token 194: 1.05\n",
            "True label: 22\n",
            "Predicted label:\n",
            "['<s> Develop a token classification model to accurately identify and classify named entities label:\\n### Token:\\n1.05\\n### label:\\n14</s>']\n",
            "\n"
          ]
        },
        {
          "output_type": "stream",
          "name": "stderr",
          "text": [
            "Setting `pad_token_id` to `eos_token_id`:2 for open-end generation.\n"
          ]
        },
        {
          "output_type": "stream",
          "name": "stdout",
          "text": [
            "Token 195: Stereoscopic\n",
            "True label: 23\n",
            "Predicted label:\n",
            "['<s> Develop a token classification model to accurately identify and classify named entities label:\\n### Token:\\nStereoscopic\\n### label:\\n1</s>']\n",
            "\n"
          ]
        },
        {
          "output_type": "stream",
          "name": "stderr",
          "text": [
            "Setting `pad_token_id` to `eos_token_id`:2 for open-end generation.\n"
          ]
        },
        {
          "output_type": "stream",
          "name": "stdout",
          "text": [
            "Token 196: PLIB\n",
            "True label: 1\n",
            "Predicted label:\n",
            "['<s> Develop a token classification model to accurately identify and classify named entities label:\\n### Token:\\nPLIB\\n### label:\\n23</s>']\n",
            "\n"
          ]
        },
        {
          "output_type": "stream",
          "name": "stderr",
          "text": [
            "Setting `pad_token_id` to `eos_token_id`:2 for open-end generation.\n"
          ]
        },
        {
          "output_type": "stream",
          "name": "stdout",
          "text": [
            "Token 197: addlimit.asp\n",
            "True label: 23\n",
            "Predicted label:\n",
            "['<s> Develop a token classification model to accurately identify and classify named entities label:\\n### Token:\\naddlimit.asp\\n### label:\\n23</s>']\n",
            "\n"
          ]
        },
        {
          "output_type": "stream",
          "name": "stderr",
          "text": [
            "Setting `pad_token_id` to `eos_token_id`:2 for open-end generation.\n"
          ]
        },
        {
          "output_type": "stream",
          "name": "stdout",
          "text": [
            "Token 198: 1.3.1\n",
            "True label: 14\n",
            "Predicted label:\n",
            "['<s> Develop a token classification model to accurately identify and classify named entities label:\\n### Token:\\n1.3.1\\n### label:\\n22</s>']\n",
            "\n"
          ]
        },
        {
          "output_type": "stream",
          "name": "stderr",
          "text": [
            "Setting `pad_token_id` to `eos_token_id`:2 for open-end generation.\n"
          ]
        },
        {
          "output_type": "stream",
          "name": "stdout",
          "text": [
            "Token 199: Remote\n",
            "True label: 1\n",
            "Predicted label:\n",
            "['<s> Develop a token classification model to accurately identify and classify named entities label:\\n### Token:\\nRemote\\n### label:\\n15</s>']\n",
            "\n"
          ]
        },
        {
          "output_type": "stream",
          "name": "stderr",
          "text": [
            "Setting `pad_token_id` to `eos_token_id`:2 for open-end generation.\n"
          ]
        },
        {
          "output_type": "stream",
          "name": "stdout",
          "text": [
            "Token 200: svc_run\n",
            "True label: 5\n",
            "Predicted label:\n",
            "['<s> Develop a token classification model to accurately identify and classify named entities label:\\n### Token:\\nsvc_run\\n### label:\\n5</s>']\n",
            "\n"
          ]
        },
        {
          "output_type": "stream",
          "name": "stderr",
          "text": [
            "Setting `pad_token_id` to `eos_token_id`:2 for open-end generation.\n"
          ]
        },
        {
          "output_type": "stream",
          "name": "stdout",
          "text": [
            "Token 201: M-JPEG\n",
            "True label: 23\n",
            "Predicted label:\n",
            "['<s> Develop a token classification model to accurately identify and classify named entities label:\\n### Token:\\nM-JPEG\\n### label:\\n23</s>']\n",
            "\n"
          ]
        },
        {
          "output_type": "stream",
          "name": "stderr",
          "text": [
            "Setting `pad_token_id` to `eos_token_id`:2 for open-end generation.\n"
          ]
        },
        {
          "output_type": "stream",
          "name": "stdout",
          "text": [
            "Token 202: i.e\n",
            "True label: 23\n",
            "Predicted label:\n",
            "['<s> Develop a token classification model to accurately identify and classify named entities label:\\n### Token:\\ni.e\\n### label:\\n23</s>']\n",
            "\n"
          ]
        },
        {
          "output_type": "stream",
          "name": "stderr",
          "text": [
            "Setting `pad_token_id` to `eos_token_id`:2 for open-end generation.\n"
          ]
        },
        {
          "output_type": "stream",
          "name": "stdout",
          "text": [
            "Token 203: rlm_eap_tls.c\n",
            "True label: 4\n",
            "Predicted label:\n",
            "['<s> Develop a token classification model to accurately identify and classify named entities label:\\n### Token:\\nrlm_eap_tls.c\\n### label:\\n4</s>']\n",
            "\n"
          ]
        },
        {
          "output_type": "stream",
          "name": "stderr",
          "text": [
            "Setting `pad_token_id` to `eos_token_id`:2 for open-end generation.\n"
          ]
        },
        {
          "output_type": "stream",
          "name": "stdout",
          "text": [
            "Token 204: 20120304\n",
            "True label: 22\n",
            "Predicted label:\n",
            "['<s> Develop a token classification model to accurately identify and classify named entities label:\\n### Token:\\n20120304\\n### label:\\n22</s>']\n",
            "\n"
          ]
        },
        {
          "output_type": "stream",
          "name": "stderr",
          "text": [
            "Setting `pad_token_id` to `eos_token_id`:2 for open-end generation.\n"
          ]
        },
        {
          "output_type": "stream",
          "name": "stdout",
          "text": [
            "Token 205: Analyzer\n",
            "True label: 23\n",
            "Predicted label:\n",
            "['<s> Develop a token classification model to accurately identify and classify named entities label:\\n### Token:\\nAnalyzer\\n### label:\\n15</s>']\n",
            "\n"
          ]
        },
        {
          "output_type": "stream",
          "name": "stderr",
          "text": [
            "Setting `pad_token_id` to `eos_token_id`:2 for open-end generation.\n"
          ]
        },
        {
          "output_type": "stream",
          "name": "stdout",
          "text": [
            "Token 206: service-account\n",
            "True label: 23\n",
            "Predicted label:\n",
            "['<s> Develop a token classification model to accurately identify and classify named entities label:\\n### Token:\\nservice-account\\n### label:\\n23</s>']\n",
            "\n"
          ]
        },
        {
          "output_type": "stream",
          "name": "stderr",
          "text": [
            "Setting `pad_token_id` to `eos_token_id`:2 for open-end generation.\n"
          ]
        },
        {
          "output_type": "stream",
          "name": "stdout",
          "text": [
            "Token 207: CSCty11323\n",
            "True label: 23\n",
            "Predicted label:\n",
            "['<s> Develop a token classification model to accurately identify and classify named entities label:\\n### Token:\\nCSCty11323\\n### label:\\n23</s>']\n",
            "\n"
          ]
        },
        {
          "output_type": "stream",
          "name": "stderr",
          "text": [
            "Setting `pad_token_id` to `eos_token_id`:2 for open-end generation.\n"
          ]
        },
        {
          "output_type": "stream",
          "name": "stdout",
          "text": [
            "Token 208: qu_id\n",
            "True label: 10\n",
            "Predicted label:\n",
            "['<s> Develop a token classification model to accurately identify and classify named entities label:\\n### Token:\\nqu_id\\n### label:\\n23</s>']\n",
            "\n"
          ]
        },
        {
          "output_type": "stream",
          "name": "stderr",
          "text": [
            "Setting `pad_token_id` to `eos_token_id`:2 for open-end generation.\n"
          ]
        },
        {
          "output_type": "stream",
          "name": "stdout",
          "text": [
            "Token 209: default_user_name\n",
            "True label: 23\n",
            "Predicted label:\n",
            "['<s> Develop a token classification model to accurately identify and classify named entities label:\\n### Token:\\ndefault_user_name\\n### label:\\n23</s>']\n",
            "\n"
          ]
        },
        {
          "output_type": "stream",
          "name": "stderr",
          "text": [
            "Setting `pad_token_id` to `eos_token_id`:2 for open-end generation.\n"
          ]
        },
        {
          "output_type": "stream",
          "name": "stdout",
          "text": [
            "Token 210: NPAPI\n",
            "True label: 15\n",
            "Predicted label:\n",
            "['<s> Develop a token classification model to accurately identify and classify named entities label:\\n### Token:\\nNPAPI\\n### label:\\n23</s>']\n",
            "\n"
          ]
        },
        {
          "output_type": "stream",
          "name": "stderr",
          "text": [
            "Setting `pad_token_id` to `eos_token_id`:2 for open-end generation.\n"
          ]
        },
        {
          "output_type": "stream",
          "name": "stdout",
          "text": [
            "Token 211: 9.0.136\n",
            "True label: 14\n",
            "Predicted label:\n",
            "['<s> Develop a token classification model to accurately identify and classify named entities label:\\n### Token:\\n9.0.136\\n### label:\\n22</s>']\n",
            "\n"
          ]
        },
        {
          "output_type": "stream",
          "name": "stderr",
          "text": [
            "Setting `pad_token_id` to `eos_token_id`:2 for open-end generation.\n"
          ]
        },
        {
          "output_type": "stream",
          "name": "stdout",
          "text": [
            "Token 212: security/security_manager.c\n",
            "True label: 4\n",
            "Predicted label:\n",
            "['<s> Develop a token classification model to accurately identify and classify named entities label:\\n### Token:\\nsecurity/security_manager.c\\n### label:\\n4</s>']\n",
            "\n"
          ]
        },
        {
          "output_type": "stream",
          "name": "stderr",
          "text": [
            "Setting `pad_token_id` to `eos_token_id`:2 for open-end generation.\n"
          ]
        },
        {
          "output_type": "stream",
          "name": "stdout",
          "text": [
            "Token 213: input_file\n",
            "True label: 10\n",
            "Predicted label:\n",
            "['<s> Develop a token classification model to accurately identify and classify named entities label:\\n### Token:\\ninput_file\\n### label:\\n23</s>']\n",
            "\n"
          ]
        },
        {
          "output_type": "stream",
          "name": "stderr",
          "text": [
            "Setting `pad_token_id` to `eos_token_id`:2 for open-end generation.\n"
          ]
        },
        {
          "output_type": "stream",
          "name": "stdout",
          "text": [
            "Token 214: Basic\n",
            "True label: 12\n",
            "Predicted label:\n",
            "['<s> Develop a token classification model to accurately identify and classify named entities label:\\n### Token:\\nBasic\\n### label:\\n1</s>']\n",
            "\n"
          ]
        },
        {
          "output_type": "stream",
          "name": "stderr",
          "text": [
            "Setting `pad_token_id` to `eos_token_id`:2 for open-end generation.\n"
          ]
        },
        {
          "output_type": "stream",
          "name": "stdout",
          "text": [
            "Token 215: 5.0.6\n",
            "True label: 22\n",
            "Predicted label:\n",
            "['<s> Develop a token classification model to accurately identify and classify named entities label:\\n### Token:\\n5.0.6\\n### label:\\n22</s>']\n",
            "\n"
          ]
        },
        {
          "output_type": "stream",
          "name": "stderr",
          "text": [
            "Setting `pad_token_id` to `eos_token_id`:2 for open-end generation.\n"
          ]
        },
        {
          "output_type": "stream",
          "name": "stdout",
          "text": [
            "Token 216: column\n",
            "True label: 23\n",
            "Predicted label:\n",
            "['<s> Develop a token classification model to accurately identify and classify named entities label:\\n### Token:\\ncolumn\\n### label:\\n23</s>']\n",
            "\n"
          ]
        },
        {
          "output_type": "stream",
          "name": "stderr",
          "text": [
            "Setting `pad_token_id` to `eos_token_id`:2 for open-end generation.\n"
          ]
        },
        {
          "output_type": "stream",
          "name": "stdout",
          "text": [
            "Token 217: 1.198\n",
            "True label: 14\n",
            "Predicted label:\n",
            "['<s> Develop a token classification model to accurately identify and classify named entities label:\\n### Token:\\n1.198\\n### label:\\n22</s>']\n",
            "\n"
          ]
        },
        {
          "output_type": "stream",
          "name": "stderr",
          "text": [
            "Setting `pad_token_id` to `eos_token_id`:2 for open-end generation.\n"
          ]
        },
        {
          "output_type": "stream",
          "name": "stdout",
          "text": [
            "Token 218: arch/x86/xen/xen-asm_32.S\n",
            "True label: 4\n",
            "Predicted label:\n",
            "['<s> Develop a token classification model to accurately identify and classify named entities label:\\n### Token:\\narch/x86/xen/xen-asm_32.S\\n### label:\\n4</s>']\n",
            "\n"
          ]
        },
        {
          "output_type": "stream",
          "name": "stderr",
          "text": [
            "Setting `pad_token_id` to `eos_token_id`:2 for open-end generation.\n"
          ]
        },
        {
          "output_type": "stream",
          "name": "stdout",
          "text": [
            "Token 219: Homepage\n",
            "True label: 1\n",
            "Predicted label:\n",
            "['<s> Develop a token classification model to accurately identify and classify named entities label:\\n### Token:\\nHomepage\\n### label:\\n1</s>']\n",
            "\n"
          ]
        },
        {
          "output_type": "stream",
          "name": "stderr",
          "text": [
            "Setting `pad_token_id` to `eos_token_id`:2 for open-end generation.\n"
          ]
        },
        {
          "output_type": "stream",
          "name": "stdout",
          "text": [
            "Token 220: 1800-24G\n",
            "True label: 14\n",
            "Predicted label:\n",
            "['<s> Develop a token classification model to accurately identify and classify named entities label:\\n### Token:\\n1800-24G\\n### label:\\n14</s>']\n",
            "\n"
          ]
        },
        {
          "output_type": "stream",
          "name": "stderr",
          "text": [
            "Setting `pad_token_id` to `eos_token_id`:2 for open-end generation.\n"
          ]
        },
        {
          "output_type": "stream",
          "name": "stdout",
          "text": [
            "Token 221: administrative\n",
            "True label: 19\n",
            "Predicted label:\n",
            "['<s> Develop a token classification model to accurately identify and classify named entities label:\\n### Token:\\nadministrative\\n### label:\\n23</s>']\n",
            "\n"
          ]
        },
        {
          "output_type": "stream",
          "name": "stderr",
          "text": [
            "Setting `pad_token_id` to `eos_token_id`:2 for open-end generation.\n"
          ]
        },
        {
          "output_type": "stream",
          "name": "stdout",
          "text": [
            "Token 222: 7.3.x\n",
            "True label: 14\n",
            "Predicted label:\n",
            "['<s> Develop a token classification model to accurately identify and classify named entities label:\\n### Token:\\n7.3.x\\n### label:\\n22</s>']\n",
            "\n"
          ]
        },
        {
          "output_type": "stream",
          "name": "stderr",
          "text": [
            "Setting `pad_token_id` to `eos_token_id`:2 for open-end generation.\n"
          ]
        },
        {
          "output_type": "stream",
          "name": "stdout",
          "text": [
            "Token 223: ActionScript\n",
            "True label: 5\n",
            "Predicted label:\n",
            "['<s> Develop a token classification model to accurately identify and classify named entities label:\\n### Token:\\nActionScript\\n### label:\\n1</s>']\n",
            "\n"
          ]
        },
        {
          "output_type": "stream",
          "name": "stderr",
          "text": [
            "Setting `pad_token_id` to `eos_token_id`:2 for open-end generation.\n"
          ]
        },
        {
          "output_type": "stream",
          "name": "stdout",
          "text": [
            "Token 224: R14.6v14\n",
            "True label: 22\n",
            "Predicted label:\n",
            "['<s> Develop a token classification model to accurately identify and classify named entities label:\\n### Token:\\nR14.6v14\\n### label:\\n22</s>']\n",
            "\n"
          ]
        },
        {
          "output_type": "stream",
          "name": "stderr",
          "text": [
            "Setting `pad_token_id` to `eos_token_id`:2 for open-end generation.\n"
          ]
        },
        {
          "output_type": "stream",
          "name": "stdout",
          "text": [
            "Token 225: net/l2tp/l2tp_ppp.c\n",
            "True label: 4\n",
            "Predicted label:\n",
            "['<s> Develop a token classification model to accurately identify and classify named entities label:\\n### Token:\\nnet/l2tp/l2tp_ppp.c\\n### label:\\n4</s>']\n",
            "\n"
          ]
        },
        {
          "output_type": "stream",
          "name": "stderr",
          "text": [
            "Setting `pad_token_id` to `eos_token_id`:2 for open-end generation.\n"
          ]
        },
        {
          "output_type": "stream",
          "name": "stdout",
          "text": [
            "Token 226: LMI\n",
            "True label: 23\n",
            "Predicted label:\n",
            "['<s> Develop a token classification model to accurately identify and classify named entities label:\\n### Token:\\nLMI\\n### label:\\n13</s>']\n",
            "\n"
          ]
        },
        {
          "output_type": "stream",
          "name": "stderr",
          "text": [
            "Setting `pad_token_id` to `eos_token_id`:2 for open-end generation.\n"
          ]
        },
        {
          "output_type": "stream",
          "name": "stdout",
          "text": [
            "Token 227: collectd\n",
            "True label: 1\n",
            "Predicted label:\n",
            "['<s> Develop a token classification model to accurately identify and classify named entities label:\\n### Token:\\ncollectd\\n### label:\\n23</s>']\n",
            "\n"
          ]
        },
        {
          "output_type": "stream",
          "name": "stderr",
          "text": [
            "Setting `pad_token_id` to `eos_token_id`:2 for open-end generation.\n"
          ]
        },
        {
          "output_type": "stream",
          "name": "stdout",
          "text": [
            "Token 228: fs/nfs/nfs4proc.c\n",
            "True label: 4\n",
            "Predicted label:\n",
            "['<s> Develop a token classification model to accurately identify and classify named entities label:\\n### Token:\\nfs/nfs/nfs4proc.c\\n### label:\\n4</s>']\n",
            "\n"
          ]
        },
        {
          "output_type": "stream",
          "name": "stderr",
          "text": [
            "Setting `pad_token_id` to `eos_token_id`:2 for open-end generation.\n"
          ]
        },
        {
          "output_type": "stream",
          "name": "stdout",
          "text": [
            "Token 229: nsXULCommandDispatcher\n",
            "True label: 5\n",
            "Predicted label:\n",
            "['<s> Develop a token classification model to accurately identify and classify named entities label:\\n### Token:\\nnsXULCommandDispatcher\\n### label:\\n23</s>']\n",
            "\n"
          ]
        },
        {
          "output_type": "stream",
          "name": "stderr",
          "text": [
            "Setting `pad_token_id` to `eos_token_id`:2 for open-end generation.\n"
          ]
        },
        {
          "output_type": "stream",
          "name": "stdout",
          "text": [
            "Token 230: WRT54GX\n",
            "True label: 6\n",
            "Predicted label:\n",
            "['<s> Develop a token classification model to accurately identify and classify named entities label:\\n### Token:\\nWRT54GX\\n### label:\\n1</s>']\n",
            "\n"
          ]
        },
        {
          "output_type": "stream",
          "name": "stderr",
          "text": [
            "Setting `pad_token_id` to `eos_token_id`:2 for open-end generation.\n"
          ]
        },
        {
          "output_type": "stream",
          "name": "stdout",
          "text": [
            "Token 231: 2.6.38-rc6-git3\n",
            "True label: 22\n",
            "Predicted label:\n",
            "['<s> Develop a token classification model to accurately identify and classify named entities label:\\n### Token:\\n2.6.38-rc6-git3\\n### label:\\n22</s>']\n",
            "\n"
          ]
        },
        {
          "output_type": "stream",
          "name": "stderr",
          "text": [
            "Setting `pad_token_id` to `eos_token_id`:2 for open-end generation.\n"
          ]
        },
        {
          "output_type": "stream",
          "name": "stdout",
          "text": [
            "Token 232: xen/arch/x86/hvm/hvm.c\n",
            "True label: 4\n",
            "Predicted label:\n",
            "['<s> Develop a token classification model to accurately identify and classify named entities label:\\n### Token:\\nxen/arch/x86/hvm/hvm.c\\n### label:\\n4</s>']\n",
            "\n"
          ]
        },
        {
          "output_type": "stream",
          "name": "stderr",
          "text": [
            "Setting `pad_token_id` to `eos_token_id`:2 for open-end generation.\n"
          ]
        },
        {
          "output_type": "stream",
          "name": "stdout",
          "text": [
            "Token 233: 229.281\n",
            "True label: 22\n",
            "Predicted label:\n",
            "['<s> Develop a token classification model to accurately identify and classify named entities label:\\n### Token:\\n229.281\\n### label:\\n22</s>']\n",
            "\n"
          ]
        },
        {
          "output_type": "stream",
          "name": "stderr",
          "text": [
            "Setting `pad_token_id` to `eos_token_id`:2 for open-end generation.\n"
          ]
        },
        {
          "output_type": "stream",
          "name": "stdout",
          "text": [
            "Token 234: virtio_blk_handle_read\n",
            "True label: 5\n",
            "Predicted label:\n",
            "['<s> Develop a token classification model to accurately identify and classify named entities label:\\n### Token:\\nvirtio_blk_handle_read\\n### label:\\n5</s>']\n",
            "\n"
          ]
        },
        {
          "output_type": "stream",
          "name": "stderr",
          "text": [
            "Setting `pad_token_id` to `eos_token_id`:2 for open-end generation.\n"
          ]
        },
        {
          "output_type": "stream",
          "name": "stdout",
          "text": [
            "Token 235: 7.x-1.x-rc1\n",
            "True label: 14\n",
            "Predicted label:\n",
            "['<s> Develop a token classification model to accurately identify and classify named entities label:\\n### Token:\\n7.x-1.x-rc1\\n### label:\\n22</s>']\n",
            "\n"
          ]
        },
        {
          "output_type": "stream",
          "name": "stderr",
          "text": [
            "Setting `pad_token_id` to `eos_token_id`:2 for open-end generation.\n"
          ]
        },
        {
          "output_type": "stream",
          "name": "stdout",
          "text": [
            "Token 236: mlfi_envrcpt\n",
            "True label: 5\n",
            "Predicted label:\n",
            "['<s> Develop a token classification model to accurately identify and classify named entities label:\\n### Token:\\nmlfi_envrcpt\\n### label:\\n23</s>']\n",
            "\n"
          ]
        },
        {
          "output_type": "stream",
          "name": "stderr",
          "text": [
            "Setting `pad_token_id` to `eos_token_id`:2 for open-end generation.\n"
          ]
        },
        {
          "output_type": "stream",
          "name": "stdout",
          "text": [
            "Token 237: 2.6.17\n",
            "True label: 22\n",
            "Predicted label:\n",
            "['<s> Develop a token classification model to accurately identify and classify named entities label:\\n### Token:\\n2.6.17\\n### label:\\n22</s>']\n",
            "\n"
          ]
        },
        {
          "output_type": "stream",
          "name": "stderr",
          "text": [
            "Setting `pad_token_id` to `eos_token_id`:2 for open-end generation.\n"
          ]
        },
        {
          "output_type": "stream",
          "name": "stdout",
          "text": [
            "Token 238: 8.51.04\n",
            "True label: 22\n",
            "Predicted label:\n",
            "['<s> Develop a token classification model to accurately identify and classify named entities label:\\n### Token:\\n8.51.04\\n### label:\\n22</s>']\n",
            "\n"
          ]
        },
        {
          "output_type": "stream",
          "name": "stderr",
          "text": [
            "Setting `pad_token_id` to `eos_token_id`:2 for open-end generation.\n"
          ]
        },
        {
          "output_type": "stream",
          "name": "stdout",
          "text": [
            "Token 239: httparty\n",
            "True label: 1\n",
            "Predicted label:\n",
            "['<s> Develop a token classification model to accurately identify and classify named entities label:\\n### Token:\\nhttparty\\n### label:\\n23</s>']\n",
            "\n"
          ]
        },
        {
          "output_type": "stream",
          "name": "stderr",
          "text": [
            "Setting `pad_token_id` to `eos_token_id`:2 for open-end generation.\n"
          ]
        },
        {
          "output_type": "stream",
          "name": "stdout",
          "text": [
            "Token 240: SonicWALL\n",
            "True label: 13\n",
            "Predicted label:\n",
            "['<s> Develop a token classification model to accurately identify and classify named entities label:\\n### Token:\\nSonicWALL\\n### label:\\n13</s>']\n",
            "\n"
          ]
        },
        {
          "output_type": "stream",
          "name": "stderr",
          "text": [
            "Setting `pad_token_id` to `eos_token_id`:2 for open-end generation.\n"
          ]
        },
        {
          "output_type": "stream",
          "name": "stdout",
          "text": [
            "Token 241: 3.5.3\n",
            "True label: 14\n",
            "Predicted label:\n",
            "['<s> Develop a token classification model to accurately identify and classify named entities label:\\n### Token:\\n3.5.3\\n### label:\\n22</s>']\n",
            "\n"
          ]
        },
        {
          "output_type": "stream",
          "name": "stderr",
          "text": [
            "Setting `pad_token_id` to `eos_token_id`:2 for open-end generation.\n"
          ]
        },
        {
          "output_type": "stream",
          "name": "stdout",
          "text": [
            "Token 242: backend/dvi/mdvi-lib/afmparse.c\n",
            "True label: 4\n",
            "Predicted label:\n",
            "['<s> Develop a token classification model to accurately identify and classify named entities label:\\n### Token:\\nbackend/dvi/mdvi-lib/afmparse.c\\n### label:\\n4</s>']\n",
            "\n"
          ]
        },
        {
          "output_type": "stream",
          "name": "stderr",
          "text": [
            "Setting `pad_token_id` to `eos_token_id`:2 for open-end generation.\n"
          ]
        },
        {
          "output_type": "stream",
          "name": "stdout",
          "text": [
            "Token 243: PrintControl.dll\n",
            "True label: 1\n",
            "Predicted label:\n",
            "['<s> Develop a token classification model to accurately identify and classify named entities label:\\n### Token:\\nPrintControl.dll\\n### label:\\n4</s>']\n",
            "\n"
          ]
        },
        {
          "output_type": "stream",
          "name": "stderr",
          "text": [
            "Setting `pad_token_id` to `eos_token_id`:2 for open-end generation.\n"
          ]
        },
        {
          "output_type": "stream",
          "name": "stdout",
          "text": [
            "Token 244: 0.4.4\n",
            "True label: 22\n",
            "Predicted label:\n",
            "['<s> Develop a token classification model to accurately identify and classify named entities label:\\n### Token:\\n0.4.4\\n### label:\\n14</s>']\n",
            "\n"
          ]
        },
        {
          "output_type": "stream",
          "name": "stderr",
          "text": [
            "Setting `pad_token_id` to `eos_token_id`:2 for open-end generation.\n"
          ]
        },
        {
          "output_type": "stream",
          "name": "stdout",
          "text": [
            "Token 245: CamScanner\n",
            "True label: 1\n",
            "Predicted label:\n",
            "['<s> Develop a token classification model to accurately identify and classify named entities label:\\n### Token:\\nCamScanner\\n### label:\\n1</s>']\n",
            "\n"
          ]
        },
        {
          "output_type": "stream",
          "name": "stderr",
          "text": [
            "Setting `pad_token_id` to `eos_token_id`:2 for open-end generation.\n"
          ]
        },
        {
          "output_type": "stream",
          "name": "stdout",
          "text": [
            "Token 246: bbs\n",
            "True label: 15\n",
            "Predicted label:\n",
            "['<s> Develop a token classification model to accurately identify and classify named entities label:\\n### Token:\\nbbs\\n### label:\\n23</s>']\n",
            "\n"
          ]
        },
        {
          "output_type": "stream",
          "name": "stderr",
          "text": [
            "Setting `pad_token_id` to `eos_token_id`:2 for open-end generation.\n"
          ]
        },
        {
          "output_type": "stream",
          "name": "stdout",
          "text": [
            "Token 247: Output\n",
            "True label: 1\n",
            "Predicted label:\n",
            "['<s> Develop a token classification model to accurately identify and classify named entities label:\\n### Token:\\nOutput\\n### label:\\n23</s>']\n",
            "\n"
          ]
        },
        {
          "output_type": "stream",
          "name": "stderr",
          "text": [
            "Setting `pad_token_id` to `eos_token_id`:2 for open-end generation.\n"
          ]
        },
        {
          "output_type": "stream",
          "name": "stdout",
          "text": [
            "Token 248: apply_rcs_change\n",
            "True label: 5\n",
            "Predicted label:\n",
            "['<s> Develop a token classification model to accurately identify and classify named entities label:\\n### Token:\\napply_rcs_change\\n### label:\\n5</s>']\n",
            "\n"
          ]
        },
        {
          "output_type": "stream",
          "name": "stderr",
          "text": [
            "Setting `pad_token_id` to `eos_token_id`:2 for open-end generation.\n"
          ]
        },
        {
          "output_type": "stream",
          "name": "stdout",
          "text": [
            "Token 249: WebCore/html/HTMLLinkElement.cpp\n",
            "True label: 4\n",
            "Predicted label:\n",
            "['<s> Develop a token classification model to accurately identify and classify named entities label:\\n### Token:\\nWebCore/html/HTMLLinkElement.cpp\\n### label:\\n4</s>']\n",
            "\n"
          ]
        },
        {
          "output_type": "stream",
          "name": "stderr",
          "text": [
            "Setting `pad_token_id` to `eos_token_id`:2 for open-end generation.\n"
          ]
        },
        {
          "output_type": "stream",
          "name": "stdout",
          "text": [
            "Token 250: PhpHostBot\n",
            "True label: 1\n",
            "Predicted label:\n",
            "['<s> Develop a token classification model to accurately identify and classify named entities label:\\n### Token:\\nPhpHostBot\\n### label:\\n1</s>']\n",
            "\n"
          ]
        },
        {
          "output_type": "stream",
          "name": "stderr",
          "text": [
            "Setting `pad_token_id` to `eos_token_id`:2 for open-end generation.\n"
          ]
        },
        {
          "output_type": "stream",
          "name": "stdout",
          "text": [
            "Token 251: Font\n",
            "True label: 1\n",
            "Predicted label:\n",
            "['<s> Develop a token classification model to accurately identify and classify named entities label:\\n### Token:\\nFont\\n### label:\\n15</s>']\n",
            "\n"
          ]
        },
        {
          "output_type": "stream",
          "name": "stderr",
          "text": [
            "Setting `pad_token_id` to `eos_token_id`:2 for open-end generation.\n"
          ]
        },
        {
          "output_type": "stream",
          "name": "stdout",
          "text": [
            "Token 252: CVE-2011-0622\n",
            "True label: 2\n",
            "Predicted label:\n",
            "['<s> Develop a token classification model to accurately identify and classify named entities label:\\n### Token:\\nCVE-2011-0622\\n### label:\\n2</s>']\n",
            "\n"
          ]
        },
        {
          "output_type": "stream",
          "name": "stderr",
          "text": [
            "Setting `pad_token_id` to `eos_token_id`:2 for open-end generation.\n"
          ]
        },
        {
          "output_type": "stream",
          "name": "stdout",
          "text": [
            "Token 253: 5.1.48\n",
            "True label: 22\n",
            "Predicted label:\n",
            "['<s> Develop a token classification model to accurately identify and classify named entities label:\\n### Token:\\n5.1.48\\n### label:\\n22</s>']\n",
            "\n"
          ]
        },
        {
          "output_type": "stream",
          "name": "stderr",
          "text": [
            "Setting `pad_token_id` to `eos_token_id`:2 for open-end generation.\n"
          ]
        },
        {
          "output_type": "stream",
          "name": "stdout",
          "text": [
            "Token 254: 1.17\n",
            "True label: 22\n",
            "Predicted label:\n",
            "['<s> Develop a token classification model to accurately identify and classify named entities label:\\n### Token:\\n1.17\\n### label:\\n14</s>']\n",
            "\n"
          ]
        },
        {
          "output_type": "stream",
          "name": "stderr",
          "text": [
            "Setting `pad_token_id` to `eos_token_id`:2 for open-end generation.\n"
          ]
        },
        {
          "output_type": "stream",
          "name": "stdout",
          "text": [
            "Token 255: 1.438\n",
            "True label: 22\n",
            "Predicted label:\n",
            "['<s> Develop a token classification model to accurately identify and classify named entities label:\\n### Token:\\n1.438\\n### label:\\n22</s>']\n",
            "\n"
          ]
        },
        {
          "output_type": "stream",
          "name": "stderr",
          "text": [
            "Setting `pad_token_id` to `eos_token_id`:2 for open-end generation.\n"
          ]
        },
        {
          "output_type": "stream",
          "name": "stdout",
          "text": [
            "Token 256: BPM\n",
            "True label: 15\n",
            "Predicted label:\n",
            "['<s> Develop a token classification model to accurately identify and classify named entities label:\\n### Token:\\nBPM\\n### label:\\n15</s>']\n",
            "\n"
          ]
        },
        {
          "output_type": "stream",
          "name": "stderr",
          "text": [
            "Setting `pad_token_id` to `eos_token_id`:2 for open-end generation.\n"
          ]
        },
        {
          "output_type": "stream",
          "name": "stdout",
          "text": [
            "Token 257: OM/Core/Site/Admin/Application/templates_modules_layout/pages/edit.php\n",
            "True label: 4\n",
            "Predicted label:\n",
            "['<s> Develop a token classification model to accurately identify and classify named entities label:\\n### Token:\\nOM/Core/Site/Admin/Application/templates_modules_layout/pages/edit.php\\n### label:\\n4</s>']\n",
            "\n"
          ]
        },
        {
          "output_type": "stream",
          "name": "stderr",
          "text": [
            "Setting `pad_token_id` to `eos_token_id`:2 for open-end generation.\n"
          ]
        },
        {
          "output_type": "stream",
          "name": "stdout",
          "text": [
            "Token 258: 10.54\n",
            "True label: 22\n",
            "Predicted label:\n",
            "['<s> Develop a token classification model to accurately identify and classify named entities label:\\n### Token:\\n10.54\\n### label:\\n22</s>']\n",
            "\n"
          ]
        },
        {
          "output_type": "stream",
          "name": "stderr",
          "text": [
            "Setting `pad_token_id` to `eos_token_id`:2 for open-end generation.\n"
          ]
        },
        {
          "output_type": "stream",
          "name": "stdout",
          "text": [
            "Token 259: 2.3.10\n",
            "True label: 22\n",
            "Predicted label:\n",
            "['<s> Develop a token classification model to accurately identify and classify named entities label:\\n### Token:\\n2.3.10\\n### label:\\n22</s>']\n",
            "\n"
          ]
        },
        {
          "output_type": "stream",
          "name": "stderr",
          "text": [
            "Setting `pad_token_id` to `eos_token_id`:2 for open-end generation.\n"
          ]
        },
        {
          "output_type": "stream",
          "name": "stdout",
          "text": [
            "Token 260: pyanaconda/bootloader.py\n",
            "True label: 4\n",
            "Predicted label:\n",
            "['<s> Develop a token classification model to accurately identify and classify named entities label:\\n### Token:\\npyanaconda/bootloader.py\\n### label:\\n4</s>']\n",
            "\n"
          ]
        },
        {
          "output_type": "stream",
          "name": "stderr",
          "text": [
            "Setting `pad_token_id` to `eos_token_id`:2 for open-end generation.\n"
          ]
        },
        {
          "output_type": "stream",
          "name": "stdout",
          "text": [
            "Token 261: loadPropertyFile\n",
            "True label: 8\n",
            "Predicted label:\n",
            "['<s> Develop a token classification model to accurately identify and classify named entities label:\\n### Token:\\nloadPropertyFile\\n### label:\\n5</s>']\n",
            "\n"
          ]
        },
        {
          "output_type": "stream",
          "name": "stderr",
          "text": [
            "Setting `pad_token_id` to `eos_token_id`:2 for open-end generation.\n"
          ]
        },
        {
          "output_type": "stream",
          "name": "stdout",
          "text": [
            "Token 262: google:jingleinfo\n",
            "True label: 23\n",
            "Predicted label:\n",
            "['<s> Develop a token classification model to accurately identify and classify named entities label:\\n### Token:\\ngoogle:jingleinfo\\n### label:\\n23</s>']\n",
            "\n"
          ]
        },
        {
          "output_type": "stream",
          "name": "stderr",
          "text": [
            "Setting `pad_token_id` to `eos_token_id`:2 for open-end generation.\n"
          ]
        },
        {
          "output_type": "stream",
          "name": "stdout",
          "text": [
            "Token 263: messageString\n",
            "True label: 10\n",
            "Predicted label:\n",
            "['<s> Develop a token classification model to accurately identify and classify named entities label:\\n### Token:\\nmessageString\\n### label:\\n23</s>']\n",
            "\n"
          ]
        },
        {
          "output_type": "stream",
          "name": "stderr",
          "text": [
            "Setting `pad_token_id` to `eos_token_id`:2 for open-end generation.\n"
          ]
        },
        {
          "output_type": "stream",
          "name": "stdout",
          "text": [
            "Token 264: CVE-2009-1140\n",
            "True label: 2\n",
            "Predicted label:\n",
            "['<s> Develop a token classification model to accurately identify and classify named entities label:\\n### Token:\\nCVE-2009-1140\\n### label:\\n2</s>']\n",
            "\n"
          ]
        },
        {
          "output_type": "stream",
          "name": "stderr",
          "text": [
            "Setting `pad_token_id` to `eos_token_id`:2 for open-end generation.\n"
          ]
        },
        {
          "output_type": "stream",
          "name": "stdout",
          "text": [
            "Token 265: Cart\n",
            "True label: 23\n",
            "Predicted label:\n",
            "['<s> Develop a token classification model to accurately identify and classify named entities label:\\n### Token:\\nCart\\n### label:\\n15</s>']\n",
            "\n"
          ]
        },
        {
          "output_type": "stream",
          "name": "stderr",
          "text": [
            "Setting `pad_token_id` to `eos_token_id`:2 for open-end generation.\n"
          ]
        },
        {
          "output_type": "stream",
          "name": "stdout",
          "text": [
            "Token 266: Ricoh\n",
            "True label: 13\n",
            "Predicted label:\n",
            "['<s> Develop a token classification model to accurately identify and classify named entities label:\\n### Token:\\nRicoh\\n### label:\\n13</s>']\n",
            "\n"
          ]
        },
        {
          "output_type": "stream",
          "name": "stderr",
          "text": [
            "Setting `pad_token_id` to `eos_token_id`:2 for open-end generation.\n"
          ]
        },
        {
          "output_type": "stream",
          "name": "stdout",
          "text": [
            "Token 267: IMS\n",
            "True label: 1\n",
            "Predicted label:\n",
            "['<s> Develop a token classification model to accurately identify and classify named entities label:\\n### Token:\\nIMS\\n### label:\\n1</s>']\n",
            "\n"
          ]
        },
        {
          "output_type": "stream",
          "name": "stderr",
          "text": [
            "Setting `pad_token_id` to `eos_token_id`:2 for open-end generation.\n"
          ]
        },
        {
          "output_type": "stream",
          "name": "stdout",
          "text": [
            "Token 268: dotproject\n",
            "True label: 1\n",
            "Predicted label:\n",
            "['<s> Develop a token classification model to accurately identify and classify named entities label:\\n### Token:\\ndotproject\\n### label:\\n1</s>']\n",
            "\n"
          ]
        },
        {
          "output_type": "stream",
          "name": "stderr",
          "text": [
            "Setting `pad_token_id` to `eos_token_id`:2 for open-end generation.\n"
          ]
        },
        {
          "output_type": "stream",
          "name": "stdout",
          "text": [
            "Token 269: TFTPUtil\n",
            "True label: 1\n",
            "Predicted label:\n",
            "['<s> Develop a token classification model to accurately identify and classify named entities label:\\n### Token:\\nTFTPUtil\\n### label:\\n1</s>']\n",
            "\n"
          ]
        },
        {
          "output_type": "stream",
          "name": "stderr",
          "text": [
            "Setting `pad_token_id` to `eos_token_id`:2 for open-end generation.\n"
          ]
        },
        {
          "output_type": "stream",
          "name": "stdout",
          "text": [
            "Token 270: sources/search.php\n",
            "True label: 4\n",
            "Predicted label:\n",
            "['<s> Develop a token classification model to accurately identify and classify named entities label:\\n### Token:\\nsources/search.php\\n### label:\\n4</s>']\n",
            "\n"
          ]
        },
        {
          "output_type": "stream",
          "name": "stderr",
          "text": [
            "Setting `pad_token_id` to `eos_token_id`:2 for open-end generation.\n"
          ]
        },
        {
          "output_type": "stream",
          "name": "stdout",
          "text": [
            "Token 271: Avamar\n",
            "True label: 1\n",
            "Predicted label:\n",
            "['<s> Develop a token classification model to accurately identify and classify named entities label:\\n### Token:\\nAvamar\\n### label:\\n1</s>']\n",
            "\n"
          ]
        },
        {
          "output_type": "stream",
          "name": "stderr",
          "text": [
            "Setting `pad_token_id` to `eos_token_id`:2 for open-end generation.\n"
          ]
        },
        {
          "output_type": "stream",
          "name": "stdout",
          "text": [
            "Token 272: driver\n",
            "True label: 23\n",
            "Predicted label:\n",
            "['<s> Develop a token classification model to accurately identify and classify named entities label:\\n### Token:\\ndriver\\n### label:\\n23</s>']\n",
            "\n"
          ]
        },
        {
          "output_type": "stream",
          "name": "stderr",
          "text": [
            "Setting `pad_token_id` to `eos_token_id`:2 for open-end generation.\n"
          ]
        },
        {
          "output_type": "stream",
          "name": "stdout",
          "text": [
            "Token 273: Slide\n",
            "True label: 17\n",
            "Predicted label:\n",
            "['<s> Develop a token classification model to accurately identify and classify named entities label:\\n### Token:\\nSlide\\n### label:\\n1</s>']\n",
            "\n"
          ]
        },
        {
          "output_type": "stream",
          "name": "stderr",
          "text": [
            "Setting `pad_token_id` to `eos_token_id`:2 for open-end generation.\n"
          ]
        },
        {
          "output_type": "stream",
          "name": "stdout",
          "text": [
            "Token 274: catalog/shopping_cart.php\n",
            "True label: 4\n",
            "Predicted label:\n",
            "['<s> Develop a token classification model to accurately identify and classify named entities label:\\n### Token:\\ncatalog/shopping_cart.php\\n### label:\\n4</s>']\n",
            "\n"
          ]
        },
        {
          "output_type": "stream",
          "name": "stderr",
          "text": [
            "Setting `pad_token_id` to `eos_token_id`:2 for open-end generation.\n"
          ]
        },
        {
          "output_type": "stream",
          "name": "stdout",
          "text": [
            "Token 275: 2.22rc1\n",
            "True label: 14\n",
            "Predicted label:\n",
            "['<s> Develop a token classification model to accurately identify and classify named entities label:\\n### Token:\\n2.22rc1\\n### label:\\n22</s>']\n",
            "\n"
          ]
        },
        {
          "output_type": "stream",
          "name": "stderr",
          "text": [
            "Setting `pad_token_id` to `eos_token_id`:2 for open-end generation.\n"
          ]
        },
        {
          "output_type": "stream",
          "name": "stdout",
          "text": [
            "Token 276: authors\n",
            "True label: 23\n",
            "Predicted label:\n",
            "['<s> Develop a token classification model to accurately identify and classify named entities label:\\n### Token:\\nauthors\\n### label:\\n23</s>']\n",
            "\n"
          ]
        },
        {
          "output_type": "stream",
          "name": "stderr",
          "text": [
            "Setting `pad_token_id` to `eos_token_id`:2 for open-end generation.\n"
          ]
        },
        {
          "output_type": "stream",
          "name": "stdout",
          "text": [
            "Token 277: 7u10\n",
            "True label: 14\n",
            "Predicted label:\n",
            "['<s> Develop a token classification model to accurately identify and classify named entities label:\\n### Token:\\n7u10\\n### label:\\n22</s>']\n",
            "\n"
          ]
        },
        {
          "output_type": "stream",
          "name": "stderr",
          "text": [
            "Setting `pad_token_id` to `eos_token_id`:2 for open-end generation.\n"
          ]
        },
        {
          "output_type": "stream",
          "name": "stdout",
          "text": [
            "Token 278: leak_memalign\n",
            "True label: 5\n",
            "Predicted label:\n",
            "['<s> Develop a token classification model to accurately identify and classify named entities label:\\n### Token:\\nleak_memalign\\n### label:\\n5</s>']\n",
            "\n"
          ]
        },
        {
          "output_type": "stream",
          "name": "stderr",
          "text": [
            "Setting `pad_token_id` to `eos_token_id`:2 for open-end generation.\n"
          ]
        },
        {
          "output_type": "stream",
          "name": "stdout",
          "text": [
            "Token 279: Do\n",
            "True label: 23\n",
            "Predicted label:\n",
            "['<s> Develop a token classification model to accurately identify and classify named entities label:\\n### Token:\\nDo\\n### label:\\n23</s>']\n",
            "\n"
          ]
        },
        {
          "output_type": "stream",
          "name": "stderr",
          "text": [
            "Setting `pad_token_id` to `eos_token_id`:2 for open-end generation.\n"
          ]
        },
        {
          "output_type": "stream",
          "name": "stdout",
          "text": [
            "Token 280: drivers/infiniband/core/cma.c\n",
            "True label: 4\n",
            "Predicted label:\n",
            "['<s> Develop a token classification model to accurately identify and classify named entities label:\\n### Token:\\ndrivers/infiniband/core/cma.c\\n### label:\\n4</s>']\n",
            "\n"
          ]
        },
        {
          "output_type": "stream",
          "name": "stderr",
          "text": [
            "Setting `pad_token_id` to `eos_token_id`:2 for open-end generation.\n"
          ]
        },
        {
          "output_type": "stream",
          "name": "stdout",
          "text": [
            "Token 281: ibacm.port\n",
            "True label: 4\n",
            "Predicted label:\n",
            "['<s> Develop a token classification model to accurately identify and classify named entities label:\\n### Token:\\nibacm.port\\n### label:\\n23</s>']\n",
            "\n"
          ]
        },
        {
          "output_type": "stream",
          "name": "stderr",
          "text": [
            "Setting `pad_token_id` to `eos_token_id`:2 for open-end generation.\n"
          ]
        },
        {
          "output_type": "stream",
          "name": "stdout",
          "text": [
            "Token 282: 8.0.25\n",
            "True label: 22\n",
            "Predicted label:\n",
            "['<s> Develop a token classification model to accurately identify and classify named entities label:\\n### Token:\\n8.0.25\\n### label:\\n22</s>']\n",
            "\n"
          ]
        },
        {
          "output_type": "stream",
          "name": "stderr",
          "text": [
            "Setting `pad_token_id` to `eos_token_id`:2 for open-end generation.\n"
          ]
        },
        {
          "output_type": "stream",
          "name": "stdout",
          "text": [
            "Token 283: displaymode\n",
            "True label: 23\n",
            "Predicted label:\n",
            "['<s> Develop a token classification model to accurately identify and classify named entities label:\\n### Token:\\ndisplaymode\\n### label:\\n23</s>']\n",
            "\n"
          ]
        },
        {
          "output_type": "stream",
          "name": "stderr",
          "text": [
            "Setting `pad_token_id` to `eos_token_id`:2 for open-end generation.\n"
          ]
        },
        {
          "output_type": "stream",
          "name": "stdout",
          "text": [
            "Token 284: presets\n",
            "True label: 12\n",
            "Predicted label:\n",
            "['<s> Develop a token classification model to accurately identify and classify named entities label:\\n### Token:\\npresets\\n### label:\\n23</s>']\n",
            "\n"
          ]
        },
        {
          "output_type": "stream",
          "name": "stderr",
          "text": [
            "Setting `pad_token_id` to `eos_token_id`:2 for open-end generation.\n"
          ]
        },
        {
          "output_type": "stream",
          "name": "stdout",
          "text": [
            "Token 285: 1.0.0j\n",
            "True label: 22\n",
            "Predicted label:\n",
            "['<s> Develop a token classification model to accurately identify and classify named entities label:\\n### Token:\\n1.0.0j\\n### label:\\n14</s>']\n",
            "\n"
          ]
        },
        {
          "output_type": "stream",
          "name": "stderr",
          "text": [
            "Setting `pad_token_id` to `eos_token_id`:2 for open-end generation.\n"
          ]
        },
        {
          "output_type": "stream",
          "name": "stdout",
          "text": [
            "Token 286: admin/admin_login.php\n",
            "True label: 4\n",
            "Predicted label:\n",
            "['<s> Develop a token classification model to accurately identify and classify named entities label:\\n### Token:\\nadmin/admin_login.php\\n### label:\\n4</s>']\n",
            "\n"
          ]
        },
        {
          "output_type": "stream",
          "name": "stderr",
          "text": [
            "Setting `pad_token_id` to `eos_token_id`:2 for open-end generation.\n"
          ]
        },
        {
          "output_type": "stream",
          "name": "stdout",
          "text": [
            "Token 287: 3.3.9.2\n",
            "True label: 22\n",
            "Predicted label:\n",
            "['<s> Develop a token classification model to accurately identify and classify named entities label:\\n### Token:\\n3.3.9.2\\n### label:\\n22</s>']\n",
            "\n"
          ]
        },
        {
          "output_type": "stream",
          "name": "stderr",
          "text": [
            "Setting `pad_token_id` to `eos_token_id`:2 for open-end generation.\n"
          ]
        },
        {
          "output_type": "stream",
          "name": "stdout",
          "text": [
            "Token 288: 4.30.5\n",
            "True label: 22\n",
            "Predicted label:\n",
            "['<s> Develop a token classification model to accurately identify and classify named entities label:\\n### Token:\\n4.30.5\\n### label:\\n22</s>']\n",
            "\n"
          ]
        },
        {
          "output_type": "stream",
          "name": "stderr",
          "text": [
            "Setting `pad_token_id` to `eos_token_id`:2 for open-end generation.\n"
          ]
        },
        {
          "output_type": "stream",
          "name": "stdout",
          "text": [
            "Token 289: Producer\n",
            "True label: 15\n",
            "Predicted label:\n",
            "['<s> Develop a token classification model to accurately identify and classify named entities label:\\n### Token:\\nProducer\\n### label:\\n15</s>']\n",
            "\n"
          ]
        },
        {
          "output_type": "stream",
          "name": "stderr",
          "text": [
            "Setting `pad_token_id` to `eos_token_id`:2 for open-end generation.\n"
          ]
        },
        {
          "output_type": "stream",
          "name": "stdout",
          "text": [
            "Token 290: DataTrack\n",
            "True label: 1\n",
            "Predicted label:\n",
            "['<s> Develop a token classification model to accurately identify and classify named entities label:\\n### Token:\\nDataTrack\\n### label:\\n1</s>']\n",
            "\n"
          ]
        },
        {
          "output_type": "stream",
          "name": "stderr",
          "text": [
            "Setting `pad_token_id` to `eos_token_id`:2 for open-end generation.\n"
          ]
        },
        {
          "output_type": "stream",
          "name": "stdout",
          "text": [
            "Token 291: trusted\n",
            "True label: 23\n",
            "Predicted label:\n",
            "['<s> Develop a token classification model to accurately identify and classify named entities label:\\n### Token:\\ntrusted\\n### label:\\n23</s>']\n",
            "\n"
          ]
        },
        {
          "output_type": "stream",
          "name": "stderr",
          "text": [
            "Setting `pad_token_id` to `eos_token_id`:2 for open-end generation.\n"
          ]
        },
        {
          "output_type": "stream",
          "name": "stdout",
          "text": [
            "Token 292: ac3_decode_frame\n",
            "True label: 5\n",
            "Predicted label:\n",
            "['<s> Develop a token classification model to accurately identify and classify named entities label:\\n### Token:\\nac3_decode_frame\\n### label:\\n5</s>']\n",
            "\n"
          ]
        },
        {
          "output_type": "stream",
          "name": "stderr",
          "text": [
            "Setting `pad_token_id` to `eos_token_id`:2 for open-end generation.\n"
          ]
        },
        {
          "output_type": "stream",
          "name": "stdout",
          "text": [
            "Token 293: Logger\n",
            "True label: 17\n",
            "Predicted label:\n",
            "['<s> Develop a token classification model to accurately identify and classify named entities label:\\n### Token:\\nLogger\\n### label:\\n15</s>']\n",
            "\n"
          ]
        },
        {
          "output_type": "stream",
          "name": "stderr",
          "text": [
            "Setting `pad_token_id` to `eos_token_id`:2 for open-end generation.\n"
          ]
        },
        {
          "output_type": "stream",
          "name": "stdout",
          "text": [
            "Token 294: Original\n",
            "True label: 23\n",
            "Predicted label:\n",
            "['<s> Develop a token classification model to accurately identify and classify named entities label:\\n### Token:\\nOriginal\\n### label:\\n1</s>']\n",
            "\n"
          ]
        },
        {
          "output_type": "stream",
          "name": "stderr",
          "text": [
            "Setting `pad_token_id` to `eos_token_id`:2 for open-end generation.\n"
          ]
        },
        {
          "output_type": "stream",
          "name": "stdout",
          "text": [
            "Token 295: Energine\n",
            "True label: 1\n",
            "Predicted label:\n",
            "['<s> Develop a token classification model to accurately identify and classify named entities label:\\n### Token:\\nEnergine\\n### label:\\n1</s>']\n",
            "\n"
          ]
        },
        {
          "output_type": "stream",
          "name": "stderr",
          "text": [
            "Setting `pad_token_id` to `eos_token_id`:2 for open-end generation.\n"
          ]
        },
        {
          "output_type": "stream",
          "name": "stdout",
          "text": [
            "Token 296: CVE-2013-1365\n",
            "True label: 2\n",
            "Predicted label:\n",
            "['<s> Develop a token classification model to accurately identify and classify named entities label:\\n### Token:\\nCVE-2013-1365\\n### label:\\n2</s>']\n",
            "\n"
          ]
        },
        {
          "output_type": "stream",
          "name": "stderr",
          "text": [
            "Setting `pad_token_id` to `eos_token_id`:2 for open-end generation.\n"
          ]
        },
        {
          "output_type": "stream",
          "name": "stdout",
          "text": [
            "Token 297: libsecurity\n",
            "True label: 23\n",
            "Predicted label:\n",
            "['<s> Develop a token classification model to accurately identify and classify named entities label:\\n### Token:\\nlibsecurity\\n### label:\\n23</s>']\n",
            "\n"
          ]
        },
        {
          "output_type": "stream",
          "name": "stderr",
          "text": [
            "Setting `pad_token_id` to `eos_token_id`:2 for open-end generation.\n"
          ]
        },
        {
          "output_type": "stream",
          "name": "stdout",
          "text": [
            "Token 298: 2.0.2\n",
            "True label: 22\n",
            "Predicted label:\n",
            "['<s> Develop a token classification model to accurately identify and classify named entities label:\\n### Token:\\n2.0.2\\n### label:\\n14</s>']\n",
            "\n"
          ]
        },
        {
          "output_type": "stream",
          "name": "stderr",
          "text": [
            "Setting `pad_token_id` to `eos_token_id`:2 for open-end generation.\n"
          ]
        },
        {
          "output_type": "stream",
          "name": "stdout",
          "text": [
            "Token 299: CVE-2010-3483\n",
            "True label: 2\n",
            "Predicted label:\n",
            "['<s> Develop a token classification model to accurately identify and classify named entities label:\\n### Token:\\nCVE-2010-3483\\n### label:\\n2</s>']\n",
            "\n"
          ]
        },
        {
          "output_type": "stream",
          "name": "stderr",
          "text": [
            "Setting `pad_token_id` to `eos_token_id`:2 for open-end generation.\n"
          ]
        },
        {
          "output_type": "stream",
          "name": "stdout",
          "text": [
            "Token 300: ticketyboo\n",
            "True label: 1\n",
            "Predicted label:\n",
            "['<s> Develop a token classification model to accurately identify and classify named entities label:\\n### Token:\\nticketyboo\\n### label:\\n1</s>']\n",
            "\n"
          ]
        },
        {
          "output_type": "stream",
          "name": "stderr",
          "text": [
            "Setting `pad_token_id` to `eos_token_id`:2 for open-end generation.\n"
          ]
        },
        {
          "output_type": "stream",
          "name": "stdout",
          "text": [
            "Token 301: APL\n",
            "True label: 23\n",
            "Predicted label:\n",
            "['<s> Develop a token classification model to accurately identify and classify named entities label:\\n### Token:\\nAPL\\n### label:\\n1</s>']\n",
            "\n"
          ]
        },
        {
          "output_type": "stream",
          "name": "stderr",
          "text": [
            "Setting `pad_token_id` to `eos_token_id`:2 for open-end generation.\n"
          ]
        },
        {
          "output_type": "stream",
          "name": "stdout",
          "text": [
            "Token 302: manage_config_email_page.php\n",
            "True label: 23\n",
            "Predicted label:\n",
            "['<s> Develop a token classification model to accurately identify and classify named entities label:\\n### Token:\\nmanage_config_email_page.php\\n### label:\\n23</s>']\n",
            "\n"
          ]
        },
        {
          "output_type": "stream",
          "name": "stderr",
          "text": [
            "Setting `pad_token_id` to `eos_token_id`:2 for open-end generation.\n"
          ]
        },
        {
          "output_type": "stream",
          "name": "stdout",
          "text": [
            "Token 303: Multimedia\n",
            "True label: 1\n",
            "Predicted label:\n",
            "['<s> Develop a token classification model to accurately identify and classify named entities label:\\n### Token:\\nMultimedia\\n### label:\\n15</s>']\n",
            "\n"
          ]
        },
        {
          "output_type": "stream",
          "name": "stderr",
          "text": [
            "Setting `pad_token_id` to `eos_token_id`:2 for open-end generation.\n"
          ]
        },
        {
          "output_type": "stream",
          "name": "stdout",
          "text": [
            "Token 304: CQOle\n",
            "True label: 23\n",
            "Predicted label:\n",
            "['<s> Develop a token classification model to accurately identify and classify named entities label:\\n### Token:\\nCQOle\\n### label:\\n1</s>']\n",
            "\n"
          ]
        },
        {
          "output_type": "stream",
          "name": "stderr",
          "text": [
            "Setting `pad_token_id` to `eos_token_id`:2 for open-end generation.\n"
          ]
        },
        {
          "output_type": "stream",
          "name": "stdout",
          "text": [
            "Token 305: fastreader\n",
            "True label: 1\n",
            "Predicted label:\n",
            "['<s> Develop a token classification model to accurately identify and classify named entities label:\\n### Token:\\nfastreader\\n### label:\\n1</s>']\n",
            "\n"
          ]
        },
        {
          "output_type": "stream",
          "name": "stderr",
          "text": [
            "Setting `pad_token_id` to `eos_token_id`:2 for open-end generation.\n"
          ]
        },
        {
          "output_type": "stream",
          "name": "stdout",
          "text": [
            "Token 306: 6.5\n",
            "True label: 14\n",
            "Predicted label:\n",
            "['<s> Develop a token classification model to accurately identify and classify named entities label:\\n### Token:\\n6.5\\n### label:\\n14</s>']\n",
            "\n"
          ]
        },
        {
          "output_type": "stream",
          "name": "stderr",
          "text": [
            "Setting `pad_token_id` to `eos_token_id`:2 for open-end generation.\n"
          ]
        },
        {
          "output_type": "stream",
          "name": "stdout",
          "text": [
            "Token 307: expired\n",
            "True label: 23\n",
            "Predicted label:\n",
            "['<s> Develop a token classification model to accurately identify and classify named entities label:\\n### Token:\\nexpired\\n### label:\\n23</s>']\n",
            "\n"
          ]
        },
        {
          "output_type": "stream",
          "name": "stderr",
          "text": [
            "Setting `pad_token_id` to `eos_token_id`:2 for open-end generation.\n"
          ]
        },
        {
          "output_type": "stream",
          "name": "stdout",
          "text": [
            "Token 308: ikiwiki\n",
            "True label: 1\n",
            "Predicted label:\n",
            "['<s> Develop a token classification model to accurately identify and classify named entities label:\\n### Token:\\nikiwiki\\n### label:\\n1</s>']\n",
            "\n"
          ]
        },
        {
          "output_type": "stream",
          "name": "stderr",
          "text": [
            "Setting `pad_token_id` to `eos_token_id`:2 for open-end generation.\n"
          ]
        },
        {
          "output_type": "stream",
          "name": "stdout",
          "text": [
            "Token 309: browsers\n",
            "True label: 23\n",
            "Predicted label:\n",
            "['<s> Develop a token classification model to accurately identify and classify named entities label:\\n### Token:\\nbrowsers\\n### label:\\n23</s>']\n",
            "\n"
          ]
        },
        {
          "output_type": "stream",
          "name": "stderr",
          "text": [
            "Setting `pad_token_id` to `eos_token_id`:2 for open-end generation.\n"
          ]
        },
        {
          "output_type": "stream",
          "name": "stdout",
          "text": [
            "Token 310: BZ2_decompress\n",
            "True label: 5\n",
            "Predicted label:\n",
            "['<s> Develop a token classification model to accurately identify and classify named entities label:\\n### Token:\\nBZ2_decompress\\n### label:\\n5</s>']\n",
            "\n"
          ]
        },
        {
          "output_type": "stream",
          "name": "stderr",
          "text": [
            "Setting `pad_token_id` to `eos_token_id`:2 for open-end generation.\n"
          ]
        },
        {
          "output_type": "stream",
          "name": "stdout",
          "text": [
            "Token 311: decoda/Decoda.php\n",
            "True label: 4\n",
            "Predicted label:\n",
            "['<s> Develop a token classification model to accurately identify and classify named entities label:\\n### Token:\\ndecoda/Decoda.php\\n### label:\\n4</s>']\n",
            "\n"
          ]
        },
        {
          "output_type": "stream",
          "name": "stderr",
          "text": [
            "Setting `pad_token_id` to `eos_token_id`:2 for open-end generation.\n"
          ]
        },
        {
          "output_type": "stream",
          "name": "stdout",
          "text": [
            "Token 312: maputil.c\n",
            "True label: 4\n",
            "Predicted label:\n",
            "['<s> Develop a token classification model to accurately identify and classify named entities label:\\n### Token:\\nmaputil.c\\n### label:\\n4</s>']\n",
            "\n"
          ]
        },
        {
          "output_type": "stream",
          "name": "stderr",
          "text": [
            "Setting `pad_token_id` to `eos_token_id`:2 for open-end generation.\n"
          ]
        },
        {
          "output_type": "stream",
          "name": "stdout",
          "text": [
            "Token 313: userfilter\n",
            "True label: 23\n",
            "Predicted label:\n",
            "['<s> Develop a token classification model to accurately identify and classify named entities label:\\n### Token:\\nuserfilter\\n### label:\\n23</s>']\n",
            "\n"
          ]
        },
        {
          "output_type": "stream",
          "name": "stderr",
          "text": [
            "Setting `pad_token_id` to `eos_token_id`:2 for open-end generation.\n"
          ]
        },
        {
          "output_type": "stream",
          "name": "stdout",
          "text": [
            "Token 314: lacks\n",
            "True label: 23\n",
            "Predicted label:\n",
            "['<s> Develop a token classification model to accurately identify and classify named entities label:\\n### Token:\\nlacks\\n### label:\\n23</s>']\n",
            "\n"
          ]
        },
        {
          "output_type": "stream",
          "name": "stderr",
          "text": [
            "Setting `pad_token_id` to `eos_token_id`:2 for open-end generation.\n"
          ]
        },
        {
          "output_type": "stream",
          "name": "stdout",
          "text": [
            "Token 315: 9000\n",
            "True label: 6\n",
            "Predicted label:\n",
            "['<s> Develop a token classification model to accurately identify and classify named entities label:\\n### Token:\\n9000\\n### label:\\n14</s>']\n",
            "\n"
          ]
        },
        {
          "output_type": "stream",
          "name": "stderr",
          "text": [
            "Setting `pad_token_id` to `eos_token_id`:2 for open-end generation.\n"
          ]
        },
        {
          "output_type": "stream",
          "name": "stdout",
          "text": [
            "Token 316: pc\n",
            "True label: 23\n",
            "Predicted label:\n",
            "['<s> Develop a token classification model to accurately identify and classify named entities label:\\n### Token:\\npc\\n### label:\\n23</s>']\n",
            "\n"
          ]
        },
        {
          "output_type": "stream",
          "name": "stderr",
          "text": [
            "Setting `pad_token_id` to `eos_token_id`:2 for open-end generation.\n"
          ]
        },
        {
          "output_type": "stream",
          "name": "stdout",
          "text": [
            "Token 317: axis2\n",
            "True label: 1\n",
            "Predicted label:\n",
            "['<s> Develop a token classification model to accurately identify and classify named entities label:\\n### Token:\\naxis2\\n### label:\\n1</s>']\n",
            "\n"
          ]
        },
        {
          "output_type": "stream",
          "name": "stderr",
          "text": [
            "Setting `pad_token_id` to `eos_token_id`:2 for open-end generation.\n"
          ]
        },
        {
          "output_type": "stream",
          "name": "stdout",
          "text": [
            "Token 318: Voyager\n",
            "True label: 15\n",
            "Predicted label:\n",
            "['<s> Develop a token classification model to accurately identify and classify named entities label:\\n### Token:\\nVoyager\\n### label:\\n1</s>']\n",
            "\n"
          ]
        },
        {
          "output_type": "stream",
          "name": "stderr",
          "text": [
            "Setting `pad_token_id` to `eos_token_id`:2 for open-end generation.\n"
          ]
        },
        {
          "output_type": "stream",
          "name": "stdout",
          "text": [
            "Token 319: recaptcha_private\n",
            "True label: 23\n",
            "Predicted label:\n",
            "['<s> Develop a token classification model to accurately identify and classify named entities label:\\n### Token:\\nrecaptcha_private\\n### label:\\n23</s>']\n",
            "\n"
          ]
        },
        {
          "output_type": "stream",
          "name": "stderr",
          "text": [
            "Setting `pad_token_id` to `eos_token_id`:2 for open-end generation.\n"
          ]
        },
        {
          "output_type": "stream",
          "name": "stdout",
          "text": [
            "Token 320: lib/accesslib.php\n",
            "True label: 4\n",
            "Predicted label:\n",
            "['<s> Develop a token classification model to accurately identify and classify named entities label:\\n### Token:\\nlib/accesslib.php\\n### label:\\n4</s>']\n",
            "\n"
          ]
        },
        {
          "output_type": "stream",
          "name": "stderr",
          "text": [
            "Setting `pad_token_id` to `eos_token_id`:2 for open-end generation.\n"
          ]
        },
        {
          "output_type": "stream",
          "name": "stdout",
          "text": [
            "Token 321: Scriptegrator\n",
            "True label: 1\n",
            "Predicted label:\n",
            "['<s> Develop a token classification model to accurately identify and classify named entities label:\\n### Token:\\nScriptegrator\\n### label:\\n1</s>']\n",
            "\n"
          ]
        },
        {
          "output_type": "stream",
          "name": "stderr",
          "text": [
            "Setting `pad_token_id` to `eos_token_id`:2 for open-end generation.\n"
          ]
        },
        {
          "output_type": "stream",
          "name": "stdout",
          "text": [
            "Token 322: toEmail\n",
            "True label: 8\n",
            "Predicted label:\n",
            "['<s> Develop a token classification model to accurately identify and classify named entities label:\\n### Token:\\ntoEmail\\n### label:\\n23</s>']\n",
            "\n"
          ]
        },
        {
          "output_type": "stream",
          "name": "stderr",
          "text": [
            "Setting `pad_token_id` to `eos_token_id`:2 for open-end generation.\n"
          ]
        },
        {
          "output_type": "stream",
          "name": "stdout",
          "text": [
            "Token 323: dns.c\n",
            "True label: 23\n",
            "Predicted label:\n",
            "['<s> Develop a token classification model to accurately identify and classify named entities label:\\n### Token:\\ndns.c\\n### label:\\n4</s>']\n",
            "\n"
          ]
        },
        {
          "output_type": "stream",
          "name": "stderr",
          "text": [
            "Setting `pad_token_id` to `eos_token_id`:2 for open-end generation.\n"
          ]
        },
        {
          "output_type": "stream",
          "name": "stdout",
          "text": [
            "Token 324: 4.33.02\n",
            "True label: 14\n",
            "Predicted label:\n",
            "['<s> Develop a token classification model to accurately identify and classify named entities label:\\n### Token:\\n4.33.02\\n### label:\\n22</s>']\n",
            "\n"
          ]
        },
        {
          "output_type": "stream",
          "name": "stderr",
          "text": [
            "Setting `pad_token_id` to `eos_token_id`:2 for open-end generation.\n"
          ]
        },
        {
          "output_type": "stream",
          "name": "stdout",
          "text": [
            "Token 325: login/change_password.php\n",
            "True label: 4\n",
            "Predicted label:\n",
            "['<s> Develop a token classification model to accurately identify and classify named entities label:\\n### Token:\\nlogin/change_password.php\\n### label:\\n4</s>']\n",
            "\n"
          ]
        },
        {
          "output_type": "stream",
          "name": "stderr",
          "text": [
            "Setting `pad_token_id` to `eos_token_id`:2 for open-end generation.\n"
          ]
        },
        {
          "output_type": "stream",
          "name": "stdout",
          "text": [
            "Token 326: 2.0.0.24\n",
            "True label: 22\n",
            "Predicted label:\n",
            "['<s> Develop a token classification model to accurately identify and classify named entities label:\\n### Token:\\n2.0.0.24\\n### label:\\n22</s>']\n",
            "\n"
          ]
        },
        {
          "output_type": "stream",
          "name": "stderr",
          "text": [
            "Setting `pad_token_id` to `eos_token_id`:2 for open-end generation.\n"
          ]
        },
        {
          "output_type": "stream",
          "name": "stdout",
          "text": [
            "Token 327: Policy\n",
            "True label: 1\n",
            "Predicted label:\n",
            "['<s> Develop a token classification model to accurately identify and classify named entities label:\\n### Token:\\nPolicy\\n### label:\\n15</s>']\n",
            "\n"
          ]
        },
        {
          "output_type": "stream",
          "name": "stderr",
          "text": [
            "Setting `pad_token_id` to `eos_token_id`:2 for open-end generation.\n"
          ]
        },
        {
          "output_type": "stream",
          "name": "stdout",
          "text": [
            "Token 328: preserve\n",
            "True label: 12\n",
            "Predicted label:\n",
            "['<s> Develop a token classification model to accurately identify and classify named entities label:\\n### Token:\\npreserve\\n### label:\\n23</s>']\n",
            "\n"
          ]
        },
        {
          "output_type": "stream",
          "name": "stderr",
          "text": [
            "Setting `pad_token_id` to `eos_token_id`:2 for open-end generation.\n"
          ]
        },
        {
          "output_type": "stream",
          "name": "stdout",
          "text": [
            "Token 329: com_rsgallery2\n",
            "True label: 23\n",
            "Predicted label:\n",
            "['<s> Develop a token classification model to accurately identify and classify named entities label:\\n### Token:\\ncom_rsgallery2\\n### label:\\n23</s>']\n",
            "\n"
          ]
        },
        {
          "output_type": "stream",
          "name": "stderr",
          "text": [
            "Setting `pad_token_id` to `eos_token_id`:2 for open-end generation.\n"
          ]
        },
        {
          "output_type": "stream",
          "name": "stdout",
          "text": [
            "Token 330: posix\n",
            "True label: 23\n",
            "Predicted label:\n",
            "['<s> Develop a token classification model to accurately identify and classify named entities label:\\n### Token:\\nposix\\n### label:\\n23</s>']\n",
            "\n"
          ]
        },
        {
          "output_type": "stream",
          "name": "stderr",
          "text": [
            "Setting `pad_token_id` to `eos_token_id`:2 for open-end generation.\n"
          ]
        },
        {
          "output_type": "stream",
          "name": "stdout",
          "text": [
            "Token 331: Captiva\n",
            "True label: 1\n",
            "Predicted label:\n",
            "['<s> Develop a token classification model to accurately identify and classify named entities label:\\n### Token:\\nCaptiva\\n### label:\\n1</s>']\n",
            "\n"
          ]
        },
        {
          "output_type": "stream",
          "name": "stderr",
          "text": [
            "Setting `pad_token_id` to `eos_token_id`:2 for open-end generation.\n"
          ]
        },
        {
          "output_type": "stream",
          "name": "stdout",
          "text": [
            "Token 332: SP6\n",
            "True label: 22\n",
            "Predicted label:\n",
            "['<s> Develop a token classification model to accurately identify and classify named entities label:\\n### Token:\\nSP6\\n### label:\\n14</s>']\n",
            "\n"
          ]
        },
        {
          "output_type": "stream",
          "name": "stderr",
          "text": [
            "Setting `pad_token_id` to `eos_token_id`:2 for open-end generation.\n"
          ]
        },
        {
          "output_type": "stream",
          "name": "stdout",
          "text": [
            "Token 333: copy_shmid_to_user\n",
            "True label: 5\n",
            "Predicted label:\n",
            "['<s> Develop a token classification model to accurately identify and classify named entities label:\\n### Token:\\ncopy_shmid_to_user\\n### label:\\n5</s>']\n",
            "\n"
          ]
        },
        {
          "output_type": "stream",
          "name": "stderr",
          "text": [
            "Setting `pad_token_id` to `eos_token_id`:2 for open-end generation.\n"
          ]
        },
        {
          "output_type": "stream",
          "name": "stdout",
          "text": [
            "Token 334: PGP\n",
            "True label: 13\n",
            "Predicted label:\n",
            "['<s> Develop a token classification model to accurately identify and classify named entities label:\\n### Token:\\nPGP\\n### label:\\n1</s>']\n",
            "\n"
          ]
        },
        {
          "output_type": "stream",
          "name": "stderr",
          "text": [
            "Setting `pad_token_id` to `eos_token_id`:2 for open-end generation.\n"
          ]
        },
        {
          "output_type": "stream",
          "name": "stdout",
          "text": [
            "Token 335: big\n",
            "True label: 23\n",
            "Predicted label:\n",
            "['<s> Develop a token classification model to accurately identify and classify named entities label:\\n### Token:\\nbig\\n### label:\\n23</s>']\n",
            "\n"
          ]
        },
        {
          "output_type": "stream",
          "name": "stderr",
          "text": [
            "Setting `pad_token_id` to `eos_token_id`:2 for open-end generation.\n"
          ]
        },
        {
          "output_type": "stream",
          "name": "stdout",
          "text": [
            "Token 336: bursts\n",
            "True label: 23\n",
            "Predicted label:\n",
            "['<s> Develop a token classification model to accurately identify and classify named entities label:\\n### Token:\\nbursts\\n### label:\\n23</s>']\n",
            "\n"
          ]
        },
        {
          "output_type": "stream",
          "name": "stderr",
          "text": [
            "Setting `pad_token_id` to `eos_token_id`:2 for open-end generation.\n"
          ]
        },
        {
          "output_type": "stream",
          "name": "stdout",
          "text": [
            "Token 337: 8.10.1125\n",
            "True label: 14\n",
            "Predicted label:\n",
            "['<s> Develop a token classification model to accurately identify and classify named entities label:\\n### Token:\\n8.10.1125\\n### label:\\n22</s>']\n",
            "\n"
          ]
        },
        {
          "output_type": "stream",
          "name": "stderr",
          "text": [
            "Setting `pad_token_id` to `eos_token_id`:2 for open-end generation.\n"
          ]
        },
        {
          "output_type": "stream",
          "name": "stdout",
          "text": [
            "Token 338: RE_DUP_MAX\n",
            "True label: 23\n",
            "Predicted label:\n",
            "['<s> Develop a token classification model to accurately identify and classify named entities label:\\n### Token:\\nRE_DUP_MAX\\n### label:\\n23</s>']\n",
            "\n"
          ]
        },
        {
          "output_type": "stream",
          "name": "stderr",
          "text": [
            "Setting `pad_token_id` to `eos_token_id`:2 for open-end generation.\n"
          ]
        },
        {
          "output_type": "stream",
          "name": "stdout",
          "text": [
            "Token 339: latest_sermons\n",
            "True label: 23\n",
            "Predicted label:\n",
            "['<s> Develop a token classification model to accurately identify and classify named entities label:\\n### Token:\\nlatest_sermons\\n### label:\\n10</s>']\n",
            "\n"
          ]
        },
        {
          "output_type": "stream",
          "name": "stderr",
          "text": [
            "Setting `pad_token_id` to `eos_token_id`:2 for open-end generation.\n"
          ]
        },
        {
          "output_type": "stream",
          "name": "stdout",
          "text": [
            "Token 340: 4.2.5\n",
            "True label: 14\n",
            "Predicted label:\n",
            "['<s> Develop a token classification model to accurately identify and classify named entities label:\\n### Token:\\n4.2.5\\n### label:\\n22</s>']\n",
            "\n"
          ]
        },
        {
          "output_type": "stream",
          "name": "stderr",
          "text": [
            "Setting `pad_token_id` to `eos_token_id`:2 for open-end generation.\n"
          ]
        },
        {
          "output_type": "stream",
          "name": "stdout",
          "text": [
            "Token 341: cell\n",
            "True label: 23\n",
            "Predicted label:\n",
            "['<s> Develop a token classification model to accurately identify and classify named entities label:\\n### Token:\\ncell\\n### label:\\n23</s>']\n",
            "\n"
          ]
        },
        {
          "output_type": "stream",
          "name": "stderr",
          "text": [
            "Setting `pad_token_id` to `eos_token_id`:2 for open-end generation.\n"
          ]
        },
        {
          "output_type": "stream",
          "name": "stdout",
          "text": [
            "Token 342: HTML-Template-Pro\n",
            "True label: 1\n",
            "Predicted label:\n",
            "['<s> Develop a token classification model to accurately identify and classify named entities label:\\n### Token:\\nHTML-Template-Pro\\n### label:\\n1</s>']\n",
            "\n"
          ]
        },
        {
          "output_type": "stream",
          "name": "stderr",
          "text": [
            "Setting `pad_token_id` to `eos_token_id`:2 for open-end generation.\n"
          ]
        },
        {
          "output_type": "stream",
          "name": "stdout",
          "text": [
            "Token 343: boundary\n",
            "True label: 23\n",
            "Predicted label:\n",
            "['<s> Develop a token classification model to accurately identify and classify named entities label:\\n### Token:\\nboundary\\n### label:\\n23</s>']\n",
            "\n"
          ]
        },
        {
          "output_type": "stream",
          "name": "stderr",
          "text": [
            "Setting `pad_token_id` to `eos_token_id`:2 for open-end generation.\n"
          ]
        },
        {
          "output_type": "stream",
          "name": "stdout",
          "text": [
            "Token 344: ViewProfile\n",
            "True label: 8\n",
            "Predicted label:\n",
            "['<s> Develop a token classification model to accurately identify and classify named entities label:\\n### Token:\\nViewProfile\\n### label:\\n10</s>']\n",
            "\n"
          ]
        },
        {
          "output_type": "stream",
          "name": "stderr",
          "text": [
            "Setting `pad_token_id` to `eos_token_id`:2 for open-end generation.\n"
          ]
        },
        {
          "output_type": "stream",
          "name": "stdout",
          "text": [
            "Token 345: 2.2.0\n",
            "True label: 22\n",
            "Predicted label:\n",
            "['<s> Develop a token classification model to accurately identify and classify named entities label:\\n### Token:\\n2.2.0\\n### label:\\n14</s>']\n",
            "\n"
          ]
        },
        {
          "output_type": "stream",
          "name": "stderr",
          "text": [
            "Setting `pad_token_id` to `eos_token_id`:2 for open-end generation.\n"
          ]
        },
        {
          "output_type": "stream",
          "name": "stdout",
          "text": [
            "Token 346: Scripting\n",
            "True label: 11\n",
            "Predicted label:\n",
            "['<s> Develop a token classification model to accurately identify and classify named entities label:\\n### Token:\\nScripting\\n### label:\\n15</s>']\n",
            "\n"
          ]
        },
        {
          "output_type": "stream",
          "name": "stderr",
          "text": [
            "Setting `pad_token_id` to `eos_token_id`:2 for open-end generation.\n"
          ]
        },
        {
          "output_type": "stream",
          "name": "stdout",
          "text": [
            "Token 347: DPA_Utilities.cProcessAuthenticationData\n",
            "True label: 5\n",
            "Predicted label:\n",
            "['<s> Develop a token classification model to accurately identify and classify named entities label:\\n### Token:\\nDPA_Utilities.cProcessAuthenticationData\\n### label:\\n5</s>']\n",
            "\n"
          ]
        },
        {
          "output_type": "stream",
          "name": "stderr",
          "text": [
            "Setting `pad_token_id` to `eos_token_id`:2 for open-end generation.\n"
          ]
        },
        {
          "output_type": "stream",
          "name": "stdout",
          "text": [
            "Token 348: classes/pear.php\n",
            "True label: 4\n",
            "Predicted label:\n",
            "['<s> Develop a token classification model to accurately identify and classify named entities label:\\n### Token:\\nclasses/pear.php\\n### label:\\n4</s>']\n",
            "\n"
          ]
        },
        {
          "output_type": "stream",
          "name": "stderr",
          "text": [
            "Setting `pad_token_id` to `eos_token_id`:2 for open-end generation.\n"
          ]
        },
        {
          "output_type": "stream",
          "name": "stdout",
          "text": [
            "Token 349: taint\n",
            "True label: 23\n",
            "Predicted label:\n",
            "['<s> Develop a token classification model to accurately identify and classify named entities label:\\n### Token:\\ntaint\\n### label:\\n23</s>']\n",
            "\n"
          ]
        },
        {
          "output_type": "stream",
          "name": "stderr",
          "text": [
            "Setting `pad_token_id` to `eos_token_id`:2 for open-end generation.\n"
          ]
        },
        {
          "output_type": "stream",
          "name": "stdout",
          "text": [
            "Token 350: CVE-2010-2642\n",
            "True label: 2\n",
            "Predicted label:\n",
            "['<s> Develop a token classification model to accurately identify and classify named entities label:\\n### Token:\\nCVE-2010-2642\\n### label:\\n2</s>']\n",
            "\n"
          ]
        },
        {
          "output_type": "stream",
          "name": "stderr",
          "text": [
            "Setting `pad_token_id` to `eos_token_id`:2 for open-end generation.\n"
          ]
        },
        {
          "output_type": "stream",
          "name": "stdout",
          "text": [
            "Token 351: tHPRAgentName\n",
            "True label: 10\n",
            "Predicted label:\n",
            "['<s> Develop a token classification model to accurately identify and classify named entities label:\\n### Token:\\ntHPRAgentName\\n### label:\\n23</s>']\n",
            "\n"
          ]
        },
        {
          "output_type": "stream",
          "name": "stderr",
          "text": [
            "Setting `pad_token_id` to `eos_token_id`:2 for open-end generation.\n"
          ]
        },
        {
          "output_type": "stream",
          "name": "stdout",
          "text": [
            "Token 352: Integrity\n",
            "True label: 6\n",
            "Predicted label:\n",
            "['<s> Develop a token classification model to accurately identify and classify named entities label:\\n### Token:\\nIntegrity\\n### label:\\n15</s>']\n",
            "\n"
          ]
        },
        {
          "output_type": "stream",
          "name": "stderr",
          "text": [
            "Setting `pad_token_id` to `eos_token_id`:2 for open-end generation.\n"
          ]
        },
        {
          "output_type": "stream",
          "name": "stdout",
          "text": [
            "Token 353: web\n",
            "True label: 23\n",
            "Predicted label:\n",
            "['<s> Develop a token classification model to accurately identify and classify named entities label:\\n### Token:\\nweb\\n### label:\\n23</s>']\n",
            "\n"
          ]
        },
        {
          "output_type": "stream",
          "name": "stderr",
          "text": [
            "Setting `pad_token_id` to `eos_token_id`:2 for open-end generation.\n"
          ]
        },
        {
          "output_type": "stream",
          "name": "stdout",
          "text": [
            "Token 354: update\n",
            "True label: 12\n",
            "Predicted label:\n",
            "['<s> Develop a token classification model to accurately identify and classify named entities label:\\n### Token:\\nupdate\\n### label:\\n23</s>']\n",
            "\n"
          ]
        },
        {
          "output_type": "stream",
          "name": "stderr",
          "text": [
            "Setting `pad_token_id` to `eos_token_id`:2 for open-end generation.\n"
          ]
        },
        {
          "output_type": "stream",
          "name": "stdout",
          "text": [
            "Token 355: 1.5.x\n",
            "True label: 14\n",
            "Predicted label:\n",
            "['<s> Develop a token classification model to accurately identify and classify named entities label:\\n### Token:\\n1.5.x\\n### label:\\n22</s>']\n",
            "\n"
          ]
        },
        {
          "output_type": "stream",
          "name": "stderr",
          "text": [
            "Setting `pad_token_id` to `eos_token_id`:2 for open-end generation.\n"
          ]
        },
        {
          "output_type": "stream",
          "name": "stdout",
          "text": [
            "Token 356: 02-51\n",
            "True label: 14\n",
            "Predicted label:\n",
            "['<s> Develop a token classification model to accurately identify and classify named entities label:\\n### Token:\\n02-51\\n### label:\\n14</s>']\n",
            "\n"
          ]
        },
        {
          "output_type": "stream",
          "name": "stderr",
          "text": [
            "Setting `pad_token_id` to `eos_token_id`:2 for open-end generation.\n"
          ]
        },
        {
          "output_type": "stream",
          "name": "stdout",
          "text": [
            "Token 357: emesenelib/ProfileManager.py\n",
            "True label: 4\n",
            "Predicted label:\n",
            "['<s> Develop a token classification model to accurately identify and classify named entities label:\\n### Token:\\nemesenelib/ProfileManager.py\\n### label:\\n4</s>']\n",
            "\n"
          ]
        },
        {
          "output_type": "stream",
          "name": "stderr",
          "text": [
            "Setting `pad_token_id` to `eos_token_id`:2 for open-end generation.\n"
          ]
        },
        {
          "output_type": "stream",
          "name": "stdout",
          "text": [
            "Token 358: width\n",
            "True label: 23\n",
            "Predicted label:\n",
            "['<s> Develop a token classification model to accurately identify and classify named entities label:\\n### Token:\\nwidth\\n### label:\\n23</s>']\n",
            "\n"
          ]
        },
        {
          "output_type": "stream",
          "name": "stderr",
          "text": [
            "Setting `pad_token_id` to `eos_token_id`:2 for open-end generation.\n"
          ]
        },
        {
          "output_type": "stream",
          "name": "stdout",
          "text": [
            "Token 359: url-gateway.php\n",
            "True label: 23\n",
            "Predicted label:\n",
            "['<s> Develop a token classification model to accurately identify and classify named entities label:\\n### Token:\\nurl-gateway.php\\n### label:\\n23</s>']\n",
            "\n"
          ]
        },
        {
          "output_type": "stream",
          "name": "stderr",
          "text": [
            "Setting `pad_token_id` to `eos_token_id`:2 for open-end generation.\n"
          ]
        },
        {
          "output_type": "stream",
          "name": "stdout",
          "text": [
            "Token 360: 23.0.1271.95\n",
            "True label: 22\n",
            "Predicted label:\n",
            "['<s> Develop a token classification model to accurately identify and classify named entities label:\\n### Token:\\n23.0.1271.95\\n### label:\\n22</s>']\n",
            "\n"
          ]
        },
        {
          "output_type": "stream",
          "name": "stderr",
          "text": [
            "Setting `pad_token_id` to `eos_token_id`:2 for open-end generation.\n"
          ]
        },
        {
          "output_type": "stream",
          "name": "stdout",
          "text": [
            "Token 361: tasks/ajax/edittask.php\n",
            "True label: 4\n",
            "Predicted label:\n",
            "['<s> Develop a token classification model to accurately identify and classify named entities label:\\n### Token:\\ntasks/ajax/edittask.php\\n### label:\\n4</s>']\n",
            "\n"
          ]
        },
        {
          "output_type": "stream",
          "name": "stderr",
          "text": [
            "Setting `pad_token_id` to `eos_token_id`:2 for open-end generation.\n"
          ]
        },
        {
          "output_type": "stream",
          "name": "stdout",
          "text": [
            "Token 362: IronJacamar\n",
            "True label: 1\n",
            "Predicted label:\n",
            "['<s> Develop a token classification model to accurately identify and classify named entities label:\\n### Token:\\nIronJacamar\\n### label:\\n1</s>']\n",
            "\n"
          ]
        },
        {
          "output_type": "stream",
          "name": "stderr",
          "text": [
            "Setting `pad_token_id` to `eos_token_id`:2 for open-end generation.\n"
          ]
        },
        {
          "output_type": "stream",
          "name": "stdout",
          "text": [
            "Token 363: Cognos\n",
            "True label: 23\n",
            "Predicted label:\n",
            "['<s> Develop a token classification model to accurately identify and classify named entities label:\\n### Token:\\nCognos\\n### label:\\n1</s>']\n",
            "\n"
          ]
        },
        {
          "output_type": "stream",
          "name": "stderr",
          "text": [
            "Setting `pad_token_id` to `eos_token_id`:2 for open-end generation.\n"
          ]
        },
        {
          "output_type": "stream",
          "name": "stdout",
          "text": [
            "Token 364: CSCtt07949\n",
            "True label: 23\n",
            "Predicted label:\n",
            "['<s> Develop a token classification model to accurately identify and classify named entities label:\\n### Token:\\nCSCtt07949\\n### label:\\n23</s>']\n",
            "\n"
          ]
        },
        {
          "output_type": "stream",
          "name": "stderr",
          "text": [
            "Setting `pad_token_id` to `eos_token_id`:2 for open-end generation.\n"
          ]
        },
        {
          "output_type": "stream",
          "name": "stdout",
          "text": [
            "Token 365: User\n",
            "True label: 15\n",
            "Predicted label:\n",
            "['<s> Develop a token classification model to accurately identify and classify named entities label:\\n### Token:\\nUser\\n### label:\\n15</s>']\n",
            "\n"
          ]
        },
        {
          "output_type": "stream",
          "name": "stderr",
          "text": [
            "Setting `pad_token_id` to `eos_token_id`:2 for open-end generation.\n"
          ]
        },
        {
          "output_type": "stream",
          "name": "stdout",
          "text": [
            "Token 366: 9.0.9\n",
            "True label: 22\n",
            "Predicted label:\n",
            "['<s> Develop a token classification model to accurately identify and classify named entities label:\\n### Token:\\n9.0.9\\n### label:\\n22</s>']\n",
            "\n"
          ]
        },
        {
          "output_type": "stream",
          "name": "stderr",
          "text": [
            "Setting `pad_token_id` to `eos_token_id`:2 for open-end generation.\n"
          ]
        },
        {
          "output_type": "stream",
          "name": "stdout",
          "text": [
            "Token 367: WSN\n",
            "True label: 1\n",
            "Predicted label:\n",
            "['<s> Develop a token classification model to accurately identify and classify named entities label:\\n### Token:\\nWSN\\n### label:\\n1</s>']\n",
            "\n"
          ]
        },
        {
          "output_type": "stream",
          "name": "stderr",
          "text": [
            "Setting `pad_token_id` to `eos_token_id`:2 for open-end generation.\n"
          ]
        },
        {
          "output_type": "stream",
          "name": "stdout",
          "text": [
            "Token 368: JailbreakMe\n",
            "True label: 23\n",
            "Predicted label:\n",
            "['<s> Develop a token classification model to accurately identify and classify named entities label:\\n### Token:\\nJailbreakMe\\n### label:\\n1</s>']\n",
            "\n"
          ]
        },
        {
          "output_type": "stream",
          "name": "stderr",
          "text": [
            "Setting `pad_token_id` to `eos_token_id`:2 for open-end generation.\n"
          ]
        },
        {
          "output_type": "stream",
          "name": "stdout",
          "text": [
            "Token 369: 2011.3.1\n",
            "True label: 22\n",
            "Predicted label:\n",
            "['<s> Develop a token classification model to accurately identify and classify named entities label:\\n### Token:\\n2011.3.1\\n### label:\\n22</s>']\n",
            "\n"
          ]
        },
        {
          "output_type": "stream",
          "name": "stderr",
          "text": [
            "Setting `pad_token_id` to `eos_token_id`:2 for open-end generation.\n"
          ]
        },
        {
          "output_type": "stream",
          "name": "stdout",
          "text": [
            "Token 370: drivers/char/tty_io.c\n",
            "True label: 4\n",
            "Predicted label:\n",
            "['<s> Develop a token classification model to accurately identify and classify named entities label:\\n### Token:\\ndrivers/char/tty_io.c\\n### label:\\n4</s>']\n",
            "\n"
          ]
        },
        {
          "output_type": "stream",
          "name": "stderr",
          "text": [
            "Setting `pad_token_id` to `eos_token_id`:2 for open-end generation.\n"
          ]
        },
        {
          "output_type": "stream",
          "name": "stdout",
          "text": [
            "Token 371: timeouts\n",
            "True label: 23\n",
            "Predicted label:\n",
            "['<s> Develop a token classification model to accurately identify and classify named entities label:\\n### Token:\\ntimeouts\\n### label:\\n23</s>']\n",
            "\n"
          ]
        },
        {
          "output_type": "stream",
          "name": "stderr",
          "text": [
            "Setting `pad_token_id` to `eos_token_id`:2 for open-end generation.\n"
          ]
        },
        {
          "output_type": "stream",
          "name": "stdout",
          "text": [
            "Token 372: 3.2(24.1\n",
            "True label: 22\n",
            "Predicted label:\n",
            "['<s> Develop a token classification model to accurately identify and classify named entities label:\\n### Token:\\n3.2(24.1\\n### label:\\n22</s>']\n",
            "\n"
          ]
        },
        {
          "output_type": "stream",
          "name": "stderr",
          "text": [
            "Setting `pad_token_id` to `eos_token_id`:2 for open-end generation.\n"
          ]
        },
        {
          "output_type": "stream",
          "name": "stdout",
          "text": [
            "Token 373: 0.9.15\n",
            "True label: 14\n",
            "Predicted label:\n",
            "['<s> Develop a token classification model to accurately identify and classify named entities label:\\n### Token:\\n0.9.15\\n### label:\\n14</s>']\n",
            "\n"
          ]
        },
        {
          "output_type": "stream",
          "name": "stderr",
          "text": [
            "Setting `pad_token_id` to `eos_token_id`:2 for open-end generation.\n"
          ]
        },
        {
          "output_type": "stream",
          "name": "stdout",
          "text": [
            "Token 374: Compact\n",
            "True label: 23\n",
            "Predicted label:\n",
            "['<s> Develop a token classification model to accurately identify and classify named entities label:\\n### Token:\\nCompact\\n### label:\\n1</s>']\n",
            "\n"
          ]
        },
        {
          "output_type": "stream",
          "name": "stderr",
          "text": [
            "Setting `pad_token_id` to `eos_token_id`:2 for open-end generation.\n"
          ]
        },
        {
          "output_type": "stream",
          "name": "stdout",
          "text": [
            "Token 375: application/controllers/admin/reports.php\n",
            "True label: 4\n",
            "Predicted label:\n",
            "['<s> Develop a token classification model to accurately identify and classify named entities label:\\n### Token:\\napplication/controllers/admin/reports.php\\n### label:\\n4</s>']\n",
            "\n"
          ]
        },
        {
          "output_type": "stream",
          "name": "stderr",
          "text": [
            "Setting `pad_token_id` to `eos_token_id`:2 for open-end generation.\n"
          ]
        },
        {
          "output_type": "stream",
          "name": "stdout",
          "text": [
            "Token 376: Removal\n",
            "True label: 15\n",
            "Predicted label:\n",
            "['<s> Develop a token classification model to accurately identify and classify named entities label:\\n### Token:\\nRemoval\\n### label:\\n23</s>']\n",
            "\n"
          ]
        },
        {
          "output_type": "stream",
          "name": "stderr",
          "text": [
            "Setting `pad_token_id` to `eos_token_id`:2 for open-end generation.\n"
          ]
        },
        {
          "output_type": "stream",
          "name": "stdout",
          "text": [
            "Token 377: News\n",
            "True label: 1\n",
            "Predicted label:\n",
            "['<s> Develop a token classification model to accurately identify and classify named entities label:\\n### Token:\\nNews\\n### label:\\n15</s>']\n",
            "\n"
          ]
        },
        {
          "output_type": "stream",
          "name": "stderr",
          "text": [
            "Setting `pad_token_id` to `eos_token_id`:2 for open-end generation.\n"
          ]
        },
        {
          "output_type": "stream",
          "name": "stdout",
          "text": [
            "Token 378: 3.60.04\n",
            "True label: 14\n",
            "Predicted label:\n",
            "['<s> Develop a token classification model to accurately identify and classify named entities label:\\n### Token:\\n3.60.04\\n### label:\\n22</s>']\n",
            "\n"
          ]
        },
        {
          "output_type": "stream",
          "name": "stderr",
          "text": [
            "Setting `pad_token_id` to `eos_token_id`:2 for open-end generation.\n"
          ]
        },
        {
          "output_type": "stream",
          "name": "stdout",
          "text": [
            "Token 379: ib\n",
            "True label: 23\n",
            "Predicted label:\n",
            "['<s> Develop a token classification model to accurately identify and classify named entities label:\\n### Token:\\nib\\n### label:\\n23</s>']\n",
            "\n"
          ]
        },
        {
          "output_type": "stream",
          "name": "stderr",
          "text": [
            "Setting `pad_token_id` to `eos_token_id`:2 for open-end generation.\n"
          ]
        },
        {
          "output_type": "stream",
          "name": "stdout",
          "text": [
            "Token 380: hfs_mac2asc\n",
            "True label: 5\n",
            "Predicted label:\n",
            "['<s> Develop a token classification model to accurately identify and classify named entities label:\\n### Token:\\nhfs_mac2asc\\n### label:\\n5</s>']\n",
            "\n"
          ]
        },
        {
          "output_type": "stream",
          "name": "stderr",
          "text": [
            "Setting `pad_token_id` to `eos_token_id`:2 for open-end generation.\n"
          ]
        },
        {
          "output_type": "stream",
          "name": "stdout",
          "text": [
            "Token 381: GP\n",
            "True label: 1\n",
            "Predicted label:\n",
            "['<s> Develop a token classification model to accurately identify and classify named entities label:\\n### Token:\\nGP\\n### label:\\n1</s>']\n",
            "\n"
          ]
        },
        {
          "output_type": "stream",
          "name": "stderr",
          "text": [
            "Setting `pad_token_id` to `eos_token_id`:2 for open-end generation.\n"
          ]
        },
        {
          "output_type": "stream",
          "name": "stdout",
          "text": [
            "Token 382: CCMDB),\n",
            "True label: 23\n",
            "Predicted label:\n",
            "['<s> Develop a token classification model to accurately identify and classify named entities label:\\n### Token:\\nCCMDB),\\n### label:\\n23</s>']\n",
            "\n"
          ]
        },
        {
          "output_type": "stream",
          "name": "stderr",
          "text": [
            "Setting `pad_token_id` to `eos_token_id`:2 for open-end generation.\n"
          ]
        },
        {
          "output_type": "stream",
          "name": "stdout",
          "text": [
            "Token 383: table1\n",
            "True label: 23\n",
            "Predicted label:\n",
            "['<s> Develop a token classification model to accurately identify and classify named entities label:\\n### Token:\\ntable1\\n### label:\\n23</s>']\n",
            "\n"
          ]
        },
        {
          "output_type": "stream",
          "name": "stderr",
          "text": [
            "Setting `pad_token_id` to `eos_token_id`:2 for open-end generation.\n"
          ]
        },
        {
          "output_type": "stream",
          "name": "stdout",
          "text": [
            "Token 384: dissect_dcm_main\n",
            "True label: 5\n",
            "Predicted label:\n",
            "['<s> Develop a token classification model to accurately identify and classify named entities label:\\n### Token:\\ndissect_dcm_main\\n### label:\\n5</s>']\n",
            "\n"
          ]
        },
        {
          "output_type": "stream",
          "name": "stderr",
          "text": [
            "Setting `pad_token_id` to `eos_token_id`:2 for open-end generation.\n"
          ]
        },
        {
          "output_type": "stream",
          "name": "stdout",
          "text": [
            "Token 385: fws/pages-front/onecheckout.php\n",
            "True label: 4\n",
            "Predicted label:\n",
            "['<s> Develop a token classification model to accurately identify and classify named entities label:\\n### Token:\\nfws/pages-front/onecheckout.php\\n### label:\\n4</s>']\n",
            "\n"
          ]
        },
        {
          "output_type": "stream",
          "name": "stderr",
          "text": [
            "Setting `pad_token_id` to `eos_token_id`:2 for open-end generation.\n"
          ]
        },
        {
          "output_type": "stream",
          "name": "stdout",
          "text": [
            "Token 386: VIDIOCSTUNER\n",
            "True label: 23\n",
            "Predicted label:\n",
            "['<s> Develop a token classification model to accurately identify and classify named entities label:\\n### Token:\\nVIDIOCSTUNER\\n### label:\\n23</s>']\n",
            "\n"
          ]
        },
        {
          "output_type": "stream",
          "name": "stderr",
          "text": [
            "Setting `pad_token_id` to `eos_token_id`:2 for open-end generation.\n"
          ]
        },
        {
          "output_type": "stream",
          "name": "stdout",
          "text": [
            "Token 387: Unified\n",
            "True label: 15\n",
            "Predicted label:\n",
            "['<s> Develop a token classification model to accurately identify and classify named entities label:\\n### Token:\\nUnified\\n### label:\\n1</s>']\n",
            "\n"
          ]
        },
        {
          "output_type": "stream",
          "name": "stderr",
          "text": [
            "Setting `pad_token_id` to `eos_token_id`:2 for open-end generation.\n"
          ]
        },
        {
          "output_type": "stream",
          "name": "stdout",
          "text": [
            "Token 388: 3.1.8\n",
            "True label: 22\n",
            "Predicted label:\n",
            "['<s> Develop a token classification model to accurately identify and classify named entities label:\\n### Token:\\n3.1.8\\n### label:\\n22</s>']\n",
            "\n"
          ]
        },
        {
          "output_type": "stream",
          "name": "stderr",
          "text": [
            "Setting `pad_token_id` to `eos_token_id`:2 for open-end generation.\n"
          ]
        },
        {
          "output_type": "stream",
          "name": "stdout",
          "text": [
            "Token 389: base_stat_time.php\n",
            "True label: 23\n",
            "Predicted label:\n",
            "['<s> Develop a token classification model to accurately identify and classify named entities label:\\n### Token:\\nbase_stat_time.php\\n### label:\\n23</s>']\n",
            "\n"
          ]
        },
        {
          "output_type": "stream",
          "name": "stderr",
          "text": [
            "Setting `pad_token_id` to `eos_token_id`:2 for open-end generation.\n"
          ]
        },
        {
          "output_type": "stream",
          "name": "stdout",
          "text": [
            "Token 390: 2.07.17\n",
            "True label: 22\n",
            "Predicted label:\n",
            "['<s> Develop a token classification model to accurately identify and classify named entities label:\\n### Token:\\n2.07.17\\n### label:\\n22</s>']\n",
            "\n"
          ]
        },
        {
          "output_type": "stream",
          "name": "stderr",
          "text": [
            "Setting `pad_token_id` to `eos_token_id`:2 for open-end generation.\n"
          ]
        },
        {
          "output_type": "stream",
          "name": "stdout",
          "text": [
            "Token 391: jbpm-console\n",
            "True label: 23\n",
            "Predicted label:\n",
            "['<s> Develop a token classification model to accurately identify and classify named entities label:\\n### Token:\\njbpm-console\\n### label:\\n1</s>']\n",
            "\n"
          ]
        },
        {
          "output_type": "stream",
          "name": "stderr",
          "text": [
            "Setting `pad_token_id` to `eos_token_id`:2 for open-end generation.\n"
          ]
        },
        {
          "output_type": "stream",
          "name": "stdout",
          "text": [
            "Token 392: 1.5.4\n",
            "True label: 14\n",
            "Predicted label:\n",
            "['<s> Develop a token classification model to accurately identify and classify named entities label:\\n### Token:\\n1.5.4\\n### label:\\n22</s>']\n",
            "\n"
          ]
        },
        {
          "output_type": "stream",
          "name": "stderr",
          "text": [
            "Setting `pad_token_id` to `eos_token_id`:2 for open-end generation.\n"
          ]
        },
        {
          "output_type": "stream",
          "name": "stdout",
          "text": [
            "Token 393: Logoff\n",
            "True label: 23\n",
            "Predicted label:\n",
            "['<s> Develop a token classification model to accurately identify and classify named entities label:\\n### Token:\\nLogoff\\n### label:\\n15</s>']\n",
            "\n"
          ]
        },
        {
          "output_type": "stream",
          "name": "stderr",
          "text": [
            "Setting `pad_token_id` to `eos_token_id`:2 for open-end generation.\n"
          ]
        },
        {
          "output_type": "stream",
          "name": "stdout",
          "text": [
            "Token 394: CSCto88686\n",
            "True label: 23\n",
            "Predicted label:\n",
            "['<s> Develop a token classification model to accurately identify and classify named entities label:\\n### Token:\\nCSCto88686\\n### label:\\n23</s>']\n",
            "\n"
          ]
        },
        {
          "output_type": "stream",
          "name": "stderr",
          "text": [
            "Setting `pad_token_id` to `eos_token_id`:2 for open-end generation.\n"
          ]
        },
        {
          "output_type": "stream",
          "name": "stdout",
          "text": [
            "Token 395: SimpleGroupware\n",
            "True label: 1\n",
            "Predicted label:\n",
            "['<s> Develop a token classification model to accurately identify and classify named entities label:\\n### Token:\\nSimpleGroupware\\n### label:\\n1</s>']\n",
            "\n"
          ]
        },
        {
          "output_type": "stream",
          "name": "stderr",
          "text": [
            "Setting `pad_token_id` to `eos_token_id`:2 for open-end generation.\n"
          ]
        },
        {
          "output_type": "stream",
          "name": "stdout",
          "text": [
            "Token 396: Gitolite\n",
            "True label: 23\n",
            "Predicted label:\n",
            "['<s> Develop a token classification model to accurately identify and classify named entities label:\\n### Token:\\nGitolite\\n### label:\\n1</s>']\n",
            "\n"
          ]
        },
        {
          "output_type": "stream",
          "name": "stderr",
          "text": [
            "Setting `pad_token_id` to `eos_token_id`:2 for open-end generation.\n"
          ]
        },
        {
          "output_type": "stream",
          "name": "stdout",
          "text": [
            "Token 397: cover\n",
            "True label: 23\n",
            "Predicted label:\n",
            "['<s> Develop a token classification model to accurately identify and classify named entities label:\\n### Token:\\ncover\\n### label:\\n23</s>']\n",
            "\n"
          ]
        },
        {
          "output_type": "stream",
          "name": "stderr",
          "text": [
            "Setting `pad_token_id` to `eos_token_id`:2 for open-end generation.\n"
          ]
        },
        {
          "output_type": "stream",
          "name": "stdout",
          "text": [
            "Token 398: Jfeedback\n",
            "True label: 23\n",
            "Predicted label:\n",
            "['<s> Develop a token classification model to accurately identify and classify named entities label:\\n### Token:\\nJfeedback\\n### label:\\n1</s>']\n",
            "\n"
          ]
        },
        {
          "output_type": "stream",
          "name": "stderr",
          "text": [
            "Setting `pad_token_id` to `eos_token_id`:2 for open-end generation.\n"
          ]
        },
        {
          "output_type": "stream",
          "name": "stdout",
          "text": [
            "Token 399: ProjectPier\n",
            "True label: 1\n",
            "Predicted label:\n",
            "['<s> Develop a token classification model to accurately identify and classify named entities label:\\n### Token:\\nProjectPier\\n### label:\\n1</s>']\n",
            "\n"
          ]
        },
        {
          "output_type": "stream",
          "name": "stderr",
          "text": [
            "Setting `pad_token_id` to `eos_token_id`:2 for open-end generation.\n"
          ]
        },
        {
          "output_type": "stream",
          "name": "stdout",
          "text": [
            "Token 400: 1.6.1.24\n",
            "True label: 22\n",
            "Predicted label:\n",
            "['<s> Develop a token classification model to accurately identify and classify named entities label:\\n### Token:\\n1.6.1.24\\n### label:\\n22</s>']\n",
            "\n"
          ]
        },
        {
          "output_type": "stream",
          "name": "stderr",
          "text": [
            "Setting `pad_token_id` to `eos_token_id`:2 for open-end generation.\n"
          ]
        },
        {
          "output_type": "stream",
          "name": "stdout",
          "text": [
            "Token 401: 7.28.1\n",
            "True label: 22\n",
            "Predicted label:\n",
            "['<s> Develop a token classification model to accurately identify and classify named entities label:\\n### Token:\\n7.28.1\\n### label:\\n22</s>']\n",
            "\n"
          ]
        },
        {
          "output_type": "stream",
          "name": "stderr",
          "text": [
            "Setting `pad_token_id` to `eos_token_id`:2 for open-end generation.\n"
          ]
        },
        {
          "output_type": "stream",
          "name": "stdout",
          "text": [
            "Token 402: stdio-common/vfprintf.c\n",
            "True label: 4\n",
            "Predicted label:\n",
            "['<s> Develop a token classification model to accurately identify and classify named entities label:\\n### Token:\\nstdio-common/vfprintf.c\\n### label:\\n4</s>']\n",
            "\n"
          ]
        },
        {
          "output_type": "stream",
          "name": "stderr",
          "text": [
            "Setting `pad_token_id` to `eos_token_id`:2 for open-end generation.\n"
          ]
        },
        {
          "output_type": "stream",
          "name": "stdout",
          "text": [
            "Token 403: Containers\n",
            "True label: 23\n",
            "Predicted label:\n",
            "['<s> Develop a token classification model to accurately identify and classify named entities label:\\n### Token:\\nContainers\\n### label:\\n15</s>']\n",
            "\n"
          ]
        },
        {
          "output_type": "stream",
          "name": "stderr",
          "text": [
            "Setting `pad_token_id` to `eos_token_id`:2 for open-end generation.\n"
          ]
        },
        {
          "output_type": "stream",
          "name": "stdout",
          "text": [
            "Token 404: 23.0.1271.94\n",
            "True label: 22\n",
            "Predicted label:\n",
            "['<s> Develop a token classification model to accurately identify and classify named entities label:\\n### Token:\\n23.0.1271.94\\n### label:\\n22</s>']\n",
            "\n"
          ]
        },
        {
          "output_type": "stream",
          "name": "stderr",
          "text": [
            "Setting `pad_token_id` to `eos_token_id`:2 for open-end generation.\n"
          ]
        },
        {
          "output_type": "stream",
          "name": "stdout",
          "text": [
            "Token 405: OSCommerce\n",
            "True label: 13\n",
            "Predicted label:\n",
            "['<s> Develop a token classification model to accurately identify and classify named entities label:\\n### Token:\\nOSCommerce\\n### label:\\n1</s>']\n",
            "\n"
          ]
        },
        {
          "output_type": "stream",
          "name": "stderr",
          "text": [
            "Setting `pad_token_id` to `eos_token_id`:2 for open-end generation.\n"
          ]
        },
        {
          "output_type": "stream",
          "name": "stdout",
          "text": [
            "Token 406: CVE-2008-2565\n",
            "True label: 2\n",
            "Predicted label:\n",
            "['<s> Develop a token classification model to accurately identify and classify named entities label:\\n### Token:\\nCVE-2008-2565\\n### label:\\n2</s>']\n",
            "\n"
          ]
        },
        {
          "output_type": "stream",
          "name": "stderr",
          "text": [
            "Setting `pad_token_id` to `eos_token_id`:2 for open-end generation.\n"
          ]
        },
        {
          "output_type": "stream",
          "name": "stdout",
          "text": [
            "Token 407: DataHub\n",
            "True label: 15\n",
            "Predicted label:\n",
            "['<s> Develop a token classification model to accurately identify and classify named entities label:\\n### Token:\\nDataHub\\n### label:\\n1</s>']\n",
            "\n"
          ]
        },
        {
          "output_type": "stream",
          "name": "stderr",
          "text": [
            "Setting `pad_token_id` to `eos_token_id`:2 for open-end generation.\n"
          ]
        },
        {
          "output_type": "stream",
          "name": "stdout",
          "text": [
            "Token 408: CVE-2012-2777\n",
            "True label: 2\n",
            "Predicted label:\n",
            "['<s> Develop a token classification model to accurately identify and classify named entities label:\\n### Token:\\nCVE-2012-2777\\n### label:\\n2</s>']\n",
            "\n"
          ]
        },
        {
          "output_type": "stream",
          "name": "stderr",
          "text": [
            "Setting `pad_token_id` to `eos_token_id`:2 for open-end generation.\n"
          ]
        },
        {
          "output_type": "stream",
          "name": "stdout",
          "text": [
            "Token 409: 07-59\n",
            "True label: 22\n",
            "Predicted label:\n",
            "['<s> Develop a token classification model to accurately identify and classify named entities label:\\n### Token:\\n07-59\\n### label:\\n14</s>']\n",
            "\n"
          ]
        },
        {
          "output_type": "stream",
          "name": "stderr",
          "text": [
            "Setting `pad_token_id` to `eos_token_id`:2 for open-end generation.\n"
          ]
        },
        {
          "output_type": "stream",
          "name": "stdout",
          "text": [
            "Token 410: Kunena\n",
            "True label: 1\n",
            "Predicted label:\n",
            "['<s> Develop a token classification model to accurately identify and classify named entities label:\\n### Token:\\nKunena\\n### label:\\n1</s>']\n",
            "\n"
          ]
        },
        {
          "output_type": "stream",
          "name": "stderr",
          "text": [
            "Setting `pad_token_id` to `eos_token_id`:2 for open-end generation.\n"
          ]
        },
        {
          "output_type": "stream",
          "name": "stdout",
          "text": [
            "Token 411: MailPack\n",
            "True label: 1\n",
            "Predicted label:\n",
            "['<s> Develop a token classification model to accurately identify and classify named entities label:\\n### Token:\\nMailPack\\n### label:\\n1</s>']\n",
            "\n"
          ]
        },
        {
          "output_type": "stream",
          "name": "stderr",
          "text": [
            "Setting `pad_token_id` to `eos_token_id`:2 for open-end generation.\n"
          ]
        },
        {
          "output_type": "stream",
          "name": "stdout",
          "text": [
            "Token 412: CR1\n",
            "True label: 12\n",
            "Predicted label:\n",
            "['<s> Develop a token classification model to accurately identify and classify named entities label:\\n### Token:\\nCR1\\n### label:\\n12</s>']\n",
            "\n"
          ]
        },
        {
          "output_type": "stream",
          "name": "stderr",
          "text": [
            "Setting `pad_token_id` to `eos_token_id`:2 for open-end generation.\n"
          ]
        },
        {
          "output_type": "stream",
          "name": "stdout",
          "text": [
            "Token 413: WaliSMS\n",
            "True label: 1\n",
            "Predicted label:\n",
            "['<s> Develop a token classification model to accurately identify and classify named entities label:\\n### Token:\\nWaliSMS\\n### label:\\n1</s>']\n",
            "\n"
          ]
        },
        {
          "output_type": "stream",
          "name": "stderr",
          "text": [
            "Setting `pad_token_id` to `eos_token_id`:2 for open-end generation.\n"
          ]
        },
        {
          "output_type": "stream",
          "name": "stdout",
          "text": [
            "Token 414: Crowbar\n",
            "True label: 1\n",
            "Predicted label:\n",
            "['<s> Develop a token classification model to accurately identify and classify named entities label:\\n### Token:\\nCrowbar\\n### label:\\n1</s>']\n",
            "\n"
          ]
        },
        {
          "output_type": "stream",
          "name": "stderr",
          "text": [
            "Setting `pad_token_id` to `eos_token_id`:2 for open-end generation.\n"
          ]
        },
        {
          "output_type": "stream",
          "name": "stdout",
          "text": [
            "Token 415: Endpoint\n",
            "True label: 15\n",
            "Predicted label:\n",
            "['<s> Develop a token classification model to accurately identify and classify named entities label:\\n### Token:\\nEndpoint\\n### label:\\n15</s>']\n",
            "\n"
          ]
        },
        {
          "output_type": "stream",
          "name": "stderr",
          "text": [
            "Setting `pad_token_id` to `eos_token_id`:2 for open-end generation.\n"
          ]
        },
        {
          "output_type": "stream",
          "name": "stdout",
          "text": [
            "Token 416: 1.11.2\n",
            "True label: 14\n",
            "Predicted label:\n",
            "['<s> Develop a token classification model to accurately identify and classify named entities label:\\n### Token:\\n1.11.2\\n### label:\\n22</s>']\n",
            "\n"
          ]
        },
        {
          "output_type": "stream",
          "name": "stderr",
          "text": [
            "Setting `pad_token_id` to `eos_token_id`:2 for open-end generation.\n"
          ]
        },
        {
          "output_type": "stream",
          "name": "stdout",
          "text": [
            "Token 417: queue_init\n",
            "True label: 5\n",
            "Predicted label:\n",
            "['<s> Develop a token classification model to accurately identify and classify named entities label:\\n### Token:\\nqueue_init\\n### label:\\n5</s>']\n",
            "\n"
          ]
        },
        {
          "output_type": "stream",
          "name": "stderr",
          "text": [
            "Setting `pad_token_id` to `eos_token_id`:2 for open-end generation.\n"
          ]
        },
        {
          "output_type": "stream",
          "name": "stdout",
          "text": [
            "Token 418: 4.41\n",
            "True label: 14\n",
            "Predicted label:\n",
            "['<s> Develop a token classification model to accurately identify and classify named entities label:\\n### Token:\\n4.41\\n### label:\\n14</s>']\n",
            "\n"
          ]
        },
        {
          "output_type": "stream",
          "name": "stderr",
          "text": [
            "Setting `pad_token_id` to `eos_token_id`:2 for open-end generation.\n"
          ]
        },
        {
          "output_type": "stream",
          "name": "stdout",
          "text": [
            "Token 419: 9.0.597.84\n",
            "True label: 22\n",
            "Predicted label:\n",
            "['<s> Develop a token classification model to accurately identify and classify named entities label:\\n### Token:\\n9.0.597.84\\n### label:\\n22</s>']\n",
            "\n"
          ]
        },
        {
          "output_type": "stream",
          "name": "stderr",
          "text": [
            "Setting `pad_token_id` to `eos_token_id`:2 for open-end generation.\n"
          ]
        },
        {
          "output_type": "stream",
          "name": "stdout",
          "text": [
            "Token 420: do_tmem_destroy_pool\n",
            "True label: 5\n",
            "Predicted label:\n",
            "['<s> Develop a token classification model to accurately identify and classify named entities label:\\n### Token:\\ndo_tmem_destroy_pool\\n### label:\\n5</s>']\n",
            "\n"
          ]
        },
        {
          "output_type": "stream",
          "name": "stderr",
          "text": [
            "Setting `pad_token_id` to `eos_token_id`:2 for open-end generation.\n"
          ]
        },
        {
          "output_type": "stream",
          "name": "stdout",
          "text": [
            "Token 421: Sysax\n",
            "True label: 13\n",
            "Predicted label:\n",
            "['<s> Develop a token classification model to accurately identify and classify named entities label:\\n### Token:\\nSysax\\n### label:\\n1</s>']\n",
            "\n"
          ]
        },
        {
          "output_type": "stream",
          "name": "stderr",
          "text": [
            "Setting `pad_token_id` to `eos_token_id`:2 for open-end generation.\n"
          ]
        },
        {
          "output_type": "stream",
          "name": "stdout",
          "text": [
            "Token 422: SafeJSObjectWrapper\n",
            "True label: 23\n",
            "Predicted label:\n",
            "['<s> Develop a token classification model to accurately identify and classify named entities label:\\n### Token:\\nSafeJSObjectWrapper\\n### label:\\n23</s>']\n",
            "\n"
          ]
        },
        {
          "output_type": "stream",
          "name": "stderr",
          "text": [
            "Setting `pad_token_id` to `eos_token_id`:2 for open-end generation.\n"
          ]
        },
        {
          "output_type": "stream",
          "name": "stdout",
          "text": [
            "Token 423: StatIt\n",
            "True label: 1\n",
            "Predicted label:\n",
            "['<s> Develop a token classification model to accurately identify and classify named entities label:\\n### Token:\\nStatIt\\n### label:\\n1</s>']\n",
            "\n"
          ]
        },
        {
          "output_type": "stream",
          "name": "stderr",
          "text": [
            "Setting `pad_token_id` to `eos_token_id`:2 for open-end generation.\n"
          ]
        },
        {
          "output_type": "stream",
          "name": "stdout",
          "text": [
            "Token 424: subnetmask\n",
            "True label: 23\n",
            "Predicted label:\n",
            "['<s> Develop a token classification model to accurately identify and classify named entities label:\\n### Token:\\nsubnetmask\\n### label:\\n23</s>']\n",
            "\n"
          ]
        },
        {
          "output_type": "stream",
          "name": "stderr",
          "text": [
            "Setting `pad_token_id` to `eos_token_id`:2 for open-end generation.\n"
          ]
        },
        {
          "output_type": "stream",
          "name": "stdout",
          "text": [
            "Token 425: U+FFFB\n",
            "True label: 23\n",
            "Predicted label:\n",
            "['<s> Develop a token classification model to accurately identify and classify named entities label:\\n### Token:\\nU+FFFB\\n### label:\\n23</s>']\n",
            "\n"
          ]
        },
        {
          "output_type": "stream",
          "name": "stderr",
          "text": [
            "Setting `pad_token_id` to `eos_token_id`:2 for open-end generation.\n"
          ]
        },
        {
          "output_type": "stream",
          "name": "stdout",
          "text": [
            "Token 426: cry\n",
            "True label: 23\n",
            "Predicted label:\n",
            "['<s> Develop a token classification model to accurately identify and classify named entities label:\\n### Token:\\ncry\\n### label:\\n23</s>']\n",
            "\n"
          ]
        },
        {
          "output_type": "stream",
          "name": "stderr",
          "text": [
            "Setting `pad_token_id` to `eos_token_id`:2 for open-end generation.\n"
          ]
        },
        {
          "output_type": "stream",
          "name": "stdout",
          "text": [
            "Token 427: Dynamics\n",
            "True label: 1\n",
            "Predicted label:\n",
            "['<s> Develop a token classification model to accurately identify and classify named entities label:\\n### Token:\\nDynamics\\n### label:\\n1</s>']\n",
            "\n"
          ]
        },
        {
          "output_type": "stream",
          "name": "stderr",
          "text": [
            "Setting `pad_token_id` to `eos_token_id`:2 for open-end generation.\n"
          ]
        },
        {
          "output_type": "stream",
          "name": "stdout",
          "text": [
            "Token 428: res\n",
            "True label: 23\n",
            "Predicted label:\n",
            "['<s> Develop a token classification model to accurately identify and classify named entities label:\\n### Token:\\nres\\n### label:\\n23</s>']\n",
            "\n"
          ]
        },
        {
          "output_type": "stream",
          "name": "stderr",
          "text": [
            "Setting `pad_token_id` to `eos_token_id`:2 for open-end generation.\n"
          ]
        },
        {
          "output_type": "stream",
          "name": "stdout",
          "text": [
            "Token 429: nm-setting-vpn.c\n",
            "True label: 4\n",
            "Predicted label:\n",
            "['<s> Develop a token classification model to accurately identify and classify named entities label:\\n### Token:\\nnm-setting-vpn.c\\n### label:\\n4</s>']\n",
            "\n"
          ]
        },
        {
          "output_type": "stream",
          "name": "stderr",
          "text": [
            "Setting `pad_token_id` to `eos_token_id`:2 for open-end generation.\n"
          ]
        },
        {
          "output_type": "stream",
          "name": "stdout",
          "text": [
            "Token 430: 3.5.8\n",
            "True label: 22\n",
            "Predicted label:\n",
            "['<s> Develop a token classification model to accurately identify and classify named entities label:\\n### Token:\\n3.5.8\\n### label:\\n22</s>']\n",
            "\n"
          ]
        },
        {
          "output_type": "stream",
          "name": "stderr",
          "text": [
            "Setting `pad_token_id` to `eos_token_id`:2 for open-end generation.\n"
          ]
        },
        {
          "output_type": "stream",
          "name": "stdout",
          "text": [
            "Token 431: try\n",
            "True label: 23\n",
            "Predicted label:\n",
            "['<s> Develop a token classification model to accurately identify and classify named entities label:\\n### Token:\\ntry\\n### label:\\n23</s>']\n",
            "\n"
          ]
        },
        {
          "output_type": "stream",
          "name": "stderr",
          "text": [
            "Setting `pad_token_id` to `eos_token_id`:2 for open-end generation.\n"
          ]
        },
        {
          "output_type": "stream",
          "name": "stdout",
          "text": [
            "Token 432: search.cgi\n",
            "True label: 23\n",
            "Predicted label:\n",
            "['<s> Develop a token classification model to accurately identify and classify named entities label:\\n### Token:\\nsearch.cgi\\n### label:\\n23</s>']\n",
            "\n"
          ]
        },
        {
          "output_type": "stream",
          "name": "stderr",
          "text": [
            "Setting `pad_token_id` to `eos_token_id`:2 for open-end generation.\n"
          ]
        },
        {
          "output_type": "stream",
          "name": "stdout",
          "text": [
            "Token 433: 2.5.5\n",
            "True label: 22\n",
            "Predicted label:\n",
            "['<s> Develop a token classification model to accurately identify and classify named entities label:\\n### Token:\\n2.5.5\\n### label:\\n22</s>']\n",
            "\n"
          ]
        },
        {
          "output_type": "stream",
          "name": "stderr",
          "text": [
            "Setting `pad_token_id` to `eos_token_id`:2 for open-end generation.\n"
          ]
        },
        {
          "output_type": "stream",
          "name": "stdout",
          "text": [
            "Token 434: plugin_hook.php\n",
            "True label: 23\n",
            "Predicted label:\n",
            "['<s> Develop a token classification model to accurately identify and classify named entities label:\\n### Token:\\nplugin_hook.php\\n### label:\\n23</s>']\n",
            "\n"
          ]
        },
        {
          "output_type": "stream",
          "name": "stderr",
          "text": [
            "Setting `pad_token_id` to `eos_token_id`:2 for open-end generation.\n"
          ]
        },
        {
          "output_type": "stream",
          "name": "stdout",
          "text": [
            "Token 435: lknSupport\n",
            "True label: 1\n",
            "Predicted label:\n",
            "['<s> Develop a token classification model to accurately identify and classify named entities label:\\n### Token:\\nlknSupport\\n### label:\\n23</s>']\n",
            "\n"
          ]
        },
        {
          "output_type": "stream",
          "name": "stderr",
          "text": [
            "Setting `pad_token_id` to `eos_token_id`:2 for open-end generation.\n"
          ]
        },
        {
          "output_type": "stream",
          "name": "stdout",
          "text": [
            "Token 436: 5.0.375.99\n",
            "True label: 22\n",
            "Predicted label:\n",
            "['<s> Develop a token classification model to accurately identify and classify named entities label:\\n### Token:\\n5.0.375.99\\n### label:\\n22</s>']\n",
            "\n"
          ]
        },
        {
          "output_type": "stream",
          "name": "stderr",
          "text": [
            "Setting `pad_token_id` to `eos_token_id`:2 for open-end generation.\n"
          ]
        },
        {
          "output_type": "stream",
          "name": "stdout",
          "text": [
            "Token 437: _ctl_do_mpt_command\n",
            "True label: 5\n",
            "Predicted label:\n",
            "['<s> Develop a token classification model to accurately identify and classify named entities label:\\n### Token:\\n_ctl_do_mpt_command\\n### label:\\n5</s>']\n",
            "\n"
          ]
        },
        {
          "output_type": "stream",
          "name": "stderr",
          "text": [
            "Setting `pad_token_id` to `eos_token_id`:2 for open-end generation.\n"
          ]
        },
        {
          "output_type": "stream",
          "name": "stdout",
          "text": [
            "Token 438: user/home.php\n",
            "True label: 4\n",
            "Predicted label:\n",
            "['<s> Develop a token classification model to accurately identify and classify named entities label:\\n### Token:\\nuser/home.php\\n### label:\\n4</s>']\n",
            "\n"
          ]
        },
        {
          "output_type": "stream",
          "name": "stderr",
          "text": [
            "Setting `pad_token_id` to `eos_token_id`:2 for open-end generation.\n"
          ]
        },
        {
          "output_type": "stream",
          "name": "stdout",
          "text": [
            "Token 439: 1.8.21\n",
            "True label: 22\n",
            "Predicted label:\n",
            "['<s> Develop a token classification model to accurately identify and classify named entities label:\\n### Token:\\n1.8.21\\n### label:\\n22</s>']\n",
            "\n"
          ]
        },
        {
          "output_type": "stream",
          "name": "stderr",
          "text": [
            "Setting `pad_token_id` to `eos_token_id`:2 for open-end generation.\n"
          ]
        },
        {
          "output_type": "stream",
          "name": "stdout",
          "text": [
            "Token 440: seotoaster_core/application/models/LoginModel.php\n",
            "True label: 4\n",
            "Predicted label:\n",
            "['<s> Develop a token classification model to accurately identify and classify named entities label:\\n### Token:\\nseotoaster_core/application/models/LoginModel.php\\n### label:\\n4</s>']\n",
            "\n"
          ]
        },
        {
          "output_type": "stream",
          "name": "stderr",
          "text": [
            "Setting `pad_token_id` to `eos_token_id`:2 for open-end generation.\n"
          ]
        },
        {
          "output_type": "stream",
          "name": "stdout",
          "text": [
            "Token 441: Restrict\n",
            "True label: 23\n",
            "Predicted label:\n",
            "['<s> Develop a token classification model to accurately identify and classify named entities label:\\n### Token:\\nRestrict\\n### label:\\n23</s>']\n",
            "\n"
          ]
        },
        {
          "output_type": "stream",
          "name": "stderr",
          "text": [
            "Setting `pad_token_id` to `eos_token_id`:2 for open-end generation.\n"
          ]
        },
        {
          "output_type": "stream",
          "name": "stdout",
          "text": [
            "Token 442: BR-6104K\n",
            "True label: 6\n",
            "Predicted label:\n",
            "['<s> Develop a token classification model to accurately identify and classify named entities label:\\n### Token:\\nBR-6104K\\n### label:\\n23</s>']\n",
            "\n"
          ]
        },
        {
          "output_type": "stream",
          "name": "stderr",
          "text": [
            "Setting `pad_token_id` to `eos_token_id`:2 for open-end generation.\n"
          ]
        },
        {
          "output_type": "stream",
          "name": "stdout",
          "text": [
            "Token 443: Lokomedia\n",
            "True label: 1\n",
            "Predicted label:\n",
            "['<s> Develop a token classification model to accurately identify and classify named entities label:\\n### Token:\\nLokomedia\\n### label:\\n13</s>']\n",
            "\n"
          ]
        },
        {
          "output_type": "stream",
          "name": "stderr",
          "text": [
            "Setting `pad_token_id` to `eos_token_id`:2 for open-end generation.\n"
          ]
        },
        {
          "output_type": "stream",
          "name": "stdout",
          "text": [
            "Token 444: adjustment\n",
            "True label: 23\n",
            "Predicted label:\n",
            "['<s> Develop a token classification model to accurately identify and classify named entities label:\\n### Token:\\nadjustment\\n### label:\\n23</s>']\n",
            "\n"
          ]
        },
        {
          "output_type": "stream",
          "name": "stderr",
          "text": [
            "Setting `pad_token_id` to `eos_token_id`:2 for open-end generation.\n"
          ]
        },
        {
          "output_type": "stream",
          "name": "stdout",
          "text": [
            "Token 445: net/bridge/br_multicast.c\n",
            "True label: 4\n",
            "Predicted label:\n",
            "['<s> Develop a token classification model to accurately identify and classify named entities label:\\n### Token:\\nnet/bridge/br_multicast.c\\n### label:\\n4</s>']\n",
            "\n"
          ]
        },
        {
          "output_type": "stream",
          "name": "stderr",
          "text": [
            "Setting `pad_token_id` to `eos_token_id`:2 for open-end generation.\n"
          ]
        },
        {
          "output_type": "stream",
          "name": "stdout",
          "text": [
            "Token 446: 1003\n",
            "True label: 23\n",
            "Predicted label:\n",
            "['<s> Develop a token classification model to accurately identify and classify named entities label:\\n### Token:\\n1003\\n### label:\\n23</s>']\n",
            "\n"
          ]
        },
        {
          "output_type": "stream",
          "name": "stderr",
          "text": [
            "Setting `pad_token_id` to `eos_token_id`:2 for open-end generation.\n"
          ]
        },
        {
          "output_type": "stream",
          "name": "stdout",
          "text": [
            "Token 447: Contao\n",
            "True label: 13\n",
            "Predicted label:\n",
            "['<s> Develop a token classification model to accurately identify and classify named entities label:\\n### Token:\\nContao\\n### label:\\n1</s>']\n",
            "\n"
          ]
        },
        {
          "output_type": "stream",
          "name": "stderr",
          "text": [
            "Setting `pad_token_id` to `eos_token_id`:2 for open-end generation.\n"
          ]
        },
        {
          "output_type": "stream",
          "name": "stdout",
          "text": [
            "Token 448: SanDisk\n",
            "True label: 13\n",
            "Predicted label:\n",
            "['<s> Develop a token classification model to accurately identify and classify named entities label:\\n### Token:\\nSanDisk\\n### label:\\n13</s>']\n",
            "\n"
          ]
        },
        {
          "output_type": "stream",
          "name": "stderr",
          "text": [
            "Setting `pad_token_id` to `eos_token_id`:2 for open-end generation.\n"
          ]
        },
        {
          "output_type": "stream",
          "name": "stdout",
          "text": [
            "Token 449: involved\n",
            "True label: 23\n",
            "Predicted label:\n",
            "['<s> Develop a token classification model to accurately identify and classify named entities label:\\n### Token:\\ninvolved\\n### label:\\n23</s>']\n",
            "\n"
          ]
        },
        {
          "output_type": "stream",
          "name": "stderr",
          "text": [
            "Setting `pad_token_id` to `eos_token_id`:2 for open-end generation.\n"
          ]
        },
        {
          "output_type": "stream",
          "name": "stdout",
          "text": [
            "Token 450: CVE-2013-2720\n",
            "True label: 2\n",
            "Predicted label:\n",
            "['<s> Develop a token classification model to accurately identify and classify named entities label:\\n### Token:\\nCVE-2013-2720\\n### label:\\n2</s>']\n",
            "\n"
          ]
        },
        {
          "output_type": "stream",
          "name": "stderr",
          "text": [
            "Setting `pad_token_id` to `eos_token_id`:2 for open-end generation.\n"
          ]
        },
        {
          "output_type": "stream",
          "name": "stdout",
          "text": [
            "Token 451: ah\n",
            "True label: 23\n",
            "Predicted label:\n",
            "['<s> Develop a token classification model to accurately identify and classify named entities label:\\n### Token:\\nah\\n### label:\\n23</s>']\n",
            "\n"
          ]
        },
        {
          "output_type": "stream",
          "name": "stderr",
          "text": [
            "Setting `pad_token_id` to `eos_token_id`:2 for open-end generation.\n"
          ]
        },
        {
          "output_type": "stream",
          "name": "stdout",
          "text": [
            "Token 452: photos/index.php\n",
            "True label: 4\n",
            "Predicted label:\n",
            "['<s> Develop a token classification model to accurately identify and classify named entities label:\\n### Token:\\nphotos/index.php\\n### label:\\n4</s>']\n",
            "\n"
          ]
        },
        {
          "output_type": "stream",
          "name": "stderr",
          "text": [
            "Setting `pad_token_id` to `eos_token_id`:2 for open-end generation.\n"
          ]
        },
        {
          "output_type": "stream",
          "name": "stdout",
          "text": [
            "Token 453: 7.4\n",
            "True label: 22\n",
            "Predicted label:\n",
            "['<s> Develop a token classification model to accurately identify and classify named entities label:\\n### Token:\\n7.4\\n### label:\\n14</s>']\n",
            "\n"
          ]
        },
        {
          "output_type": "stream",
          "name": "stderr",
          "text": [
            "Setting `pad_token_id` to `eos_token_id`:2 for open-end generation.\n"
          ]
        },
        {
          "output_type": "stream",
          "name": "stdout",
          "text": [
            "Token 454: CVE-2012-2046\n",
            "True label: 2\n",
            "Predicted label:\n",
            "['<s> Develop a token classification model to accurately identify and classify named entities label:\\n### Token:\\nCVE-2012-2046\\n### label:\\n2</s>']\n",
            "\n"
          ]
        },
        {
          "output_type": "stream",
          "name": "stderr",
          "text": [
            "Setting `pad_token_id` to `eos_token_id`:2 for open-end generation.\n"
          ]
        },
        {
          "output_type": "stream",
          "name": "stdout",
          "text": [
            "Token 455: nr_recvmsg\n",
            "True label: 5\n",
            "Predicted label:\n",
            "['<s> Develop a token classification model to accurately identify and classify named entities label:\\n### Token:\\nnr_recvmsg\\n### label:\\n5</s>']\n",
            "\n"
          ]
        },
        {
          "output_type": "stream",
          "name": "stderr",
          "text": [
            "Setting `pad_token_id` to `eos_token_id`:2 for open-end generation.\n"
          ]
        },
        {
          "output_type": "stream",
          "name": "stdout",
          "text": [
            "Token 456: Opera\n",
            "True label: 1\n",
            "Predicted label:\n",
            "['<s> Develop a token classification model to accurately identify and classify named entities label:\\n### Token:\\nOpera\\n### label:\\n1</s>']\n",
            "\n"
          ]
        },
        {
          "output_type": "stream",
          "name": "stderr",
          "text": [
            "Setting `pad_token_id` to `eos_token_id`:2 for open-end generation.\n"
          ]
        },
        {
          "output_type": "stream",
          "name": "stdout",
          "text": [
            "Token 457: 2.5.4\n",
            "True label: 14\n",
            "Predicted label:\n",
            "['<s> Develop a token classification model to accurately identify and classify named entities label:\\n### Token:\\n2.5.4\\n### label:\\n22</s>']\n",
            "\n"
          ]
        },
        {
          "output_type": "stream",
          "name": "stderr",
          "text": [
            "Setting `pad_token_id` to `eos_token_id`:2 for open-end generation.\n"
          ]
        },
        {
          "output_type": "stream",
          "name": "stdout",
          "text": [
            "Token 458: 3.6.0\n",
            "True label: 14\n",
            "Predicted label:\n",
            "['<s> Develop a token classification model to accurately identify and classify named entities label:\\n### Token:\\n3.6.0\\n### label:\\n22</s>']\n",
            "\n"
          ]
        },
        {
          "output_type": "stream",
          "name": "stderr",
          "text": [
            "Setting `pad_token_id` to `eos_token_id`:2 for open-end generation.\n"
          ]
        },
        {
          "output_type": "stream",
          "name": "stdout",
          "text": [
            "Token 459: 8/8.0.1\n",
            "True label: 4\n",
            "Predicted label:\n",
            "['<s> Develop a token classification model to accurately identify and classify named entities label:\\n### Token:\\n8/8.0.1\\n### label:\\n22</s>']\n",
            "\n"
          ]
        },
        {
          "output_type": "stream",
          "name": "stderr",
          "text": [
            "Setting `pad_token_id` to `eos_token_id`:2 for open-end generation.\n"
          ]
        },
        {
          "output_type": "stream",
          "name": "stdout",
          "text": [
            "Token 460: boost/pool/pool.hpp\n",
            "True label: 4\n",
            "Predicted label:\n",
            "['<s> Develop a token classification model to accurately identify and classify named entities label:\\n### Token:\\nboost/pool/pool.hpp\\n### label:\\n4</s>']\n",
            "\n"
          ]
        },
        {
          "output_type": "stream",
          "name": "stderr",
          "text": [
            "Setting `pad_token_id` to `eos_token_id`:2 for open-end generation.\n"
          ]
        },
        {
          "output_type": "stream",
          "name": "stdout",
          "text": [
            "Token 461: CarelDataServer.exe\n",
            "True label: 23\n",
            "Predicted label:\n",
            "['<s> Develop a token classification model to accurately identify and classify named entities label:\\n### Token:\\nCarelDataServer.exe\\n### label:\\n23</s>']\n",
            "\n"
          ]
        },
        {
          "output_type": "stream",
          "name": "stderr",
          "text": [
            "Setting `pad_token_id` to `eos_token_id`:2 for open-end generation.\n"
          ]
        },
        {
          "output_type": "stream",
          "name": "stdout",
          "text": [
            "Token 462: App_Themes/Default/ButtonBarIcons.xml\n",
            "True label: 4\n",
            "Predicted label:\n",
            "['<s> Develop a token classification model to accurately identify and classify named entities label:\\n### Token:\\nApp_Themes/Default/ButtonBarIcons.xml\\n### label:\\n4</s>']\n",
            "\n"
          ]
        },
        {
          "output_type": "stream",
          "name": "stderr",
          "text": [
            "Setting `pad_token_id` to `eos_token_id`:2 for open-end generation.\n"
          ]
        },
        {
          "output_type": "stream",
          "name": "stdout",
          "text": [
            "Token 463: Privoxy\n",
            "True label: 1\n",
            "Predicted label:\n",
            "['<s> Develop a token classification model to accurately identify and classify named entities label:\\n### Token:\\nPrivoxy\\n### label:\\n1</s>']\n",
            "\n"
          ]
        },
        {
          "output_type": "stream",
          "name": "stderr",
          "text": [
            "Setting `pad_token_id` to `eos_token_id`:2 for open-end generation.\n"
          ]
        },
        {
          "output_type": "stream",
          "name": "stdout",
          "text": [
            "Token 464: CounterACT\n",
            "True label: 1\n",
            "Predicted label:\n",
            "['<s> Develop a token classification model to accurately identify and classify named entities label:\\n### Token:\\nCounterACT\\n### label:\\n1</s>']\n",
            "\n"
          ]
        },
        {
          "output_type": "stream",
          "name": "stderr",
          "text": [
            "Setting `pad_token_id` to `eos_token_id`:2 for open-end generation.\n"
          ]
        },
        {
          "output_type": "stream",
          "name": "stdout",
          "text": [
            "Token 465: libraries/server_synchronize.lib.php\n",
            "True label: 4\n",
            "Predicted label:\n",
            "['<s> Develop a token classification model to accurately identify and classify named entities label:\\n### Token:\\nlibraries/server_synchronize.lib.php\\n### label:\\n4</s>']\n",
            "\n"
          ]
        },
        {
          "output_type": "stream",
          "name": "stderr",
          "text": [
            "Setting `pad_token_id` to `eos_token_id`:2 for open-end generation.\n"
          ]
        },
        {
          "output_type": "stream",
          "name": "stdout",
          "text": [
            "Token 466: ftpserver.py\n",
            "True label: 23\n",
            "Predicted label:\n",
            "['<s> Develop a token classification model to accurately identify and classify named entities label:\\n### Token:\\nftpserver.py\\n### label:\\n23</s>']\n",
            "\n"
          ]
        },
        {
          "output_type": "stream",
          "name": "stderr",
          "text": [
            "Setting `pad_token_id` to `eos_token_id`:2 for open-end generation.\n"
          ]
        },
        {
          "output_type": "stream",
          "name": "stdout",
          "text": [
            "Token 467: F7D1301v1\n",
            "True label: 14\n",
            "Predicted label:\n",
            "['<s> Develop a token classification model to accurately identify and classify named entities label:\\n### Token:\\nF7D1301v1\\n### label:\\n22</s>']\n",
            "\n"
          ]
        },
        {
          "output_type": "stream",
          "name": "stderr",
          "text": [
            "Setting `pad_token_id` to `eos_token_id`:2 for open-end generation.\n"
          ]
        },
        {
          "output_type": "stream",
          "name": "stdout",
          "text": [
            "Token 468: TGT\n",
            "True label: 23\n",
            "Predicted label:\n",
            "['<s> Develop a token classification model to accurately identify and classify named entities label:\\n### Token:\\nTGT\\n### label:\\n23</s>']\n",
            "\n"
          ]
        },
        {
          "output_type": "stream",
          "name": "stderr",
          "text": [
            "Setting `pad_token_id` to `eos_token_id`:2 for open-end generation.\n"
          ]
        },
        {
          "output_type": "stream",
          "name": "stdout",
          "text": [
            "Token 469: i2\n",
            "True label: 22\n",
            "Predicted label:\n",
            "['<s> Develop a token classification model to accurately identify and classify named entities label:\\n### Token:\\ni2\\n### label:\\n23</s>']\n",
            "\n"
          ]
        },
        {
          "output_type": "stream",
          "name": "stderr",
          "text": [
            "Setting `pad_token_id` to `eos_token_id`:2 for open-end generation.\n"
          ]
        },
        {
          "output_type": "stream",
          "name": "stdout",
          "text": [
            "Token 470: 1.4.0.1\n",
            "True label: 14\n",
            "Predicted label:\n",
            "['<s> Develop a token classification model to accurately identify and classify named entities label:\\n### Token:\\n1.4.0.1\\n### label:\\n22</s>']\n",
            "\n"
          ]
        },
        {
          "output_type": "stream",
          "name": "stderr",
          "text": [
            "Setting `pad_token_id` to `eos_token_id`:2 for open-end generation.\n"
          ]
        },
        {
          "output_type": "stream",
          "name": "stdout",
          "text": [
            "Token 471: webservices\n",
            "True label: 23\n",
            "Predicted label:\n",
            "['<s> Develop a token classification model to accurately identify and classify named entities label:\\n### Token:\\nwebservices\\n### label:\\n23</s>']\n",
            "\n"
          ]
        },
        {
          "output_type": "stream",
          "name": "stderr",
          "text": [
            "Setting `pad_token_id` to `eos_token_id`:2 for open-end generation.\n"
          ]
        },
        {
          "output_type": "stream",
          "name": "stdout",
          "text": [
            "Token 472: decodeTonalComponents\n",
            "True label: 5\n",
            "Predicted label:\n",
            "['<s> Develop a token classification model to accurately identify and classify named entities label:\\n### Token:\\ndecodeTonalComponents\\n### label:\\n5</s>']\n",
            "\n"
          ]
        },
        {
          "output_type": "stream",
          "name": "stderr",
          "text": [
            "Setting `pad_token_id` to `eos_token_id`:2 for open-end generation.\n"
          ]
        },
        {
          "output_type": "stream",
          "name": "stdout",
          "text": [
            "Token 473: L40\n",
            "True label: 14\n",
            "Predicted label:\n",
            "['<s> Develop a token classification model to accurately identify and classify named entities label:\\n### Token:\\nL40\\n### label:\\n14</s>']\n",
            "\n"
          ]
        },
        {
          "output_type": "stream",
          "name": "stderr",
          "text": [
            "Setting `pad_token_id` to `eos_token_id`:2 for open-end generation.\n"
          ]
        },
        {
          "output_type": "stream",
          "name": "stdout",
          "text": [
            "Token 474: significance\n",
            "True label: 23\n",
            "Predicted label:\n",
            "['<s> Develop a token classification model to accurately identify and classify named entities label:\\n### Token:\\nsignificance\\n### label:\\n23</s>']\n",
            "\n"
          ]
        },
        {
          "output_type": "stream",
          "name": "stderr",
          "text": [
            "Setting `pad_token_id` to `eos_token_id`:2 for open-end generation.\n"
          ]
        },
        {
          "output_type": "stream",
          "name": "stdout",
          "text": [
            "Token 475: 0.7.12\n",
            "True label: 22\n",
            "Predicted label:\n",
            "['<s> Develop a token classification model to accurately identify and classify named entities label:\\n### Token:\\n0.7.12\\n### label:\\n14</s>']\n",
            "\n"
          ]
        },
        {
          "output_type": "stream",
          "name": "stderr",
          "text": [
            "Setting `pad_token_id` to `eos_token_id`:2 for open-end generation.\n"
          ]
        },
        {
          "output_type": "stream",
          "name": "stdout",
          "text": [
            "Token 476: JPEGWarningHandler\n",
            "True label: 5\n",
            "Predicted label:\n",
            "['<s> Develop a token classification model to accurately identify and classify named entities label:\\n### Token:\\nJPEGWarningHandler\\n### label:\\n23</s>']\n",
            "\n"
          ]
        },
        {
          "output_type": "stream",
          "name": "stderr",
          "text": [
            "Setting `pad_token_id` to `eos_token_id`:2 for open-end generation.\n"
          ]
        },
        {
          "output_type": "stream",
          "name": "stdout",
          "text": [
            "Token 477: tm-console-bin\n",
            "True label: 23\n",
            "Predicted label:\n",
            "['<s> Develop a token classification model to accurately identify and classify named entities label:\\n### Token:\\ntm-console-bin\\n### label:\\n23</s>']\n",
            "\n"
          ]
        },
        {
          "output_type": "stream",
          "name": "stderr",
          "text": [
            "Setting `pad_token_id` to `eos_token_id`:2 for open-end generation.\n"
          ]
        },
        {
          "output_type": "stream",
          "name": "stdout",
          "text": [
            "Token 478: Overflow\n",
            "True label: 19\n",
            "Predicted label:\n",
            "['<s> Develop a token classification model to accurately identify and classify named entities label:\\n### Token:\\nOverflow\\n### label:\\n23</s>']\n",
            "\n"
          ]
        },
        {
          "output_type": "stream",
          "name": "stderr",
          "text": [
            "Setting `pad_token_id` to `eos_token_id`:2 for open-end generation.\n"
          ]
        },
        {
          "output_type": "stream",
          "name": "stdout",
          "text": [
            "Token 479: InForm\n",
            "True label: 1\n",
            "Predicted label:\n",
            "['<s> Develop a token classification model to accurately identify and classify named entities label:\\n### Token:\\nInForm\\n### label:\\n1</s>']\n",
            "\n"
          ]
        },
        {
          "output_type": "stream",
          "name": "stderr",
          "text": [
            "Setting `pad_token_id` to `eos_token_id`:2 for open-end generation.\n"
          ]
        },
        {
          "output_type": "stream",
          "name": "stdout",
          "text": [
            "Token 480: Highly\n",
            "True label: 1\n",
            "Predicted label:\n",
            "['<s> Develop a token classification model to accurately identify and classify named entities label:\\n### Token:\\nHighly\\n### label:\\n1</s>']\n",
            "\n"
          ]
        },
        {
          "output_type": "stream",
          "name": "stderr",
          "text": [
            "Setting `pad_token_id` to `eos_token_id`:2 for open-end generation.\n"
          ]
        },
        {
          "output_type": "stream",
          "name": "stdout",
          "text": [
            "Token 481: 5.0.3.18\n",
            "True label: 14\n",
            "Predicted label:\n",
            "['<s> Develop a token classification model to accurately identify and classify named entities label:\\n### Token:\\n5.0.3.18\\n### label:\\n22</s>']\n",
            "\n"
          ]
        },
        {
          "output_type": "stream",
          "name": "stderr",
          "text": [
            "Setting `pad_token_id` to `eos_token_id`:2 for open-end generation.\n"
          ]
        },
        {
          "output_type": "stream",
          "name": "stdout",
          "text": [
            "Token 482: lib/curl_sasl.c\n",
            "True label: 4\n",
            "Predicted label:\n",
            "['<s> Develop a token classification model to accurately identify and classify named entities label:\\n### Token:\\nlib/curl_sasl.c\\n### label:\\n4</s>']\n",
            "\n"
          ]
        },
        {
          "output_type": "stream",
          "name": "stderr",
          "text": [
            "Setting `pad_token_id` to `eos_token_id`:2 for open-end generation.\n"
          ]
        },
        {
          "output_type": "stream",
          "name": "stdout",
          "text": [
            "Token 483: Cloudera\n",
            "True label: 13\n",
            "Predicted label:\n",
            "['<s> Develop a token classification model to accurately identify and classify named entities label:\\n### Token:\\nCloudera\\n### label:\\n13</s>']\n",
            "\n"
          ]
        },
        {
          "output_type": "stream",
          "name": "stderr",
          "text": [
            "Setting `pad_token_id` to `eos_token_id`:2 for open-end generation.\n"
          ]
        },
        {
          "output_type": "stream",
          "name": "stdout",
          "text": [
            "Token 484: clearBudget\n",
            "True label: 1\n",
            "Predicted label:\n",
            "['<s> Develop a token classification model to accurately identify and classify named entities label:\\n### Token:\\nclearBudget\\n### label:\\n23</s>']\n",
            "\n"
          ]
        },
        {
          "output_type": "stream",
          "name": "stderr",
          "text": [
            "Setting `pad_token_id` to `eos_token_id`:2 for open-end generation.\n"
          ]
        },
        {
          "output_type": "stream",
          "name": "stdout",
          "text": [
            "Token 485: H-Sphere\n",
            "True label: 1\n",
            "Predicted label:\n",
            "['<s> Develop a token classification model to accurately identify and classify named entities label:\\n### Token:\\nH-Sphere\\n### label:\\n1</s>']\n",
            "\n"
          ]
        },
        {
          "output_type": "stream",
          "name": "stderr",
          "text": [
            "Setting `pad_token_id` to `eos_token_id`:2 for open-end generation.\n"
          ]
        },
        {
          "output_type": "stream",
          "name": "stdout",
          "text": [
            "Token 486: DJ\n",
            "True label: 15\n",
            "Predicted label:\n",
            "['<s> Develop a token classification model to accurately identify and classify named entities label:\\n### Token:\\nDJ\\n### label:\\n1</s>']\n",
            "\n"
          ]
        },
        {
          "output_type": "stream",
          "name": "stderr",
          "text": [
            "Setting `pad_token_id` to `eos_token_id`:2 for open-end generation.\n"
          ]
        },
        {
          "output_type": "stream",
          "name": "stdout",
          "text": [
            "Token 487: mxi\n",
            "True label: 23\n",
            "Predicted label:\n",
            "['<s> Develop a token classification model to accurately identify and classify named entities label:\\n### Token:\\nmxi\\n### label:\\n23</s>']\n",
            "\n"
          ]
        },
        {
          "output_type": "stream",
          "name": "stderr",
          "text": [
            "Setting `pad_token_id` to `eos_token_id`:2 for open-end generation.\n"
          ]
        },
        {
          "output_type": "stream",
          "name": "stdout",
          "text": [
            "Token 488: HF2\n",
            "True label: 12\n",
            "Predicted label:\n",
            "['<s> Develop a token classification model to accurately identify and classify named entities label:\\n### Token:\\nHF2\\n### label:\\n14</s>']\n",
            "\n"
          ]
        },
        {
          "output_type": "stream",
          "name": "stderr",
          "text": [
            "Setting `pad_token_id` to `eos_token_id`:2 for open-end generation.\n"
          ]
        },
        {
          "output_type": "stream",
          "name": "stdout",
          "text": [
            "Token 489: CVE-2010-0738\n",
            "True label: 2\n",
            "Predicted label:\n",
            "['<s> Develop a token classification model to accurately identify and classify named entities label:\\n### Token:\\nCVE-2010-0738\\n### label:\\n2</s>']\n",
            "\n"
          ]
        },
        {
          "output_type": "stream",
          "name": "stderr",
          "text": [
            "Setting `pad_token_id` to `eos_token_id`:2 for open-end generation.\n"
          ]
        },
        {
          "output_type": "stream",
          "name": "stdout",
          "text": [
            "Token 490: hal\n",
            "True label: 23\n",
            "Predicted label:\n",
            "['<s> Develop a token classification model to accurately identify and classify named entities label:\\n### Token:\\nhal\\n### label:\\n23</s>']\n",
            "\n"
          ]
        },
        {
          "output_type": "stream",
          "name": "stderr",
          "text": [
            "Setting `pad_token_id` to `eos_token_id`:2 for open-end generation.\n"
          ]
        },
        {
          "output_type": "stream",
          "name": "stdout",
          "text": [
            "Token 491: tpl_base_dir\n",
            "True label: 10\n",
            "Predicted label:\n",
            "['<s> Develop a token classification model to accurately identify and classify named entities label:\\n### Token:\\ntpl_base_dir\\n### label:\\n23</s>']\n",
            "\n"
          ]
        },
        {
          "output_type": "stream",
          "name": "stderr",
          "text": [
            "Setting `pad_token_id` to `eos_token_id`:2 for open-end generation.\n"
          ]
        },
        {
          "output_type": "stream",
          "name": "stdout",
          "text": [
            "Token 492: Directories\n",
            "True label: 1\n",
            "Predicted label:\n",
            "['<s> Develop a token classification model to accurately identify and classify named entities label:\\n### Token:\\nDirectories\\n### label:\\n15</s>']\n",
            "\n"
          ]
        },
        {
          "output_type": "stream",
          "name": "stderr",
          "text": [
            "Setting `pad_token_id` to `eos_token_id`:2 for open-end generation.\n"
          ]
        },
        {
          "output_type": "stream",
          "name": "stdout",
          "text": [
            "Token 493: Moodle\n",
            "True label: 1\n",
            "Predicted label:\n",
            "['<s> Develop a token classification model to accurately identify and classify named entities label:\\n### Token:\\nMoodle\\n### label:\\n1</s>']\n",
            "\n"
          ]
        },
        {
          "output_type": "stream",
          "name": "stderr",
          "text": [
            "Setting `pad_token_id` to `eos_token_id`:2 for open-end generation.\n"
          ]
        },
        {
          "output_type": "stream",
          "name": "stdout",
          "text": [
            "Token 494: md5crypt\n",
            "True label: 1\n",
            "Predicted label:\n",
            "['<s> Develop a token classification model to accurately identify and classify named entities label:\\n### Token:\\nmd5crypt\\n### label:\\n23</s>']\n",
            "\n"
          ]
        },
        {
          "output_type": "stream",
          "name": "stderr",
          "text": [
            "Setting `pad_token_id` to `eos_token_id`:2 for open-end generation.\n"
          ]
        },
        {
          "output_type": "stream",
          "name": "stdout",
          "text": [
            "Token 495: joomlaflickr.php\n",
            "True label: 23\n",
            "Predicted label:\n",
            "['<s> Develop a token classification model to accurately identify and classify named entities label:\\n### Token:\\njoomlaflickr.php\\n### label:\\n23</s>']\n",
            "\n"
          ]
        },
        {
          "output_type": "stream",
          "name": "stderr",
          "text": [
            "Setting `pad_token_id` to `eos_token_id`:2 for open-end generation.\n"
          ]
        },
        {
          "output_type": "stream",
          "name": "stdout",
          "text": [
            "Token 496: CVE-2011-1478\n",
            "True label: 2\n",
            "Predicted label:\n",
            "['<s> Develop a token classification model to accurately identify and classify named entities label:\\n### Token:\\nCVE-2011-1478\\n### label:\\n2</s>']\n",
            "\n"
          ]
        },
        {
          "output_type": "stream",
          "name": "stderr",
          "text": [
            "Setting `pad_token_id` to `eos_token_id`:2 for open-end generation.\n"
          ]
        },
        {
          "output_type": "stream",
          "name": "stdout",
          "text": [
            "Token 497: 1800-8G\n",
            "True label: 14\n",
            "Predicted label:\n",
            "['<s> Develop a token classification model to accurately identify and classify named entities label:\\n### Token:\\n1800-8G\\n### label:\\n14</s>']\n",
            "\n"
          ]
        },
        {
          "output_type": "stream",
          "name": "stderr",
          "text": [
            "Setting `pad_token_id` to `eos_token_id`:2 for open-end generation.\n"
          ]
        },
        {
          "output_type": "stream",
          "name": "stdout",
          "text": [
            "Token 498: CD\n",
            "True label: 15\n",
            "Predicted label:\n",
            "['<s> Develop a token classification model to accurately identify and classify named entities label:\\n### Token:\\nCD\\n### label:\\n23</s>']\n",
            "\n"
          ]
        },
        {
          "output_type": "stream",
          "name": "stderr",
          "text": [
            "Setting `pad_token_id` to `eos_token_id`:2 for open-end generation.\n"
          ]
        },
        {
          "output_type": "stream",
          "name": "stdout",
          "text": [
            "Token 499: pcap_process_pseudo_header\n",
            "True label: 5\n",
            "Predicted label:\n",
            "['<s> Develop a token classification model to accurately identify and classify named entities label:\\n### Token:\\npcap_process_pseudo_header\\n### label:\\n5</s>']\n",
            "\n"
          ]
        },
        {
          "output_type": "stream",
          "name": "stderr",
          "text": [
            "Setting `pad_token_id` to `eos_token_id`:2 for open-end generation.\n"
          ]
        },
        {
          "output_type": "stream",
          "name": "stdout",
          "text": [
            "Token 500: 20130213\n",
            "True label: 22\n",
            "Predicted label:\n",
            "['<s> Develop a token classification model to accurately identify and classify named entities label:\\n### Token:\\n20130213\\n### label:\\n22</s>']\n",
            "\n"
          ]
        },
        {
          "output_type": "stream",
          "name": "stderr",
          "text": [
            "Setting `pad_token_id` to `eos_token_id`:2 for open-end generation.\n"
          ]
        },
        {
          "output_type": "stream",
          "name": "stdout",
          "text": [
            "Token 501: one\n",
            "True label: 23\n",
            "Predicted label:\n",
            "['<s> Develop a token classification model to accurately identify and classify named entities label:\\n### Token:\\none\\n### label:\\n23</s>']\n",
            "\n"
          ]
        },
        {
          "output_type": "stream",
          "name": "stderr",
          "text": [
            "Setting `pad_token_id` to `eos_token_id`:2 for open-end generation.\n"
          ]
        },
        {
          "output_type": "stream",
          "name": "stdout",
          "text": [
            "Token 502: SearchHighlight\n",
            "True label: 1\n",
            "Predicted label:\n",
            "['<s> Develop a token classification model to accurately identify and classify named entities label:\\n### Token:\\nSearchHighlight\\n### label:\\n10</s>']\n",
            "\n"
          ]
        },
        {
          "output_type": "stream",
          "name": "stderr",
          "text": [
            "Setting `pad_token_id` to `eos_token_id`:2 for open-end generation.\n"
          ]
        },
        {
          "output_type": "stream",
          "name": "stdout",
          "text": [
            "Token 503: SP15\n",
            "True label: 22\n",
            "Predicted label:\n",
            "['<s> Develop a token classification model to accurately identify and classify named entities label:\\n### Token:\\nSP15\\n### label:\\n14</s>']\n",
            "\n"
          ]
        },
        {
          "output_type": "stream",
          "name": "stderr",
          "text": [
            "Setting `pad_token_id` to `eos_token_id`:2 for open-end generation.\n"
          ]
        },
        {
          "output_type": "stream",
          "name": "stdout",
          "text": [
            "Token 504: 1.99\n",
            "True label: 22\n",
            "Predicted label:\n",
            "['<s> Develop a token classification model to accurately identify and classify named entities label:\\n### Token:\\n1.99\\n### label:\\n14</s>']\n",
            "\n"
          ]
        },
        {
          "output_type": "stream",
          "name": "stderr",
          "text": [
            "Setting `pad_token_id` to `eos_token_id`:2 for open-end generation.\n"
          ]
        },
        {
          "output_type": "stream",
          "name": "stdout",
          "text": [
            "Token 505: 5.5.30\n",
            "True label: 22\n",
            "Predicted label:\n",
            "['<s> Develop a token classification model to accurately identify and classify named entities label:\\n### Token:\\n5.5.30\\n### label:\\n22</s>']\n",
            "\n"
          ]
        },
        {
          "output_type": "stream",
          "name": "stderr",
          "text": [
            "Setting `pad_token_id` to `eos_token_id`:2 for open-end generation.\n"
          ]
        },
        {
          "output_type": "stream",
          "name": "stdout",
          "text": [
            "Token 506: mwc\n",
            "True label: 23\n",
            "Predicted label:\n",
            "['<s> Develop a token classification model to accurately identify and classify named entities label:\\n### Token:\\nmwc\\n### label:\\n23</s>']\n",
            "\n"
          ]
        },
        {
          "output_type": "stream",
          "name": "stderr",
          "text": [
            "Setting `pad_token_id` to `eos_token_id`:2 for open-end generation.\n"
          ]
        },
        {
          "output_type": "stream",
          "name": "stdout",
          "text": [
            "Token 507: CVE-2012-1923\n",
            "True label: 2\n",
            "Predicted label:\n",
            "['<s> Develop a token classification model to accurately identify and classify named entities label:\\n### Token:\\nCVE-2012-1923\\n### label:\\n2</s>']\n",
            "\n"
          ]
        },
        {
          "output_type": "stream",
          "name": "stderr",
          "text": [
            "Setting `pad_token_id` to `eos_token_id`:2 for open-end generation.\n"
          ]
        },
        {
          "output_type": "stream",
          "name": "stdout",
          "text": [
            "Token 508: Minimalist\n",
            "True label: 15\n",
            "Predicted label:\n",
            "['<s> Develop a token classification model to accurately identify and classify named entities label:\\n### Token:\\nMinimalist\\n### label:\\n1</s>']\n",
            "\n"
          ]
        },
        {
          "output_type": "stream",
          "name": "stderr",
          "text": [
            "Setting `pad_token_id` to `eos_token_id`:2 for open-end generation.\n"
          ]
        },
        {
          "output_type": "stream",
          "name": "stdout",
          "text": [
            "Token 509: Alurian\n",
            "True label: 13\n",
            "Predicted label:\n",
            "['<s> Develop a token classification model to accurately identify and classify named entities label:\\n### Token:\\nAlurian\\n### label:\\n13</s>']\n",
            "\n"
          ]
        },
        {
          "output_type": "stream",
          "name": "stderr",
          "text": [
            "Setting `pad_token_id` to `eos_token_id`:2 for open-end generation.\n"
          ]
        },
        {
          "output_type": "stream",
          "name": "stdout",
          "text": [
            "Token 510: aun_incoming\n",
            "True label: 5\n",
            "Predicted label:\n",
            "['<s> Develop a token classification model to accurately identify and classify named entities label:\\n### Token:\\naun_incoming\\n### label:\\n23</s>']\n",
            "\n"
          ]
        },
        {
          "output_type": "stream",
          "name": "stderr",
          "text": [
            "Setting `pad_token_id` to `eos_token_id`:2 for open-end generation.\n"
          ]
        },
        {
          "output_type": "stream",
          "name": "stdout",
          "text": [
            "Token 511: PHP-pastebin\n",
            "True label: 1\n",
            "Predicted label:\n",
            "['<s> Develop a token classification model to accurately identify and classify named entities label:\\n### Token:\\nPHP-pastebin\\n### label:\\n1</s>']\n",
            "\n"
          ]
        },
        {
          "output_type": "stream",
          "name": "stderr",
          "text": [
            "Setting `pad_token_id` to `eos_token_id`:2 for open-end generation.\n"
          ]
        },
        {
          "output_type": "stream",
          "name": "stdout",
          "text": [
            "Token 512: ESR\n",
            "True label: 15\n",
            "Predicted label:\n",
            "['<s> Develop a token classification model to accurately identify and classify named entities label:\\n### Token:\\nESR\\n### label:\\n1</s>']\n",
            "\n"
          ]
        },
        {
          "output_type": "stream",
          "name": "stderr",
          "text": [
            "Setting `pad_token_id` to `eos_token_id`:2 for open-end generation.\n"
          ]
        },
        {
          "output_type": "stream",
          "name": "stdout",
          "text": [
            "Token 513: interaction/forum/lib.php\n",
            "True label: 4\n",
            "Predicted label:\n",
            "['<s> Develop a token classification model to accurately identify and classify named entities label:\\n### Token:\\ninteraction/forum/lib.php\\n### label:\\n4</s>']\n",
            "\n"
          ]
        },
        {
          "output_type": "stream",
          "name": "stderr",
          "text": [
            "Setting `pad_token_id` to `eos_token_id`:2 for open-end generation.\n"
          ]
        },
        {
          "output_type": "stream",
          "name": "stdout",
          "text": [
            "Token 514: Industry\n",
            "True label: 15\n",
            "Predicted label:\n",
            "['<s> Develop a token classification model to accurately identify and classify named entities label:\\n### Token:\\nIndustry\\n### label:\\n15</s>']\n",
            "\n"
          ]
        },
        {
          "output_type": "stream",
          "name": "stderr",
          "text": [
            "Setting `pad_token_id` to `eos_token_id`:2 for open-end generation.\n"
          ]
        },
        {
          "output_type": "stream",
          "name": "stdout",
          "text": [
            "Token 515: Ads\n",
            "True label: 15\n",
            "Predicted label:\n",
            "['<s> Develop a token classification model to accurately identify and classify named entities label:\\n### Token:\\nAds\\n### label:\\n15</s>']\n",
            "\n"
          ]
        },
        {
          "output_type": "stream",
          "name": "stderr",
          "text": [
            "Setting `pad_token_id` to `eos_token_id`:2 for open-end generation.\n"
          ]
        },
        {
          "output_type": "stream",
          "name": "stdout",
          "text": [
            "Token 516: nss-pam-ldapd\n",
            "True label: 1\n",
            "Predicted label:\n",
            "['<s> Develop a token classification model to accurately identify and classify named entities label:\\n### Token:\\nnss-pam-ldapd\\n### label:\\n23</s>']\n",
            "\n"
          ]
        },
        {
          "output_type": "stream",
          "name": "stderr",
          "text": [
            "Setting `pad_token_id` to `eos_token_id`:2 for open-end generation.\n"
          ]
        },
        {
          "output_type": "stream",
          "name": "stdout",
          "text": [
            "Token 517: HTTPS\n",
            "True label: 23\n",
            "Predicted label:\n",
            "['<s> Develop a token classification model to accurately identify and classify named entities label:\\n### Token:\\nHTTPS\\n### label:\\n1</s>']\n",
            "\n"
          ]
        },
        {
          "output_type": "stream",
          "name": "stderr",
          "text": [
            "Setting `pad_token_id` to `eos_token_id`:2 for open-end generation.\n"
          ]
        },
        {
          "output_type": "stream",
          "name": "stdout",
          "text": [
            "Token 518: 2.9.0-rc1\n",
            "True label: 14\n",
            "Predicted label:\n",
            "['<s> Develop a token classification model to accurately identify and classify named entities label:\\n### Token:\\n2.9.0-rc1\\n### label:\\n22</s>']\n",
            "\n"
          ]
        },
        {
          "output_type": "stream",
          "name": "stderr",
          "text": [
            "Setting `pad_token_id` to `eos_token_id`:2 for open-end generation.\n"
          ]
        },
        {
          "output_type": "stream",
          "name": "stdout",
          "text": [
            "Token 519: L03\n",
            "True label: 14\n",
            "Predicted label:\n",
            "['<s> Develop a token classification model to accurately identify and classify named entities label:\\n### Token:\\nL03\\n### label:\\n14</s>']\n",
            "\n"
          ]
        },
        {
          "output_type": "stream",
          "name": "stderr",
          "text": [
            "Setting `pad_token_id` to `eos_token_id`:2 for open-end generation.\n"
          ]
        },
        {
          "output_type": "stream",
          "name": "stdout",
          "text": [
            "Token 520: CVE-2008-3273\n",
            "True label: 2\n",
            "Predicted label:\n",
            "['<s> Develop a token classification model to accurately identify and classify named entities label:\\n### Token:\\nCVE-2008-3273\\n### label:\\n2</s>']\n",
            "\n"
          ]
        },
        {
          "output_type": "stream",
          "name": "stderr",
          "text": [
            "Setting `pad_token_id` to `eos_token_id`:2 for open-end generation.\n"
          ]
        },
        {
          "output_type": "stream",
          "name": "stdout",
          "text": [
            "Token 521: Organization\n",
            "True label: 23\n",
            "Predicted label:\n",
            "['<s> Develop a token classification model to accurately identify and classify named entities label:\\n### Token:\\nOrganization\\n### label:\\n15</s>']\n",
            "\n"
          ]
        },
        {
          "output_type": "stream",
          "name": "stderr",
          "text": [
            "Setting `pad_token_id` to `eos_token_id`:2 for open-end generation.\n"
          ]
        },
        {
          "output_type": "stream",
          "name": "stdout",
          "text": [
            "Token 522: lg_sprintf\n",
            "True label: 5\n",
            "Predicted label:\n",
            "['<s> Develop a token classification model to accurately identify and classify named entities label:\\n### Token:\\nlg_sprintf\\n### label:\\n5</s>']\n",
            "\n"
          ]
        },
        {
          "output_type": "stream",
          "name": "stderr",
          "text": [
            "Setting `pad_token_id` to `eos_token_id`:2 for open-end generation.\n"
          ]
        },
        {
          "output_type": "stream",
          "name": "stdout",
          "text": [
            "Token 523: 12\n",
            "True label: 14\n",
            "Predicted label:\n",
            "['<s> Develop a token classification model to accurately identify and classify named entities label:\\n### Token:\\n12\\n### label:\\n23</s>']\n",
            "\n"
          ]
        },
        {
          "output_type": "stream",
          "name": "stderr",
          "text": [
            "Setting `pad_token_id` to `eos_token_id`:2 for open-end generation.\n"
          ]
        },
        {
          "output_type": "stream",
          "name": "stdout",
          "text": [
            "Token 524: epost\n",
            "True label: 23\n",
            "Predicted label:\n",
            "['<s> Develop a token classification model to accurately identify and classify named entities label:\\n### Token:\\nepost\\n### label:\\n23</s>']\n",
            "\n"
          ]
        },
        {
          "output_type": "stream",
          "name": "stderr",
          "text": [
            "Setting `pad_token_id` to `eos_token_id`:2 for open-end generation.\n"
          ]
        },
        {
          "output_type": "stream",
          "name": "stdout",
          "text": [
            "Token 525: CopyFrom\n",
            "True label: 23\n",
            "Predicted label:\n",
            "['<s> Develop a token classification model to accurately identify and classify named entities label:\\n### Token:\\nCopyFrom\\n### label:\\n23</s>']\n",
            "\n"
          ]
        },
        {
          "output_type": "stream",
          "name": "stderr",
          "text": [
            "Setting `pad_token_id` to `eos_token_id`:2 for open-end generation.\n"
          ]
        },
        {
          "output_type": "stream",
          "name": "stdout",
          "text": [
            "Token 526: CVE-2003-0900\n",
            "True label: 2\n",
            "Predicted label:\n",
            "['<s> Develop a token classification model to accurately identify and classify named entities label:\\n### Token:\\nCVE-2003-0900\\n### label:\\n2</s>']\n",
            "\n"
          ]
        },
        {
          "output_type": "stream",
          "name": "stderr",
          "text": [
            "Setting `pad_token_id` to `eos_token_id`:2 for open-end generation.\n"
          ]
        },
        {
          "output_type": "stream",
          "name": "stdout",
          "text": [
            "Token 527: eTek\n",
            "True label: 1\n",
            "Predicted label:\n",
            "['<s> Develop a token classification model to accurately identify and classify named entities label:\\n### Token:\\neTek\\n### label:\\n13</s>']\n",
            "\n"
          ]
        },
        {
          "output_type": "stream",
          "name": "stderr",
          "text": [
            "Setting `pad_token_id` to `eos_token_id`:2 for open-end generation.\n"
          ]
        },
        {
          "output_type": "stream",
          "name": "stdout",
          "text": [
            "Token 528: I/A\n",
            "True label: 23\n",
            "Predicted label:\n",
            "['<s> Develop a token classification model to accurately identify and classify named entities label:\\n### Token:\\nI/A\\n### label:\\n23</s>']\n",
            "\n"
          ]
        },
        {
          "output_type": "stream",
          "name": "stderr",
          "text": [
            "Setting `pad_token_id` to `eos_token_id`:2 for open-end generation.\n"
          ]
        },
        {
          "output_type": "stream",
          "name": "stdout",
          "text": [
            "Token 529: Deployment\n",
            "True label: 15\n",
            "Predicted label:\n",
            "['<s> Develop a token classification model to accurately identify and classify named entities label:\\n### Token:\\nDeployment\\n### label:\\n15</s>']\n",
            "\n"
          ]
        },
        {
          "output_type": "stream",
          "name": "stderr",
          "text": [
            "Setting `pad_token_id` to `eos_token_id`:2 for open-end generation.\n"
          ]
        },
        {
          "output_type": "stream",
          "name": "stdout",
          "text": [
            "Token 530: Alcatel-Lucent\n",
            "True label: 13\n",
            "Predicted label:\n",
            "['<s> Develop a token classification model to accurately identify and classify named entities label:\\n### Token:\\nAlcatel-Lucent\\n### label:\\n13</s>']\n",
            "\n"
          ]
        },
        {
          "output_type": "stream",
          "name": "stderr",
          "text": [
            "Setting `pad_token_id` to `eos_token_id`:2 for open-end generation.\n"
          ]
        },
        {
          "output_type": "stream",
          "name": "stdout",
          "text": [
            "Token 531: eNdonesia\n",
            "True label: 1\n",
            "Predicted label:\n",
            "['<s> Develop a token classification model to accurately identify and classify named entities label:\\n### Token:\\neNdonesia\\n### label:\\n13</s>']\n",
            "\n"
          ]
        },
        {
          "output_type": "stream",
          "name": "stderr",
          "text": [
            "Setting `pad_token_id` to `eos_token_id`:2 for open-end generation.\n"
          ]
        },
        {
          "output_type": "stream",
          "name": "stdout",
          "text": [
            "Token 532: A.03.00\n",
            "True label: 14\n",
            "Predicted label:\n",
            "['<s> Develop a token classification model to accurately identify and classify named entities label:\\n### Token:\\nA.03.00\\n### label:\\n14</s>']\n",
            "\n"
          ]
        },
        {
          "output_type": "stream",
          "name": "stderr",
          "text": [
            "Setting `pad_token_id` to `eos_token_id`:2 for open-end generation.\n"
          ]
        },
        {
          "output_type": "stream",
          "name": "stdout",
          "text": [
            "Token 533: Bluetooth\n",
            "True label: 17\n",
            "Predicted label:\n",
            "['<s> Develop a token classification model to accurately identify and classify named entities label:\\n### Token:\\nBluetooth\\n### label:\\n1</s>']\n",
            "\n"
          ]
        },
        {
          "output_type": "stream",
          "name": "stderr",
          "text": [
            "Setting `pad_token_id` to `eos_token_id`:2 for open-end generation.\n"
          ]
        },
        {
          "output_type": "stream",
          "name": "stdout",
          "text": [
            "Token 534: 2.5.0.2\n",
            "True label: 22\n",
            "Predicted label:\n",
            "['<s> Develop a token classification model to accurately identify and classify named entities label:\\n### Token:\\n2.5.0.2\\n### label:\\n22</s>']\n",
            "\n"
          ]
        },
        {
          "output_type": "stream",
          "name": "stderr",
          "text": [
            "Setting `pad_token_id` to `eos_token_id`:2 for open-end generation.\n"
          ]
        },
        {
          "output_type": "stream",
          "name": "stdout",
          "text": [
            "Token 535: CVE-2013-0623\n",
            "True label: 2\n",
            "Predicted label:\n",
            "['<s> Develop a token classification model to accurately identify and classify named entities label:\\n### Token:\\nCVE-2013-0623\\n### label:\\n2</s>']\n",
            "\n"
          ]
        },
        {
          "output_type": "stream",
          "name": "stderr",
          "text": [
            "Setting `pad_token_id` to `eos_token_id`:2 for open-end generation.\n"
          ]
        },
        {
          "output_type": "stream",
          "name": "stdout",
          "text": [
            "Token 536: SamplePower\n",
            "True label: 15\n",
            "Predicted label:\n",
            "['<s> Develop a token classification model to accurately identify and classify named entities label:\\n### Token:\\nSamplePower\\n### label:\\n1</s>']\n",
            "\n"
          ]
        },
        {
          "output_type": "stream",
          "name": "stderr",
          "text": [
            "Setting `pad_token_id` to `eos_token_id`:2 for open-end generation.\n"
          ]
        },
        {
          "output_type": "stream",
          "name": "stdout",
          "text": [
            "Token 537: dissect_pft_fec_detailed\n",
            "True label: 5\n",
            "Predicted label:\n",
            "['<s> Develop a token classification model to accurately identify and classify named entities label:\\n### Token:\\ndissect_pft_fec_detailed\\n### label:\\n5</s>']\n",
            "\n"
          ]
        },
        {
          "output_type": "stream",
          "name": "stderr",
          "text": [
            "Setting `pad_token_id` to `eos_token_id`:2 for open-end generation.\n"
          ]
        },
        {
          "output_type": "stream",
          "name": "stdout",
          "text": [
            "Token 538: Kaizokuoukoku\n",
            "True label: 1\n",
            "Predicted label:\n",
            "['<s> Develop a token classification model to accurately identify and classify named entities label:\\n### Token:\\nKaizokuoukoku\\n### label:\\n1</s>']\n",
            "\n"
          ]
        },
        {
          "output_type": "stream",
          "name": "stderr",
          "text": [
            "Setting `pad_token_id` to `eos_token_id`:2 for open-end generation.\n"
          ]
        },
        {
          "output_type": "stream",
          "name": "stdout",
          "text": [
            "Token 539: 5.1.62\n",
            "True label: 22\n",
            "Predicted label:\n",
            "['<s> Develop a token classification model to accurately identify and classify named entities label:\\n### Token:\\n5.1.62\\n### label:\\n22</s>']\n",
            "\n"
          ]
        },
        {
          "output_type": "stream",
          "name": "stderr",
          "text": [
            "Setting `pad_token_id` to `eos_token_id`:2 for open-end generation.\n"
          ]
        },
        {
          "output_type": "stream",
          "name": "stdout",
          "text": [
            "Token 540: libclamav/bytecode_api.c\n",
            "True label: 4\n",
            "Predicted label:\n",
            "['<s> Develop a token classification model to accurately identify and classify named entities label:\\n### Token:\\nlibclamav/bytecode_api.c\\n### label:\\n4</s>']\n",
            "\n"
          ]
        },
        {
          "output_type": "stream",
          "name": "stderr",
          "text": [
            "Setting `pad_token_id` to `eos_token_id`:2 for open-end generation.\n"
          ]
        },
        {
          "output_type": "stream",
          "name": "stdout",
          "text": [
            "Token 541: Defense\n",
            "True label: 15\n",
            "Predicted label:\n",
            "['<s> Develop a token classification model to accurately identify and classify named entities label:\\n### Token:\\nDefense\\n### label:\\n15</s>']\n",
            "\n"
          ]
        },
        {
          "output_type": "stream",
          "name": "stderr",
          "text": [
            "Setting `pad_token_id` to `eos_token_id`:2 for open-end generation.\n"
          ]
        },
        {
          "output_type": "stream",
          "name": "stdout",
          "text": [
            "Token 542: 10.00.xC8\n",
            "True label: 22\n",
            "Predicted label:\n",
            "['<s> Develop a token classification model to accurately identify and classify named entities label:\\n### Token:\\n10.00.xC8\\n### label:\\n22</s>']\n",
            "\n"
          ]
        },
        {
          "output_type": "stream",
          "name": "stderr",
          "text": [
            "Setting `pad_token_id` to `eos_token_id`:2 for open-end generation.\n"
          ]
        },
        {
          "output_type": "stream",
          "name": "stdout",
          "text": [
            "Token 543: IP\n",
            "True label: 1\n",
            "Predicted label:\n",
            "['<s> Develop a token classification model to accurately identify and classify named entities label:\\n### Token:\\nIP\\n### label:\\n15</s>']\n",
            "\n"
          ]
        },
        {
          "output_type": "stream",
          "name": "stderr",
          "text": [
            "Setting `pad_token_id` to `eos_token_id`:2 for open-end generation.\n"
          ]
        },
        {
          "output_type": "stream",
          "name": "stdout",
          "text": [
            "Token 544: LANG_CODE\n",
            "True label: 10\n",
            "Predicted label:\n",
            "['<s> Develop a token classification model to accurately identify and classify named entities label:\\n### Token:\\nLANG_CODE\\n### label:\\n23</s>']\n",
            "\n"
          ]
        },
        {
          "output_type": "stream",
          "name": "stderr",
          "text": [
            "Setting `pad_token_id` to `eos_token_id`:2 for open-end generation.\n"
          ]
        },
        {
          "output_type": "stream",
          "name": "stdout",
          "text": [
            "Token 545: fs/ext4/extents.c\n",
            "True label: 4\n",
            "Predicted label:\n",
            "['<s> Develop a token classification model to accurately identify and classify named entities label:\\n### Token:\\nfs/ext4/extents.c\\n### label:\\n4</s>']\n",
            "\n"
          ]
        },
        {
          "output_type": "stream",
          "name": "stderr",
          "text": [
            "Setting `pad_token_id` to `eos_token_id`:2 for open-end generation.\n"
          ]
        },
        {
          "output_type": "stream",
          "name": "stdout",
          "text": [
            "Token 546: ES\n",
            "True label: 23\n",
            "Predicted label:\n",
            "['<s> Develop a token classification model to accurately identify and classify named entities label:\\n### Token:\\nES\\n### label:\\n1</s>']\n",
            "\n"
          ]
        },
        {
          "output_type": "stream",
          "name": "stderr",
          "text": [
            "Setting `pad_token_id` to `eos_token_id`:2 for open-end generation.\n"
          ]
        },
        {
          "output_type": "stream",
          "name": "stdout",
          "text": [
            "Token 547: 11.2.202.258\n",
            "True label: 22\n",
            "Predicted label:\n",
            "['<s> Develop a token classification model to accurately identify and classify named entities label:\\n### Token:\\n11.2.202.258\\n### label:\\n22</s>']\n",
            "\n"
          ]
        },
        {
          "output_type": "stream",
          "name": "stderr",
          "text": [
            "Setting `pad_token_id` to `eos_token_id`:2 for open-end generation.\n"
          ]
        },
        {
          "output_type": "stream",
          "name": "stdout",
          "text": [
            "Token 548: Cryptographp\n",
            "True label: 1\n",
            "Predicted label:\n",
            "['<s> Develop a token classification model to accurately identify and classify named entities label:\\n### Token:\\nCryptographp\\n### label:\\n23</s>']\n",
            "\n"
          ]
        },
        {
          "output_type": "stream",
          "name": "stderr",
          "text": [
            "Setting `pad_token_id` to `eos_token_id`:2 for open-end generation.\n"
          ]
        },
        {
          "output_type": "stream",
          "name": "stdout",
          "text": [
            "Token 549: DellSystemLite.Scanner\n",
            "True label: 1\n",
            "Predicted label:\n",
            "['<s> Develop a token classification model to accurately identify and classify named entities label:\\n### Token:\\nDellSystemLite.Scanner\\n### label:\\n23</s>']\n",
            "\n"
          ]
        },
        {
          "output_type": "stream",
          "name": "stderr",
          "text": [
            "Setting `pad_token_id` to `eos_token_id`:2 for open-end generation.\n"
          ]
        },
        {
          "output_type": "stream",
          "name": "stdout",
          "text": [
            "Token 550: 10.83.xx.18\n",
            "True label: 22\n",
            "Predicted label:\n",
            "['<s> Develop a token classification model to accurately identify and classify named entities label:\\n### Token:\\n10.83.xx.18\\n### label:\\n22</s>']\n",
            "\n"
          ]
        },
        {
          "output_type": "stream",
          "name": "stderr",
          "text": [
            "Setting `pad_token_id` to `eos_token_id`:2 for open-end generation.\n"
          ]
        },
        {
          "output_type": "stream",
          "name": "stdout",
          "text": [
            "Token 551: niu_get_ethtool_tcam_all\n",
            "True label: 5\n",
            "Predicted label:\n",
            "['<s> Develop a token classification model to accurately identify and classify named entities label:\\n### Token:\\nniu_get_ethtool_tcam_all\\n### label:\\n5</s>']\n",
            "\n"
          ]
        },
        {
          "output_type": "stream",
          "name": "stderr",
          "text": [
            "Setting `pad_token_id` to `eos_token_id`:2 for open-end generation.\n"
          ]
        },
        {
          "output_type": "stream",
          "name": "stdout",
          "text": [
            "Token 552: domiteca.com\n",
            "True label: 23\n",
            "Predicted label:\n",
            "['<s> Develop a token classification model to accurately identify and classify named entities label:\\n### Token:\\ndomiteca.com\\n### label:\\n23</s>']\n",
            "\n"
          ]
        },
        {
          "output_type": "stream",
          "name": "stderr",
          "text": [
            "Setting `pad_token_id` to `eos_token_id`:2 for open-end generation.\n"
          ]
        },
        {
          "output_type": "stream",
          "name": "stdout",
          "text": [
            "Token 553: 2.1.1.11\n",
            "True label: 22\n",
            "Predicted label:\n",
            "['<s> Develop a token classification model to accurately identify and classify named entities label:\\n### Token:\\n2.1.1.11\\n### label:\\n22</s>']\n",
            "\n"
          ]
        },
        {
          "output_type": "stream",
          "name": "stderr",
          "text": [
            "Setting `pad_token_id` to `eos_token_id`:2 for open-end generation.\n"
          ]
        },
        {
          "output_type": "stream",
          "name": "stdout",
          "text": [
            "Token 554: preparing\n",
            "True label: 12\n",
            "Predicted label:\n",
            "['<s> Develop a token classification model to accurately identify and classify named entities label:\\n### Token:\\npreparing\\n### label:\\n23</s>']\n",
            "\n"
          ]
        },
        {
          "output_type": "stream",
          "name": "stderr",
          "text": [
            "Setting `pad_token_id` to `eos_token_id`:2 for open-end generation.\n"
          ]
        },
        {
          "output_type": "stream",
          "name": "stdout",
          "text": [
            "Token 555: OpenStack\n",
            "True label: 1\n",
            "Predicted label:\n",
            "['<s> Develop a token classification model to accurately identify and classify named entities label:\\n### Token:\\nOpenStack\\n### label:\\n1</s>']\n",
            "\n"
          ]
        },
        {
          "output_type": "stream",
          "name": "stderr",
          "text": [
            "Setting `pad_token_id` to `eos_token_id`:2 for open-end generation.\n"
          ]
        },
        {
          "output_type": "stream",
          "name": "stdout",
          "text": [
            "Token 556: 1.3.x\n",
            "True label: 14\n",
            "Predicted label:\n",
            "['<s> Develop a token classification model to accurately identify and classify named entities label:\\n### Token:\\n1.3.x\\n### label:\\n14</s>']\n",
            "\n"
          ]
        },
        {
          "output_type": "stream",
          "name": "stderr",
          "text": [
            "Setting `pad_token_id` to `eos_token_id`:2 for open-end generation.\n"
          ]
        },
        {
          "output_type": "stream",
          "name": "stdout",
          "text": [
            "Token 557: 1.0.6pl3\n",
            "True label: 14\n",
            "Predicted label:\n",
            "['<s> Develop a token classification model to accurately identify and classify named entities label:\\n### Token:\\n1.0.6pl3\\n### label:\\n22</s>']\n",
            "\n"
          ]
        },
        {
          "output_type": "stream",
          "name": "stderr",
          "text": [
            "Setting `pad_token_id` to `eos_token_id`:2 for open-end generation.\n"
          ]
        },
        {
          "output_type": "stream",
          "name": "stdout",
          "text": [
            "Token 558: combination\n",
            "True label: 23\n",
            "Predicted label:\n",
            "['<s> Develop a token classification model to accurately identify and classify named entities label:\\n### Token:\\ncombination\\n### label:\\n23</s>']\n",
            "\n"
          ]
        },
        {
          "output_type": "stream",
          "name": "stderr",
          "text": [
            "Setting `pad_token_id` to `eos_token_id`:2 for open-end generation.\n"
          ]
        },
        {
          "output_type": "stream",
          "name": "stdout",
          "text": [
            "Token 559: Micro\n",
            "True label: 15\n",
            "Predicted label:\n",
            "['<s> Develop a token classification model to accurately identify and classify named entities label:\\n### Token:\\nMicro\\n### label:\\n1</s>']\n",
            "\n"
          ]
        },
        {
          "output_type": "stream",
          "name": "stderr",
          "text": [
            "Setting `pad_token_id` to `eos_token_id`:2 for open-end generation.\n"
          ]
        },
        {
          "output_type": "stream",
          "name": "stdout",
          "text": [
            "Token 560: 4.6.6\n",
            "True label: 14\n",
            "Predicted label:\n",
            "['<s> Develop a token classification model to accurately identify and classify named entities label:\\n### Token:\\n4.6.6\\n### label:\\n22</s>']\n",
            "\n"
          ]
        },
        {
          "output_type": "stream",
          "name": "stderr",
          "text": [
            "Setting `pad_token_id` to `eos_token_id`:2 for open-end generation.\n"
          ]
        },
        {
          "output_type": "stream",
          "name": "stdout",
          "text": [
            "Token 561: themes/default/views/header.php\n",
            "True label: 4\n",
            "Predicted label:\n",
            "['<s> Develop a token classification model to accurately identify and classify named entities label:\\n### Token:\\nthemes/default/views/header.php\\n### label:\\n4</s>']\n",
            "\n"
          ]
        },
        {
          "output_type": "stream",
          "name": "stderr",
          "text": [
            "Setting `pad_token_id` to `eos_token_id`:2 for open-end generation.\n"
          ]
        },
        {
          "output_type": "stream",
          "name": "stdout",
          "text": [
            "Token 562: handlers/files.xml/files.xml.php\n",
            "True label: 4\n",
            "Predicted label:\n",
            "['<s> Develop a token classification model to accurately identify and classify named entities label:\\n### Token:\\nhandlers/files.xml/files.xml.php\\n### label:\\n4</s>']\n",
            "\n"
          ]
        },
        {
          "output_type": "stream",
          "name": "stderr",
          "text": [
            "Setting `pad_token_id` to `eos_token_id`:2 for open-end generation.\n"
          ]
        },
        {
          "output_type": "stream",
          "name": "stdout",
          "text": [
            "Token 563: 0.11.7\n",
            "True label: 22\n",
            "Predicted label:\n",
            "['<s> Develop a token classification model to accurately identify and classify named entities label:\\n### Token:\\n0.11.7\\n### label:\\n14</s>']\n",
            "\n"
          ]
        },
        {
          "output_type": "stream",
          "name": "stderr",
          "text": [
            "Setting `pad_token_id` to `eos_token_id`:2 for open-end generation.\n"
          ]
        },
        {
          "output_type": "stream",
          "name": "stdout",
          "text": [
            "Token 564: video_comments.php\n",
            "True label: 23\n",
            "Predicted label:\n",
            "['<s> Develop a token classification model to accurately identify and classify named entities label:\\n### Token:\\nvideo_comments.php\\n### label:\\n23</s>']\n",
            "\n"
          ]
        },
        {
          "output_type": "stream",
          "name": "stderr",
          "text": [
            "Setting `pad_token_id` to `eos_token_id`:2 for open-end generation.\n"
          ]
        },
        {
          "output_type": "stream",
          "name": "stdout",
          "text": [
            "Token 565: sub_group\n",
            "True label: 10\n",
            "Predicted label:\n",
            "['<s> Develop a token classification model to accurately identify and classify named entities label:\\n### Token:\\nsub_group\\n### label:\\n23</s>']\n",
            "\n"
          ]
        },
        {
          "output_type": "stream",
          "name": "stderr",
          "text": [
            "Setting `pad_token_id` to `eos_token_id`:2 for open-end generation.\n"
          ]
        },
        {
          "output_type": "stream",
          "name": "stdout",
          "text": [
            "Token 566: 5.6.5\n",
            "True label: 14\n",
            "Predicted label:\n",
            "['<s> Develop a token classification model to accurately identify and classify named entities label:\\n### Token:\\n5.6.5\\n### label:\\n22</s>']\n",
            "\n"
          ]
        },
        {
          "output_type": "stream",
          "name": "stderr",
          "text": [
            "Setting `pad_token_id` to `eos_token_id`:2 for open-end generation.\n"
          ]
        },
        {
          "output_type": "stream",
          "name": "stdout",
          "text": [
            "Token 567: EvoLogical\n",
            "True label: 13\n",
            "Predicted label:\n",
            "['<s> Develop a token classification model to accurately identify and classify named entities label:\\n### Token:\\nEvoLogical\\n### label:\\n13</s>']\n",
            "\n"
          ]
        },
        {
          "output_type": "stream",
          "name": "stderr",
          "text": [
            "Setting `pad_token_id` to `eos_token_id`:2 for open-end generation.\n"
          ]
        },
        {
          "output_type": "stream",
          "name": "stdout",
          "text": [
            "Token 568: sysName\n",
            "True label: 23\n",
            "Predicted label:\n",
            "['<s> Develop a token classification model to accurately identify and classify named entities label:\\n### Token:\\nsysName\\n### label:\\n23</s>']\n",
            "\n"
          ]
        },
        {
          "output_type": "stream",
          "name": "stderr",
          "text": [
            "Setting `pad_token_id` to `eos_token_id`:2 for open-end generation.\n"
          ]
        },
        {
          "output_type": "stream",
          "name": "stdout",
          "text": [
            "Token 569: public/code/tce_page_footer.php\n",
            "True label: 4\n",
            "Predicted label:\n",
            "['<s> Develop a token classification model to accurately identify and classify named entities label:\\n### Token:\\npublic/code/tce_page_footer.php\\n### label:\\n4</s>']\n",
            "\n"
          ]
        },
        {
          "output_type": "stream",
          "name": "stderr",
          "text": [
            "Setting `pad_token_id` to `eos_token_id`:2 for open-end generation.\n"
          ]
        },
        {
          "output_type": "stream",
          "name": "stdout",
          "text": [
            "Token 570: phpMyFAQ\n",
            "True label: 1\n",
            "Predicted label:\n",
            "['<s> Develop a token classification model to accurately identify and classify named entities label:\\n### Token:\\nphpMyFAQ\\n### label:\\n1</s>']\n",
            "\n"
          ]
        },
        {
          "output_type": "stream",
          "name": "stderr",
          "text": [
            "Setting `pad_token_id` to `eos_token_id`:2 for open-end generation.\n"
          ]
        },
        {
          "output_type": "stream",
          "name": "stdout",
          "text": [
            "Token 571: CVE-2013-2403\n",
            "True label: 2\n",
            "Predicted label:\n",
            "['<s> Develop a token classification model to accurately identify and classify named entities label:\\n### Token:\\nCVE-2013-2403\\n### label:\\n2</s>']\n",
            "\n"
          ]
        },
        {
          "output_type": "stream",
          "name": "stderr",
          "text": [
            "Setting `pad_token_id` to `eos_token_id`:2 for open-end generation.\n"
          ]
        },
        {
          "output_type": "stream",
          "name": "stdout",
          "text": [
            "Token 572: cqweb/j_security_check\n",
            "True label: 23\n",
            "Predicted label:\n",
            "['<s> Develop a token classification model to accurately identify and classify named entities label:\\n### Token:\\ncqweb/j_security_check\\n### label:\\n23</s>']\n",
            "\n"
          ]
        },
        {
          "output_type": "stream",
          "name": "stderr",
          "text": [
            "Setting `pad_token_id` to `eos_token_id`:2 for open-end generation.\n"
          ]
        },
        {
          "output_type": "stream",
          "name": "stdout",
          "text": [
            "Token 573: QuickShare\n",
            "True label: 1\n",
            "Predicted label:\n",
            "['<s> Develop a token classification model to accurately identify and classify named entities label:\\n### Token:\\nQuickShare\\n### label:\\n1</s>']\n",
            "\n"
          ]
        },
        {
          "output_type": "stream",
          "name": "stderr",
          "text": [
            "Setting `pad_token_id` to `eos_token_id`:2 for open-end generation.\n"
          ]
        },
        {
          "output_type": "stream",
          "name": "stdout",
          "text": [
            "Token 574: Pay\n",
            "True label: 15\n",
            "Predicted label:\n",
            "['<s> Develop a token classification model to accurately identify and classify named entities label:\\n### Token:\\nPay\\n### label:\\n15</s>']\n",
            "\n"
          ]
        },
        {
          "output_type": "stream",
          "name": "stderr",
          "text": [
            "Setting `pad_token_id` to `eos_token_id`:2 for open-end generation.\n"
          ]
        },
        {
          "output_type": "stream",
          "name": "stdout",
          "text": [
            "Token 575: PmWiki\n",
            "True label: 1\n",
            "Predicted label:\n",
            "['<s> Develop a token classification model to accurately identify and classify named entities label:\\n### Token:\\nPmWiki\\n### label:\\n1</s>']\n",
            "\n"
          ]
        },
        {
          "output_type": "stream",
          "name": "stderr",
          "text": [
            "Setting `pad_token_id` to `eos_token_id`:2 for open-end generation.\n"
          ]
        },
        {
          "output_type": "stream",
          "name": "stdout",
          "text": [
            "Token 576: SITE_NAME\n",
            "True label: 10\n",
            "Predicted label:\n",
            "['<s> Develop a token classification model to accurately identify and classify named entities label:\\n### Token:\\nSITE_NAME\\n### label:\\n23</s>']\n",
            "\n"
          ]
        },
        {
          "output_type": "stream",
          "name": "stderr",
          "text": [
            "Setting `pad_token_id` to `eos_token_id`:2 for open-end generation.\n"
          ]
        },
        {
          "output_type": "stream",
          "name": "stdout",
          "text": [
            "Token 577: Impact\n",
            "True label: 23\n",
            "Predicted label:\n",
            "['<s> Develop a token classification model to accurately identify and classify named entities label:\\n### Token:\\nImpact\\n### label:\\n15</s>']\n",
            "\n"
          ]
        },
        {
          "output_type": "stream",
          "name": "stderr",
          "text": [
            "Setting `pad_token_id` to `eos_token_id`:2 for open-end generation.\n"
          ]
        },
        {
          "output_type": "stream",
          "name": "stdout",
          "text": [
            "Token 578: fs/cifs/connect.c\n",
            "True label: 4\n",
            "Predicted label:\n",
            "['<s> Develop a token classification model to accurately identify and classify named entities label:\\n### Token:\\nfs/cifs/connect.c\\n### label:\\n4</s>']\n",
            "\n"
          ]
        },
        {
          "output_type": "stream",
          "name": "stderr",
          "text": [
            "Setting `pad_token_id` to `eos_token_id`:2 for open-end generation.\n"
          ]
        },
        {
          "output_type": "stream",
          "name": "stdout",
          "text": [
            "Token 579: XOBBIX\n",
            "True label: 23\n",
            "Predicted label:\n",
            "['<s> Develop a token classification model to accurately identify and classify named entities label:\\n### Token:\\nXOBBIX\\n### label:\\n1</s>']\n",
            "\n"
          ]
        },
        {
          "output_type": "stream",
          "name": "stderr",
          "text": [
            "Setting `pad_token_id` to `eos_token_id`:2 for open-end generation.\n"
          ]
        },
        {
          "output_type": "stream",
          "name": "stdout",
          "text": [
            "Token 580: Surgemail\n",
            "True label: 1\n",
            "Predicted label:\n",
            "['<s> Develop a token classification model to accurately identify and classify named entities label:\\n### Token:\\nSurgemail\\n### label:\\n1</s>']\n",
            "\n"
          ]
        },
        {
          "output_type": "stream",
          "name": "stderr",
          "text": [
            "Setting `pad_token_id` to `eos_token_id`:2 for open-end generation.\n"
          ]
        },
        {
          "output_type": "stream",
          "name": "stdout",
          "text": [
            "Token 581: .\n",
            "True label: 19\n",
            "Predicted label:\n",
            "['<s> Develop a token classification model to accurately identify and classify named entities label:\\n### Token:\\n.\\n### label:\\n23</s>']\n",
            "\n"
          ]
        },
        {
          "output_type": "stream",
          "name": "stderr",
          "text": [
            "Setting `pad_token_id` to `eos_token_id`:2 for open-end generation.\n"
          ]
        },
        {
          "output_type": "stream",
          "name": "stdout",
          "text": [
            "Token 582: challenges\n",
            "True label: 23\n",
            "Predicted label:\n",
            "['<s> Develop a token classification model to accurately identify and classify named entities label:\\n### Token:\\nchallenges\\n### label:\\n23</s>']\n",
            "\n"
          ]
        },
        {
          "output_type": "stream",
          "name": "stderr",
          "text": [
            "Setting `pad_token_id` to `eos_token_id`:2 for open-end generation.\n"
          ]
        },
        {
          "output_type": "stream",
          "name": "stdout",
          "text": [
            "Token 583: 5.5.23\n",
            "True label: 22\n",
            "Predicted label:\n",
            "['<s> Develop a token classification model to accurately identify and classify named entities label:\\n### Token:\\n5.5.23\\n### label:\\n22</s>']\n",
            "\n"
          ]
        },
        {
          "output_type": "stream",
          "name": "stderr",
          "text": [
            "Setting `pad_token_id` to `eos_token_id`:2 for open-end generation.\n"
          ]
        },
        {
          "output_type": "stream",
          "name": "stdout",
          "text": [
            "Token 584: user_logout\n",
            "True label: 5\n",
            "Predicted label:\n",
            "['<s> Develop a token classification model to accurately identify and classify named entities label:\\n### Token:\\nuser_logout\\n### label:\\n23</s>']\n",
            "\n"
          ]
        },
        {
          "output_type": "stream",
          "name": "stderr",
          "text": [
            "Setting `pad_token_id` to `eos_token_id`:2 for open-end generation.\n"
          ]
        },
        {
          "output_type": "stream",
          "name": "stdout",
          "text": [
            "Token 585: Directory\n",
            "True label: 11\n",
            "Predicted label:\n",
            "['<s> Develop a token classification model to accurately identify and classify named entities label:\\n### Token:\\nDirectory\\n### label:\\n15</s>']\n",
            "\n"
          ]
        },
        {
          "output_type": "stream",
          "name": "stderr",
          "text": [
            "Setting `pad_token_id` to `eos_token_id`:2 for open-end generation.\n"
          ]
        },
        {
          "output_type": "stream",
          "name": "stdout",
          "text": [
            "Token 586: permissions\n",
            "True label: 11\n",
            "Predicted label:\n",
            "['<s> Develop a token classification model to accurately identify and classify named entities label:\\n### Token:\\npermissions\\n### label:\\n23</s>']\n",
            "\n"
          ]
        },
        {
          "output_type": "stream",
          "name": "stderr",
          "text": [
            "Setting `pad_token_id` to `eos_token_id`:2 for open-end generation.\n"
          ]
        },
        {
          "output_type": "stream",
          "name": "stdout",
          "text": [
            "Token 587: 6.2.0.22\n",
            "True label: 22\n",
            "Predicted label:\n",
            "['<s> Develop a token classification model to accurately identify and classify named entities label:\\n### Token:\\n6.2.0.22\\n### label:\\n22</s>']\n",
            "\n"
          ]
        },
        {
          "output_type": "stream",
          "name": "stderr",
          "text": [
            "Setting `pad_token_id` to `eos_token_id`:2 for open-end generation.\n"
          ]
        },
        {
          "output_type": "stream",
          "name": "stdout",
          "text": [
            "Token 588: 9.8.3-P1\n",
            "True label: 22\n",
            "Predicted label:\n",
            "['<s> Develop a token classification model to accurately identify and classify named entities label:\\n### Token:\\n9.8.3-P1\\n### label:\\n22</s>']\n",
            "\n"
          ]
        },
        {
          "output_type": "stream",
          "name": "stderr",
          "text": [
            "Setting `pad_token_id` to `eos_token_id`:2 for open-end generation.\n"
          ]
        },
        {
          "output_type": "stream",
          "name": "stdout",
          "text": [
            "Token 589: 11.3-8.7.1\n",
            "True label: 22\n",
            "Predicted label:\n",
            "['<s> Develop a token classification model to accurately identify and classify named entities label:\\n### Token:\\n11.3-8.7.1\\n### label:\\n22</s>']\n",
            "\n"
          ]
        },
        {
          "output_type": "stream",
          "name": "stderr",
          "text": [
            "Setting `pad_token_id` to `eos_token_id`:2 for open-end generation.\n"
          ]
        },
        {
          "output_type": "stream",
          "name": "stdout",
          "text": [
            "Token 590: inc/login.php\n",
            "True label: 4\n",
            "Predicted label:\n",
            "['<s> Develop a token classification model to accurately identify and classify named entities label:\\n### Token:\\ninc/login.php\\n### label:\\n4</s>']\n",
            "\n"
          ]
        },
        {
          "output_type": "stream",
          "name": "stderr",
          "text": [
            "Setting `pad_token_id` to `eos_token_id`:2 for open-end generation.\n"
          ]
        },
        {
          "output_type": "stream",
          "name": "stdout",
          "text": [
            "Token 591: 2.6.0.1\n",
            "True label: 14\n",
            "Predicted label:\n",
            "['<s> Develop a token classification model to accurately identify and classify named entities label:\\n### Token:\\n2.6.0.1\\n### label:\\n22</s>']\n",
            "\n"
          ]
        },
        {
          "output_type": "stream",
          "name": "stderr",
          "text": [
            "Setting `pad_token_id` to `eos_token_id`:2 for open-end generation.\n"
          ]
        },
        {
          "output_type": "stream",
          "name": "stdout",
          "text": [
            "Token 592: persons\n",
            "True label: 23\n",
            "Predicted label:\n",
            "['<s> Develop a token classification model to accurately identify and classify named entities label:\\n### Token:\\npersons\\n### label:\\n23</s>']\n",
            "\n"
          ]
        },
        {
          "output_type": "stream",
          "name": "stderr",
          "text": [
            "Setting `pad_token_id` to `eos_token_id`:2 for open-end generation.\n"
          ]
        },
        {
          "output_type": "stream",
          "name": "stdout",
          "text": [
            "Token 593: ARSC\n",
            "True label: 23\n",
            "Predicted label:\n",
            "['<s> Develop a token classification model to accurately identify and classify named entities label:\\n### Token:\\nARSC\\n### label:\\n23</s>']\n",
            "\n"
          ]
        },
        {
          "output_type": "stream",
          "name": "stderr",
          "text": [
            "Setting `pad_token_id` to `eos_token_id`:2 for open-end generation.\n"
          ]
        },
        {
          "output_type": "stream",
          "name": "stdout",
          "text": [
            "Token 594: Carrier\n",
            "True label: 1\n",
            "Predicted label:\n",
            "['<s> Develop a token classification model to accurately identify and classify named entities label:\\n### Token:\\nCarrier\\n### label:\\n15</s>']\n",
            "\n"
          ]
        },
        {
          "output_type": "stream",
          "name": "stderr",
          "text": [
            "Setting `pad_token_id` to `eos_token_id`:2 for open-end generation.\n"
          ]
        },
        {
          "output_type": "stream",
          "name": "stdout",
          "text": [
            "Token 595: Autoconfig\n",
            "True label: 23\n",
            "Predicted label:\n",
            "['<s> Develop a token classification model to accurately identify and classify named entities label:\\n### Token:\\nAutoconfig\\n### label:\\n1</s>']\n",
            "\n"
          ]
        },
        {
          "output_type": "stream",
          "name": "stderr",
          "text": [
            "Setting `pad_token_id` to `eos_token_id`:2 for open-end generation.\n"
          ]
        },
        {
          "output_type": "stream",
          "name": "stdout",
          "text": [
            "Token 596: Theme\n",
            "True label: 1\n",
            "Predicted label:\n",
            "['<s> Develop a token classification model to accurately identify and classify named entities label:\\n### Token:\\nTheme\\n### label:\\n15</s>']\n",
            "\n"
          ]
        },
        {
          "output_type": "stream",
          "name": "stderr",
          "text": [
            "Setting `pad_token_id` to `eos_token_id`:2 for open-end generation.\n"
          ]
        },
        {
          "output_type": "stream",
          "name": "stdout",
          "text": [
            "Token 597: getFile\n",
            "True label: 10\n",
            "Predicted label:\n",
            "['<s> Develop a token classification model to accurately identify and classify named entities label:\\n### Token:\\ngetFile\\n### label:\\n5</s>']\n",
            "\n"
          ]
        },
        {
          "output_type": "stream",
          "name": "stderr",
          "text": [
            "Setting `pad_token_id` to `eos_token_id`:2 for open-end generation.\n"
          ]
        },
        {
          "output_type": "stream",
          "name": "stdout",
          "text": [
            "Token 598: APK\n",
            "True label: 23\n",
            "Predicted label:\n",
            "['<s> Develop a token classification model to accurately identify and classify named entities label:\\n### Token:\\nAPK\\n### label:\\n1</s>']\n",
            "\n"
          ]
        },
        {
          "output_type": "stream",
          "name": "stderr",
          "text": [
            "Setting `pad_token_id` to `eos_token_id`:2 for open-end generation.\n"
          ]
        },
        {
          "output_type": "stream",
          "name": "stdout",
          "text": [
            "Token 599: btrfs_ioctl_clone\n",
            "True label: 5\n",
            "Predicted label:\n",
            "['<s> Develop a token classification model to accurately identify and classify named entities label:\\n### Token:\\nbtrfs_ioctl_clone\\n### label:\\n5</s>']\n",
            "\n"
          ]
        },
        {
          "output_type": "stream",
          "name": "stderr",
          "text": [
            "Setting `pad_token_id` to `eos_token_id`:2 for open-end generation.\n"
          ]
        },
        {
          "output_type": "stream",
          "name": "stdout",
          "text": [
            "Token 600: PostMessage\n",
            "True label: 5\n",
            "Predicted label:\n",
            "['<s> Develop a token classification model to accurately identify and classify named entities label:\\n### Token:\\nPostMessage\\n### label:\\n23</s>']\n",
            "\n"
          ]
        },
        {
          "output_type": "stream",
          "name": "stderr",
          "text": [
            "Setting `pad_token_id` to `eos_token_id`:2 for open-end generation.\n"
          ]
        },
        {
          "output_type": "stream",
          "name": "stdout",
          "text": [
            "Token 601: CVE-2010-2176\n",
            "True label: 2\n",
            "Predicted label:\n",
            "['<s> Develop a token classification model to accurately identify and classify named entities label:\\n### Token:\\nCVE-2010-2176\\n### label:\\n2</s>']\n",
            "\n"
          ]
        },
        {
          "output_type": "stream",
          "name": "stderr",
          "text": [
            "Setting `pad_token_id` to `eos_token_id`:2 for open-end generation.\n"
          ]
        },
        {
          "output_type": "stream",
          "name": "stdout",
          "text": [
            "Token 602: evaluate\n",
            "True label: 23\n",
            "Predicted label:\n",
            "['<s> Develop a token classification model to accurately identify and classify named entities label:\\n### Token:\\nevaluate\\n### label:\\n23</s>']\n",
            "\n"
          ]
        },
        {
          "output_type": "stream",
          "name": "stderr",
          "text": [
            "Setting `pad_token_id` to `eos_token_id`:2 for open-end generation.\n"
          ]
        },
        {
          "output_type": "stream",
          "name": "stdout",
          "text": [
            "Token 603: InitFromRegistry\n",
            "True label: 5\n",
            "Predicted label:\n",
            "['<s> Develop a token classification model to accurately identify and classify named entities label:\\n### Token:\\nInitFromRegistry\\n### label:\\n5</s>']\n",
            "\n"
          ]
        },
        {
          "output_type": "stream",
          "name": "stderr",
          "text": [
            "Setting `pad_token_id` to `eos_token_id`:2 for open-end generation.\n"
          ]
        },
        {
          "output_type": "stream",
          "name": "stdout",
          "text": [
            "Token 604: ADP\n",
            "True label: 15\n",
            "Predicted label:\n",
            "['<s> Develop a token classification model to accurately identify and classify named entities label:\\n### Token:\\nADP\\n### label:\\n1</s>']\n",
            "\n"
          ]
        },
        {
          "output_type": "stream",
          "name": "stderr",
          "text": [
            "Setting `pad_token_id` to `eos_token_id`:2 for open-end generation.\n"
          ]
        },
        {
          "output_type": "stream",
          "name": "stdout",
          "text": [
            "Token 605: 8.1.0.4037\n",
            "True label: 14\n",
            "Predicted label:\n",
            "['<s> Develop a token classification model to accurately identify and classify named entities label:\\n### Token:\\n8.1.0.4037\\n### label:\\n22</s>']\n",
            "\n"
          ]
        },
        {
          "output_type": "stream",
          "name": "stderr",
          "text": [
            "Setting `pad_token_id` to `eos_token_id`:2 for open-end generation.\n"
          ]
        },
        {
          "output_type": "stream",
          "name": "stdout",
          "text": [
            "Token 606: 8.1.0\n",
            "True label: 14\n",
            "Predicted label:\n",
            "['<s> Develop a token classification model to accurately identify and classify named entities label:\\n### Token:\\n8.1.0\\n### label:\\n22</s>']\n",
            "\n"
          ]
        },
        {
          "output_type": "stream",
          "name": "stderr",
          "text": [
            "Setting `pad_token_id` to `eos_token_id`:2 for open-end generation.\n"
          ]
        },
        {
          "output_type": "stream",
          "name": "stdout",
          "text": [
            "Token 607: WonderDesk\n",
            "True label: 1\n",
            "Predicted label:\n",
            "['<s> Develop a token classification model to accurately identify and classify named entities label:\\n### Token:\\nWonderDesk\\n### label:\\n1</s>']\n",
            "\n"
          ]
        },
        {
          "output_type": "stream",
          "name": "stderr",
          "text": [
            "Setting `pad_token_id` to `eos_token_id`:2 for open-end generation.\n"
          ]
        },
        {
          "output_type": "stream",
          "name": "stdout",
          "text": [
            "Token 608: Checkins\n",
            "True label: 15\n",
            "Predicted label:\n",
            "['<s> Develop a token classification model to accurately identify and classify named entities label:\\n### Token:\\nCheckins\\n### label:\\n15</s>']\n",
            "\n"
          ]
        },
        {
          "output_type": "stream",
          "name": "stderr",
          "text": [
            "Setting `pad_token_id` to `eos_token_id`:2 for open-end generation.\n"
          ]
        },
        {
          "output_type": "stream",
          "name": "stdout",
          "text": [
            "Token 609: CommonSpot\n",
            "True label: 1\n",
            "Predicted label:\n",
            "['<s> Develop a token classification model to accurately identify and classify named entities label:\\n### Token:\\nCommonSpot\\n### label:\\n1</s>']\n",
            "\n"
          ]
        },
        {
          "output_type": "stream",
          "name": "stderr",
          "text": [
            "Setting `pad_token_id` to `eos_token_id`:2 for open-end generation.\n"
          ]
        },
        {
          "output_type": "stream",
          "name": "stdout",
          "text": [
            "Token 610: Relationships\n",
            "True label: 15\n",
            "Predicted label:\n",
            "['<s> Develop a token classification model to accurately identify and classify named entities label:\\n### Token:\\nRelationships\\n### label:\\n15</s>']\n",
            "\n"
          ]
        },
        {
          "output_type": "stream",
          "name": "stderr",
          "text": [
            "Setting `pad_token_id` to `eos_token_id`:2 for open-end generation.\n"
          ]
        },
        {
          "output_type": "stream",
          "name": "stdout",
          "text": [
            "Token 611: 2.1.320\n",
            "True label: 22\n",
            "Predicted label:\n",
            "['<s> Develop a token classification model to accurately identify and classify named entities label:\\n### Token:\\n2.1.320\\n### label:\\n22</s>']\n",
            "\n"
          ]
        },
        {
          "output_type": "stream",
          "name": "stderr",
          "text": [
            "Setting `pad_token_id` to `eos_token_id`:2 for open-end generation.\n"
          ]
        },
        {
          "output_type": "stream",
          "name": "stdout",
          "text": [
            "Token 612: com_jeformcr\n",
            "True label: 23\n",
            "Predicted label:\n",
            "['<s> Develop a token classification model to accurately identify and classify named entities label:\\n### Token:\\ncom_jeformcr\\n### label:\\n23</s>']\n",
            "\n"
          ]
        },
        {
          "output_type": "stream",
          "name": "stderr",
          "text": [
            "Setting `pad_token_id` to `eos_token_id`:2 for open-end generation.\n"
          ]
        },
        {
          "output_type": "stream",
          "name": "stdout",
          "text": [
            "Token 613: jVideoDirect\n",
            "True label: 13\n",
            "Predicted label:\n",
            "['<s> Develop a token classification model to accurately identify and classify named entities label:\\n### Token:\\njVideoDirect\\n### label:\\n1</s>']\n",
            "\n"
          ]
        },
        {
          "output_type": "stream",
          "name": "stderr",
          "text": [
            "Setting `pad_token_id` to `eos_token_id`:2 for open-end generation.\n"
          ]
        },
        {
          "output_type": "stream",
          "name": "stdout",
          "text": [
            "Token 614: ethernet-lldp\n",
            "True label: 23\n",
            "Predicted label:\n",
            "['<s> Develop a token classification model to accurately identify and classify named entities label:\\n### Token:\\nethernet-lldp\\n### label:\\n23</s>']\n",
            "\n"
          ]
        },
        {
          "output_type": "stream",
          "name": "stderr",
          "text": [
            "Setting `pad_token_id` to `eos_token_id`:2 for open-end generation.\n"
          ]
        },
        {
          "output_type": "stream",
          "name": "stdout",
          "text": [
            "Token 615: Dream\n",
            "True label: 1\n",
            "Predicted label:\n",
            "['<s> Develop a token classification model to accurately identify and classify named entities label:\\n### Token:\\nDream\\n### label:\\n1</s>']\n",
            "\n"
          ]
        },
        {
          "output_type": "stream",
          "name": "stderr",
          "text": [
            "Setting `pad_token_id` to `eos_token_id`:2 for open-end generation.\n"
          ]
        },
        {
          "output_type": "stream",
          "name": "stdout",
          "text": [
            "Token 616: Dokodemo\n",
            "True label: 1\n",
            "Predicted label:\n",
            "['<s> Develop a token classification model to accurately identify and classify named entities label:\\n### Token:\\nDokodemo\\n### label:\\n1</s>']\n",
            "\n"
          ]
        },
        {
          "output_type": "stream",
          "name": "stderr",
          "text": [
            "Setting `pad_token_id` to `eos_token_id`:2 for open-end generation.\n"
          ]
        },
        {
          "output_type": "stream",
          "name": "stdout",
          "text": [
            "Token 617: 8.1x\n",
            "True label: 14\n",
            "Predicted label:\n",
            "['<s> Develop a token classification model to accurately identify and classify named entities label:\\n### Token:\\n8.1x\\n### label:\\n14</s>']\n",
            "\n"
          ]
        },
        {
          "output_type": "stream",
          "name": "stderr",
          "text": [
            "Setting `pad_token_id` to `eos_token_id`:2 for open-end generation.\n"
          ]
        },
        {
          "output_type": "stream",
          "name": "stdout",
          "text": [
            "Token 618: apps/media/lib_scanner.php\n",
            "True label: 4\n",
            "Predicted label:\n",
            "['<s> Develop a token classification model to accurately identify and classify named entities label:\\n### Token:\\napps/media/lib_scanner.php\\n### label:\\n4</s>']\n",
            "\n"
          ]
        },
        {
          "output_type": "stream",
          "name": "stderr",
          "text": [
            "Setting `pad_token_id` to `eos_token_id`:2 for open-end generation.\n"
          ]
        },
        {
          "output_type": "stream",
          "name": "stdout",
          "text": [
            "Token 619: MailServer\n",
            "True label: 23\n",
            "Predicted label:\n",
            "['<s> Develop a token classification model to accurately identify and classify named entities label:\\n### Token:\\nMailServer\\n### label:\\n1</s>']\n",
            "\n"
          ]
        }
      ]
    },
    {
      "cell_type": "code",
      "execution_count": null,
      "id": "13677b4d",
      "metadata": {
        "papermill": {
          "duration": 0.039399,
          "end_time": "2024-02-26T19:15:51.284044",
          "exception": false,
          "start_time": "2024-02-26T19:15:51.244645",
          "status": "completed"
        },
        "tags": [],
        "id": "13677b4d"
      },
      "outputs": [],
      "source": [
        "from sklearn.metrics import accuracy_score, precision_score, recall_score, f1_score\n",
        "\n",
        "# Actual labels\n",
        "actual = dataset['test']['label'].tolist()\n",
        "# Predicted labels\n",
        "predicted = predicted_labels\n",
        "\n",
        "# Calculate accuracy\n",
        "accuracy = accuracy_score(actual, predicted)\n",
        "print(\"Accuracy:\", accuracy)\n",
        "\n",
        "# Calculate precision\n",
        "precision = precision_score(actual, predicted)\n",
        "print(\"Precision:\", precision)\n",
        "\n",
        "# Calculate recall\n",
        "recall = recall_score(actual, predicted)\n",
        "print(\"Recall:\", recall)\n",
        "\n",
        "# Calculate F1 score\n",
        "f1 = f1_score(actual, predicted)\n",
        "print(\"F1 Score:\", f1)\n"
      ]
    },
    {
      "cell_type": "code",
      "source": [],
      "metadata": {
        "id": "yRNXwSV-o96W"
      },
      "id": "yRNXwSV-o96W",
      "execution_count": null,
      "outputs": []
    }
  ],
  "metadata": {
    "kaggle": {
      "accelerator": "nvidiaTeslaT4",
      "dataSources": [
        {
          "datasetId": 4442009,
          "sourceId": 7625023,
          "sourceType": "datasetVersion"
        }
      ],
      "dockerImageVersionId": 30646,
      "isGpuEnabled": true,
      "isInternetEnabled": true,
      "language": "python",
      "sourceType": "notebook"
    },
    "kernelspec": {
      "display_name": "Python 3",
      "name": "python3"
    },
    "language_info": {
      "codemirror_mode": {
        "name": "ipython",
        "version": 3
      },
      "file_extension": ".py",
      "mimetype": "text/x-python",
      "name": "python",
      "nbconvert_exporter": "python",
      "pygments_lexer": "ipython3",
      "version": "3.10.13"
    },
    "papermill": {
      "default_parameters": {},
      "duration": 5315.743125,
      "end_time": "2024-02-26T19:15:54.262547",
      "environment_variables": {},
      "exception": null,
      "input_path": "__notebook__.ipynb",
      "output_path": "__notebook__.ipynb",
      "parameters": {},
      "start_time": "2024-02-26T17:47:18.519422",
      "version": "2.5.0"
    },
    "colab": {
      "provenance": [],
      "gpuType": "T4"
    },
    "widgets": {
      "application/vnd.jupyter.widget-state+json": {
        "d436b844f7824c86afedf883963fe977": {
          "model_module": "@jupyter-widgets/controls",
          "model_name": "HBoxModel",
          "model_module_version": "1.5.0",
          "state": {
            "_dom_classes": [],
            "_model_module": "@jupyter-widgets/controls",
            "_model_module_version": "1.5.0",
            "_model_name": "HBoxModel",
            "_view_count": null,
            "_view_module": "@jupyter-widgets/controls",
            "_view_module_version": "1.5.0",
            "_view_name": "HBoxView",
            "box_style": "",
            "children": [
              "IPY_MODEL_d72694bb1fef4a38a5e8536523f70c34",
              "IPY_MODEL_ac5068baa1e94d71bbccfbf5e13333c2",
              "IPY_MODEL_2f061be95e754025b5bb6b4d3455edb4"
            ],
            "layout": "IPY_MODEL_c9716230955f43bda2ca13bcec1a1fcd"
          }
        },
        "d72694bb1fef4a38a5e8536523f70c34": {
          "model_module": "@jupyter-widgets/controls",
          "model_name": "HTMLModel",
          "model_module_version": "1.5.0",
          "state": {
            "_dom_classes": [],
            "_model_module": "@jupyter-widgets/controls",
            "_model_module_version": "1.5.0",
            "_model_name": "HTMLModel",
            "_view_count": null,
            "_view_module": "@jupyter-widgets/controls",
            "_view_module_version": "1.5.0",
            "_view_name": "HTMLView",
            "description": "",
            "description_tooltip": null,
            "layout": "IPY_MODEL_1861e3a725c741cabcc098ce72e67732",
            "placeholder": "​",
            "style": "IPY_MODEL_ab4efb7ecda44a77b7845833e61a7b21",
            "value": "config.json: 100%"
          }
        },
        "ac5068baa1e94d71bbccfbf5e13333c2": {
          "model_module": "@jupyter-widgets/controls",
          "model_name": "FloatProgressModel",
          "model_module_version": "1.5.0",
          "state": {
            "_dom_classes": [],
            "_model_module": "@jupyter-widgets/controls",
            "_model_module_version": "1.5.0",
            "_model_name": "FloatProgressModel",
            "_view_count": null,
            "_view_module": "@jupyter-widgets/controls",
            "_view_module_version": "1.5.0",
            "_view_name": "ProgressView",
            "bar_style": "success",
            "description": "",
            "description_tooltip": null,
            "layout": "IPY_MODEL_8e74bcfc00e547dbb2dacd95d470102f",
            "max": 1055,
            "min": 0,
            "orientation": "horizontal",
            "style": "IPY_MODEL_460ee5498c474f168d1c54366866117c",
            "value": 1055
          }
        },
        "2f061be95e754025b5bb6b4d3455edb4": {
          "model_module": "@jupyter-widgets/controls",
          "model_name": "HTMLModel",
          "model_module_version": "1.5.0",
          "state": {
            "_dom_classes": [],
            "_model_module": "@jupyter-widgets/controls",
            "_model_module_version": "1.5.0",
            "_model_name": "HTMLModel",
            "_view_count": null,
            "_view_module": "@jupyter-widgets/controls",
            "_view_module_version": "1.5.0",
            "_view_name": "HTMLView",
            "description": "",
            "description_tooltip": null,
            "layout": "IPY_MODEL_351c08e103df48f08f2a78bae2ce1d55",
            "placeholder": "​",
            "style": "IPY_MODEL_308ae21bbd3f49ac8832cc936370c47e",
            "value": " 1.05k/1.05k [00:00&lt;00:00, 70.1kB/s]"
          }
        },
        "c9716230955f43bda2ca13bcec1a1fcd": {
          "model_module": "@jupyter-widgets/base",
          "model_name": "LayoutModel",
          "model_module_version": "1.2.0",
          "state": {
            "_model_module": "@jupyter-widgets/base",
            "_model_module_version": "1.2.0",
            "_model_name": "LayoutModel",
            "_view_count": null,
            "_view_module": "@jupyter-widgets/base",
            "_view_module_version": "1.2.0",
            "_view_name": "LayoutView",
            "align_content": null,
            "align_items": null,
            "align_self": null,
            "border": null,
            "bottom": null,
            "display": null,
            "flex": null,
            "flex_flow": null,
            "grid_area": null,
            "grid_auto_columns": null,
            "grid_auto_flow": null,
            "grid_auto_rows": null,
            "grid_column": null,
            "grid_gap": null,
            "grid_row": null,
            "grid_template_areas": null,
            "grid_template_columns": null,
            "grid_template_rows": null,
            "height": null,
            "justify_content": null,
            "justify_items": null,
            "left": null,
            "margin": null,
            "max_height": null,
            "max_width": null,
            "min_height": null,
            "min_width": null,
            "object_fit": null,
            "object_position": null,
            "order": null,
            "overflow": null,
            "overflow_x": null,
            "overflow_y": null,
            "padding": null,
            "right": null,
            "top": null,
            "visibility": null,
            "width": null
          }
        },
        "1861e3a725c741cabcc098ce72e67732": {
          "model_module": "@jupyter-widgets/base",
          "model_name": "LayoutModel",
          "model_module_version": "1.2.0",
          "state": {
            "_model_module": "@jupyter-widgets/base",
            "_model_module_version": "1.2.0",
            "_model_name": "LayoutModel",
            "_view_count": null,
            "_view_module": "@jupyter-widgets/base",
            "_view_module_version": "1.2.0",
            "_view_name": "LayoutView",
            "align_content": null,
            "align_items": null,
            "align_self": null,
            "border": null,
            "bottom": null,
            "display": null,
            "flex": null,
            "flex_flow": null,
            "grid_area": null,
            "grid_auto_columns": null,
            "grid_auto_flow": null,
            "grid_auto_rows": null,
            "grid_column": null,
            "grid_gap": null,
            "grid_row": null,
            "grid_template_areas": null,
            "grid_template_columns": null,
            "grid_template_rows": null,
            "height": null,
            "justify_content": null,
            "justify_items": null,
            "left": null,
            "margin": null,
            "max_height": null,
            "max_width": null,
            "min_height": null,
            "min_width": null,
            "object_fit": null,
            "object_position": null,
            "order": null,
            "overflow": null,
            "overflow_x": null,
            "overflow_y": null,
            "padding": null,
            "right": null,
            "top": null,
            "visibility": null,
            "width": null
          }
        },
        "ab4efb7ecda44a77b7845833e61a7b21": {
          "model_module": "@jupyter-widgets/controls",
          "model_name": "DescriptionStyleModel",
          "model_module_version": "1.5.0",
          "state": {
            "_model_module": "@jupyter-widgets/controls",
            "_model_module_version": "1.5.0",
            "_model_name": "DescriptionStyleModel",
            "_view_count": null,
            "_view_module": "@jupyter-widgets/base",
            "_view_module_version": "1.2.0",
            "_view_name": "StyleView",
            "description_width": ""
          }
        },
        "8e74bcfc00e547dbb2dacd95d470102f": {
          "model_module": "@jupyter-widgets/base",
          "model_name": "LayoutModel",
          "model_module_version": "1.2.0",
          "state": {
            "_model_module": "@jupyter-widgets/base",
            "_model_module_version": "1.2.0",
            "_model_name": "LayoutModel",
            "_view_count": null,
            "_view_module": "@jupyter-widgets/base",
            "_view_module_version": "1.2.0",
            "_view_name": "LayoutView",
            "align_content": null,
            "align_items": null,
            "align_self": null,
            "border": null,
            "bottom": null,
            "display": null,
            "flex": null,
            "flex_flow": null,
            "grid_area": null,
            "grid_auto_columns": null,
            "grid_auto_flow": null,
            "grid_auto_rows": null,
            "grid_column": null,
            "grid_gap": null,
            "grid_row": null,
            "grid_template_areas": null,
            "grid_template_columns": null,
            "grid_template_rows": null,
            "height": null,
            "justify_content": null,
            "justify_items": null,
            "left": null,
            "margin": null,
            "max_height": null,
            "max_width": null,
            "min_height": null,
            "min_width": null,
            "object_fit": null,
            "object_position": null,
            "order": null,
            "overflow": null,
            "overflow_x": null,
            "overflow_y": null,
            "padding": null,
            "right": null,
            "top": null,
            "visibility": null,
            "width": null
          }
        },
        "460ee5498c474f168d1c54366866117c": {
          "model_module": "@jupyter-widgets/controls",
          "model_name": "ProgressStyleModel",
          "model_module_version": "1.5.0",
          "state": {
            "_model_module": "@jupyter-widgets/controls",
            "_model_module_version": "1.5.0",
            "_model_name": "ProgressStyleModel",
            "_view_count": null,
            "_view_module": "@jupyter-widgets/base",
            "_view_module_version": "1.2.0",
            "_view_name": "StyleView",
            "bar_color": null,
            "description_width": ""
          }
        },
        "351c08e103df48f08f2a78bae2ce1d55": {
          "model_module": "@jupyter-widgets/base",
          "model_name": "LayoutModel",
          "model_module_version": "1.2.0",
          "state": {
            "_model_module": "@jupyter-widgets/base",
            "_model_module_version": "1.2.0",
            "_model_name": "LayoutModel",
            "_view_count": null,
            "_view_module": "@jupyter-widgets/base",
            "_view_module_version": "1.2.0",
            "_view_name": "LayoutView",
            "align_content": null,
            "align_items": null,
            "align_self": null,
            "border": null,
            "bottom": null,
            "display": null,
            "flex": null,
            "flex_flow": null,
            "grid_area": null,
            "grid_auto_columns": null,
            "grid_auto_flow": null,
            "grid_auto_rows": null,
            "grid_column": null,
            "grid_gap": null,
            "grid_row": null,
            "grid_template_areas": null,
            "grid_template_columns": null,
            "grid_template_rows": null,
            "height": null,
            "justify_content": null,
            "justify_items": null,
            "left": null,
            "margin": null,
            "max_height": null,
            "max_width": null,
            "min_height": null,
            "min_width": null,
            "object_fit": null,
            "object_position": null,
            "order": null,
            "overflow": null,
            "overflow_x": null,
            "overflow_y": null,
            "padding": null,
            "right": null,
            "top": null,
            "visibility": null,
            "width": null
          }
        },
        "308ae21bbd3f49ac8832cc936370c47e": {
          "model_module": "@jupyter-widgets/controls",
          "model_name": "DescriptionStyleModel",
          "model_module_version": "1.5.0",
          "state": {
            "_model_module": "@jupyter-widgets/controls",
            "_model_module_version": "1.5.0",
            "_model_name": "DescriptionStyleModel",
            "_view_count": null,
            "_view_module": "@jupyter-widgets/base",
            "_view_module_version": "1.2.0",
            "_view_name": "StyleView",
            "description_width": ""
          }
        },
        "9c960372757b42b68556ef79255b493b": {
          "model_module": "@jupyter-widgets/controls",
          "model_name": "HBoxModel",
          "model_module_version": "1.5.0",
          "state": {
            "_dom_classes": [],
            "_model_module": "@jupyter-widgets/controls",
            "_model_module_version": "1.5.0",
            "_model_name": "HBoxModel",
            "_view_count": null,
            "_view_module": "@jupyter-widgets/controls",
            "_view_module_version": "1.5.0",
            "_view_name": "HBoxView",
            "box_style": "",
            "children": [
              "IPY_MODEL_cc2ac21f2901461992f5cb2e9f036179",
              "IPY_MODEL_2ddc6c4e31434d108111b650ff3ed92e",
              "IPY_MODEL_a95ff4d2fd944d3a84fddfb07758753f"
            ],
            "layout": "IPY_MODEL_5f3d9fea75794c06a1c1f97cce47c46c"
          }
        },
        "cc2ac21f2901461992f5cb2e9f036179": {
          "model_module": "@jupyter-widgets/controls",
          "model_name": "HTMLModel",
          "model_module_version": "1.5.0",
          "state": {
            "_dom_classes": [],
            "_model_module": "@jupyter-widgets/controls",
            "_model_module_version": "1.5.0",
            "_model_name": "HTMLModel",
            "_view_count": null,
            "_view_module": "@jupyter-widgets/controls",
            "_view_module_version": "1.5.0",
            "_view_name": "HTMLView",
            "description": "",
            "description_tooltip": null,
            "layout": "IPY_MODEL_1470c60795da4b2b8d5c09505b094849",
            "placeholder": "​",
            "style": "IPY_MODEL_ac29e724f91b4a3b97889501684708e9",
            "value": "model.safetensors: 100%"
          }
        },
        "2ddc6c4e31434d108111b650ff3ed92e": {
          "model_module": "@jupyter-widgets/controls",
          "model_name": "FloatProgressModel",
          "model_module_version": "1.5.0",
          "state": {
            "_dom_classes": [],
            "_model_module": "@jupyter-widgets/controls",
            "_model_module_version": "1.5.0",
            "_model_name": "FloatProgressModel",
            "_view_count": null,
            "_view_module": "@jupyter-widgets/controls",
            "_view_module_version": "1.5.0",
            "_view_name": "ProgressView",
            "bar_style": "success",
            "description": "",
            "description_tooltip": null,
            "layout": "IPY_MODEL_e29dac44a61348b0863fde18796febcd",
            "max": 4125687906,
            "min": 0,
            "orientation": "horizontal",
            "style": "IPY_MODEL_aa8bca4ff50142079efc72f10aac0ed7",
            "value": 4125687906
          }
        },
        "a95ff4d2fd944d3a84fddfb07758753f": {
          "model_module": "@jupyter-widgets/controls",
          "model_name": "HTMLModel",
          "model_module_version": "1.5.0",
          "state": {
            "_dom_classes": [],
            "_model_module": "@jupyter-widgets/controls",
            "_model_module_version": "1.5.0",
            "_model_name": "HTMLModel",
            "_view_count": null,
            "_view_module": "@jupyter-widgets/controls",
            "_view_module_version": "1.5.0",
            "_view_name": "HTMLView",
            "description": "",
            "description_tooltip": null,
            "layout": "IPY_MODEL_ebbbc6804680447898b6ff61e23da288",
            "placeholder": "​",
            "style": "IPY_MODEL_eddc039b02304af8b8b356a0d8f44039",
            "value": " 4.13G/4.13G [00:33&lt;00:00, 122MB/s]"
          }
        },
        "5f3d9fea75794c06a1c1f97cce47c46c": {
          "model_module": "@jupyter-widgets/base",
          "model_name": "LayoutModel",
          "model_module_version": "1.2.0",
          "state": {
            "_model_module": "@jupyter-widgets/base",
            "_model_module_version": "1.2.0",
            "_model_name": "LayoutModel",
            "_view_count": null,
            "_view_module": "@jupyter-widgets/base",
            "_view_module_version": "1.2.0",
            "_view_name": "LayoutView",
            "align_content": null,
            "align_items": null,
            "align_self": null,
            "border": null,
            "bottom": null,
            "display": null,
            "flex": null,
            "flex_flow": null,
            "grid_area": null,
            "grid_auto_columns": null,
            "grid_auto_flow": null,
            "grid_auto_rows": null,
            "grid_column": null,
            "grid_gap": null,
            "grid_row": null,
            "grid_template_areas": null,
            "grid_template_columns": null,
            "grid_template_rows": null,
            "height": null,
            "justify_content": null,
            "justify_items": null,
            "left": null,
            "margin": null,
            "max_height": null,
            "max_width": null,
            "min_height": null,
            "min_width": null,
            "object_fit": null,
            "object_position": null,
            "order": null,
            "overflow": null,
            "overflow_x": null,
            "overflow_y": null,
            "padding": null,
            "right": null,
            "top": null,
            "visibility": null,
            "width": null
          }
        },
        "1470c60795da4b2b8d5c09505b094849": {
          "model_module": "@jupyter-widgets/base",
          "model_name": "LayoutModel",
          "model_module_version": "1.2.0",
          "state": {
            "_model_module": "@jupyter-widgets/base",
            "_model_module_version": "1.2.0",
            "_model_name": "LayoutModel",
            "_view_count": null,
            "_view_module": "@jupyter-widgets/base",
            "_view_module_version": "1.2.0",
            "_view_name": "LayoutView",
            "align_content": null,
            "align_items": null,
            "align_self": null,
            "border": null,
            "bottom": null,
            "display": null,
            "flex": null,
            "flex_flow": null,
            "grid_area": null,
            "grid_auto_columns": null,
            "grid_auto_flow": null,
            "grid_auto_rows": null,
            "grid_column": null,
            "grid_gap": null,
            "grid_row": null,
            "grid_template_areas": null,
            "grid_template_columns": null,
            "grid_template_rows": null,
            "height": null,
            "justify_content": null,
            "justify_items": null,
            "left": null,
            "margin": null,
            "max_height": null,
            "max_width": null,
            "min_height": null,
            "min_width": null,
            "object_fit": null,
            "object_position": null,
            "order": null,
            "overflow": null,
            "overflow_x": null,
            "overflow_y": null,
            "padding": null,
            "right": null,
            "top": null,
            "visibility": null,
            "width": null
          }
        },
        "ac29e724f91b4a3b97889501684708e9": {
          "model_module": "@jupyter-widgets/controls",
          "model_name": "DescriptionStyleModel",
          "model_module_version": "1.5.0",
          "state": {
            "_model_module": "@jupyter-widgets/controls",
            "_model_module_version": "1.5.0",
            "_model_name": "DescriptionStyleModel",
            "_view_count": null,
            "_view_module": "@jupyter-widgets/base",
            "_view_module_version": "1.2.0",
            "_view_name": "StyleView",
            "description_width": ""
          }
        },
        "e29dac44a61348b0863fde18796febcd": {
          "model_module": "@jupyter-widgets/base",
          "model_name": "LayoutModel",
          "model_module_version": "1.2.0",
          "state": {
            "_model_module": "@jupyter-widgets/base",
            "_model_module_version": "1.2.0",
            "_model_name": "LayoutModel",
            "_view_count": null,
            "_view_module": "@jupyter-widgets/base",
            "_view_module_version": "1.2.0",
            "_view_name": "LayoutView",
            "align_content": null,
            "align_items": null,
            "align_self": null,
            "border": null,
            "bottom": null,
            "display": null,
            "flex": null,
            "flex_flow": null,
            "grid_area": null,
            "grid_auto_columns": null,
            "grid_auto_flow": null,
            "grid_auto_rows": null,
            "grid_column": null,
            "grid_gap": null,
            "grid_row": null,
            "grid_template_areas": null,
            "grid_template_columns": null,
            "grid_template_rows": null,
            "height": null,
            "justify_content": null,
            "justify_items": null,
            "left": null,
            "margin": null,
            "max_height": null,
            "max_width": null,
            "min_height": null,
            "min_width": null,
            "object_fit": null,
            "object_position": null,
            "order": null,
            "overflow": null,
            "overflow_x": null,
            "overflow_y": null,
            "padding": null,
            "right": null,
            "top": null,
            "visibility": null,
            "width": null
          }
        },
        "aa8bca4ff50142079efc72f10aac0ed7": {
          "model_module": "@jupyter-widgets/controls",
          "model_name": "ProgressStyleModel",
          "model_module_version": "1.5.0",
          "state": {
            "_model_module": "@jupyter-widgets/controls",
            "_model_module_version": "1.5.0",
            "_model_name": "ProgressStyleModel",
            "_view_count": null,
            "_view_module": "@jupyter-widgets/base",
            "_view_module_version": "1.2.0",
            "_view_name": "StyleView",
            "bar_color": null,
            "description_width": ""
          }
        },
        "ebbbc6804680447898b6ff61e23da288": {
          "model_module": "@jupyter-widgets/base",
          "model_name": "LayoutModel",
          "model_module_version": "1.2.0",
          "state": {
            "_model_module": "@jupyter-widgets/base",
            "_model_module_version": "1.2.0",
            "_model_name": "LayoutModel",
            "_view_count": null,
            "_view_module": "@jupyter-widgets/base",
            "_view_module_version": "1.2.0",
            "_view_name": "LayoutView",
            "align_content": null,
            "align_items": null,
            "align_self": null,
            "border": null,
            "bottom": null,
            "display": null,
            "flex": null,
            "flex_flow": null,
            "grid_area": null,
            "grid_auto_columns": null,
            "grid_auto_flow": null,
            "grid_auto_rows": null,
            "grid_column": null,
            "grid_gap": null,
            "grid_row": null,
            "grid_template_areas": null,
            "grid_template_columns": null,
            "grid_template_rows": null,
            "height": null,
            "justify_content": null,
            "justify_items": null,
            "left": null,
            "margin": null,
            "max_height": null,
            "max_width": null,
            "min_height": null,
            "min_width": null,
            "object_fit": null,
            "object_position": null,
            "order": null,
            "overflow": null,
            "overflow_x": null,
            "overflow_y": null,
            "padding": null,
            "right": null,
            "top": null,
            "visibility": null,
            "width": null
          }
        },
        "eddc039b02304af8b8b356a0d8f44039": {
          "model_module": "@jupyter-widgets/controls",
          "model_name": "DescriptionStyleModel",
          "model_module_version": "1.5.0",
          "state": {
            "_model_module": "@jupyter-widgets/controls",
            "_model_module_version": "1.5.0",
            "_model_name": "DescriptionStyleModel",
            "_view_count": null,
            "_view_module": "@jupyter-widgets/base",
            "_view_module_version": "1.2.0",
            "_view_name": "StyleView",
            "description_width": ""
          }
        },
        "09ca9c4b7ee8493abedf88711f2c9e6e": {
          "model_module": "@jupyter-widgets/controls",
          "model_name": "HBoxModel",
          "model_module_version": "1.5.0",
          "state": {
            "_dom_classes": [],
            "_model_module": "@jupyter-widgets/controls",
            "_model_module_version": "1.5.0",
            "_model_name": "HBoxModel",
            "_view_count": null,
            "_view_module": "@jupyter-widgets/controls",
            "_view_module_version": "1.5.0",
            "_view_name": "HBoxView",
            "box_style": "",
            "children": [
              "IPY_MODEL_5553cd8696ab47298769f04c88ff8c39",
              "IPY_MODEL_73bef4ccbc934b6e9bb5829e78811d39",
              "IPY_MODEL_e768ad02c8db4cabb86c0a5417d45db3"
            ],
            "layout": "IPY_MODEL_df4b304b78164efcadb8d483f66f4187"
          }
        },
        "5553cd8696ab47298769f04c88ff8c39": {
          "model_module": "@jupyter-widgets/controls",
          "model_name": "HTMLModel",
          "model_module_version": "1.5.0",
          "state": {
            "_dom_classes": [],
            "_model_module": "@jupyter-widgets/controls",
            "_model_module_version": "1.5.0",
            "_model_name": "HTMLModel",
            "_view_count": null,
            "_view_module": "@jupyter-widgets/controls",
            "_view_module_version": "1.5.0",
            "_view_name": "HTMLView",
            "description": "",
            "description_tooltip": null,
            "layout": "IPY_MODEL_53791e2126554a3580f42e0674d7820c",
            "placeholder": "​",
            "style": "IPY_MODEL_58d4134efe4c45b2a5176f8e9e2c9569",
            "value": "generation_config.json: 100%"
          }
        },
        "73bef4ccbc934b6e9bb5829e78811d39": {
          "model_module": "@jupyter-widgets/controls",
          "model_name": "FloatProgressModel",
          "model_module_version": "1.5.0",
          "state": {
            "_dom_classes": [],
            "_model_module": "@jupyter-widgets/controls",
            "_model_module_version": "1.5.0",
            "_model_name": "FloatProgressModel",
            "_view_count": null,
            "_view_module": "@jupyter-widgets/controls",
            "_view_module_version": "1.5.0",
            "_view_name": "ProgressView",
            "bar_style": "success",
            "description": "",
            "description_tooltip": null,
            "layout": "IPY_MODEL_e199e911d55a4cc598f8ffdac931a1e5",
            "max": 116,
            "min": 0,
            "orientation": "horizontal",
            "style": "IPY_MODEL_bc5f93d1aecb4e34be00fb3e542ced8b",
            "value": 116
          }
        },
        "e768ad02c8db4cabb86c0a5417d45db3": {
          "model_module": "@jupyter-widgets/controls",
          "model_name": "HTMLModel",
          "model_module_version": "1.5.0",
          "state": {
            "_dom_classes": [],
            "_model_module": "@jupyter-widgets/controls",
            "_model_module_version": "1.5.0",
            "_model_name": "HTMLModel",
            "_view_count": null,
            "_view_module": "@jupyter-widgets/controls",
            "_view_module_version": "1.5.0",
            "_view_name": "HTMLView",
            "description": "",
            "description_tooltip": null,
            "layout": "IPY_MODEL_4f0fa13b3bfb4d15b4feb010a6e985b2",
            "placeholder": "​",
            "style": "IPY_MODEL_75af984163a94668b130adab361ce29e",
            "value": " 116/116 [00:00&lt;00:00, 8.02kB/s]"
          }
        },
        "df4b304b78164efcadb8d483f66f4187": {
          "model_module": "@jupyter-widgets/base",
          "model_name": "LayoutModel",
          "model_module_version": "1.2.0",
          "state": {
            "_model_module": "@jupyter-widgets/base",
            "_model_module_version": "1.2.0",
            "_model_name": "LayoutModel",
            "_view_count": null,
            "_view_module": "@jupyter-widgets/base",
            "_view_module_version": "1.2.0",
            "_view_name": "LayoutView",
            "align_content": null,
            "align_items": null,
            "align_self": null,
            "border": null,
            "bottom": null,
            "display": null,
            "flex": null,
            "flex_flow": null,
            "grid_area": null,
            "grid_auto_columns": null,
            "grid_auto_flow": null,
            "grid_auto_rows": null,
            "grid_column": null,
            "grid_gap": null,
            "grid_row": null,
            "grid_template_areas": null,
            "grid_template_columns": null,
            "grid_template_rows": null,
            "height": null,
            "justify_content": null,
            "justify_items": null,
            "left": null,
            "margin": null,
            "max_height": null,
            "max_width": null,
            "min_height": null,
            "min_width": null,
            "object_fit": null,
            "object_position": null,
            "order": null,
            "overflow": null,
            "overflow_x": null,
            "overflow_y": null,
            "padding": null,
            "right": null,
            "top": null,
            "visibility": null,
            "width": null
          }
        },
        "53791e2126554a3580f42e0674d7820c": {
          "model_module": "@jupyter-widgets/base",
          "model_name": "LayoutModel",
          "model_module_version": "1.2.0",
          "state": {
            "_model_module": "@jupyter-widgets/base",
            "_model_module_version": "1.2.0",
            "_model_name": "LayoutModel",
            "_view_count": null,
            "_view_module": "@jupyter-widgets/base",
            "_view_module_version": "1.2.0",
            "_view_name": "LayoutView",
            "align_content": null,
            "align_items": null,
            "align_self": null,
            "border": null,
            "bottom": null,
            "display": null,
            "flex": null,
            "flex_flow": null,
            "grid_area": null,
            "grid_auto_columns": null,
            "grid_auto_flow": null,
            "grid_auto_rows": null,
            "grid_column": null,
            "grid_gap": null,
            "grid_row": null,
            "grid_template_areas": null,
            "grid_template_columns": null,
            "grid_template_rows": null,
            "height": null,
            "justify_content": null,
            "justify_items": null,
            "left": null,
            "margin": null,
            "max_height": null,
            "max_width": null,
            "min_height": null,
            "min_width": null,
            "object_fit": null,
            "object_position": null,
            "order": null,
            "overflow": null,
            "overflow_x": null,
            "overflow_y": null,
            "padding": null,
            "right": null,
            "top": null,
            "visibility": null,
            "width": null
          }
        },
        "58d4134efe4c45b2a5176f8e9e2c9569": {
          "model_module": "@jupyter-widgets/controls",
          "model_name": "DescriptionStyleModel",
          "model_module_version": "1.5.0",
          "state": {
            "_model_module": "@jupyter-widgets/controls",
            "_model_module_version": "1.5.0",
            "_model_name": "DescriptionStyleModel",
            "_view_count": null,
            "_view_module": "@jupyter-widgets/base",
            "_view_module_version": "1.2.0",
            "_view_name": "StyleView",
            "description_width": ""
          }
        },
        "e199e911d55a4cc598f8ffdac931a1e5": {
          "model_module": "@jupyter-widgets/base",
          "model_name": "LayoutModel",
          "model_module_version": "1.2.0",
          "state": {
            "_model_module": "@jupyter-widgets/base",
            "_model_module_version": "1.2.0",
            "_model_name": "LayoutModel",
            "_view_count": null,
            "_view_module": "@jupyter-widgets/base",
            "_view_module_version": "1.2.0",
            "_view_name": "LayoutView",
            "align_content": null,
            "align_items": null,
            "align_self": null,
            "border": null,
            "bottom": null,
            "display": null,
            "flex": null,
            "flex_flow": null,
            "grid_area": null,
            "grid_auto_columns": null,
            "grid_auto_flow": null,
            "grid_auto_rows": null,
            "grid_column": null,
            "grid_gap": null,
            "grid_row": null,
            "grid_template_areas": null,
            "grid_template_columns": null,
            "grid_template_rows": null,
            "height": null,
            "justify_content": null,
            "justify_items": null,
            "left": null,
            "margin": null,
            "max_height": null,
            "max_width": null,
            "min_height": null,
            "min_width": null,
            "object_fit": null,
            "object_position": null,
            "order": null,
            "overflow": null,
            "overflow_x": null,
            "overflow_y": null,
            "padding": null,
            "right": null,
            "top": null,
            "visibility": null,
            "width": null
          }
        },
        "bc5f93d1aecb4e34be00fb3e542ced8b": {
          "model_module": "@jupyter-widgets/controls",
          "model_name": "ProgressStyleModel",
          "model_module_version": "1.5.0",
          "state": {
            "_model_module": "@jupyter-widgets/controls",
            "_model_module_version": "1.5.0",
            "_model_name": "ProgressStyleModel",
            "_view_count": null,
            "_view_module": "@jupyter-widgets/base",
            "_view_module_version": "1.2.0",
            "_view_name": "StyleView",
            "bar_color": null,
            "description_width": ""
          }
        },
        "4f0fa13b3bfb4d15b4feb010a6e985b2": {
          "model_module": "@jupyter-widgets/base",
          "model_name": "LayoutModel",
          "model_module_version": "1.2.0",
          "state": {
            "_model_module": "@jupyter-widgets/base",
            "_model_module_version": "1.2.0",
            "_model_name": "LayoutModel",
            "_view_count": null,
            "_view_module": "@jupyter-widgets/base",
            "_view_module_version": "1.2.0",
            "_view_name": "LayoutView",
            "align_content": null,
            "align_items": null,
            "align_self": null,
            "border": null,
            "bottom": null,
            "display": null,
            "flex": null,
            "flex_flow": null,
            "grid_area": null,
            "grid_auto_columns": null,
            "grid_auto_flow": null,
            "grid_auto_rows": null,
            "grid_column": null,
            "grid_gap": null,
            "grid_row": null,
            "grid_template_areas": null,
            "grid_template_columns": null,
            "grid_template_rows": null,
            "height": null,
            "justify_content": null,
            "justify_items": null,
            "left": null,
            "margin": null,
            "max_height": null,
            "max_width": null,
            "min_height": null,
            "min_width": null,
            "object_fit": null,
            "object_position": null,
            "order": null,
            "overflow": null,
            "overflow_x": null,
            "overflow_y": null,
            "padding": null,
            "right": null,
            "top": null,
            "visibility": null,
            "width": null
          }
        },
        "75af984163a94668b130adab361ce29e": {
          "model_module": "@jupyter-widgets/controls",
          "model_name": "DescriptionStyleModel",
          "model_module_version": "1.5.0",
          "state": {
            "_model_module": "@jupyter-widgets/controls",
            "_model_module_version": "1.5.0",
            "_model_name": "DescriptionStyleModel",
            "_view_count": null,
            "_view_module": "@jupyter-widgets/base",
            "_view_module_version": "1.2.0",
            "_view_name": "StyleView",
            "description_width": ""
          }
        },
        "58d9c81591c54904a17b74601941f3da": {
          "model_module": "@jupyter-widgets/controls",
          "model_name": "HBoxModel",
          "model_module_version": "1.5.0",
          "state": {
            "_dom_classes": [],
            "_model_module": "@jupyter-widgets/controls",
            "_model_module_version": "1.5.0",
            "_model_name": "HBoxModel",
            "_view_count": null,
            "_view_module": "@jupyter-widgets/controls",
            "_view_module_version": "1.5.0",
            "_view_name": "HBoxView",
            "box_style": "",
            "children": [
              "IPY_MODEL_e58b7a0ee9e545e28fc682ab456b38c2",
              "IPY_MODEL_810b2ec40c9c4d8cb8f0b78a68c5e098",
              "IPY_MODEL_4b5d207bafb64b43ab19083b0f78ea63"
            ],
            "layout": "IPY_MODEL_c30e17e72db54571ba8a32b52a9a0ec0"
          }
        },
        "e58b7a0ee9e545e28fc682ab456b38c2": {
          "model_module": "@jupyter-widgets/controls",
          "model_name": "HTMLModel",
          "model_module_version": "1.5.0",
          "state": {
            "_dom_classes": [],
            "_model_module": "@jupyter-widgets/controls",
            "_model_module_version": "1.5.0",
            "_model_name": "HTMLModel",
            "_view_count": null,
            "_view_module": "@jupyter-widgets/controls",
            "_view_module_version": "1.5.0",
            "_view_name": "HTMLView",
            "description": "",
            "description_tooltip": null,
            "layout": "IPY_MODEL_929d6d40809643cca4aafd34e9994e9d",
            "placeholder": "​",
            "style": "IPY_MODEL_edeedd4ed32441c38943d0790eed2dff",
            "value": "tokenizer_config.json: 100%"
          }
        },
        "810b2ec40c9c4d8cb8f0b78a68c5e098": {
          "model_module": "@jupyter-widgets/controls",
          "model_name": "FloatProgressModel",
          "model_module_version": "1.5.0",
          "state": {
            "_dom_classes": [],
            "_model_module": "@jupyter-widgets/controls",
            "_model_module_version": "1.5.0",
            "_model_name": "FloatProgressModel",
            "_view_count": null,
            "_view_module": "@jupyter-widgets/controls",
            "_view_module_version": "1.5.0",
            "_view_name": "ProgressView",
            "bar_style": "success",
            "description": "",
            "description_tooltip": null,
            "layout": "IPY_MODEL_073e16ffdc4148a8821594818b6bcf48",
            "max": 971,
            "min": 0,
            "orientation": "horizontal",
            "style": "IPY_MODEL_429daeef5e4f4a5192165c772ae4f005",
            "value": 971
          }
        },
        "4b5d207bafb64b43ab19083b0f78ea63": {
          "model_module": "@jupyter-widgets/controls",
          "model_name": "HTMLModel",
          "model_module_version": "1.5.0",
          "state": {
            "_dom_classes": [],
            "_model_module": "@jupyter-widgets/controls",
            "_model_module_version": "1.5.0",
            "_model_name": "HTMLModel",
            "_view_count": null,
            "_view_module": "@jupyter-widgets/controls",
            "_view_module_version": "1.5.0",
            "_view_name": "HTMLView",
            "description": "",
            "description_tooltip": null,
            "layout": "IPY_MODEL_8c080a6579a54a4d8808a5a993fc53f8",
            "placeholder": "​",
            "style": "IPY_MODEL_fd3c2881b93a4e4e9eadc57d5d2a1b18",
            "value": " 971/971 [00:00&lt;00:00, 65.9kB/s]"
          }
        },
        "c30e17e72db54571ba8a32b52a9a0ec0": {
          "model_module": "@jupyter-widgets/base",
          "model_name": "LayoutModel",
          "model_module_version": "1.2.0",
          "state": {
            "_model_module": "@jupyter-widgets/base",
            "_model_module_version": "1.2.0",
            "_model_name": "LayoutModel",
            "_view_count": null,
            "_view_module": "@jupyter-widgets/base",
            "_view_module_version": "1.2.0",
            "_view_name": "LayoutView",
            "align_content": null,
            "align_items": null,
            "align_self": null,
            "border": null,
            "bottom": null,
            "display": null,
            "flex": null,
            "flex_flow": null,
            "grid_area": null,
            "grid_auto_columns": null,
            "grid_auto_flow": null,
            "grid_auto_rows": null,
            "grid_column": null,
            "grid_gap": null,
            "grid_row": null,
            "grid_template_areas": null,
            "grid_template_columns": null,
            "grid_template_rows": null,
            "height": null,
            "justify_content": null,
            "justify_items": null,
            "left": null,
            "margin": null,
            "max_height": null,
            "max_width": null,
            "min_height": null,
            "min_width": null,
            "object_fit": null,
            "object_position": null,
            "order": null,
            "overflow": null,
            "overflow_x": null,
            "overflow_y": null,
            "padding": null,
            "right": null,
            "top": null,
            "visibility": null,
            "width": null
          }
        },
        "929d6d40809643cca4aafd34e9994e9d": {
          "model_module": "@jupyter-widgets/base",
          "model_name": "LayoutModel",
          "model_module_version": "1.2.0",
          "state": {
            "_model_module": "@jupyter-widgets/base",
            "_model_module_version": "1.2.0",
            "_model_name": "LayoutModel",
            "_view_count": null,
            "_view_module": "@jupyter-widgets/base",
            "_view_module_version": "1.2.0",
            "_view_name": "LayoutView",
            "align_content": null,
            "align_items": null,
            "align_self": null,
            "border": null,
            "bottom": null,
            "display": null,
            "flex": null,
            "flex_flow": null,
            "grid_area": null,
            "grid_auto_columns": null,
            "grid_auto_flow": null,
            "grid_auto_rows": null,
            "grid_column": null,
            "grid_gap": null,
            "grid_row": null,
            "grid_template_areas": null,
            "grid_template_columns": null,
            "grid_template_rows": null,
            "height": null,
            "justify_content": null,
            "justify_items": null,
            "left": null,
            "margin": null,
            "max_height": null,
            "max_width": null,
            "min_height": null,
            "min_width": null,
            "object_fit": null,
            "object_position": null,
            "order": null,
            "overflow": null,
            "overflow_x": null,
            "overflow_y": null,
            "padding": null,
            "right": null,
            "top": null,
            "visibility": null,
            "width": null
          }
        },
        "edeedd4ed32441c38943d0790eed2dff": {
          "model_module": "@jupyter-widgets/controls",
          "model_name": "DescriptionStyleModel",
          "model_module_version": "1.5.0",
          "state": {
            "_model_module": "@jupyter-widgets/controls",
            "_model_module_version": "1.5.0",
            "_model_name": "DescriptionStyleModel",
            "_view_count": null,
            "_view_module": "@jupyter-widgets/base",
            "_view_module_version": "1.2.0",
            "_view_name": "StyleView",
            "description_width": ""
          }
        },
        "073e16ffdc4148a8821594818b6bcf48": {
          "model_module": "@jupyter-widgets/base",
          "model_name": "LayoutModel",
          "model_module_version": "1.2.0",
          "state": {
            "_model_module": "@jupyter-widgets/base",
            "_model_module_version": "1.2.0",
            "_model_name": "LayoutModel",
            "_view_count": null,
            "_view_module": "@jupyter-widgets/base",
            "_view_module_version": "1.2.0",
            "_view_name": "LayoutView",
            "align_content": null,
            "align_items": null,
            "align_self": null,
            "border": null,
            "bottom": null,
            "display": null,
            "flex": null,
            "flex_flow": null,
            "grid_area": null,
            "grid_auto_columns": null,
            "grid_auto_flow": null,
            "grid_auto_rows": null,
            "grid_column": null,
            "grid_gap": null,
            "grid_row": null,
            "grid_template_areas": null,
            "grid_template_columns": null,
            "grid_template_rows": null,
            "height": null,
            "justify_content": null,
            "justify_items": null,
            "left": null,
            "margin": null,
            "max_height": null,
            "max_width": null,
            "min_height": null,
            "min_width": null,
            "object_fit": null,
            "object_position": null,
            "order": null,
            "overflow": null,
            "overflow_x": null,
            "overflow_y": null,
            "padding": null,
            "right": null,
            "top": null,
            "visibility": null,
            "width": null
          }
        },
        "429daeef5e4f4a5192165c772ae4f005": {
          "model_module": "@jupyter-widgets/controls",
          "model_name": "ProgressStyleModel",
          "model_module_version": "1.5.0",
          "state": {
            "_model_module": "@jupyter-widgets/controls",
            "_model_module_version": "1.5.0",
            "_model_name": "ProgressStyleModel",
            "_view_count": null,
            "_view_module": "@jupyter-widgets/base",
            "_view_module_version": "1.2.0",
            "_view_name": "StyleView",
            "bar_color": null,
            "description_width": ""
          }
        },
        "8c080a6579a54a4d8808a5a993fc53f8": {
          "model_module": "@jupyter-widgets/base",
          "model_name": "LayoutModel",
          "model_module_version": "1.2.0",
          "state": {
            "_model_module": "@jupyter-widgets/base",
            "_model_module_version": "1.2.0",
            "_model_name": "LayoutModel",
            "_view_count": null,
            "_view_module": "@jupyter-widgets/base",
            "_view_module_version": "1.2.0",
            "_view_name": "LayoutView",
            "align_content": null,
            "align_items": null,
            "align_self": null,
            "border": null,
            "bottom": null,
            "display": null,
            "flex": null,
            "flex_flow": null,
            "grid_area": null,
            "grid_auto_columns": null,
            "grid_auto_flow": null,
            "grid_auto_rows": null,
            "grid_column": null,
            "grid_gap": null,
            "grid_row": null,
            "grid_template_areas": null,
            "grid_template_columns": null,
            "grid_template_rows": null,
            "height": null,
            "justify_content": null,
            "justify_items": null,
            "left": null,
            "margin": null,
            "max_height": null,
            "max_width": null,
            "min_height": null,
            "min_width": null,
            "object_fit": null,
            "object_position": null,
            "order": null,
            "overflow": null,
            "overflow_x": null,
            "overflow_y": null,
            "padding": null,
            "right": null,
            "top": null,
            "visibility": null,
            "width": null
          }
        },
        "fd3c2881b93a4e4e9eadc57d5d2a1b18": {
          "model_module": "@jupyter-widgets/controls",
          "model_name": "DescriptionStyleModel",
          "model_module_version": "1.5.0",
          "state": {
            "_model_module": "@jupyter-widgets/controls",
            "_model_module_version": "1.5.0",
            "_model_name": "DescriptionStyleModel",
            "_view_count": null,
            "_view_module": "@jupyter-widgets/base",
            "_view_module_version": "1.2.0",
            "_view_name": "StyleView",
            "description_width": ""
          }
        },
        "143ae7933a754d43964fa63de6f03dc0": {
          "model_module": "@jupyter-widgets/controls",
          "model_name": "HBoxModel",
          "model_module_version": "1.5.0",
          "state": {
            "_dom_classes": [],
            "_model_module": "@jupyter-widgets/controls",
            "_model_module_version": "1.5.0",
            "_model_name": "HBoxModel",
            "_view_count": null,
            "_view_module": "@jupyter-widgets/controls",
            "_view_module_version": "1.5.0",
            "_view_name": "HBoxView",
            "box_style": "",
            "children": [
              "IPY_MODEL_82f5898ddd3d496684e43e719453fa40",
              "IPY_MODEL_1e07cbdd7b75433e9b1dbf0fcda4dd95",
              "IPY_MODEL_e583f5f569d94cbea3507bd616957178"
            ],
            "layout": "IPY_MODEL_dfeb7f13ebab4dffbfbef9c228fcfaa5"
          }
        },
        "82f5898ddd3d496684e43e719453fa40": {
          "model_module": "@jupyter-widgets/controls",
          "model_name": "HTMLModel",
          "model_module_version": "1.5.0",
          "state": {
            "_dom_classes": [],
            "_model_module": "@jupyter-widgets/controls",
            "_model_module_version": "1.5.0",
            "_model_name": "HTMLModel",
            "_view_count": null,
            "_view_module": "@jupyter-widgets/controls",
            "_view_module_version": "1.5.0",
            "_view_name": "HTMLView",
            "description": "",
            "description_tooltip": null,
            "layout": "IPY_MODEL_f0505e95881c46b1bf7e45c418524488",
            "placeholder": "​",
            "style": "IPY_MODEL_5a6cff412a014ed09e1d50661cc834aa",
            "value": "tokenizer.model: 100%"
          }
        },
        "1e07cbdd7b75433e9b1dbf0fcda4dd95": {
          "model_module": "@jupyter-widgets/controls",
          "model_name": "FloatProgressModel",
          "model_module_version": "1.5.0",
          "state": {
            "_dom_classes": [],
            "_model_module": "@jupyter-widgets/controls",
            "_model_module_version": "1.5.0",
            "_model_name": "FloatProgressModel",
            "_view_count": null,
            "_view_module": "@jupyter-widgets/controls",
            "_view_module_version": "1.5.0",
            "_view_name": "ProgressView",
            "bar_style": "success",
            "description": "",
            "description_tooltip": null,
            "layout": "IPY_MODEL_b3236f7ec98b4f268229a30db2a452da",
            "max": 493443,
            "min": 0,
            "orientation": "horizontal",
            "style": "IPY_MODEL_63edcc7a632e430da88c333401f3baf1",
            "value": 493443
          }
        },
        "e583f5f569d94cbea3507bd616957178": {
          "model_module": "@jupyter-widgets/controls",
          "model_name": "HTMLModel",
          "model_module_version": "1.5.0",
          "state": {
            "_dom_classes": [],
            "_model_module": "@jupyter-widgets/controls",
            "_model_module_version": "1.5.0",
            "_model_name": "HTMLModel",
            "_view_count": null,
            "_view_module": "@jupyter-widgets/controls",
            "_view_module_version": "1.5.0",
            "_view_name": "HTMLView",
            "description": "",
            "description_tooltip": null,
            "layout": "IPY_MODEL_625db5c5b74745daa7ab7d92acc7b378",
            "placeholder": "​",
            "style": "IPY_MODEL_541577203f7a43558231ea58c0e22503",
            "value": " 493k/493k [00:00&lt;00:00, 6.54MB/s]"
          }
        },
        "dfeb7f13ebab4dffbfbef9c228fcfaa5": {
          "model_module": "@jupyter-widgets/base",
          "model_name": "LayoutModel",
          "model_module_version": "1.2.0",
          "state": {
            "_model_module": "@jupyter-widgets/base",
            "_model_module_version": "1.2.0",
            "_model_name": "LayoutModel",
            "_view_count": null,
            "_view_module": "@jupyter-widgets/base",
            "_view_module_version": "1.2.0",
            "_view_name": "LayoutView",
            "align_content": null,
            "align_items": null,
            "align_self": null,
            "border": null,
            "bottom": null,
            "display": null,
            "flex": null,
            "flex_flow": null,
            "grid_area": null,
            "grid_auto_columns": null,
            "grid_auto_flow": null,
            "grid_auto_rows": null,
            "grid_column": null,
            "grid_gap": null,
            "grid_row": null,
            "grid_template_areas": null,
            "grid_template_columns": null,
            "grid_template_rows": null,
            "height": null,
            "justify_content": null,
            "justify_items": null,
            "left": null,
            "margin": null,
            "max_height": null,
            "max_width": null,
            "min_height": null,
            "min_width": null,
            "object_fit": null,
            "object_position": null,
            "order": null,
            "overflow": null,
            "overflow_x": null,
            "overflow_y": null,
            "padding": null,
            "right": null,
            "top": null,
            "visibility": null,
            "width": null
          }
        },
        "f0505e95881c46b1bf7e45c418524488": {
          "model_module": "@jupyter-widgets/base",
          "model_name": "LayoutModel",
          "model_module_version": "1.2.0",
          "state": {
            "_model_module": "@jupyter-widgets/base",
            "_model_module_version": "1.2.0",
            "_model_name": "LayoutModel",
            "_view_count": null,
            "_view_module": "@jupyter-widgets/base",
            "_view_module_version": "1.2.0",
            "_view_name": "LayoutView",
            "align_content": null,
            "align_items": null,
            "align_self": null,
            "border": null,
            "bottom": null,
            "display": null,
            "flex": null,
            "flex_flow": null,
            "grid_area": null,
            "grid_auto_columns": null,
            "grid_auto_flow": null,
            "grid_auto_rows": null,
            "grid_column": null,
            "grid_gap": null,
            "grid_row": null,
            "grid_template_areas": null,
            "grid_template_columns": null,
            "grid_template_rows": null,
            "height": null,
            "justify_content": null,
            "justify_items": null,
            "left": null,
            "margin": null,
            "max_height": null,
            "max_width": null,
            "min_height": null,
            "min_width": null,
            "object_fit": null,
            "object_position": null,
            "order": null,
            "overflow": null,
            "overflow_x": null,
            "overflow_y": null,
            "padding": null,
            "right": null,
            "top": null,
            "visibility": null,
            "width": null
          }
        },
        "5a6cff412a014ed09e1d50661cc834aa": {
          "model_module": "@jupyter-widgets/controls",
          "model_name": "DescriptionStyleModel",
          "model_module_version": "1.5.0",
          "state": {
            "_model_module": "@jupyter-widgets/controls",
            "_model_module_version": "1.5.0",
            "_model_name": "DescriptionStyleModel",
            "_view_count": null,
            "_view_module": "@jupyter-widgets/base",
            "_view_module_version": "1.2.0",
            "_view_name": "StyleView",
            "description_width": ""
          }
        },
        "b3236f7ec98b4f268229a30db2a452da": {
          "model_module": "@jupyter-widgets/base",
          "model_name": "LayoutModel",
          "model_module_version": "1.2.0",
          "state": {
            "_model_module": "@jupyter-widgets/base",
            "_model_module_version": "1.2.0",
            "_model_name": "LayoutModel",
            "_view_count": null,
            "_view_module": "@jupyter-widgets/base",
            "_view_module_version": "1.2.0",
            "_view_name": "LayoutView",
            "align_content": null,
            "align_items": null,
            "align_self": null,
            "border": null,
            "bottom": null,
            "display": null,
            "flex": null,
            "flex_flow": null,
            "grid_area": null,
            "grid_auto_columns": null,
            "grid_auto_flow": null,
            "grid_auto_rows": null,
            "grid_column": null,
            "grid_gap": null,
            "grid_row": null,
            "grid_template_areas": null,
            "grid_template_columns": null,
            "grid_template_rows": null,
            "height": null,
            "justify_content": null,
            "justify_items": null,
            "left": null,
            "margin": null,
            "max_height": null,
            "max_width": null,
            "min_height": null,
            "min_width": null,
            "object_fit": null,
            "object_position": null,
            "order": null,
            "overflow": null,
            "overflow_x": null,
            "overflow_y": null,
            "padding": null,
            "right": null,
            "top": null,
            "visibility": null,
            "width": null
          }
        },
        "63edcc7a632e430da88c333401f3baf1": {
          "model_module": "@jupyter-widgets/controls",
          "model_name": "ProgressStyleModel",
          "model_module_version": "1.5.0",
          "state": {
            "_model_module": "@jupyter-widgets/controls",
            "_model_module_version": "1.5.0",
            "_model_name": "ProgressStyleModel",
            "_view_count": null,
            "_view_module": "@jupyter-widgets/base",
            "_view_module_version": "1.2.0",
            "_view_name": "StyleView",
            "bar_color": null,
            "description_width": ""
          }
        },
        "625db5c5b74745daa7ab7d92acc7b378": {
          "model_module": "@jupyter-widgets/base",
          "model_name": "LayoutModel",
          "model_module_version": "1.2.0",
          "state": {
            "_model_module": "@jupyter-widgets/base",
            "_model_module_version": "1.2.0",
            "_model_name": "LayoutModel",
            "_view_count": null,
            "_view_module": "@jupyter-widgets/base",
            "_view_module_version": "1.2.0",
            "_view_name": "LayoutView",
            "align_content": null,
            "align_items": null,
            "align_self": null,
            "border": null,
            "bottom": null,
            "display": null,
            "flex": null,
            "flex_flow": null,
            "grid_area": null,
            "grid_auto_columns": null,
            "grid_auto_flow": null,
            "grid_auto_rows": null,
            "grid_column": null,
            "grid_gap": null,
            "grid_row": null,
            "grid_template_areas": null,
            "grid_template_columns": null,
            "grid_template_rows": null,
            "height": null,
            "justify_content": null,
            "justify_items": null,
            "left": null,
            "margin": null,
            "max_height": null,
            "max_width": null,
            "min_height": null,
            "min_width": null,
            "object_fit": null,
            "object_position": null,
            "order": null,
            "overflow": null,
            "overflow_x": null,
            "overflow_y": null,
            "padding": null,
            "right": null,
            "top": null,
            "visibility": null,
            "width": null
          }
        },
        "541577203f7a43558231ea58c0e22503": {
          "model_module": "@jupyter-widgets/controls",
          "model_name": "DescriptionStyleModel",
          "model_module_version": "1.5.0",
          "state": {
            "_model_module": "@jupyter-widgets/controls",
            "_model_module_version": "1.5.0",
            "_model_name": "DescriptionStyleModel",
            "_view_count": null,
            "_view_module": "@jupyter-widgets/base",
            "_view_module_version": "1.2.0",
            "_view_name": "StyleView",
            "description_width": ""
          }
        },
        "8383cce470734a6f8cabb0fef4a6e74f": {
          "model_module": "@jupyter-widgets/controls",
          "model_name": "HBoxModel",
          "model_module_version": "1.5.0",
          "state": {
            "_dom_classes": [],
            "_model_module": "@jupyter-widgets/controls",
            "_model_module_version": "1.5.0",
            "_model_name": "HBoxModel",
            "_view_count": null,
            "_view_module": "@jupyter-widgets/controls",
            "_view_module_version": "1.5.0",
            "_view_name": "HBoxView",
            "box_style": "",
            "children": [
              "IPY_MODEL_aac1f2065e764d47b3f7536c2720175a",
              "IPY_MODEL_46ed31365efa416284216baa5b842a1d",
              "IPY_MODEL_bb7292bb3c2d45e090ae041e68f3e0a4"
            ],
            "layout": "IPY_MODEL_3d5bef889c7e4dd0913e5f144949205e"
          }
        },
        "aac1f2065e764d47b3f7536c2720175a": {
          "model_module": "@jupyter-widgets/controls",
          "model_name": "HTMLModel",
          "model_module_version": "1.5.0",
          "state": {
            "_dom_classes": [],
            "_model_module": "@jupyter-widgets/controls",
            "_model_module_version": "1.5.0",
            "_model_name": "HTMLModel",
            "_view_count": null,
            "_view_module": "@jupyter-widgets/controls",
            "_view_module_version": "1.5.0",
            "_view_name": "HTMLView",
            "description": "",
            "description_tooltip": null,
            "layout": "IPY_MODEL_e15e0eaf6b114fe6a3274d643415aefe",
            "placeholder": "​",
            "style": "IPY_MODEL_d345b421d69040f58916493ea581c9b8",
            "value": "tokenizer.json: 100%"
          }
        },
        "46ed31365efa416284216baa5b842a1d": {
          "model_module": "@jupyter-widgets/controls",
          "model_name": "FloatProgressModel",
          "model_module_version": "1.5.0",
          "state": {
            "_dom_classes": [],
            "_model_module": "@jupyter-widgets/controls",
            "_model_module_version": "1.5.0",
            "_model_name": "FloatProgressModel",
            "_view_count": null,
            "_view_module": "@jupyter-widgets/controls",
            "_view_module_version": "1.5.0",
            "_view_name": "ProgressView",
            "bar_style": "success",
            "description": "",
            "description_tooltip": null,
            "layout": "IPY_MODEL_496b8bcead704699a2fae49446b467b6",
            "max": 1795303,
            "min": 0,
            "orientation": "horizontal",
            "style": "IPY_MODEL_3b258ac6a42f4c04a347389880ce9965",
            "value": 1795303
          }
        },
        "bb7292bb3c2d45e090ae041e68f3e0a4": {
          "model_module": "@jupyter-widgets/controls",
          "model_name": "HTMLModel",
          "model_module_version": "1.5.0",
          "state": {
            "_dom_classes": [],
            "_model_module": "@jupyter-widgets/controls",
            "_model_module_version": "1.5.0",
            "_model_name": "HTMLModel",
            "_view_count": null,
            "_view_module": "@jupyter-widgets/controls",
            "_view_module_version": "1.5.0",
            "_view_name": "HTMLView",
            "description": "",
            "description_tooltip": null,
            "layout": "IPY_MODEL_0627c773dace4d88bc2d012d36b86061",
            "placeholder": "​",
            "style": "IPY_MODEL_b8e52a62638d479e9f43251c1c271e67",
            "value": " 1.80M/1.80M [00:00&lt;00:00, 2.41MB/s]"
          }
        },
        "3d5bef889c7e4dd0913e5f144949205e": {
          "model_module": "@jupyter-widgets/base",
          "model_name": "LayoutModel",
          "model_module_version": "1.2.0",
          "state": {
            "_model_module": "@jupyter-widgets/base",
            "_model_module_version": "1.2.0",
            "_model_name": "LayoutModel",
            "_view_count": null,
            "_view_module": "@jupyter-widgets/base",
            "_view_module_version": "1.2.0",
            "_view_name": "LayoutView",
            "align_content": null,
            "align_items": null,
            "align_self": null,
            "border": null,
            "bottom": null,
            "display": null,
            "flex": null,
            "flex_flow": null,
            "grid_area": null,
            "grid_auto_columns": null,
            "grid_auto_flow": null,
            "grid_auto_rows": null,
            "grid_column": null,
            "grid_gap": null,
            "grid_row": null,
            "grid_template_areas": null,
            "grid_template_columns": null,
            "grid_template_rows": null,
            "height": null,
            "justify_content": null,
            "justify_items": null,
            "left": null,
            "margin": null,
            "max_height": null,
            "max_width": null,
            "min_height": null,
            "min_width": null,
            "object_fit": null,
            "object_position": null,
            "order": null,
            "overflow": null,
            "overflow_x": null,
            "overflow_y": null,
            "padding": null,
            "right": null,
            "top": null,
            "visibility": null,
            "width": null
          }
        },
        "e15e0eaf6b114fe6a3274d643415aefe": {
          "model_module": "@jupyter-widgets/base",
          "model_name": "LayoutModel",
          "model_module_version": "1.2.0",
          "state": {
            "_model_module": "@jupyter-widgets/base",
            "_model_module_version": "1.2.0",
            "_model_name": "LayoutModel",
            "_view_count": null,
            "_view_module": "@jupyter-widgets/base",
            "_view_module_version": "1.2.0",
            "_view_name": "LayoutView",
            "align_content": null,
            "align_items": null,
            "align_self": null,
            "border": null,
            "bottom": null,
            "display": null,
            "flex": null,
            "flex_flow": null,
            "grid_area": null,
            "grid_auto_columns": null,
            "grid_auto_flow": null,
            "grid_auto_rows": null,
            "grid_column": null,
            "grid_gap": null,
            "grid_row": null,
            "grid_template_areas": null,
            "grid_template_columns": null,
            "grid_template_rows": null,
            "height": null,
            "justify_content": null,
            "justify_items": null,
            "left": null,
            "margin": null,
            "max_height": null,
            "max_width": null,
            "min_height": null,
            "min_width": null,
            "object_fit": null,
            "object_position": null,
            "order": null,
            "overflow": null,
            "overflow_x": null,
            "overflow_y": null,
            "padding": null,
            "right": null,
            "top": null,
            "visibility": null,
            "width": null
          }
        },
        "d345b421d69040f58916493ea581c9b8": {
          "model_module": "@jupyter-widgets/controls",
          "model_name": "DescriptionStyleModel",
          "model_module_version": "1.5.0",
          "state": {
            "_model_module": "@jupyter-widgets/controls",
            "_model_module_version": "1.5.0",
            "_model_name": "DescriptionStyleModel",
            "_view_count": null,
            "_view_module": "@jupyter-widgets/base",
            "_view_module_version": "1.2.0",
            "_view_name": "StyleView",
            "description_width": ""
          }
        },
        "496b8bcead704699a2fae49446b467b6": {
          "model_module": "@jupyter-widgets/base",
          "model_name": "LayoutModel",
          "model_module_version": "1.2.0",
          "state": {
            "_model_module": "@jupyter-widgets/base",
            "_model_module_version": "1.2.0",
            "_model_name": "LayoutModel",
            "_view_count": null,
            "_view_module": "@jupyter-widgets/base",
            "_view_module_version": "1.2.0",
            "_view_name": "LayoutView",
            "align_content": null,
            "align_items": null,
            "align_self": null,
            "border": null,
            "bottom": null,
            "display": null,
            "flex": null,
            "flex_flow": null,
            "grid_area": null,
            "grid_auto_columns": null,
            "grid_auto_flow": null,
            "grid_auto_rows": null,
            "grid_column": null,
            "grid_gap": null,
            "grid_row": null,
            "grid_template_areas": null,
            "grid_template_columns": null,
            "grid_template_rows": null,
            "height": null,
            "justify_content": null,
            "justify_items": null,
            "left": null,
            "margin": null,
            "max_height": null,
            "max_width": null,
            "min_height": null,
            "min_width": null,
            "object_fit": null,
            "object_position": null,
            "order": null,
            "overflow": null,
            "overflow_x": null,
            "overflow_y": null,
            "padding": null,
            "right": null,
            "top": null,
            "visibility": null,
            "width": null
          }
        },
        "3b258ac6a42f4c04a347389880ce9965": {
          "model_module": "@jupyter-widgets/controls",
          "model_name": "ProgressStyleModel",
          "model_module_version": "1.5.0",
          "state": {
            "_model_module": "@jupyter-widgets/controls",
            "_model_module_version": "1.5.0",
            "_model_name": "ProgressStyleModel",
            "_view_count": null,
            "_view_module": "@jupyter-widgets/base",
            "_view_module_version": "1.2.0",
            "_view_name": "StyleView",
            "bar_color": null,
            "description_width": ""
          }
        },
        "0627c773dace4d88bc2d012d36b86061": {
          "model_module": "@jupyter-widgets/base",
          "model_name": "LayoutModel",
          "model_module_version": "1.2.0",
          "state": {
            "_model_module": "@jupyter-widgets/base",
            "_model_module_version": "1.2.0",
            "_model_name": "LayoutModel",
            "_view_count": null,
            "_view_module": "@jupyter-widgets/base",
            "_view_module_version": "1.2.0",
            "_view_name": "LayoutView",
            "align_content": null,
            "align_items": null,
            "align_self": null,
            "border": null,
            "bottom": null,
            "display": null,
            "flex": null,
            "flex_flow": null,
            "grid_area": null,
            "grid_auto_columns": null,
            "grid_auto_flow": null,
            "grid_auto_rows": null,
            "grid_column": null,
            "grid_gap": null,
            "grid_row": null,
            "grid_template_areas": null,
            "grid_template_columns": null,
            "grid_template_rows": null,
            "height": null,
            "justify_content": null,
            "justify_items": null,
            "left": null,
            "margin": null,
            "max_height": null,
            "max_width": null,
            "min_height": null,
            "min_width": null,
            "object_fit": null,
            "object_position": null,
            "order": null,
            "overflow": null,
            "overflow_x": null,
            "overflow_y": null,
            "padding": null,
            "right": null,
            "top": null,
            "visibility": null,
            "width": null
          }
        },
        "b8e52a62638d479e9f43251c1c271e67": {
          "model_module": "@jupyter-widgets/controls",
          "model_name": "DescriptionStyleModel",
          "model_module_version": "1.5.0",
          "state": {
            "_model_module": "@jupyter-widgets/controls",
            "_model_module_version": "1.5.0",
            "_model_name": "DescriptionStyleModel",
            "_view_count": null,
            "_view_module": "@jupyter-widgets/base",
            "_view_module_version": "1.2.0",
            "_view_name": "StyleView",
            "description_width": ""
          }
        },
        "69955c8698c6424c8003a6f635e4a42a": {
          "model_module": "@jupyter-widgets/controls",
          "model_name": "HBoxModel",
          "model_module_version": "1.5.0",
          "state": {
            "_dom_classes": [],
            "_model_module": "@jupyter-widgets/controls",
            "_model_module_version": "1.5.0",
            "_model_name": "HBoxModel",
            "_view_count": null,
            "_view_module": "@jupyter-widgets/controls",
            "_view_module_version": "1.5.0",
            "_view_name": "HBoxView",
            "box_style": "",
            "children": [
              "IPY_MODEL_29e7ab414201478ca98cd38fa64b3c12",
              "IPY_MODEL_5e0155c3571a4382a4328d79a38cbe67",
              "IPY_MODEL_a1e5d728d2f945e6b64c745e9116776a"
            ],
            "layout": "IPY_MODEL_2d29d32d32944569908b58f9c3b4115d"
          }
        },
        "29e7ab414201478ca98cd38fa64b3c12": {
          "model_module": "@jupyter-widgets/controls",
          "model_name": "HTMLModel",
          "model_module_version": "1.5.0",
          "state": {
            "_dom_classes": [],
            "_model_module": "@jupyter-widgets/controls",
            "_model_module_version": "1.5.0",
            "_model_name": "HTMLModel",
            "_view_count": null,
            "_view_module": "@jupyter-widgets/controls",
            "_view_module_version": "1.5.0",
            "_view_name": "HTMLView",
            "description": "",
            "description_tooltip": null,
            "layout": "IPY_MODEL_294b9e5c2a76471fad2f5d5bd9fb886a",
            "placeholder": "​",
            "style": "IPY_MODEL_6b90baa12dc847ccbe258d8fc60d0c1d",
            "value": "special_tokens_map.json: 100%"
          }
        },
        "5e0155c3571a4382a4328d79a38cbe67": {
          "model_module": "@jupyter-widgets/controls",
          "model_name": "FloatProgressModel",
          "model_module_version": "1.5.0",
          "state": {
            "_dom_classes": [],
            "_model_module": "@jupyter-widgets/controls",
            "_model_module_version": "1.5.0",
            "_model_name": "FloatProgressModel",
            "_view_count": null,
            "_view_module": "@jupyter-widgets/controls",
            "_view_module_version": "1.5.0",
            "_view_name": "ProgressView",
            "bar_style": "success",
            "description": "",
            "description_tooltip": null,
            "layout": "IPY_MODEL_20e6b832b06f4b2c9a9cdd0dfef0b6cf",
            "max": 438,
            "min": 0,
            "orientation": "horizontal",
            "style": "IPY_MODEL_175f7eee1389473ab43bd657d1505bf1",
            "value": 438
          }
        },
        "a1e5d728d2f945e6b64c745e9116776a": {
          "model_module": "@jupyter-widgets/controls",
          "model_name": "HTMLModel",
          "model_module_version": "1.5.0",
          "state": {
            "_dom_classes": [],
            "_model_module": "@jupyter-widgets/controls",
            "_model_module_version": "1.5.0",
            "_model_name": "HTMLModel",
            "_view_count": null,
            "_view_module": "@jupyter-widgets/controls",
            "_view_module_version": "1.5.0",
            "_view_name": "HTMLView",
            "description": "",
            "description_tooltip": null,
            "layout": "IPY_MODEL_5eee2fd2e0834a27bb2451186299a606",
            "placeholder": "​",
            "style": "IPY_MODEL_f973ad9e4aea43b89a9f6a0946628ad9",
            "value": " 438/438 [00:00&lt;00:00, 29.9kB/s]"
          }
        },
        "2d29d32d32944569908b58f9c3b4115d": {
          "model_module": "@jupyter-widgets/base",
          "model_name": "LayoutModel",
          "model_module_version": "1.2.0",
          "state": {
            "_model_module": "@jupyter-widgets/base",
            "_model_module_version": "1.2.0",
            "_model_name": "LayoutModel",
            "_view_count": null,
            "_view_module": "@jupyter-widgets/base",
            "_view_module_version": "1.2.0",
            "_view_name": "LayoutView",
            "align_content": null,
            "align_items": null,
            "align_self": null,
            "border": null,
            "bottom": null,
            "display": null,
            "flex": null,
            "flex_flow": null,
            "grid_area": null,
            "grid_auto_columns": null,
            "grid_auto_flow": null,
            "grid_auto_rows": null,
            "grid_column": null,
            "grid_gap": null,
            "grid_row": null,
            "grid_template_areas": null,
            "grid_template_columns": null,
            "grid_template_rows": null,
            "height": null,
            "justify_content": null,
            "justify_items": null,
            "left": null,
            "margin": null,
            "max_height": null,
            "max_width": null,
            "min_height": null,
            "min_width": null,
            "object_fit": null,
            "object_position": null,
            "order": null,
            "overflow": null,
            "overflow_x": null,
            "overflow_y": null,
            "padding": null,
            "right": null,
            "top": null,
            "visibility": null,
            "width": null
          }
        },
        "294b9e5c2a76471fad2f5d5bd9fb886a": {
          "model_module": "@jupyter-widgets/base",
          "model_name": "LayoutModel",
          "model_module_version": "1.2.0",
          "state": {
            "_model_module": "@jupyter-widgets/base",
            "_model_module_version": "1.2.0",
            "_model_name": "LayoutModel",
            "_view_count": null,
            "_view_module": "@jupyter-widgets/base",
            "_view_module_version": "1.2.0",
            "_view_name": "LayoutView",
            "align_content": null,
            "align_items": null,
            "align_self": null,
            "border": null,
            "bottom": null,
            "display": null,
            "flex": null,
            "flex_flow": null,
            "grid_area": null,
            "grid_auto_columns": null,
            "grid_auto_flow": null,
            "grid_auto_rows": null,
            "grid_column": null,
            "grid_gap": null,
            "grid_row": null,
            "grid_template_areas": null,
            "grid_template_columns": null,
            "grid_template_rows": null,
            "height": null,
            "justify_content": null,
            "justify_items": null,
            "left": null,
            "margin": null,
            "max_height": null,
            "max_width": null,
            "min_height": null,
            "min_width": null,
            "object_fit": null,
            "object_position": null,
            "order": null,
            "overflow": null,
            "overflow_x": null,
            "overflow_y": null,
            "padding": null,
            "right": null,
            "top": null,
            "visibility": null,
            "width": null
          }
        },
        "6b90baa12dc847ccbe258d8fc60d0c1d": {
          "model_module": "@jupyter-widgets/controls",
          "model_name": "DescriptionStyleModel",
          "model_module_version": "1.5.0",
          "state": {
            "_model_module": "@jupyter-widgets/controls",
            "_model_module_version": "1.5.0",
            "_model_name": "DescriptionStyleModel",
            "_view_count": null,
            "_view_module": "@jupyter-widgets/base",
            "_view_module_version": "1.2.0",
            "_view_name": "StyleView",
            "description_width": ""
          }
        },
        "20e6b832b06f4b2c9a9cdd0dfef0b6cf": {
          "model_module": "@jupyter-widgets/base",
          "model_name": "LayoutModel",
          "model_module_version": "1.2.0",
          "state": {
            "_model_module": "@jupyter-widgets/base",
            "_model_module_version": "1.2.0",
            "_model_name": "LayoutModel",
            "_view_count": null,
            "_view_module": "@jupyter-widgets/base",
            "_view_module_version": "1.2.0",
            "_view_name": "LayoutView",
            "align_content": null,
            "align_items": null,
            "align_self": null,
            "border": null,
            "bottom": null,
            "display": null,
            "flex": null,
            "flex_flow": null,
            "grid_area": null,
            "grid_auto_columns": null,
            "grid_auto_flow": null,
            "grid_auto_rows": null,
            "grid_column": null,
            "grid_gap": null,
            "grid_row": null,
            "grid_template_areas": null,
            "grid_template_columns": null,
            "grid_template_rows": null,
            "height": null,
            "justify_content": null,
            "justify_items": null,
            "left": null,
            "margin": null,
            "max_height": null,
            "max_width": null,
            "min_height": null,
            "min_width": null,
            "object_fit": null,
            "object_position": null,
            "order": null,
            "overflow": null,
            "overflow_x": null,
            "overflow_y": null,
            "padding": null,
            "right": null,
            "top": null,
            "visibility": null,
            "width": null
          }
        },
        "175f7eee1389473ab43bd657d1505bf1": {
          "model_module": "@jupyter-widgets/controls",
          "model_name": "ProgressStyleModel",
          "model_module_version": "1.5.0",
          "state": {
            "_model_module": "@jupyter-widgets/controls",
            "_model_module_version": "1.5.0",
            "_model_name": "ProgressStyleModel",
            "_view_count": null,
            "_view_module": "@jupyter-widgets/base",
            "_view_module_version": "1.2.0",
            "_view_name": "StyleView",
            "bar_color": null,
            "description_width": ""
          }
        },
        "5eee2fd2e0834a27bb2451186299a606": {
          "model_module": "@jupyter-widgets/base",
          "model_name": "LayoutModel",
          "model_module_version": "1.2.0",
          "state": {
            "_model_module": "@jupyter-widgets/base",
            "_model_module_version": "1.2.0",
            "_model_name": "LayoutModel",
            "_view_count": null,
            "_view_module": "@jupyter-widgets/base",
            "_view_module_version": "1.2.0",
            "_view_name": "LayoutView",
            "align_content": null,
            "align_items": null,
            "align_self": null,
            "border": null,
            "bottom": null,
            "display": null,
            "flex": null,
            "flex_flow": null,
            "grid_area": null,
            "grid_auto_columns": null,
            "grid_auto_flow": null,
            "grid_auto_rows": null,
            "grid_column": null,
            "grid_gap": null,
            "grid_row": null,
            "grid_template_areas": null,
            "grid_template_columns": null,
            "grid_template_rows": null,
            "height": null,
            "justify_content": null,
            "justify_items": null,
            "left": null,
            "margin": null,
            "max_height": null,
            "max_width": null,
            "min_height": null,
            "min_width": null,
            "object_fit": null,
            "object_position": null,
            "order": null,
            "overflow": null,
            "overflow_x": null,
            "overflow_y": null,
            "padding": null,
            "right": null,
            "top": null,
            "visibility": null,
            "width": null
          }
        },
        "f973ad9e4aea43b89a9f6a0946628ad9": {
          "model_module": "@jupyter-widgets/controls",
          "model_name": "DescriptionStyleModel",
          "model_module_version": "1.5.0",
          "state": {
            "_model_module": "@jupyter-widgets/controls",
            "_model_module_version": "1.5.0",
            "_model_name": "DescriptionStyleModel",
            "_view_count": null,
            "_view_module": "@jupyter-widgets/base",
            "_view_module_version": "1.2.0",
            "_view_name": "StyleView",
            "description_width": ""
          }
        },
        "9f6a1a428f4b477bbc4970d3b25e7d7b": {
          "model_module": "@jupyter-widgets/controls",
          "model_name": "HBoxModel",
          "model_module_version": "1.5.0",
          "state": {
            "_dom_classes": [],
            "_model_module": "@jupyter-widgets/controls",
            "_model_module_version": "1.5.0",
            "_model_name": "HBoxModel",
            "_view_count": null,
            "_view_module": "@jupyter-widgets/controls",
            "_view_module_version": "1.5.0",
            "_view_name": "HBoxView",
            "box_style": "",
            "children": [
              "IPY_MODEL_7a9dcbe294db4b768c5072a8986614a6",
              "IPY_MODEL_f5615e9b146d4716aaca42f67ae271da",
              "IPY_MODEL_ab69a0c3fcbc4089ac1d12a01eb00b90"
            ],
            "layout": "IPY_MODEL_4adc370f329a4a51abc4fd204fbbcf49"
          }
        },
        "7a9dcbe294db4b768c5072a8986614a6": {
          "model_module": "@jupyter-widgets/controls",
          "model_name": "HTMLModel",
          "model_module_version": "1.5.0",
          "state": {
            "_dom_classes": [],
            "_model_module": "@jupyter-widgets/controls",
            "_model_module_version": "1.5.0",
            "_model_name": "HTMLModel",
            "_view_count": null,
            "_view_module": "@jupyter-widgets/controls",
            "_view_module_version": "1.5.0",
            "_view_name": "HTMLView",
            "description": "",
            "description_tooltip": null,
            "layout": "IPY_MODEL_02bb866baece46ec9a7dadc8bc53cb72",
            "placeholder": "​",
            "style": "IPY_MODEL_bfcbebb11eac44199ce2b0212a383996",
            "value": "Map: 100%"
          }
        },
        "f5615e9b146d4716aaca42f67ae271da": {
          "model_module": "@jupyter-widgets/controls",
          "model_name": "FloatProgressModel",
          "model_module_version": "1.5.0",
          "state": {
            "_dom_classes": [],
            "_model_module": "@jupyter-widgets/controls",
            "_model_module_version": "1.5.0",
            "_model_name": "FloatProgressModel",
            "_view_count": null,
            "_view_module": "@jupyter-widgets/controls",
            "_view_module_version": "1.5.0",
            "_view_name": "ProgressView",
            "bar_style": "success",
            "description": "",
            "description_tooltip": null,
            "layout": "IPY_MODEL_228fd7078db647609ef5fe8590c13f2a",
            "max": 18078,
            "min": 0,
            "orientation": "horizontal",
            "style": "IPY_MODEL_80c59d4067234d6591d587e3bde874a9",
            "value": 18078
          }
        },
        "ab69a0c3fcbc4089ac1d12a01eb00b90": {
          "model_module": "@jupyter-widgets/controls",
          "model_name": "HTMLModel",
          "model_module_version": "1.5.0",
          "state": {
            "_dom_classes": [],
            "_model_module": "@jupyter-widgets/controls",
            "_model_module_version": "1.5.0",
            "_model_name": "HTMLModel",
            "_view_count": null,
            "_view_module": "@jupyter-widgets/controls",
            "_view_module_version": "1.5.0",
            "_view_name": "HTMLView",
            "description": "",
            "description_tooltip": null,
            "layout": "IPY_MODEL_8e6375752ecb4f548aa4aa8099c600a9",
            "placeholder": "​",
            "style": "IPY_MODEL_d97cfc1bd22f42449a3090e12b9027b8",
            "value": " 18078/18078 [00:00&lt;00:00, 165772.40 examples/s]"
          }
        },
        "4adc370f329a4a51abc4fd204fbbcf49": {
          "model_module": "@jupyter-widgets/base",
          "model_name": "LayoutModel",
          "model_module_version": "1.2.0",
          "state": {
            "_model_module": "@jupyter-widgets/base",
            "_model_module_version": "1.2.0",
            "_model_name": "LayoutModel",
            "_view_count": null,
            "_view_module": "@jupyter-widgets/base",
            "_view_module_version": "1.2.0",
            "_view_name": "LayoutView",
            "align_content": null,
            "align_items": null,
            "align_self": null,
            "border": null,
            "bottom": null,
            "display": null,
            "flex": null,
            "flex_flow": null,
            "grid_area": null,
            "grid_auto_columns": null,
            "grid_auto_flow": null,
            "grid_auto_rows": null,
            "grid_column": null,
            "grid_gap": null,
            "grid_row": null,
            "grid_template_areas": null,
            "grid_template_columns": null,
            "grid_template_rows": null,
            "height": null,
            "justify_content": null,
            "justify_items": null,
            "left": null,
            "margin": null,
            "max_height": null,
            "max_width": null,
            "min_height": null,
            "min_width": null,
            "object_fit": null,
            "object_position": null,
            "order": null,
            "overflow": null,
            "overflow_x": null,
            "overflow_y": null,
            "padding": null,
            "right": null,
            "top": null,
            "visibility": null,
            "width": null
          }
        },
        "02bb866baece46ec9a7dadc8bc53cb72": {
          "model_module": "@jupyter-widgets/base",
          "model_name": "LayoutModel",
          "model_module_version": "1.2.0",
          "state": {
            "_model_module": "@jupyter-widgets/base",
            "_model_module_version": "1.2.0",
            "_model_name": "LayoutModel",
            "_view_count": null,
            "_view_module": "@jupyter-widgets/base",
            "_view_module_version": "1.2.0",
            "_view_name": "LayoutView",
            "align_content": null,
            "align_items": null,
            "align_self": null,
            "border": null,
            "bottom": null,
            "display": null,
            "flex": null,
            "flex_flow": null,
            "grid_area": null,
            "grid_auto_columns": null,
            "grid_auto_flow": null,
            "grid_auto_rows": null,
            "grid_column": null,
            "grid_gap": null,
            "grid_row": null,
            "grid_template_areas": null,
            "grid_template_columns": null,
            "grid_template_rows": null,
            "height": null,
            "justify_content": null,
            "justify_items": null,
            "left": null,
            "margin": null,
            "max_height": null,
            "max_width": null,
            "min_height": null,
            "min_width": null,
            "object_fit": null,
            "object_position": null,
            "order": null,
            "overflow": null,
            "overflow_x": null,
            "overflow_y": null,
            "padding": null,
            "right": null,
            "top": null,
            "visibility": null,
            "width": null
          }
        },
        "bfcbebb11eac44199ce2b0212a383996": {
          "model_module": "@jupyter-widgets/controls",
          "model_name": "DescriptionStyleModel",
          "model_module_version": "1.5.0",
          "state": {
            "_model_module": "@jupyter-widgets/controls",
            "_model_module_version": "1.5.0",
            "_model_name": "DescriptionStyleModel",
            "_view_count": null,
            "_view_module": "@jupyter-widgets/base",
            "_view_module_version": "1.2.0",
            "_view_name": "StyleView",
            "description_width": ""
          }
        },
        "228fd7078db647609ef5fe8590c13f2a": {
          "model_module": "@jupyter-widgets/base",
          "model_name": "LayoutModel",
          "model_module_version": "1.2.0",
          "state": {
            "_model_module": "@jupyter-widgets/base",
            "_model_module_version": "1.2.0",
            "_model_name": "LayoutModel",
            "_view_count": null,
            "_view_module": "@jupyter-widgets/base",
            "_view_module_version": "1.2.0",
            "_view_name": "LayoutView",
            "align_content": null,
            "align_items": null,
            "align_self": null,
            "border": null,
            "bottom": null,
            "display": null,
            "flex": null,
            "flex_flow": null,
            "grid_area": null,
            "grid_auto_columns": null,
            "grid_auto_flow": null,
            "grid_auto_rows": null,
            "grid_column": null,
            "grid_gap": null,
            "grid_row": null,
            "grid_template_areas": null,
            "grid_template_columns": null,
            "grid_template_rows": null,
            "height": null,
            "justify_content": null,
            "justify_items": null,
            "left": null,
            "margin": null,
            "max_height": null,
            "max_width": null,
            "min_height": null,
            "min_width": null,
            "object_fit": null,
            "object_position": null,
            "order": null,
            "overflow": null,
            "overflow_x": null,
            "overflow_y": null,
            "padding": null,
            "right": null,
            "top": null,
            "visibility": null,
            "width": null
          }
        },
        "80c59d4067234d6591d587e3bde874a9": {
          "model_module": "@jupyter-widgets/controls",
          "model_name": "ProgressStyleModel",
          "model_module_version": "1.5.0",
          "state": {
            "_model_module": "@jupyter-widgets/controls",
            "_model_module_version": "1.5.0",
            "_model_name": "ProgressStyleModel",
            "_view_count": null,
            "_view_module": "@jupyter-widgets/base",
            "_view_module_version": "1.2.0",
            "_view_name": "StyleView",
            "bar_color": null,
            "description_width": ""
          }
        },
        "8e6375752ecb4f548aa4aa8099c600a9": {
          "model_module": "@jupyter-widgets/base",
          "model_name": "LayoutModel",
          "model_module_version": "1.2.0",
          "state": {
            "_model_module": "@jupyter-widgets/base",
            "_model_module_version": "1.2.0",
            "_model_name": "LayoutModel",
            "_view_count": null,
            "_view_module": "@jupyter-widgets/base",
            "_view_module_version": "1.2.0",
            "_view_name": "LayoutView",
            "align_content": null,
            "align_items": null,
            "align_self": null,
            "border": null,
            "bottom": null,
            "display": null,
            "flex": null,
            "flex_flow": null,
            "grid_area": null,
            "grid_auto_columns": null,
            "grid_auto_flow": null,
            "grid_auto_rows": null,
            "grid_column": null,
            "grid_gap": null,
            "grid_row": null,
            "grid_template_areas": null,
            "grid_template_columns": null,
            "grid_template_rows": null,
            "height": null,
            "justify_content": null,
            "justify_items": null,
            "left": null,
            "margin": null,
            "max_height": null,
            "max_width": null,
            "min_height": null,
            "min_width": null,
            "object_fit": null,
            "object_position": null,
            "order": null,
            "overflow": null,
            "overflow_x": null,
            "overflow_y": null,
            "padding": null,
            "right": null,
            "top": null,
            "visibility": null,
            "width": null
          }
        },
        "d97cfc1bd22f42449a3090e12b9027b8": {
          "model_module": "@jupyter-widgets/controls",
          "model_name": "DescriptionStyleModel",
          "model_module_version": "1.5.0",
          "state": {
            "_model_module": "@jupyter-widgets/controls",
            "_model_module_version": "1.5.0",
            "_model_name": "DescriptionStyleModel",
            "_view_count": null,
            "_view_module": "@jupyter-widgets/base",
            "_view_module_version": "1.2.0",
            "_view_name": "StyleView",
            "description_width": ""
          }
        },
        "86502d665917404c860422415c28a8fe": {
          "model_module": "@jupyter-widgets/controls",
          "model_name": "HBoxModel",
          "model_module_version": "1.5.0",
          "state": {
            "_dom_classes": [],
            "_model_module": "@jupyter-widgets/controls",
            "_model_module_version": "1.5.0",
            "_model_name": "HBoxModel",
            "_view_count": null,
            "_view_module": "@jupyter-widgets/controls",
            "_view_module_version": "1.5.0",
            "_view_name": "HBoxView",
            "box_style": "",
            "children": [
              "IPY_MODEL_c5e2ce7e32bf4093b3ead056c4c40fca",
              "IPY_MODEL_5887876d80ea41b695bd6007bfd13e8f",
              "IPY_MODEL_8c70cd7caa414fd6a6ec539172a0ff91"
            ],
            "layout": "IPY_MODEL_de86228b081f42dfa3742aa162475bfa"
          }
        },
        "c5e2ce7e32bf4093b3ead056c4c40fca": {
          "model_module": "@jupyter-widgets/controls",
          "model_name": "HTMLModel",
          "model_module_version": "1.5.0",
          "state": {
            "_dom_classes": [],
            "_model_module": "@jupyter-widgets/controls",
            "_model_module_version": "1.5.0",
            "_model_name": "HTMLModel",
            "_view_count": null,
            "_view_module": "@jupyter-widgets/controls",
            "_view_module_version": "1.5.0",
            "_view_name": "HTMLView",
            "description": "",
            "description_tooltip": null,
            "layout": "IPY_MODEL_b0d756fdbd364eb4aae011f4b30970e8",
            "placeholder": "​",
            "style": "IPY_MODEL_5597f6eb414a46fda4dd42bb6ec9bff3",
            "value": "Map: 100%"
          }
        },
        "5887876d80ea41b695bd6007bfd13e8f": {
          "model_module": "@jupyter-widgets/controls",
          "model_name": "FloatProgressModel",
          "model_module_version": "1.5.0",
          "state": {
            "_dom_classes": [],
            "_model_module": "@jupyter-widgets/controls",
            "_model_module_version": "1.5.0",
            "_model_name": "FloatProgressModel",
            "_view_count": null,
            "_view_module": "@jupyter-widgets/controls",
            "_view_module_version": "1.5.0",
            "_view_name": "ProgressView",
            "bar_style": "success",
            "description": "",
            "description_tooltip": null,
            "layout": "IPY_MODEL_44e147c02e0c4a6bb153d25c4e6f282f",
            "max": 6974,
            "min": 0,
            "orientation": "horizontal",
            "style": "IPY_MODEL_8ef6de5b7711443f835545ab611615bd",
            "value": 6974
          }
        },
        "8c70cd7caa414fd6a6ec539172a0ff91": {
          "model_module": "@jupyter-widgets/controls",
          "model_name": "HTMLModel",
          "model_module_version": "1.5.0",
          "state": {
            "_dom_classes": [],
            "_model_module": "@jupyter-widgets/controls",
            "_model_module_version": "1.5.0",
            "_model_name": "HTMLModel",
            "_view_count": null,
            "_view_module": "@jupyter-widgets/controls",
            "_view_module_version": "1.5.0",
            "_view_name": "HTMLView",
            "description": "",
            "description_tooltip": null,
            "layout": "IPY_MODEL_11671a81bce848b082050ab6cdebd7ec",
            "placeholder": "​",
            "style": "IPY_MODEL_e911a4326b874d27a6d8fbcf6387066e",
            "value": " 6974/6974 [00:00&lt;00:00, 129589.52 examples/s]"
          }
        },
        "de86228b081f42dfa3742aa162475bfa": {
          "model_module": "@jupyter-widgets/base",
          "model_name": "LayoutModel",
          "model_module_version": "1.2.0",
          "state": {
            "_model_module": "@jupyter-widgets/base",
            "_model_module_version": "1.2.0",
            "_model_name": "LayoutModel",
            "_view_count": null,
            "_view_module": "@jupyter-widgets/base",
            "_view_module_version": "1.2.0",
            "_view_name": "LayoutView",
            "align_content": null,
            "align_items": null,
            "align_self": null,
            "border": null,
            "bottom": null,
            "display": null,
            "flex": null,
            "flex_flow": null,
            "grid_area": null,
            "grid_auto_columns": null,
            "grid_auto_flow": null,
            "grid_auto_rows": null,
            "grid_column": null,
            "grid_gap": null,
            "grid_row": null,
            "grid_template_areas": null,
            "grid_template_columns": null,
            "grid_template_rows": null,
            "height": null,
            "justify_content": null,
            "justify_items": null,
            "left": null,
            "margin": null,
            "max_height": null,
            "max_width": null,
            "min_height": null,
            "min_width": null,
            "object_fit": null,
            "object_position": null,
            "order": null,
            "overflow": null,
            "overflow_x": null,
            "overflow_y": null,
            "padding": null,
            "right": null,
            "top": null,
            "visibility": null,
            "width": null
          }
        },
        "b0d756fdbd364eb4aae011f4b30970e8": {
          "model_module": "@jupyter-widgets/base",
          "model_name": "LayoutModel",
          "model_module_version": "1.2.0",
          "state": {
            "_model_module": "@jupyter-widgets/base",
            "_model_module_version": "1.2.0",
            "_model_name": "LayoutModel",
            "_view_count": null,
            "_view_module": "@jupyter-widgets/base",
            "_view_module_version": "1.2.0",
            "_view_name": "LayoutView",
            "align_content": null,
            "align_items": null,
            "align_self": null,
            "border": null,
            "bottom": null,
            "display": null,
            "flex": null,
            "flex_flow": null,
            "grid_area": null,
            "grid_auto_columns": null,
            "grid_auto_flow": null,
            "grid_auto_rows": null,
            "grid_column": null,
            "grid_gap": null,
            "grid_row": null,
            "grid_template_areas": null,
            "grid_template_columns": null,
            "grid_template_rows": null,
            "height": null,
            "justify_content": null,
            "justify_items": null,
            "left": null,
            "margin": null,
            "max_height": null,
            "max_width": null,
            "min_height": null,
            "min_width": null,
            "object_fit": null,
            "object_position": null,
            "order": null,
            "overflow": null,
            "overflow_x": null,
            "overflow_y": null,
            "padding": null,
            "right": null,
            "top": null,
            "visibility": null,
            "width": null
          }
        },
        "5597f6eb414a46fda4dd42bb6ec9bff3": {
          "model_module": "@jupyter-widgets/controls",
          "model_name": "DescriptionStyleModel",
          "model_module_version": "1.5.0",
          "state": {
            "_model_module": "@jupyter-widgets/controls",
            "_model_module_version": "1.5.0",
            "_model_name": "DescriptionStyleModel",
            "_view_count": null,
            "_view_module": "@jupyter-widgets/base",
            "_view_module_version": "1.2.0",
            "_view_name": "StyleView",
            "description_width": ""
          }
        },
        "44e147c02e0c4a6bb153d25c4e6f282f": {
          "model_module": "@jupyter-widgets/base",
          "model_name": "LayoutModel",
          "model_module_version": "1.2.0",
          "state": {
            "_model_module": "@jupyter-widgets/base",
            "_model_module_version": "1.2.0",
            "_model_name": "LayoutModel",
            "_view_count": null,
            "_view_module": "@jupyter-widgets/base",
            "_view_module_version": "1.2.0",
            "_view_name": "LayoutView",
            "align_content": null,
            "align_items": null,
            "align_self": null,
            "border": null,
            "bottom": null,
            "display": null,
            "flex": null,
            "flex_flow": null,
            "grid_area": null,
            "grid_auto_columns": null,
            "grid_auto_flow": null,
            "grid_auto_rows": null,
            "grid_column": null,
            "grid_gap": null,
            "grid_row": null,
            "grid_template_areas": null,
            "grid_template_columns": null,
            "grid_template_rows": null,
            "height": null,
            "justify_content": null,
            "justify_items": null,
            "left": null,
            "margin": null,
            "max_height": null,
            "max_width": null,
            "min_height": null,
            "min_width": null,
            "object_fit": null,
            "object_position": null,
            "order": null,
            "overflow": null,
            "overflow_x": null,
            "overflow_y": null,
            "padding": null,
            "right": null,
            "top": null,
            "visibility": null,
            "width": null
          }
        },
        "8ef6de5b7711443f835545ab611615bd": {
          "model_module": "@jupyter-widgets/controls",
          "model_name": "ProgressStyleModel",
          "model_module_version": "1.5.0",
          "state": {
            "_model_module": "@jupyter-widgets/controls",
            "_model_module_version": "1.5.0",
            "_model_name": "ProgressStyleModel",
            "_view_count": null,
            "_view_module": "@jupyter-widgets/base",
            "_view_module_version": "1.2.0",
            "_view_name": "StyleView",
            "bar_color": null,
            "description_width": ""
          }
        },
        "11671a81bce848b082050ab6cdebd7ec": {
          "model_module": "@jupyter-widgets/base",
          "model_name": "LayoutModel",
          "model_module_version": "1.2.0",
          "state": {
            "_model_module": "@jupyter-widgets/base",
            "_model_module_version": "1.2.0",
            "_model_name": "LayoutModel",
            "_view_count": null,
            "_view_module": "@jupyter-widgets/base",
            "_view_module_version": "1.2.0",
            "_view_name": "LayoutView",
            "align_content": null,
            "align_items": null,
            "align_self": null,
            "border": null,
            "bottom": null,
            "display": null,
            "flex": null,
            "flex_flow": null,
            "grid_area": null,
            "grid_auto_columns": null,
            "grid_auto_flow": null,
            "grid_auto_rows": null,
            "grid_column": null,
            "grid_gap": null,
            "grid_row": null,
            "grid_template_areas": null,
            "grid_template_columns": null,
            "grid_template_rows": null,
            "height": null,
            "justify_content": null,
            "justify_items": null,
            "left": null,
            "margin": null,
            "max_height": null,
            "max_width": null,
            "min_height": null,
            "min_width": null,
            "object_fit": null,
            "object_position": null,
            "order": null,
            "overflow": null,
            "overflow_x": null,
            "overflow_y": null,
            "padding": null,
            "right": null,
            "top": null,
            "visibility": null,
            "width": null
          }
        },
        "e911a4326b874d27a6d8fbcf6387066e": {
          "model_module": "@jupyter-widgets/controls",
          "model_name": "DescriptionStyleModel",
          "model_module_version": "1.5.0",
          "state": {
            "_model_module": "@jupyter-widgets/controls",
            "_model_module_version": "1.5.0",
            "_model_name": "DescriptionStyleModel",
            "_view_count": null,
            "_view_module": "@jupyter-widgets/base",
            "_view_module_version": "1.2.0",
            "_view_name": "StyleView",
            "description_width": ""
          }
        },
        "486fc4d523264c0fb336101e48afa08e": {
          "model_module": "@jupyter-widgets/controls",
          "model_name": "HBoxModel",
          "model_module_version": "1.5.0",
          "state": {
            "_dom_classes": [],
            "_model_module": "@jupyter-widgets/controls",
            "_model_module_version": "1.5.0",
            "_model_name": "HBoxModel",
            "_view_count": null,
            "_view_module": "@jupyter-widgets/controls",
            "_view_module_version": "1.5.0",
            "_view_name": "HBoxView",
            "box_style": "",
            "children": [
              "IPY_MODEL_de9a9aa07524437cbbc1a9a79c1c65d0",
              "IPY_MODEL_b53f7357987145e8868cdfc26aa157a2",
              "IPY_MODEL_039e38ac93164bf48a1529cfdb5ab14f"
            ],
            "layout": "IPY_MODEL_6bbe1d0d6bfd4ef3a53fbac1e519a18f"
          }
        },
        "de9a9aa07524437cbbc1a9a79c1c65d0": {
          "model_module": "@jupyter-widgets/controls",
          "model_name": "HTMLModel",
          "model_module_version": "1.5.0",
          "state": {
            "_dom_classes": [],
            "_model_module": "@jupyter-widgets/controls",
            "_model_module_version": "1.5.0",
            "_model_name": "HTMLModel",
            "_view_count": null,
            "_view_module": "@jupyter-widgets/controls",
            "_view_module_version": "1.5.0",
            "_view_name": "HTMLView",
            "description": "",
            "description_tooltip": null,
            "layout": "IPY_MODEL_9a30ccce415f4eb29493a3093f6bc57c",
            "placeholder": "​",
            "style": "IPY_MODEL_ff6352b52ef14873b759a4a1d7d2455a",
            "value": "Map (num_proc=2): 100%"
          }
        },
        "b53f7357987145e8868cdfc26aa157a2": {
          "model_module": "@jupyter-widgets/controls",
          "model_name": "FloatProgressModel",
          "model_module_version": "1.5.0",
          "state": {
            "_dom_classes": [],
            "_model_module": "@jupyter-widgets/controls",
            "_model_module_version": "1.5.0",
            "_model_name": "FloatProgressModel",
            "_view_count": null,
            "_view_module": "@jupyter-widgets/controls",
            "_view_module_version": "1.5.0",
            "_view_name": "ProgressView",
            "bar_style": "success",
            "description": "",
            "description_tooltip": null,
            "layout": "IPY_MODEL_cb281bf5b9304bb286c6f5e2b7071f79",
            "max": 18078,
            "min": 0,
            "orientation": "horizontal",
            "style": "IPY_MODEL_0227c5f7050941c6808755b6dabee812",
            "value": 18078
          }
        },
        "039e38ac93164bf48a1529cfdb5ab14f": {
          "model_module": "@jupyter-widgets/controls",
          "model_name": "HTMLModel",
          "model_module_version": "1.5.0",
          "state": {
            "_dom_classes": [],
            "_model_module": "@jupyter-widgets/controls",
            "_model_module_version": "1.5.0",
            "_model_name": "HTMLModel",
            "_view_count": null,
            "_view_module": "@jupyter-widgets/controls",
            "_view_module_version": "1.5.0",
            "_view_name": "HTMLView",
            "description": "",
            "description_tooltip": null,
            "layout": "IPY_MODEL_ff91d144c6ba4960abb95799c94ef4a9",
            "placeholder": "​",
            "style": "IPY_MODEL_b4381ba55a1d45429f0176020938fc78",
            "value": " 18078/18078 [00:04&lt;00:00, 6201.10 examples/s]"
          }
        },
        "6bbe1d0d6bfd4ef3a53fbac1e519a18f": {
          "model_module": "@jupyter-widgets/base",
          "model_name": "LayoutModel",
          "model_module_version": "1.2.0",
          "state": {
            "_model_module": "@jupyter-widgets/base",
            "_model_module_version": "1.2.0",
            "_model_name": "LayoutModel",
            "_view_count": null,
            "_view_module": "@jupyter-widgets/base",
            "_view_module_version": "1.2.0",
            "_view_name": "LayoutView",
            "align_content": null,
            "align_items": null,
            "align_self": null,
            "border": null,
            "bottom": null,
            "display": null,
            "flex": null,
            "flex_flow": null,
            "grid_area": null,
            "grid_auto_columns": null,
            "grid_auto_flow": null,
            "grid_auto_rows": null,
            "grid_column": null,
            "grid_gap": null,
            "grid_row": null,
            "grid_template_areas": null,
            "grid_template_columns": null,
            "grid_template_rows": null,
            "height": null,
            "justify_content": null,
            "justify_items": null,
            "left": null,
            "margin": null,
            "max_height": null,
            "max_width": null,
            "min_height": null,
            "min_width": null,
            "object_fit": null,
            "object_position": null,
            "order": null,
            "overflow": null,
            "overflow_x": null,
            "overflow_y": null,
            "padding": null,
            "right": null,
            "top": null,
            "visibility": null,
            "width": null
          }
        },
        "9a30ccce415f4eb29493a3093f6bc57c": {
          "model_module": "@jupyter-widgets/base",
          "model_name": "LayoutModel",
          "model_module_version": "1.2.0",
          "state": {
            "_model_module": "@jupyter-widgets/base",
            "_model_module_version": "1.2.0",
            "_model_name": "LayoutModel",
            "_view_count": null,
            "_view_module": "@jupyter-widgets/base",
            "_view_module_version": "1.2.0",
            "_view_name": "LayoutView",
            "align_content": null,
            "align_items": null,
            "align_self": null,
            "border": null,
            "bottom": null,
            "display": null,
            "flex": null,
            "flex_flow": null,
            "grid_area": null,
            "grid_auto_columns": null,
            "grid_auto_flow": null,
            "grid_auto_rows": null,
            "grid_column": null,
            "grid_gap": null,
            "grid_row": null,
            "grid_template_areas": null,
            "grid_template_columns": null,
            "grid_template_rows": null,
            "height": null,
            "justify_content": null,
            "justify_items": null,
            "left": null,
            "margin": null,
            "max_height": null,
            "max_width": null,
            "min_height": null,
            "min_width": null,
            "object_fit": null,
            "object_position": null,
            "order": null,
            "overflow": null,
            "overflow_x": null,
            "overflow_y": null,
            "padding": null,
            "right": null,
            "top": null,
            "visibility": null,
            "width": null
          }
        },
        "ff6352b52ef14873b759a4a1d7d2455a": {
          "model_module": "@jupyter-widgets/controls",
          "model_name": "DescriptionStyleModel",
          "model_module_version": "1.5.0",
          "state": {
            "_model_module": "@jupyter-widgets/controls",
            "_model_module_version": "1.5.0",
            "_model_name": "DescriptionStyleModel",
            "_view_count": null,
            "_view_module": "@jupyter-widgets/base",
            "_view_module_version": "1.2.0",
            "_view_name": "StyleView",
            "description_width": ""
          }
        },
        "cb281bf5b9304bb286c6f5e2b7071f79": {
          "model_module": "@jupyter-widgets/base",
          "model_name": "LayoutModel",
          "model_module_version": "1.2.0",
          "state": {
            "_model_module": "@jupyter-widgets/base",
            "_model_module_version": "1.2.0",
            "_model_name": "LayoutModel",
            "_view_count": null,
            "_view_module": "@jupyter-widgets/base",
            "_view_module_version": "1.2.0",
            "_view_name": "LayoutView",
            "align_content": null,
            "align_items": null,
            "align_self": null,
            "border": null,
            "bottom": null,
            "display": null,
            "flex": null,
            "flex_flow": null,
            "grid_area": null,
            "grid_auto_columns": null,
            "grid_auto_flow": null,
            "grid_auto_rows": null,
            "grid_column": null,
            "grid_gap": null,
            "grid_row": null,
            "grid_template_areas": null,
            "grid_template_columns": null,
            "grid_template_rows": null,
            "height": null,
            "justify_content": null,
            "justify_items": null,
            "left": null,
            "margin": null,
            "max_height": null,
            "max_width": null,
            "min_height": null,
            "min_width": null,
            "object_fit": null,
            "object_position": null,
            "order": null,
            "overflow": null,
            "overflow_x": null,
            "overflow_y": null,
            "padding": null,
            "right": null,
            "top": null,
            "visibility": null,
            "width": null
          }
        },
        "0227c5f7050941c6808755b6dabee812": {
          "model_module": "@jupyter-widgets/controls",
          "model_name": "ProgressStyleModel",
          "model_module_version": "1.5.0",
          "state": {
            "_model_module": "@jupyter-widgets/controls",
            "_model_module_version": "1.5.0",
            "_model_name": "ProgressStyleModel",
            "_view_count": null,
            "_view_module": "@jupyter-widgets/base",
            "_view_module_version": "1.2.0",
            "_view_name": "StyleView",
            "bar_color": null,
            "description_width": ""
          }
        },
        "ff91d144c6ba4960abb95799c94ef4a9": {
          "model_module": "@jupyter-widgets/base",
          "model_name": "LayoutModel",
          "model_module_version": "1.2.0",
          "state": {
            "_model_module": "@jupyter-widgets/base",
            "_model_module_version": "1.2.0",
            "_model_name": "LayoutModel",
            "_view_count": null,
            "_view_module": "@jupyter-widgets/base",
            "_view_module_version": "1.2.0",
            "_view_name": "LayoutView",
            "align_content": null,
            "align_items": null,
            "align_self": null,
            "border": null,
            "bottom": null,
            "display": null,
            "flex": null,
            "flex_flow": null,
            "grid_area": null,
            "grid_auto_columns": null,
            "grid_auto_flow": null,
            "grid_auto_rows": null,
            "grid_column": null,
            "grid_gap": null,
            "grid_row": null,
            "grid_template_areas": null,
            "grid_template_columns": null,
            "grid_template_rows": null,
            "height": null,
            "justify_content": null,
            "justify_items": null,
            "left": null,
            "margin": null,
            "max_height": null,
            "max_width": null,
            "min_height": null,
            "min_width": null,
            "object_fit": null,
            "object_position": null,
            "order": null,
            "overflow": null,
            "overflow_x": null,
            "overflow_y": null,
            "padding": null,
            "right": null,
            "top": null,
            "visibility": null,
            "width": null
          }
        },
        "b4381ba55a1d45429f0176020938fc78": {
          "model_module": "@jupyter-widgets/controls",
          "model_name": "DescriptionStyleModel",
          "model_module_version": "1.5.0",
          "state": {
            "_model_module": "@jupyter-widgets/controls",
            "_model_module_version": "1.5.0",
            "_model_name": "DescriptionStyleModel",
            "_view_count": null,
            "_view_module": "@jupyter-widgets/base",
            "_view_module_version": "1.2.0",
            "_view_name": "StyleView",
            "description_width": ""
          }
        },
        "68cd13793be1429faebd1916c110b6ac": {
          "model_module": "@jupyter-widgets/controls",
          "model_name": "HBoxModel",
          "model_module_version": "1.5.0",
          "state": {
            "_dom_classes": [],
            "_model_module": "@jupyter-widgets/controls",
            "_model_module_version": "1.5.0",
            "_model_name": "HBoxModel",
            "_view_count": null,
            "_view_module": "@jupyter-widgets/controls",
            "_view_module_version": "1.5.0",
            "_view_name": "HBoxView",
            "box_style": "",
            "children": [
              "IPY_MODEL_4e5190f175b84724896c4b1a2e439dc4",
              "IPY_MODEL_18cd706227bc41cd8e0dcc9c12f39be4",
              "IPY_MODEL_aa53b65f70054673b7581c7c31221922"
            ],
            "layout": "IPY_MODEL_4ca2e09f2103491c888b9bd8658584d6"
          }
        },
        "4e5190f175b84724896c4b1a2e439dc4": {
          "model_module": "@jupyter-widgets/controls",
          "model_name": "HTMLModel",
          "model_module_version": "1.5.0",
          "state": {
            "_dom_classes": [],
            "_model_module": "@jupyter-widgets/controls",
            "_model_module_version": "1.5.0",
            "_model_name": "HTMLModel",
            "_view_count": null,
            "_view_module": "@jupyter-widgets/controls",
            "_view_module_version": "1.5.0",
            "_view_name": "HTMLView",
            "description": "",
            "description_tooltip": null,
            "layout": "IPY_MODEL_b2969d256af346ddbb5d6605e9bcdb22",
            "placeholder": "​",
            "style": "IPY_MODEL_455e5d7f6b4b4f7d8ef572587e836efd",
            "value": "Map (num_proc=2): 100%"
          }
        },
        "18cd706227bc41cd8e0dcc9c12f39be4": {
          "model_module": "@jupyter-widgets/controls",
          "model_name": "FloatProgressModel",
          "model_module_version": "1.5.0",
          "state": {
            "_dom_classes": [],
            "_model_module": "@jupyter-widgets/controls",
            "_model_module_version": "1.5.0",
            "_model_name": "FloatProgressModel",
            "_view_count": null,
            "_view_module": "@jupyter-widgets/controls",
            "_view_module_version": "1.5.0",
            "_view_name": "ProgressView",
            "bar_style": "success",
            "description": "",
            "description_tooltip": null,
            "layout": "IPY_MODEL_e2ce615999404981bb8d58b3a8c433b8",
            "max": 6974,
            "min": 0,
            "orientation": "horizontal",
            "style": "IPY_MODEL_3fffa787934e44e1b413909f5561bf11",
            "value": 6974
          }
        },
        "aa53b65f70054673b7581c7c31221922": {
          "model_module": "@jupyter-widgets/controls",
          "model_name": "HTMLModel",
          "model_module_version": "1.5.0",
          "state": {
            "_dom_classes": [],
            "_model_module": "@jupyter-widgets/controls",
            "_model_module_version": "1.5.0",
            "_model_name": "HTMLModel",
            "_view_count": null,
            "_view_module": "@jupyter-widgets/controls",
            "_view_module_version": "1.5.0",
            "_view_name": "HTMLView",
            "description": "",
            "description_tooltip": null,
            "layout": "IPY_MODEL_8a8740363c94488ba4bb0812c883eb25",
            "placeholder": "​",
            "style": "IPY_MODEL_099848c41c284464b8ba017dc91e2823",
            "value": " 6974/6974 [00:01&lt;00:00, 6193.62 examples/s]"
          }
        },
        "4ca2e09f2103491c888b9bd8658584d6": {
          "model_module": "@jupyter-widgets/base",
          "model_name": "LayoutModel",
          "model_module_version": "1.2.0",
          "state": {
            "_model_module": "@jupyter-widgets/base",
            "_model_module_version": "1.2.0",
            "_model_name": "LayoutModel",
            "_view_count": null,
            "_view_module": "@jupyter-widgets/base",
            "_view_module_version": "1.2.0",
            "_view_name": "LayoutView",
            "align_content": null,
            "align_items": null,
            "align_self": null,
            "border": null,
            "bottom": null,
            "display": null,
            "flex": null,
            "flex_flow": null,
            "grid_area": null,
            "grid_auto_columns": null,
            "grid_auto_flow": null,
            "grid_auto_rows": null,
            "grid_column": null,
            "grid_gap": null,
            "grid_row": null,
            "grid_template_areas": null,
            "grid_template_columns": null,
            "grid_template_rows": null,
            "height": null,
            "justify_content": null,
            "justify_items": null,
            "left": null,
            "margin": null,
            "max_height": null,
            "max_width": null,
            "min_height": null,
            "min_width": null,
            "object_fit": null,
            "object_position": null,
            "order": null,
            "overflow": null,
            "overflow_x": null,
            "overflow_y": null,
            "padding": null,
            "right": null,
            "top": null,
            "visibility": null,
            "width": null
          }
        },
        "b2969d256af346ddbb5d6605e9bcdb22": {
          "model_module": "@jupyter-widgets/base",
          "model_name": "LayoutModel",
          "model_module_version": "1.2.0",
          "state": {
            "_model_module": "@jupyter-widgets/base",
            "_model_module_version": "1.2.0",
            "_model_name": "LayoutModel",
            "_view_count": null,
            "_view_module": "@jupyter-widgets/base",
            "_view_module_version": "1.2.0",
            "_view_name": "LayoutView",
            "align_content": null,
            "align_items": null,
            "align_self": null,
            "border": null,
            "bottom": null,
            "display": null,
            "flex": null,
            "flex_flow": null,
            "grid_area": null,
            "grid_auto_columns": null,
            "grid_auto_flow": null,
            "grid_auto_rows": null,
            "grid_column": null,
            "grid_gap": null,
            "grid_row": null,
            "grid_template_areas": null,
            "grid_template_columns": null,
            "grid_template_rows": null,
            "height": null,
            "justify_content": null,
            "justify_items": null,
            "left": null,
            "margin": null,
            "max_height": null,
            "max_width": null,
            "min_height": null,
            "min_width": null,
            "object_fit": null,
            "object_position": null,
            "order": null,
            "overflow": null,
            "overflow_x": null,
            "overflow_y": null,
            "padding": null,
            "right": null,
            "top": null,
            "visibility": null,
            "width": null
          }
        },
        "455e5d7f6b4b4f7d8ef572587e836efd": {
          "model_module": "@jupyter-widgets/controls",
          "model_name": "DescriptionStyleModel",
          "model_module_version": "1.5.0",
          "state": {
            "_model_module": "@jupyter-widgets/controls",
            "_model_module_version": "1.5.0",
            "_model_name": "DescriptionStyleModel",
            "_view_count": null,
            "_view_module": "@jupyter-widgets/base",
            "_view_module_version": "1.2.0",
            "_view_name": "StyleView",
            "description_width": ""
          }
        },
        "e2ce615999404981bb8d58b3a8c433b8": {
          "model_module": "@jupyter-widgets/base",
          "model_name": "LayoutModel",
          "model_module_version": "1.2.0",
          "state": {
            "_model_module": "@jupyter-widgets/base",
            "_model_module_version": "1.2.0",
            "_model_name": "LayoutModel",
            "_view_count": null,
            "_view_module": "@jupyter-widgets/base",
            "_view_module_version": "1.2.0",
            "_view_name": "LayoutView",
            "align_content": null,
            "align_items": null,
            "align_self": null,
            "border": null,
            "bottom": null,
            "display": null,
            "flex": null,
            "flex_flow": null,
            "grid_area": null,
            "grid_auto_columns": null,
            "grid_auto_flow": null,
            "grid_auto_rows": null,
            "grid_column": null,
            "grid_gap": null,
            "grid_row": null,
            "grid_template_areas": null,
            "grid_template_columns": null,
            "grid_template_rows": null,
            "height": null,
            "justify_content": null,
            "justify_items": null,
            "left": null,
            "margin": null,
            "max_height": null,
            "max_width": null,
            "min_height": null,
            "min_width": null,
            "object_fit": null,
            "object_position": null,
            "order": null,
            "overflow": null,
            "overflow_x": null,
            "overflow_y": null,
            "padding": null,
            "right": null,
            "top": null,
            "visibility": null,
            "width": null
          }
        },
        "3fffa787934e44e1b413909f5561bf11": {
          "model_module": "@jupyter-widgets/controls",
          "model_name": "ProgressStyleModel",
          "model_module_version": "1.5.0",
          "state": {
            "_model_module": "@jupyter-widgets/controls",
            "_model_module_version": "1.5.0",
            "_model_name": "ProgressStyleModel",
            "_view_count": null,
            "_view_module": "@jupyter-widgets/base",
            "_view_module_version": "1.2.0",
            "_view_name": "StyleView",
            "bar_color": null,
            "description_width": ""
          }
        },
        "8a8740363c94488ba4bb0812c883eb25": {
          "model_module": "@jupyter-widgets/base",
          "model_name": "LayoutModel",
          "model_module_version": "1.2.0",
          "state": {
            "_model_module": "@jupyter-widgets/base",
            "_model_module_version": "1.2.0",
            "_model_name": "LayoutModel",
            "_view_count": null,
            "_view_module": "@jupyter-widgets/base",
            "_view_module_version": "1.2.0",
            "_view_name": "LayoutView",
            "align_content": null,
            "align_items": null,
            "align_self": null,
            "border": null,
            "bottom": null,
            "display": null,
            "flex": null,
            "flex_flow": null,
            "grid_area": null,
            "grid_auto_columns": null,
            "grid_auto_flow": null,
            "grid_auto_rows": null,
            "grid_column": null,
            "grid_gap": null,
            "grid_row": null,
            "grid_template_areas": null,
            "grid_template_columns": null,
            "grid_template_rows": null,
            "height": null,
            "justify_content": null,
            "justify_items": null,
            "left": null,
            "margin": null,
            "max_height": null,
            "max_width": null,
            "min_height": null,
            "min_width": null,
            "object_fit": null,
            "object_position": null,
            "order": null,
            "overflow": null,
            "overflow_x": null,
            "overflow_y": null,
            "padding": null,
            "right": null,
            "top": null,
            "visibility": null,
            "width": null
          }
        },
        "099848c41c284464b8ba017dc91e2823": {
          "model_module": "@jupyter-widgets/controls",
          "model_name": "DescriptionStyleModel",
          "model_module_version": "1.5.0",
          "state": {
            "_model_module": "@jupyter-widgets/controls",
            "_model_module_version": "1.5.0",
            "_model_name": "DescriptionStyleModel",
            "_view_count": null,
            "_view_module": "@jupyter-widgets/base",
            "_view_module_version": "1.2.0",
            "_view_name": "StyleView",
            "description_width": ""
          }
        }
      }
    },
    "accelerator": "GPU"
  },
  "nbformat": 4,
  "nbformat_minor": 5
}